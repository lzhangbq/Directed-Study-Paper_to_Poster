{
  "nbformat": 4,
  "nbformat_minor": 0,
  "metadata": {
    "colab": {
      "name": "LayoutTransformer.ipynb",
      "provenance": [],
      "collapsed_sections": [],
      "machine_shape": "hm"
    },
    "kernelspec": {
      "name": "python3",
      "display_name": "Python 3"
    },
    "language_info": {
      "name": "python"
    },
    "accelerator": "GPU"
  },
  "cells": [
    {
      "cell_type": "code",
      "source": [
        "!pip install wandb"
      ],
      "metadata": {
        "id": "Nv19MxmHV7rg",
        "colab": {
          "base_uri": "https://localhost:8080/"
        },
        "outputId": "0148d07c-cb05-4120-f765-0c83059594bc"
      },
      "execution_count": 3,
      "outputs": [
        {
          "output_type": "stream",
          "name": "stdout",
          "text": [
            "Collecting wandb\n",
            "  Downloading wandb-0.12.16-py2.py3-none-any.whl (1.8 MB)\n",
            "\u001b[K     |████████████████████████████████| 1.8 MB 11.6 MB/s \n",
            "\u001b[?25hRequirement already satisfied: promise<3,>=2.0 in /usr/local/lib/python3.7/dist-packages (from wandb) (2.3)\n",
            "Collecting shortuuid>=0.5.0\n",
            "  Downloading shortuuid-1.0.9-py3-none-any.whl (9.4 kB)\n",
            "Requirement already satisfied: python-dateutil>=2.6.1 in /usr/local/lib/python3.7/dist-packages (from wandb) (2.8.2)\n",
            "Collecting pathtools\n",
            "  Downloading pathtools-0.1.2.tar.gz (11 kB)\n",
            "Collecting GitPython>=1.0.0\n",
            "  Downloading GitPython-3.1.27-py3-none-any.whl (181 kB)\n",
            "\u001b[K     |████████████████████████████████| 181 kB 53.4 MB/s \n",
            "\u001b[?25hCollecting sentry-sdk>=1.0.0\n",
            "  Downloading sentry_sdk-1.5.12-py2.py3-none-any.whl (145 kB)\n",
            "\u001b[K     |████████████████████████████████| 145 kB 58.7 MB/s \n",
            "\u001b[?25hRequirement already satisfied: PyYAML in /usr/local/lib/python3.7/dist-packages (from wandb) (3.13)\n",
            "Requirement already satisfied: setuptools in /usr/local/lib/python3.7/dist-packages (from wandb) (57.4.0)\n",
            "Collecting setproctitle\n",
            "  Downloading setproctitle-1.2.3-cp37-cp37m-manylinux_2_5_x86_64.manylinux1_x86_64.manylinux_2_17_x86_64.manylinux2014_x86_64.whl (29 kB)\n",
            "Requirement already satisfied: protobuf>=3.12.0 in /usr/local/lib/python3.7/dist-packages (from wandb) (3.17.3)\n",
            "Requirement already satisfied: six>=1.13.0 in /usr/local/lib/python3.7/dist-packages (from wandb) (1.15.0)\n",
            "Requirement already satisfied: Click!=8.0.0,>=7.0 in /usr/local/lib/python3.7/dist-packages (from wandb) (7.1.2)\n",
            "Collecting docker-pycreds>=0.4.0\n",
            "  Downloading docker_pycreds-0.4.0-py2.py3-none-any.whl (9.0 kB)\n",
            "Requirement already satisfied: psutil>=5.0.0 in /usr/local/lib/python3.7/dist-packages (from wandb) (5.4.8)\n",
            "Requirement already satisfied: requests<3,>=2.0.0 in /usr/local/lib/python3.7/dist-packages (from wandb) (2.23.0)\n",
            "Collecting gitdb<5,>=4.0.1\n",
            "  Downloading gitdb-4.0.9-py3-none-any.whl (63 kB)\n",
            "\u001b[K     |████████████████████████████████| 63 kB 1.7 MB/s \n",
            "\u001b[?25hRequirement already satisfied: typing-extensions>=3.7.4.3 in /usr/local/lib/python3.7/dist-packages (from GitPython>=1.0.0->wandb) (4.2.0)\n",
            "Collecting smmap<6,>=3.0.1\n",
            "  Downloading smmap-5.0.0-py3-none-any.whl (24 kB)\n",
            "Requirement already satisfied: idna<3,>=2.5 in /usr/local/lib/python3.7/dist-packages (from requests<3,>=2.0.0->wandb) (2.10)\n",
            "Requirement already satisfied: certifi>=2017.4.17 in /usr/local/lib/python3.7/dist-packages (from requests<3,>=2.0.0->wandb) (2021.10.8)\n",
            "Requirement already satisfied: urllib3!=1.25.0,!=1.25.1,<1.26,>=1.21.1 in /usr/local/lib/python3.7/dist-packages (from requests<3,>=2.0.0->wandb) (1.24.3)\n",
            "Requirement already satisfied: chardet<4,>=3.0.2 in /usr/local/lib/python3.7/dist-packages (from requests<3,>=2.0.0->wandb) (3.0.4)\n",
            "Building wheels for collected packages: pathtools\n",
            "  Building wheel for pathtools (setup.py) ... \u001b[?25l\u001b[?25hdone\n",
            "  Created wheel for pathtools: filename=pathtools-0.1.2-py3-none-any.whl size=8806 sha256=a2cb93e175217b6dad482e3f9343bbb5b625ff08dafcfa0425f50095e96d4f8d\n",
            "  Stored in directory: /root/.cache/pip/wheels/3e/31/09/fa59cef12cdcfecc627b3d24273699f390e71828921b2cbba2\n",
            "Successfully built pathtools\n",
            "Installing collected packages: smmap, gitdb, shortuuid, setproctitle, sentry-sdk, pathtools, GitPython, docker-pycreds, wandb\n",
            "Successfully installed GitPython-3.1.27 docker-pycreds-0.4.0 gitdb-4.0.9 pathtools-0.1.2 sentry-sdk-1.5.12 setproctitle-1.2.3 shortuuid-1.0.9 smmap-5.0.0 wandb-0.12.16\n"
          ]
        }
      ]
    },
    {
      "cell_type": "code",
      "source": [
        "import os\n",
        "import numpy as np\n",
        "import torch\n",
        "from torchvision.datasets.mnist import MNIST\n",
        "from torch.utils.data.dataset import Dataset\n",
        "from PIL import Image, ImageDraw, ImageOps\n",
        "import json\n",
        "import math\n",
        "import logging\n",
        "import torch\n",
        "from torch.nn import functional as F\n",
        "import torch.nn as nn\n",
        "import random\n",
        "import seaborn as sns\n",
        "import wandb\n",
        "from tqdm import tqdm\n",
        "from torch.utils.data.dataloader import DataLoader\n",
        "from torch.utils.data.dataset import Dataset"
      ],
      "metadata": {
        "id": "O_5x9rOfqnZt"
      },
      "execution_count": 4,
      "outputs": []
    },
    {
      "cell_type": "code",
      "source": [
        "logger = logging.getLogger(__name__)"
      ],
      "metadata": {
        "id": "Isu8H3aSSaXd"
      },
      "execution_count": 5,
      "outputs": []
    },
    {
      "cell_type": "code",
      "source": [
        "!nvidia-smi"
      ],
      "metadata": {
        "colab": {
          "base_uri": "https://localhost:8080/"
        },
        "id": "zVi7Sbs1PV0r",
        "outputId": "4730f086-f542-42de-d933-28796bfc7f23"
      },
      "execution_count": 6,
      "outputs": [
        {
          "output_type": "stream",
          "name": "stdout",
          "text": [
            "Wed May 11 18:35:19 2022       \n",
            "+-----------------------------------------------------------------------------+\n",
            "| NVIDIA-SMI 460.32.03    Driver Version: 460.32.03    CUDA Version: 11.2     |\n",
            "|-------------------------------+----------------------+----------------------+\n",
            "| GPU  Name        Persistence-M| Bus-Id        Disp.A | Volatile Uncorr. ECC |\n",
            "| Fan  Temp  Perf  Pwr:Usage/Cap|         Memory-Usage | GPU-Util  Compute M. |\n",
            "|                               |                      |               MIG M. |\n",
            "|===============================+======================+======================|\n",
            "|   0  Tesla P100-PCIE...  Off  | 00000000:00:04.0 Off |                    0 |\n",
            "| N/A   40C    P0    29W / 250W |      0MiB / 16280MiB |      0%      Default |\n",
            "|                               |                      |                  N/A |\n",
            "+-------------------------------+----------------------+----------------------+\n",
            "                                                                               \n",
            "+-----------------------------------------------------------------------------+\n",
            "| Processes:                                                                  |\n",
            "|  GPU   GI   CI        PID   Type   Process name                  GPU Memory |\n",
            "|        ID   ID                                                   Usage      |\n",
            "|=============================================================================|\n",
            "|  No running processes found                                                 |\n",
            "+-----------------------------------------------------------------------------+\n"
          ]
        }
      ]
    },
    {
      "cell_type": "code",
      "source": [
        "from google.colab import drive\n",
        "drive.mount('/content/drive')"
      ],
      "metadata": {
        "colab": {
          "base_uri": "https://localhost:8080/"
        },
        "id": "x2i_mutFPVJu",
        "outputId": "45a3ff4d-1ee2-48e4-cb3d-a276ce535cf2"
      },
      "execution_count": 2,
      "outputs": [
        {
          "output_type": "stream",
          "name": "stdout",
          "text": [
            "Mounted at /content/drive\n"
          ]
        }
      ]
    },
    {
      "cell_type": "code",
      "source": [
        "def gen_colors(num_colors):\n",
        "    palette = sns.color_palette(None, num_colors)\n",
        "    rgb_triples = [[int(x[0]*255), int(x[1]*255), int(x[2]*255)] for x in palette]\n",
        "    return rgb_triples\n",
        "\n",
        "def trim_tokens(tokens, bos, eos, pad=None):\n",
        "    bos_idx = np.where(tokens == bos)[0]\n",
        "    tokens = tokens[bos_idx[0]+1:] if len(bos_idx) > 0 else tokens\n",
        "    eos_idx = np.where(tokens == eos)[0]\n",
        "    tokens = tokens[:eos_idx[0]] if len(eos_idx) > 0 else tokens\n",
        "    # tokens = tokens[tokens != bos]\n",
        "    # tokens = tokens[tokens != eos]\n",
        "    if pad is not None:\n",
        "        tokens = tokens[tokens != pad]\n",
        "    return tokens"
      ],
      "metadata": {
        "id": "KRzNeMumQXIl"
      },
      "execution_count": 7,
      "outputs": []
    },
    {
      "cell_type": "code",
      "source": [
        "class Padding(object):\n",
        "    def __init__(self, max_length, vocab_size):\n",
        "        self.max_length = max_length\n",
        "        self.bos_token = vocab_size - 3\n",
        "        self.eos_token = vocab_size - 2\n",
        "        self.pad_token = vocab_size - 1\n",
        "\n",
        "    def __call__(self, layout):\n",
        "        # grab a chunk of (max_length + 1) from the layout\n",
        "\n",
        "        chunk = torch.zeros(self.max_length+1, dtype=torch.long) + self.pad_token\n",
        "        # Assume len(item) will always be <= self.max_length:\n",
        "        chunk[0] = self.bos_token\n",
        "        chunk[1:len(layout)+1] = layout\n",
        "        chunk[len(layout)+1] = self.eos_token\n",
        "\n",
        "        x = chunk[:-1]\n",
        "        y = chunk[1:]\n",
        "        return {'x': x, 'y': y}"
      ],
      "metadata": {
        "id": "nY7kUaLhODwn"
      },
      "execution_count": 8,
      "outputs": []
    },
    {
      "cell_type": "code",
      "source": [
        "def compute_overlap_coverage(boxes):\n",
        "    area = [(item[2] - item[0]) * (item[3] - item[1]) for item in boxes]\n",
        "    overlaps = 0\n",
        "    good_areas = [(item[2] - item[0]) * (item[3] - item[1]) for item in boxes]\n",
        "    boxes = sorted(boxes, key=lambda x: x[0])\n",
        "    for i in range(len(boxes) - 1):\n",
        "        for j in range(i + 1, len(boxes)):\n",
        "            if i == j:\n",
        "                continue\n",
        "            if boxes[j][0] >= boxes[i][2] or boxes[j][1] >= boxes[i][3] or boxes[i][1] >= boxes[j][3]:\n",
        "                continue\n",
        "            #print(\"boxes[i] is \", boxes[i])\n",
        "            #print(\"boxes[j] is \", boxes[j])\n",
        "            end0 = max(boxes[i][0], boxes[j][0])\n",
        "            #print(\"end0 is \", end0)\n",
        "            end1 = max(boxes[i][1], boxes[j][1])\n",
        "            #print(\"end1 is \", end1)\n",
        "            end2 = min(boxes[i][2], boxes[j][2])\n",
        "            #print(\"end2 is \", end2)\n",
        "            end3 = min(boxes[i][3], boxes[j][3])\n",
        "            #print(\"end3 is \", end3)\n",
        "            overlap = (end2 - end0) * (end3 - end1)\n",
        "            overlaps += overlap\n",
        "            good_areas[i] -= overlap\n",
        "            good_areas[j] -= overlap\n",
        "    \n",
        "    union = sum(good_areas) + overlaps\n",
        "    overlap_rate = min(1, overlaps / union)\n",
        "    '''\n",
        "    if overlap_rate < 0 or overlap_rate > 1:\n",
        "        print(\"error_case found\")\n",
        "        print(\"overlaps is \", overlaps)\n",
        "        print(\"sum(good_areas) is \", sum(good_areas))\n",
        "        print(\"union is \", union)\n",
        "        print(\"good_areas is \", good_areas)\n",
        "        print(\"boxes is \", boxes)\n",
        "        print(nbnn)\n",
        "    '''\n",
        "    coverage = union / (256 * 256)\n",
        "    return overlap_rate, coverage\n",
        "    \n"
      ],
      "metadata": {
        "id": "B20H_3vglS4H"
      },
      "execution_count": 9,
      "outputs": []
    },
    {
      "cell_type": "code",
      "source": [
        "class JSONLayout(Dataset):\n",
        "    def __init__(self, json_path, max_length=None, precision=8):\n",
        "        with open(json_path, \"r\") as f:\n",
        "            data = json.loads(f.read())\n",
        "        images, annotations, categories = data['images'], data['annotations'], data['categories']\n",
        "        convert_dict = {1: 2, 2: 1, 3: 5, 4: 1, 5: 1, 6: 5, 7: 4}\n",
        "        categories = [{'id': 1, 'name': 'text', 'supercategory': ''},\n",
        "                      {'id': 2, 'name': 'title', 'supercategory': ''},\n",
        "                      {'id': 3, 'name': 'list', 'supercategory': ''},\n",
        "                      {'id': 4, 'name': 'table', 'supercategory': ''},\n",
        "                      {'id': 5, 'name': 'figure', 'supercategory': ''}]\n",
        "        for item in annotations:\n",
        "            item['category_id'] = convert_dict[item['category_id']]\n",
        "        self.size = pow(2, precision)\n",
        "        self.categories = {c[\"id\"]: c for c in categories}\n",
        "        self.colors = gen_colors(len(self.categories))\n",
        "        self.json_category_id_to_contiguous_id = {\n",
        "            v: i + self.size for i, v in enumerate([c[\"id\"] for c in self.categories.values()])\n",
        "        }\n",
        "        self.contiguous_category_id_to_json_id = {\n",
        "            v: k for k, v in self.json_category_id_to_contiguous_id.items()\n",
        "        }\n",
        "        self.vocab_size = self.size + len(self.categories) + 3  # bos, eos, pad tokens\n",
        "        self.bos_token = self.vocab_size - 3\n",
        "        self.eos_token = self.vocab_size - 2\n",
        "        self.pad_token = self.vocab_size - 1\n",
        "\n",
        "        image_to_annotations = {}\n",
        "        for annotation in annotations:\n",
        "            image_id = annotation[\"image_id\"]\n",
        "            if not (image_id in image_to_annotations):\n",
        "                image_to_annotations[image_id] = []\n",
        "            image_to_annotations[image_id].append(annotation)\n",
        "        #anno_values = list(image_to_annotations.values())\n",
        "        #lengths = np.array([len(item) for item in anno_values])\n",
        "        #print(\"mean lengths is \", np.mean(lengths))\n",
        "        self.data = []\n",
        "        for image in images:\n",
        "            image_id = image[\"id\"]\n",
        "            height, width = float(image[\"height\"]), float(image[\"width\"])\n",
        "            if image_id not in image_to_annotations:\n",
        "                continue\n",
        "            ann_box = []\n",
        "            ann_cat = []\n",
        "            for ann in image_to_annotations[image_id]:\n",
        "                x, y, w, h = ann[\"bbox\"]\n",
        "                ann_box.append([x, y, w, h])\n",
        "                ann_cat.append(self.json_category_id_to_contiguous_id[ann[\"category_id\"]])\n",
        "            # Sort boxes\n",
        "            ann_box = np.array(ann_box)\n",
        "            ind = np.lexsort((ann_box[:, 0], ann_box[:, 1]))\n",
        "            ann_box = ann_box[ind]\n",
        "            # Discretize boxes\n",
        "            #print(\"ann_box is \", ann_box[:20])\n",
        "            ann_box = self.quantize_box(ann_box, width, height)\n",
        "            #print(\"ann_box after quantize is \", ann_box[:20])\n",
        "            # Append the categories\n",
        "            ann_cat = np.array(ann_cat)\n",
        "            #print(\"ann_cat is \", ann_cat[:20])\n",
        "            layout = np.concatenate([ann_cat.reshape(-1, 1), ann_box], axis=1)\n",
        "            #print(\"layout is \", layout)\n",
        "            # Flatten and add to the dataset\n",
        "            self.data.append(layout.reshape(-1))\n",
        "\n",
        "        #self.max_length = max_length\n",
        "        self.max_length = 517\n",
        "        if self.max_length is None:\n",
        "            self.max_length = max([len(x) for x in self.data]) + 2  # bos, eos tokens\n",
        "        self.transform = Padding(self.max_length, self.vocab_size)\n",
        "\n",
        "    def quantize_box(self, boxes, width, height):\n",
        "\n",
        "        # range of xy is [0, large_side-1]\n",
        "        # range of wh is [1, large_side]\n",
        "        # bring xywh to [0, 1]\n",
        "        boxes = boxes.astype(np.float32)\n",
        "        #print(\"width, height is \", width, height)\n",
        "        #print(\"boxes[:, [2, 3]] is \", boxes[:, [2, 3]])\n",
        "        boxes[:, [2, 3]] = boxes[:, [2, 3]] - 1\n",
        "        #print(\"boxes[:, [2, 3]] after transform is \", boxes[:, [2, 3]])\n",
        "        #print(\"boxes[:, [0, 2]] is \", boxes[:, [0, 2]])\n",
        "        boxes[:, [0, 2]] = boxes[:, [0, 2]] / (width - 1)\n",
        "        #print(\"boxes[:, [0, 2]] after transform is \", boxes[:, [0, 2]])\n",
        "        #print(\"boxes[:, [1, 3]] is \", boxes[:, [1, 3]])\n",
        "        boxes[:, [1, 3]] = boxes[:, [1, 3]] / (height - 1)\n",
        "        #print(\"boxes[:, [1, 3]] after transform is \", boxes[:, [1, 3]])\n",
        "        boxes = np.clip(boxes, 0, 1)\n",
        "\n",
        "        # next take xywh to [0, size-1]\n",
        "        boxes = (boxes * (self.size - 1)).round()\n",
        "\n",
        "        return boxes.astype(np.int32)\n",
        "\n",
        "    def __len__(self):\n",
        "        return len(self.data)\n",
        "\n",
        "    def render(self, layout):\n",
        "        img = Image.new('RGB', (256, 256), color=(255, 255, 255))\n",
        "        draw = ImageDraw.Draw(img, 'RGBA')\n",
        "        layout = layout.reshape(-1)\n",
        "        layout = trim_tokens(layout, self.bos_token, self.eos_token, self.pad_token)\n",
        "        layout = layout[: len(layout) // 5 * 5].reshape(-1, 5)\n",
        "        box = layout[:, 1:].astype(np.float32)\n",
        "        box[:, [0, 1]] = box[:, [0, 1]] / (self.size - 1) * 255\n",
        "        box[:, [2, 3]] = box[:, [2, 3]] / self.size * 256\n",
        "        #box[:, [0, 1]] = box[:, [0, 1]] * 255\n",
        "        #box[:, [2, 3]] = box[:, [2, 3]] * 256\n",
        "        box[:, [2, 3]] = box[:, [0, 1]] + box[:, [2, 3]]\n",
        "        for i in range(len(layout)):\n",
        "            x1, y1, x2, y2 = box[i]\n",
        "            cat = layout[i][0]\n",
        "            col = self.colors[cat-self.size] if 0 <= cat-self.size < len(self.colors) else [0, 0, 0]\n",
        "            #print(\"col is \", col)\n",
        "            draw.rectangle([x1, y1, x2, y2],\n",
        "                           outline=tuple(col) + (200,),\n",
        "                           fill=tuple(col) + (64,),\n",
        "                           width=2)\n",
        "        #print(\"box is \", box)\n",
        "        # Add border around image\n",
        "        img = ImageOps.expand(img, border=2)\n",
        "        overlap_rate, coverage = compute_overlap_coverage(box)\n",
        "\n",
        "        return [img, overlap_rate, coverage]\n",
        "\n",
        "    def __getitem__(self, idx):\n",
        "        # grab a chunk of (block_size + 1) tokens from the data\n",
        "        layout = torch.tensor(self.data[idx], dtype=torch.long)\n",
        "        layout = self.transform(layout)\n",
        "        return layout['x'], layout['y']"
      ],
      "metadata": {
        "id": "2GSkHlqVq79b"
      },
      "execution_count": 10,
      "outputs": []
    },
    {
      "cell_type": "code",
      "source": [
        "class GPTConfig:\n",
        "    \"\"\" base GPT config, params common to all GPT versions \"\"\"\n",
        "    embd_pdrop = 0.1\n",
        "    resid_pdrop = 0.1\n",
        "    attn_pdrop = 0.1\n",
        "\n",
        "    def __init__(self, vocab_size, block_size, **kwargs):\n",
        "        self.vocab_size = vocab_size\n",
        "        self.block_size = block_size\n",
        "        for k,v in kwargs.items():\n",
        "            setattr(self, k, v)"
      ],
      "metadata": {
        "id": "z34cUxozSduJ"
      },
      "execution_count": 11,
      "outputs": []
    },
    {
      "cell_type": "code",
      "source": [
        "class CausalSelfAttention(nn.Module):\n",
        "    \"\"\"\n",
        "    A vanilla multi-head masked self-attention layer with a projection at the end.\n",
        "    It is possible to use torch.nn.MultiheadAttention here but I am including an\n",
        "    explicit implementation here to show that there is nothing too scary here.\n",
        "    \"\"\"\n",
        "\n",
        "    def __init__(self, config):\n",
        "        super().__init__()\n",
        "        assert config.n_embd % config.n_head == 0\n",
        "        # key, query, value projections for all heads\n",
        "        self.key = nn.Linear(config.n_embd, config.n_embd)\n",
        "        self.query = nn.Linear(config.n_embd, config.n_embd)\n",
        "        self.value = nn.Linear(config.n_embd, config.n_embd)\n",
        "        # regularization\n",
        "        self.attn_drop = nn.Dropout(config.attn_pdrop)\n",
        "        self.resid_drop = nn.Dropout(config.resid_pdrop)\n",
        "        # output projection\n",
        "        self.proj = nn.Linear(config.n_embd, config.n_embd)\n",
        "        # causal mask to ensure that attention is only applied to the left in the input sequence\n",
        "        self.register_buffer(\"mask\", torch.tril(torch.ones(config.block_size, config.block_size))\n",
        "                                     .view(1, 1, config.block_size, config.block_size))\n",
        "        self.n_head = config.n_head\n",
        "\n",
        "    def forward(self, x, layer_past=None):\n",
        "        B, T, C = x.size()\n",
        "\n",
        "        # calculate query, key, values for all heads in batch and move head forward to be the batch dim\n",
        "        k = self.key(x).view(B, T, self.n_head, C // self.n_head).transpose(1, 2) # (B, nh, T, hs)\n",
        "        q = self.query(x).view(B, T, self.n_head, C // self.n_head).transpose(1, 2) # (B, nh, T, hs)\n",
        "        v = self.value(x).view(B, T, self.n_head, C // self.n_head).transpose(1, 2) # (B, nh, T, hs)\n",
        "\n",
        "        # causal self-attention; Self-attend: (B, nh, T, hs) x (B, nh, hs, T) -> (B, nh, T, T)\n",
        "        att = (q @ k.transpose(-2, -1)) * (1.0 / math.sqrt(k.size(-1)))\n",
        "        att = att.masked_fill(self.mask[:,:,:T,:T] == 0, float('-inf'))\n",
        "        att = F.softmax(att, dim=-1)\n",
        "        att = self.attn_drop(att)\n",
        "        y = att @ v # (B, nh, T, T) x (B, nh, T, hs) -> (B, nh, T, hs)\n",
        "        y = y.transpose(1, 2).contiguous().view(B, T, C) # re-assemble all head outputs side by side\n",
        "\n",
        "        # output projection\n",
        "        y = self.resid_drop(self.proj(y))\n",
        "        return y"
      ],
      "metadata": {
        "id": "N2ZvLEGqUtwC"
      },
      "execution_count": 12,
      "outputs": []
    },
    {
      "cell_type": "code",
      "source": [
        "class Block(nn.Module):\n",
        "    \"\"\" an unassuming Transformer block \"\"\"\n",
        "\n",
        "    def __init__(self, config):\n",
        "        super().__init__()\n",
        "        self.ln1 = nn.LayerNorm(config.n_embd)\n",
        "        self.ln2 = nn.LayerNorm(config.n_embd)\n",
        "        self.attn = CausalSelfAttention(config)\n",
        "        self.mlp = nn.Sequential(\n",
        "            nn.Linear(config.n_embd, 4 * config.n_embd),\n",
        "            nn.GELU(),\n",
        "            nn.Linear(4 * config.n_embd, config.n_embd),\n",
        "            nn.Dropout(config.resid_pdrop),\n",
        "        )\n",
        "\n",
        "    def forward(self, x):\n",
        "        x = x + self.attn(self.ln1(x))\n",
        "        x = x + self.mlp(self.ln2(x))\n",
        "        return x"
      ],
      "metadata": {
        "id": "opxNmaUwT3ve"
      },
      "execution_count": 13,
      "outputs": []
    },
    {
      "cell_type": "code",
      "source": [
        "class GPT(nn.Module):\n",
        "    \"\"\"  the full GPT language model, with a context size of block_size \"\"\"\n",
        "\n",
        "    def __init__(self, config):\n",
        "        super().__init__()\n",
        "\n",
        "        # input embedding stem\n",
        "        self.tok_emb = nn.Embedding(config.vocab_size, config.n_embd)\n",
        "        self.pos_emb = nn.Parameter(torch.zeros(1, config.block_size, config.n_embd))\n",
        "        self.drop = nn.Dropout(config.embd_pdrop)\n",
        "        # transformer\n",
        "        self.blocks = nn.Sequential(*[Block(config) for _ in range(config.n_layer)])\n",
        "        # decoder head\n",
        "        self.ln_f = nn.LayerNorm(config.n_embd)\n",
        "        self.head = nn.Linear(config.n_embd, config.vocab_size, bias=False)\n",
        "\n",
        "        self.block_size = config.block_size\n",
        "        self.apply(self._init_weights)\n",
        "\n",
        "        logger.info(\"number of parameters: %e\", sum(p.numel() for p in self.parameters()))\n",
        "\n",
        "    def get_block_size(self):\n",
        "        return self.block_size\n",
        "\n",
        "    def _init_weights(self, module):\n",
        "        if isinstance(module, (nn.Linear, nn.Embedding)):\n",
        "            module.weight.data.normal_(mean=0.0, std=0.02)\n",
        "            if isinstance(module, nn.Linear) and module.bias is not None:\n",
        "                module.bias.data.zero_()\n",
        "        elif isinstance(module, nn.LayerNorm):\n",
        "            module.bias.data.zero_()\n",
        "            module.weight.data.fill_(1.0)\n",
        "\n",
        "    def configure_optimizers(self, train_config):\n",
        "        \"\"\"\n",
        "        This long function is unfortunately doing something very simple and is being very defensive:\n",
        "        We are separating out all parameters of the model into two buckets: those that will experience\n",
        "        weight decay for regularization and those that won't (biases, and layernorm/embedding weights).\n",
        "        We are then returning the PyTorch optimizer object.\n",
        "        \"\"\"\n",
        "\n",
        "        # separate out all parameters to those that will and won't experience regularizing weight decay\n",
        "        decay = set()\n",
        "        no_decay = set()\n",
        "        whitelist_weight_modules = (torch.nn.Linear, )\n",
        "        blacklist_weight_modules = (torch.nn.LayerNorm, torch.nn.Embedding)\n",
        "        for mn, m in self.named_modules():\n",
        "            for pn, p in m.named_parameters():\n",
        "                fpn = '%s.%s' % (mn, pn) if mn else pn # full param name\n",
        "\n",
        "                if pn.endswith('bias'):\n",
        "                    # all biases will not be decayed\n",
        "                    no_decay.add(fpn)\n",
        "                elif pn.endswith('weight') and isinstance(m, whitelist_weight_modules):\n",
        "                    # weights of whitelist modules will be weight decayed\n",
        "                    decay.add(fpn)\n",
        "                elif pn.endswith('weight') and isinstance(m, blacklist_weight_modules):\n",
        "                    # weights of blacklist modules will NOT be weight decayed\n",
        "                    no_decay.add(fpn)\n",
        "\n",
        "        # special case the position embedding parameter in the root GPT module as not decayed\n",
        "        no_decay.add('pos_emb')\n",
        "\n",
        "        # validate that we considered every parameter\n",
        "        param_dict = {pn: p for pn, p in self.named_parameters()}\n",
        "        inter_params = decay & no_decay\n",
        "        union_params = decay | no_decay\n",
        "        assert len(inter_params) == 0, \"parameters %s made it into both decay/no_decay sets!\" % (str(inter_params), )\n",
        "        assert len(param_dict.keys() - union_params) == 0, \"parameters %s were not separated into either decay/no_decay set!\" \\\n",
        "                                                    % (str(param_dict.keys() - union_params), )\n",
        "\n",
        "        # create the pytorch optimizer object\n",
        "        optim_groups = [\n",
        "            {\"params\": [param_dict[pn] for pn in sorted(list(decay))], \"weight_decay\": train_config.weight_decay},\n",
        "            {\"params\": [param_dict[pn] for pn in sorted(list(no_decay))], \"weight_decay\": 0.0},\n",
        "        ]\n",
        "        optimizer = torch.optim.AdamW(optim_groups, lr=train_config.learning_rate, betas=train_config.betas)\n",
        "        return optimizer\n",
        "\n",
        "    def forward(self, idx, targets=None, pad_token=-100):\n",
        "        b, t = idx.size()\n",
        "        assert t <= self.block_size, \"Cannot forward, model block size is exhausted.\"\n",
        "\n",
        "        # forward the GPT model\n",
        "        token_embeddings = self.tok_emb(idx) # each index maps to a (learnable) vector\n",
        "        position_embeddings = self.pos_emb[:, :t, :] # each position maps to a (learnable) vector\n",
        "        x = self.drop(token_embeddings + position_embeddings)\n",
        "        x = self.blocks(x)\n",
        "        x = self.ln_f(x)\n",
        "        logits = self.head(x)\n",
        "\n",
        "        # if we are given some desired targets also calculate the loss\n",
        "        loss = None\n",
        "        if targets is not None:\n",
        "            loss = F.cross_entropy(logits.view(-1, logits.size(-1)), targets.view(-1), ignore_index=pad_token)\n",
        "\n",
        "        return logits, loss"
      ],
      "metadata": {
        "id": "sdLG50FXUlF2"
      },
      "execution_count": 14,
      "outputs": []
    },
    {
      "cell_type": "code",
      "source": [
        "args = {\n",
        "    #\"train_data\": \"/content/drive/MyDrive/Directed_Study/DeepLayout-main/Publeynet/train.json\",\n",
        "    \"train_data\": \"/content/drive/MyDrive/Directed_Study/DeepLayout-main/Poster-Data/train_dataset_nc.json\",\n",
        "    #\"val_data\": \"/content/drive/MyDrive/Directed_Study/DeepLayout-main/Publeynet/val.json\",\n",
        "    \"val_data\": \"/content/drive/MyDrive/Directed_Study/DeepLayout-main/Poster-Data/val_dataset_nc.json\",\n",
        "    \"max_length\": 128,\n",
        "    \"precision\": 8,\n",
        "    'element_order': 'raster',\n",
        "    'attribute_order': 'cxywh',\n",
        "    \"seed\": 42,\n",
        "    \"epochs\": 100,\n",
        "    \"batch_size\": 16,\n",
        "    \"lr\": 4.5e-06, \n",
        "    'n_layer': 6,\n",
        "    'n_embd': 512,\n",
        "    'n_head': 8,\n",
        "    'warmup_iters': 0,\n",
        "    'final_iters': 0,\n",
        "    'sample_every': 1,\n",
        "    \"exp\": \"layout\",\n",
        "    \"log_dir\": \"/content/finetune_logs\",\n",
        "    \"lr_decay\": False\n",
        "}"
      ],
      "metadata": {
        "id": "MUXAvH4CPGj8"
      },
      "execution_count": 15,
      "outputs": []
    },
    {
      "cell_type": "code",
      "source": [
        "train_dataset = JSONLayout(args[\"train_data\"])\n",
        "valid_dataset = JSONLayout(args[\"val_data\"], max_length=train_dataset.max_length)"
      ],
      "metadata": {
        "id": "-MmX9BaNo6K5"
      },
      "execution_count": 16,
      "outputs": []
    },
    {
      "cell_type": "code",
      "source": [
        "mconf = GPTConfig(train_dataset.vocab_size, train_dataset.max_length, \n",
        "                  n_layer=args[\"n_layer\"], n_head=args[\"n_head\"], n_embd=args[\"n_embd\"])  # a GPT-1\n",
        "model = GPT(mconf)"
      ],
      "metadata": {
        "id": "NVQR-M_CUW8Y"
      },
      "execution_count": 17,
      "outputs": []
    },
    {
      "cell_type": "code",
      "source": [
        "model.load_state_dict(torch.load(\"/content/checkpoint.pth\"))"
      ],
      "metadata": {
        "colab": {
          "base_uri": "https://localhost:8080/"
        },
        "id": "Ng8FccOcpl8b",
        "outputId": "8131cb5e-a58a-4af2-f820-e1868cbe8502"
      },
      "execution_count": 18,
      "outputs": [
        {
          "output_type": "execute_result",
          "data": {
            "text/plain": [
              "<All keys matched successfully>"
            ]
          },
          "metadata": {},
          "execution_count": 18
        }
      ]
    },
    {
      "cell_type": "code",
      "source": [
        "def set_seed(seed):\n",
        "    random.seed(seed)\n",
        "    np.random.seed(seed)\n",
        "    torch.manual_seed(seed)\n",
        "    torch.cuda.manual_seed_all(seed)\n",
        "\n",
        "\n",
        "def top_k_logits(logits, k):\n",
        "    v, ix = torch.topk(logits, k)\n",
        "    out = logits.clone()\n",
        "    out[out < v[:, [-1]]] = -float('Inf')\n",
        "    return out"
      ],
      "metadata": {
        "id": "3cBJKwohWdIh"
      },
      "execution_count": 19,
      "outputs": []
    },
    {
      "cell_type": "code",
      "source": [
        "@torch.no_grad()\n",
        "def sample(model, x, steps, temperature=1.0, sample=False, top_k=None):\n",
        "    \"\"\"\n",
        "    take a conditioning sequence of indices in x (of shape (b,t)) and predict the next token in\n",
        "    the sequence, feeding the predictions back into the model each time. Clearly the sampling\n",
        "    has quadratic complexity unlike an RNN that is only linear, and has a finite context window\n",
        "    of block_size, unlike an RNN that has an infinite context window.\n",
        "    \"\"\"\n",
        "    block_size = model.module.get_block_size() if hasattr(model, \"module\") else model.getcond_block_size()\n",
        "    model.eval()\n",
        "    for k in range(steps):\n",
        "        x_cond = x if x.size(1) <= block_size else x[:, -block_size:]  # crop context if needed\n",
        "        logits, _ = model(x_cond)\n",
        "        # pluck the logits at the final step and scale by temperature\n",
        "        logits = logits[:, -1, :] / temperature\n",
        "        # optionally crop probabilities to only the top k options\n",
        "        if top_k is not None:\n",
        "            logits = top_k_logits(logits, top_k)\n",
        "        # apply softmax to convert to probabilities\n",
        "        probs = F.softmax(logits, dim=-1)\n",
        "        # sample from the distribution or take the most likely\n",
        "        if sample:\n",
        "            ix = torch.multinomial(probs, num_samples=1)\n",
        "        else:\n",
        "            _, ix = torch.topk(probs, k=1, dim=-1)\n",
        "        # append to the sequence and continue\n",
        "        x = torch.cat((x, ix), dim=1)\n",
        "\n",
        "    return x"
      ],
      "metadata": {
        "id": "dIPk4X3xWWWM"
      },
      "execution_count": 20,
      "outputs": []
    },
    {
      "cell_type": "code",
      "source": [
        "class TrainerConfig:\n",
        "    # optimization parameters\n",
        "    max_epochs = 10\n",
        "    batch_size = 64\n",
        "    learning_rate = 3e-4\n",
        "    betas = (0.9, 0.95)\n",
        "    grad_norm_clip = 1.0\n",
        "    weight_decay = 0.1  # only applied on matmul weights\n",
        "    # learning rate decay params: linear warmup followed by cosine decay to 10% of original\n",
        "    lr_decay = False\n",
        "    warmup_iters = 0\n",
        "    final_iters = 0  # (at what point we reach 10% of original LR)\n",
        "    # checkpoint settings\n",
        "    ckpt_dir = None\n",
        "    samples_dir = None\n",
        "    sample_every = 1\n",
        "    num_workers = 0  # for DataLoader\n",
        "\n",
        "    def __init__(self, **kwargs):\n",
        "        for k, v in kwargs.items():\n",
        "            setattr(self, k, v)"
      ],
      "metadata": {
        "id": "7Kho7OLBVr0m"
      },
      "execution_count": 21,
      "outputs": []
    },
    {
      "cell_type": "code",
      "source": [
        "class Trainer:\n",
        "\n",
        "    def __init__(self, model, train_dataset, test_dataset, config, args):\n",
        "        self.model = model\n",
        "        self.train_dataset = train_dataset\n",
        "        self.test_dataset = test_dataset\n",
        "        self.config = config\n",
        "        self.iters = 0\n",
        "        self.fixed_x = None\n",
        "        self.fixed_y = None\n",
        "        print(\"Using wandb\")\n",
        "        wandb.init(project='LayoutTransformer-finetune0511', name=args[\"exp\"])\n",
        "        wandb.config.update(args)\n",
        "\n",
        "        # take over whatever gpus are on the system\n",
        "        self.device = 'cpu'\n",
        "        if torch.cuda.is_available():\n",
        "            self.device = torch.cuda.current_device()\n",
        "            self.model = torch.nn.DataParallel(self.model).to(self.device)\n",
        "\n",
        "    def save_checkpoint(self):\n",
        "        # DataParallel wrappers keep raw model object in .module attribute\n",
        "        raw_model = self.model.module if hasattr(self.model, \"module\") else self.model\n",
        "        ckpt_path = os.path.join(self.config.ckpt_dir, 'checkpoint.pth')\n",
        "        logger.info(\"saving %s\", ckpt_path)\n",
        "        torch.save(raw_model.state_dict(), ckpt_path)\n",
        "        wandb.save(ckpt_path)\n",
        "\n",
        "    def train(self):\n",
        "        model, config = self.model, self.config\n",
        "        raw_model = model.module if hasattr(self.model, \"module\") else model\n",
        "        optimizer = raw_model.configure_optimizers(config)\n",
        "        pad_token = self.train_dataset.vocab_size - 1\n",
        "\n",
        "        def run_epoch(split):\n",
        "            is_train = split == 'train'\n",
        "            model.train(is_train)\n",
        "            data = self.train_dataset if is_train else self.test_dataset\n",
        "            loader = DataLoader(data, shuffle=True, pin_memory=True,\n",
        "                                batch_size=config.batch_size,\n",
        "                                num_workers=config.num_workers)\n",
        "\n",
        "            losses = []\n",
        "            #pbar = tqdm(enumerate(loader), total=len(loader)) if is_train else enumerate(loader)\n",
        "            pbar = tqdm(enumerate(loader), total=len(loader))\n",
        "            for it, (x, y) in pbar:\n",
        "\n",
        "                if epoch == 0 and not is_train:\n",
        "                    self.fixed_x = x[:min(10, len(x))]\n",
        "                    self.fixed_y = y[:min(10, len(y))]\n",
        "                    #self.fixed_x = x\n",
        "                    #self.fixed_y = y\n",
        "                    print(\"self.fixed_x is \", self.fixed_x.shape)\n",
        "                    print(\"self.fixed_y is \", self.fixed_y.shape)\n",
        "\n",
        "                # place data on the correct device\n",
        "                x = x.to(self.device)\n",
        "                y = y.to(self.device)\n",
        "\n",
        "                # forward the model\n",
        "                with torch.set_grad_enabled(is_train):\n",
        "                    # import ipdb; ipdb.set_trace()\n",
        "                    logits, loss = model(x, y, pad_token=pad_token)\n",
        "                    loss = loss.mean()  # collapse all losses if they are scattered on multiple gpus\n",
        "                    losses.append(loss.item())\n",
        "                    del x, y\n",
        "\n",
        "                if is_train:\n",
        "\n",
        "                    # backprop and update the parameters\n",
        "                    model.zero_grad()\n",
        "                    loss.backward()\n",
        "                    torch.nn.utils.clip_grad_norm_(model.parameters(), config.grad_norm_clip)\n",
        "                    optimizer.step()\n",
        "                    self.iters += 1\n",
        "                    # decay the learning rate based on our progress\n",
        "                    if config.lr_decay:\n",
        "                        # self.tokens += (y >= 0).sum()  # number of tokens processed this step (i.e. label is not -100)\n",
        "                        if self.iters < config.warmup_iters:\n",
        "                            # linear warmup\n",
        "                            lr_mult = float(self.iters) / float(max(1, config.warmup_iters))\n",
        "                        else:\n",
        "                            # cosine learning rate decay\n",
        "                            progress = float(self.iters - config.warmup_iters) / float(max(1, config.final_iters - config.warmup_iters))\n",
        "                            lr_mult = max(0.1, 0.5 * (1.0 + math.cos(math.pi * progress)))\n",
        "                        lr = config.learning_rate * lr_mult\n",
        "                        for param_group in optimizer.param_groups:\n",
        "                            param_group['lr'] = lr\n",
        "                    else:\n",
        "                        lr = config.learning_rate\n",
        "\n",
        "                    # report progress\n",
        "                    wandb.log({\n",
        "                        'train loss': loss.item(),\n",
        "                        'lr': lr, 'epoch': epoch+1\n",
        "                    }, step=self.iters)\n",
        "                    pbar.set_description(f\"epoch {epoch+1} iter {it}: train loss {loss.item():.5f}. lr {lr:e}\")\n",
        "                else:\n",
        "                    pbar.set_description(f\"epoch {epoch+1} iter {it}: test loss {loss.item():.5f}\")\n",
        "                del loss\n",
        "            if not is_train:\n",
        "                test_loss = float(np.mean(losses))\n",
        "                logger.info(\"test loss: %f\", test_loss)\n",
        "                wandb.log({'test loss': test_loss}, step=self.iters)\n",
        "                #pbar.set_description(f\"epoch {epoch+1} iter {it}: test loss {test_loss.item():.5f}\")\n",
        "                return test_loss\n",
        "\n",
        "        best_loss = float('inf')\n",
        "        for epoch in range(config.max_epochs):\n",
        "            run_epoch('train')\n",
        "            if self.test_dataset is not None:\n",
        "                with torch.no_grad():\n",
        "                    test_loss = run_epoch('test')\n",
        "\n",
        "            # supports early stopping based on the test loss, or just save always if no test set is provided\n",
        "            good_model = self.test_dataset is None or test_loss < best_loss\n",
        "            if self.config.ckpt_dir is not None and good_model:\n",
        "                best_loss = test_loss\n",
        "                self.save_checkpoint()\n",
        "\n",
        "            # sample from the model\n",
        "            if self.config.samples_dir is not None and (epoch+1) % self.config.sample_every == 0:\n",
        "                # import ipdb; ipdb.set_trace()\n",
        "                # inputs\n",
        "                #print(\"self.fixed_x is \", self.fixed_x)\n",
        "                layouts = self.fixed_x.detach().cpu().numpy()\n",
        "                input_layouts = [self.train_dataset.render(layout)[0] for layout in layouts]\n",
        "                overlap_rates = np.array([self.train_dataset.render(layout)[1] for layout in layouts])\n",
        "                coverages = np.array([self.train_dataset.render(layout)[2] for layout in layouts])\n",
        "                print(\"overlap_rates \", overlap_rates)\n",
        "                print(\"coverages \", coverages)\n",
        "                print(\"statsitic average of overlap_rates is \", np.average(overlap_rates))\n",
        "                print(\"statsitic std of overlap_rates is \", np.std(overlap_rates))\n",
        "                print(\"statsitic average of coverages is \", np.average(coverages))\n",
        "                print(\"statsitic std of coverages is \", np.std(coverages))\n",
        "                #print(\"input layouts is \", layouts)\n",
        "                #print(\"input layouts is \", input_layouts)\n",
        "                # for i, layout in enumerate(layouts):\n",
        "                #     layout = self.train_dataset.render(layout)\n",
        "                #     layout.save(os.path.join(self.config.samples_dir, f'input_{epoch:02d}_{i:02d}.png'))\n",
        "\n",
        "                # reconstruction\n",
        "                x_cond = self.fixed_x.to(self.device)\n",
        "                logits, _ = model(x_cond)\n",
        "                probs = F.softmax(logits, dim=-1)\n",
        "                _, y = torch.topk(probs, k=1, dim=-1)\n",
        "                layouts = torch.cat((x_cond[:, :1], y[:, :, 0]), dim=1).detach().cpu().numpy()\n",
        "                recon_layouts = [self.train_dataset.render(layout)[0] for layout in layouts]\n",
        "                recon_overlap_rates = [self.train_dataset.render(layout)[1] for layout in layouts]\n",
        "                print(\"recon_overlap_rates \", recon_overlap_rates)\n",
        "                recon_coverages = [self.train_dataset.render(layout)[2] for layout in layouts]\n",
        "                print(\"recon_coverages \", recon_coverages)\n",
        "                print(\"statsitic average of recon_overlap_rates is \", np.average(recon_overlap_rates))\n",
        "                print(\"statsitic std of  recon_overlap_rates is \", np.std( recon_overlap_rates))\n",
        "                print(\"statsitic average of recon_coverages is \", np.average(recon_coverages))\n",
        "                print(\"statsitic std of recon_coverages is \", np.std(recon_coverages))\n",
        "                # for i, layout in enumerate(layouts):\n",
        "                #     layout = self.train_dataset.render(layout)\n",
        "                #     layout.save(os.path.join(self.config.samples_dir, f'recon_{epoch:02d}_{i:02d}.png'))\n",
        "\n",
        "                # samples - random\n",
        "                layouts = sample(model, x_cond[:, :6], steps=self.train_dataset.max_length,\n",
        "                                 temperature=1.0, sample=True, top_k=5).detach().cpu().numpy()\n",
        "                sample_random_layouts = [self.train_dataset.render(layout)[0] for layout in layouts]\n",
        "                sample_random_overlap_rates = np.array([self.train_dataset.render(layout)[1] for layout in layouts])\n",
        "                sample_random_coverages = np.array([self.train_dataset.render(layout)[2] for layout in layouts])\n",
        "                print(\"sample_random overlap_rates \", sample_random_overlap_rates)\n",
        "                print(\"sample_random coverages \", sample_random_coverages)\n",
        "                print(\"statsitic average of sample_random overlap_rates is \", np.average(sample_random_overlap_rates))\n",
        "                print(\"statsitic std of sample_random overlap_rates is \", np.std(sample_random_overlap_rates))\n",
        "                print(\"statsitic average of sample_random coverages is \", np.average(sample_random_coverages))\n",
        "                print(\"statsitic std of sample_random coverages is \", np.std(sample_random_coverages))\n",
        "                # for i, layout in enumerate(layouts):\n",
        "                #     layout = self.train_dataset.render(layout)\n",
        "                #     layout.save(os.path.join(self.config.samples_dir, f'sample_random_{epoch:02d}_{i:02d}.png'))\n",
        "\n",
        "                # samples - deterministic\n",
        "                layouts = sample(model, x_cond[:, :6], steps=self.train_dataset.max_length,\n",
        "                                 temperature=1.0, sample=False, top_k=None).detach().cpu().numpy()\n",
        "                sample_det_layouts = [self.train_dataset.render(layout)[0] for layout in layouts]\n",
        "                sample_det_overlap_rates = np.array([self.train_dataset.render(layout)[1] for layout in layouts])\n",
        "                sample_det_coverages = np.array([self.train_dataset.render(layout)[2] for layout in layouts])\n",
        "                print(\"sample_det overlap_rates \", sample_det_overlap_rates)\n",
        "                print(\"sample_det coverages \", sample_det_coverages)\n",
        "                print(\"statsitic average of sample_det overlap_rates is \", np.average(sample_det_overlap_rates))\n",
        "                print(\"statsitic std of sample_det overlap_rates is \", np.std(sample_det_overlap_rates))\n",
        "                print(\"statsitic average of sample_det coverages is \", np.average(sample_det_coverages))\n",
        "                print(\"statsitic std of sample_det coverages is \", np.std(sample_det_coverages))\n",
        "                # for i, layout in enumerate(layouts):\n",
        "                #     layout = self.train_dataset.render(layout)\n",
        "                #     layout.save(os.path.join(self.config.samples_dir, f'sample_det_{epoch:02d}_{i:02d}.png'))\n",
        "\n",
        "                wandb.log({\n",
        "                    \"input_layouts\": [wandb.Image(pil, caption=f'input_{epoch:02d}_{i:02d}.png')\n",
        "                                      for i, pil in enumerate(input_layouts)],\n",
        "                    \"recon_layouts\": [wandb.Image(pil, caption=f'recon_{epoch:02d}_{i:02d}.png')\n",
        "                                      for i, pil in enumerate(recon_layouts)],\n",
        "                    \"overlap_rates\": overlap_rates,\n",
        "                    \"coverages\": coverages,\n",
        "                    \"recon_overlap_rates\": recon_overlap_rates,\n",
        "                    \"recon_coverages\": recon_coverages,\n",
        "                    \"sample_random_layouts\": [wandb.Image(pil, caption=f'sample_random_{epoch:02d}_{i:02d}.png')\n",
        "                                              for i, pil in enumerate(sample_random_layouts)],\n",
        "                    \"sample_det_layouts\": [wandb.Image(pil, caption=f'sample_det_{epoch:02d}_{i:02d}.png')\n",
        "                                          for i, pil in enumerate(sample_det_layouts)],\n",
        "                }, step=self.iters)"
      ],
      "metadata": {
        "id": "7yqXATErVzNq"
      },
      "execution_count": 22,
      "outputs": []
    },
    {
      "cell_type": "code",
      "source": [
        "log_dir = os.path.join(args[\"log_dir\"], args[\"exp\"])\n",
        "samples_dir = os.path.join(log_dir, \"samples\")\n",
        "ckpt_dir = os.path.join(log_dir, \"checkpoints\")\n",
        "os.makedirs(samples_dir, exist_ok=True)\n",
        "os.makedirs(ckpt_dir, exist_ok=True)"
      ],
      "metadata": {
        "id": "QDZNZIXzWkRG"
      },
      "execution_count": 23,
      "outputs": []
    },
    {
      "cell_type": "code",
      "source": [
        "set_seed(args[\"seed\"])\n",
        "device = torch.device(\"cuda\" if torch.cuda.is_available() else \"cpu\")\n",
        "print(f\"using device: {device}\")"
      ],
      "metadata": {
        "colab": {
          "base_uri": "https://localhost:8080/"
        },
        "id": "-ato_vIqX0id",
        "outputId": "081959ac-5028-495a-ef91-0238c0d60774"
      },
      "execution_count": 24,
      "outputs": [
        {
          "output_type": "stream",
          "name": "stdout",
          "text": [
            "using device: cuda\n"
          ]
        }
      ]
    },
    {
      "cell_type": "code",
      "source": [
        "tconf = TrainerConfig(max_epochs=args[\"epochs\"],\n",
        "                          batch_size=args[\"batch_size\"],\n",
        "                          lr_decay=args[\"lr_decay\"],\n",
        "                          learning_rate=args[\"lr\"] * args[\"batch_size\"],\n",
        "                          warmup_iters=args[\"warmup_iters\"],\n",
        "                          final_iters=args[\"final_iters\"],\n",
        "                          ckpt_dir=ckpt_dir,\n",
        "                          samples_dir=samples_dir,\n",
        "                          sample_every=args[\"sample_every\"])\n",
        "trainer = Trainer(model, train_dataset, valid_dataset, tconf, args)"
      ],
      "metadata": {
        "colab": {
          "base_uri": "https://localhost:8080/",
          "height": 123
        },
        "id": "aV3JoYzAWoDO",
        "outputId": "8eba55f3-fc00-4607-807f-8d1da63e0582"
      },
      "execution_count": 25,
      "outputs": [
        {
          "output_type": "stream",
          "name": "stdout",
          "text": [
            "Using wandb\n"
          ]
        },
        {
          "output_type": "display_data",
          "data": {
            "text/plain": [
              "<IPython.core.display.Javascript object>"
            ],
            "application/javascript": [
              "\n",
              "        window._wandbApiKey = new Promise((resolve, reject) => {\n",
              "            function loadScript(url) {\n",
              "            return new Promise(function(resolve, reject) {\n",
              "                let newScript = document.createElement(\"script\");\n",
              "                newScript.onerror = reject;\n",
              "                newScript.onload = resolve;\n",
              "                document.body.appendChild(newScript);\n",
              "                newScript.src = url;\n",
              "            });\n",
              "            }\n",
              "            loadScript(\"https://cdn.jsdelivr.net/npm/postmate/build/postmate.min.js\").then(() => {\n",
              "            const iframe = document.createElement('iframe')\n",
              "            iframe.style.cssText = \"width:0;height:0;border:none\"\n",
              "            document.body.appendChild(iframe)\n",
              "            const handshake = new Postmate({\n",
              "                container: iframe,\n",
              "                url: 'https://wandb.ai/authorize'\n",
              "            });\n",
              "            const timeout = setTimeout(() => reject(\"Couldn't auto authenticate\"), 5000)\n",
              "            handshake.then(function(child) {\n",
              "                child.on('authorize', data => {\n",
              "                    clearTimeout(timeout)\n",
              "                    resolve(data)\n",
              "                });\n",
              "            });\n",
              "            })\n",
              "        });\n",
              "    "
            ]
          },
          "metadata": {}
        },
        {
          "output_type": "stream",
          "name": "stderr",
          "text": [
            "\u001b[34m\u001b[1mwandb\u001b[0m: Appending key for api.wandb.ai to your netrc file: /root/.netrc\n"
          ]
        },
        {
          "output_type": "display_data",
          "data": {
            "text/plain": [
              "<IPython.core.display.HTML object>"
            ],
            "text/html": [
              "Tracking run with wandb version 0.12.16"
            ]
          },
          "metadata": {}
        },
        {
          "output_type": "display_data",
          "data": {
            "text/plain": [
              "<IPython.core.display.HTML object>"
            ],
            "text/html": [
              "Run data is saved locally in <code>/content/wandb/run-20220511_183622-1xjd68po</code>"
            ]
          },
          "metadata": {}
        },
        {
          "output_type": "display_data",
          "data": {
            "text/plain": [
              "<IPython.core.display.HTML object>"
            ],
            "text/html": [
              "Syncing run <strong><a href=\"https://wandb.ai/liangwez/LayoutTransformer-finetune0511/runs/1xjd68po\" target=\"_blank\">layout</a></strong> to <a href=\"https://wandb.ai/liangwez/LayoutTransformer-finetune0511\" target=\"_blank\">Weights & Biases</a> (<a href=\"https://wandb.me/run\" target=\"_blank\">docs</a>)<br/>"
            ]
          },
          "metadata": {}
        }
      ]
    },
    {
      "cell_type": "code",
      "source": [
        "trainer.train()"
      ],
      "metadata": {
        "colab": {
          "base_uri": "https://localhost:8080/"
        },
        "id": "rBHZBRI5Q7Vz",
        "outputId": "b9d09143-d9bf-41d1-a00e-d292d9e4398e"
      },
      "execution_count": 26,
      "outputs": [
        {
          "output_type": "stream",
          "name": "stderr",
          "text": [
            "epoch 1 iter 14: train loss 3.40439. lr 7.200000e-05: 100%|██████████| 15/15 [00:03<00:00,  3.78it/s]\n",
            "epoch 1 iter 1: test loss 3.39540:  50%|█████     | 2/4 [00:00<00:00, 11.75it/s]"
          ]
        },
        {
          "output_type": "stream",
          "name": "stdout",
          "text": [
            "self.fixed_x is  torch.Size([10, 517])\n",
            "self.fixed_y is  torch.Size([10, 517])\n",
            "self.fixed_x is  torch.Size([10, 517])\n",
            "self.fixed_y is  torch.Size([10, 517])\n",
            "self.fixed_x is  torch.Size([10, 517])\n",
            "self.fixed_y is  torch.Size([10, 517])\n"
          ]
        },
        {
          "output_type": "stream",
          "name": "stderr",
          "text": [
            "epoch 1 iter 3: test loss 3.27784: 100%|██████████| 4/4 [00:00<00:00, 12.41it/s]\n"
          ]
        },
        {
          "output_type": "stream",
          "name": "stdout",
          "text": [
            "self.fixed_x is  torch.Size([10, 517])\n",
            "self.fixed_y is  torch.Size([10, 517])\n"
          ]
        },
        {
          "output_type": "stream",
          "name": "stderr",
          "text": [
            "\u001b[34m\u001b[1mwandb\u001b[0m: \u001b[33mWARNING\u001b[0m Saving files without folders. If you want to preserve sub directories pass base_path to wandb.save, i.e. wandb.save(\"/mnt/folder/file.h5\", base_path=\"/mnt\")\n"
          ]
        },
        {
          "output_type": "stream",
          "name": "stdout",
          "text": [
            "overlap_rates  [0.47508865 0.         0.39198964 0.05835423 0.01272178 0.\n",
            " 0.         0.343079   0.4229443  0.        ]\n",
            "coverages  [0.8605957  0.75019836 0.74252319 0.80328369 0.54093933 0.56816101\n",
            " 0.69799805 0.64454651 0.80535889 0.6204834 ]\n",
            "statsitic average of overlap_rates is  0.1704177604884798\n",
            "statsitic std of overlap_rates is  0.19725494030364016\n",
            "statsitic average of coverages is  0.7034088134765625\n",
            "statsitic std of coverages is  0.10190912439987176\n",
            "recon_overlap_rates  [0.6593108391787414, 1, 0.5564335632393916, 0.18802732020891924, 0.6201508031909081, 0.26993065331873406, 0.37614756885413125, 0.7885356454720617, 0.22441993153290224, 0.666828658705915]\n",
            "recon_coverages  [0.2980194091796875, 0.1106719970703125, 0.3340606689453125, 0.15191650390625, 0.1396331787109375, 0.2926483154296875, 0.17950439453125, 0.25341796875, 0.2005767822265625, 0.21978759765625]\n",
            "statsitic average of recon_overlap_rates is  0.5349784983701705\n",
            "statsitic std of  recon_overlap_rates is  0.25167304756248104\n",
            "statsitic average of recon_coverages is  0.218023681640625\n",
            "statsitic std of recon_coverages is  0.07107485183335327\n",
            "sample_random overlap_rates  [-1.68354974 -2.34432234  0.34477721  0.00410991  0.          0.\n",
            " -1.06403381  0.20711726  0.59255357  0.06250452]\n",
            "sample_random coverages  [-0.14219666 -0.07081604  0.04177856  0.12994385  0.42617798  0.1749115\n",
            " -1.55628967  0.05960083  0.04344177  0.42233276]\n",
            "statsitic average of sample_random overlap_rates is  -0.38808434303789785\n",
            "statsitic std of sample_random overlap_rates is  0.9204929469794754\n",
            "statsitic average of sample_random coverages is  -0.04711151123046875\n",
            "statsitic std of sample_random coverages is  0.5328915804254223\n",
            "sample_det overlap_rates  [-1.07989614 -1.04446671 -1.03851355  0.          0.00583571  0.00545304\n",
            " -1.04901135 -1.35629164 -1.27677668 -1.22888299]\n",
            "sample_det coverages  [-1.22229004 -2.64981079 -2.74205017  0.5622406   0.58308411  0.69955444\n",
            " -1.23162842 -1.14981079 -1.67408752 -3.25758362]\n",
            "statsitic average of sample_det overlap_rates is  -0.8062550297176416\n",
            "statsitic std of sample_det overlap_rates is  0.539949323850949\n",
            "statsitic average of sample_det coverages is  -1.2082382202148438\n",
            "statsitic std of sample_det coverages is  1.3723995340567972\n"
          ]
        },
        {
          "output_type": "stream",
          "name": "stderr",
          "text": [
            "epoch 2 iter 14: train loss 3.16008. lr 7.200000e-05: 100%|██████████| 15/15 [00:03<00:00,  3.90it/s]\n",
            "epoch 2 iter 3: test loss 3.23356: 100%|██████████| 4/4 [00:00<00:00, 12.63it/s]\n",
            "\u001b[34m\u001b[1mwandb\u001b[0m: \u001b[33mWARNING\u001b[0m Saving files without folders. If you want to preserve sub directories pass base_path to wandb.save, i.e. wandb.save(\"/mnt/folder/file.h5\", base_path=\"/mnt\")\n"
          ]
        },
        {
          "output_type": "stream",
          "name": "stdout",
          "text": [
            "overlap_rates  [0.47508865 0.         0.39198964 0.05835423 0.01272178 0.\n",
            " 0.         0.343079   0.4229443  0.        ]\n",
            "coverages  [0.8605957  0.75019836 0.74252319 0.80328369 0.54093933 0.56816101\n",
            " 0.69799805 0.64454651 0.80535889 0.6204834 ]\n",
            "statsitic average of overlap_rates is  0.1704177604884798\n",
            "statsitic std of overlap_rates is  0.19725494030364016\n",
            "statsitic average of coverages is  0.7034088134765625\n",
            "statsitic std of coverages is  0.10190912439987176\n",
            "recon_overlap_rates  [-7.403731080605421, 1, 1, 0.12646747192201738, 0.5258278145695364, 1, 1, 1, 0.27220154214304704, 1]\n",
            "recon_coverages  [-0.086700439453125, 0.2044219970703125, 0.2089385986328125, 0.3600311279296875, 0.2188873291015625, 0.059967041015625, 0.1691131591796875, 0.1956939697265625, 0.22955322265625, 0.200836181640625]\n",
            "statsitic average of recon_overlap_rates is  -0.04792342519708204\n",
            "statsitic std of  recon_overlap_rates is  2.473031539602172\n",
            "statsitic average of recon_coverages is  0.17607421875\n",
            "statsitic std of recon_coverages is  0.11135291563880773\n",
            "sample_random overlap_rates  [ 0.66770625  0.06651603 -1.90969082  0.02953944  0.05839053  0.04190837\n",
            "  0.08634584  0.0896233   0.03878167  0.78146941]\n",
            "sample_random coverages  [ 1.6194458   0.64828491 -7.46405029  0.57647705  0.58248901  0.64445496\n",
            "  1.12657166  0.43908691  0.58113098  1.42784119]\n",
            "statsitic average of sample_random overlap_rates is  -0.004940997854423079\n",
            "statsitic std of sample_random overlap_rates is  0.6877976194404639\n",
            "statsitic average of sample_random coverages is  0.0181732177734375\n",
            "statsitic std of sample_random coverages is  2.523429576232814\n",
            "sample_det overlap_rates  [-1.33979090e+00 -1.08669922e+00 -1.41537998e+00 -1.20676221e+00\n",
            " -1.55657072e+00  3.07248706e-04 -2.52894909e+00 -1.29551520e+00\n",
            "  8.66647408e-03 -1.40877452e+00]\n",
            "sample_det coverages  [-1.59812927 -2.47521973 -2.58030701 -1.77810669 -0.58787537  0.64561462\n",
            " -0.06983948 -1.64094543  0.68666077 -1.08512878]\n",
            "statsitic average of sample_det overlap_rates is  -1.1829468105526444\n",
            "statsitic std of sample_det overlap_rates is  0.7016747944098544\n",
            "statsitic average of sample_det coverages is  -1.04832763671875\n",
            "statsitic std of sample_det coverages is  1.123364225139729\n"
          ]
        },
        {
          "output_type": "stream",
          "name": "stderr",
          "text": [
            "epoch 3 iter 14: train loss 3.10041. lr 7.200000e-05: 100%|██████████| 15/15 [00:03<00:00,  3.89it/s]\n",
            "epoch 3 iter 3: test loss 3.20379: 100%|██████████| 4/4 [00:00<00:00, 12.68it/s]\n",
            "\u001b[34m\u001b[1mwandb\u001b[0m: \u001b[33mWARNING\u001b[0m Saving files without folders. If you want to preserve sub directories pass base_path to wandb.save, i.e. wandb.save(\"/mnt/folder/file.h5\", base_path=\"/mnt\")\n"
          ]
        },
        {
          "output_type": "stream",
          "name": "stdout",
          "text": [
            "overlap_rates  [0.47508865 0.         0.39198964 0.05835423 0.01272178 0.\n",
            " 0.         0.343079   0.4229443  0.        ]\n",
            "coverages  [0.8605957  0.75019836 0.74252319 0.80328369 0.54093933 0.56816101\n",
            " 0.69799805 0.64454651 0.80535889 0.6204834 ]\n",
            "statsitic average of overlap_rates is  0.1704177604884798\n",
            "statsitic std of overlap_rates is  0.19725494030364016\n",
            "statsitic average of coverages is  0.7034088134765625\n",
            "statsitic std of coverages is  0.10190912439987176\n",
            "recon_overlap_rates  [1, 1, 0.9902900135039547, 0.1319771065903553, 0.47169543291426946, 0.27347900170391903, 0.5939248035120017, 0.7455878697489435, 0.45820789799893746, 0.9738992283250113]\n",
            "recon_coverages  [0.037109375, 0.1566162109375, 0.2372894287109375, 0.2692718505859375, 0.2148284912109375, 0.304473876953125, 0.2154998779296875, 0.24554443359375, 0.172332763671875, 0.201690673828125]\n",
            "statsitic average of recon_overlap_rates is  0.6639061354297393\n",
            "statsitic std of  recon_overlap_rates is  0.30898999581968\n",
            "statsitic average of recon_coverages is  0.2054656982421875\n",
            "statsitic std of recon_coverages is  0.06965874832295067\n",
            "sample_random overlap_rates  [ 0.39177419  0.13946517  0.10583119  0.14383608  0.01759959 -3.56941927\n",
            "  0.08549008  0.42108117  0.00468019  0.09043585]\n",
            "sample_random coverages  [ 0.85144043  0.77374268  0.67015076  0.67692566  0.59562683 -0.24409485\n",
            "  0.64558411  0.47843933  0.62597656  0.72399902]\n",
            "statsitic average of sample_random overlap_rates is  -0.21692257555591263\n",
            "statsitic std of sample_random overlap_rates is  1.1255289719519572\n",
            "statsitic average of sample_random coverages is  0.579779052734375\n",
            "statsitic std of sample_random coverages is  0.29078846442275696\n",
            "sample_det overlap_rates  [ 0.0659817  -1.4731369  -1.43772093 -1.25136234  0.03867038  1.\n",
            "  0.0717446  -3.30775282  0.01067902 -1.48423951]\n",
            "sample_det coverages  [ 0.19009399 -3.11076355 -3.96702576 -2.75531006  0.41589355  0.38952637\n",
            "  0.17588806 -0.17457581  0.32292175 -3.30290222]\n",
            "statsitic average of sample_det overlap_rates is  -0.7767136793906133\n",
            "statsitic std of sample_det overlap_rates is  1.1800655080675333\n",
            "statsitic average of sample_det coverages is  -1.1816253662109375\n",
            "statsitic std of sample_det coverages is  1.7458287576169815\n"
          ]
        },
        {
          "output_type": "stream",
          "name": "stderr",
          "text": [
            "epoch 4 iter 14: train loss 2.95398. lr 7.200000e-05: 100%|██████████| 15/15 [00:03<00:00,  3.90it/s]\n",
            "epoch 4 iter 3: test loss 3.16423: 100%|██████████| 4/4 [00:00<00:00, 12.74it/s]\n",
            "\u001b[34m\u001b[1mwandb\u001b[0m: \u001b[33mWARNING\u001b[0m Saving files without folders. If you want to preserve sub directories pass base_path to wandb.save, i.e. wandb.save(\"/mnt/folder/file.h5\", base_path=\"/mnt\")\n"
          ]
        },
        {
          "output_type": "stream",
          "name": "stdout",
          "text": [
            "overlap_rates  [0.47508865 0.         0.39198964 0.05835423 0.01272178 0.\n",
            " 0.         0.343079   0.4229443  0.        ]\n",
            "coverages  [0.8605957  0.75019836 0.74252319 0.80328369 0.54093933 0.56816101\n",
            " 0.69799805 0.64454651 0.80535889 0.6204834 ]\n",
            "statsitic average of overlap_rates is  0.1704177604884798\n",
            "statsitic std of overlap_rates is  0.19725494030364016\n",
            "statsitic average of coverages is  0.7034088134765625\n",
            "statsitic std of coverages is  0.10190912439987176\n",
            "recon_overlap_rates  [-3.3041321190702733, 1, 1, 0.1059931587085891, 0.35385355296380905, 0.19668551592855943, 0.8764334607520669, 1, 1, -50.778884462151396]\n",
            "recon_coverages  [-0.224517822265625, 0.068511962890625, 0.06353759765625, 0.3256378173828125, 0.253814697265625, 0.2725372314453125, 0.1716461181640625, 0.24725341796875, 0.1683807373046875, -0.007659912109375]\n",
            "statsitic average of recon_overlap_rates is  -4.855005089286864\n",
            "statsitic std of  recon_overlap_rates is  15.357880452069935\n",
            "statsitic average of recon_coverages is  0.1339141845703125\n",
            "statsitic std of recon_coverages is  0.15606245554495426\n",
            "sample_random overlap_rates  [0.08059071 0.02412586 0.13561905 0.06699396 0.02845825 0.02599033\n",
            " 0.06710729 0.06102955 0.02757358 0.13031757]\n",
            "sample_random coverages  [0.6282196  0.31813049 0.64086914 0.65892029 0.73188782 0.57124329\n",
            " 0.46635437 0.4760437  0.55836487 0.71881104]\n",
            "statsitic average of sample_random overlap_rates is  0.06478061367624587\n",
            "statsitic std of sample_random overlap_rates is  0.03930482239422959\n",
            "statsitic average of sample_random coverages is  0.5768844604492187\n",
            "statsitic std of sample_random coverages is  0.12138475189587312\n",
            "sample_det overlap_rates  [ 0.09799336  0.12480206 -1.06131219  0.00487065  0.04578286  0.02212371\n",
            "  0.09839817  0.00374622  0.0336386  -1.19210883]\n",
            "sample_det coverages  [ 0.77638245  0.1541748  -1.71496582  0.57330322  0.54292297  0.74349976\n",
            "  0.04000854  0.57023621  0.5148468  -1.51985168]\n",
            "statsitic average of sample_det overlap_rates is  -0.1822065395505302\n",
            "statsitic std of sample_det overlap_rates is  0.4747767997961296\n",
            "statsitic average of sample_det coverages is  0.06805572509765626\n",
            "statsitic std of sample_det coverages is  0.8717426073712257\n"
          ]
        },
        {
          "output_type": "stream",
          "name": "stderr",
          "text": [
            "epoch 5 iter 14: train loss 2.81385. lr 7.200000e-05: 100%|██████████| 15/15 [00:03<00:00,  3.89it/s]\n",
            "epoch 5 iter 3: test loss 3.06209: 100%|██████████| 4/4 [00:00<00:00, 12.51it/s]\n",
            "\u001b[34m\u001b[1mwandb\u001b[0m: \u001b[33mWARNING\u001b[0m Saving files without folders. If you want to preserve sub directories pass base_path to wandb.save, i.e. wandb.save(\"/mnt/folder/file.h5\", base_path=\"/mnt\")\n"
          ]
        },
        {
          "output_type": "stream",
          "name": "stdout",
          "text": [
            "overlap_rates  [0.47508865 0.         0.39198964 0.05835423 0.01272178 0.\n",
            " 0.         0.343079   0.4229443  0.        ]\n",
            "coverages  [0.8605957  0.75019836 0.74252319 0.80328369 0.54093933 0.56816101\n",
            " 0.69799805 0.64454651 0.80535889 0.6204834 ]\n",
            "statsitic average of overlap_rates is  0.1704177604884798\n",
            "statsitic std of overlap_rates is  0.19725494030364016\n",
            "statsitic average of coverages is  0.7034088134765625\n",
            "statsitic std of coverages is  0.10190912439987176\n",
            "recon_overlap_rates  [1, 1, 0.8508594539939333, 0.10526315789473684, 0.486534396945524, 0.2653325368379132, 0.742882068363867, 0.5079670465196586, 0.3412887828162291, 0.5407386913819339]\n",
            "recon_coverages  [0.0994720458984375, 0.1182098388671875, 0.1207275390625, 0.32586669921875, 0.2238006591796875, 0.3065185546875, 0.1923980712890625, 0.3093109130859375, 0.2493438720703125, 0.220611572265625]\n",
            "statsitic average of recon_overlap_rates is  0.5840866134753797\n",
            "statsitic std of  recon_overlap_rates is  0.2914392132925065\n",
            "statsitic average of recon_coverages is  0.2166259765625\n",
            "statsitic std of recon_coverages is  0.07933272440473832\n",
            "sample_random overlap_rates  [0.03276357 0.02033034 0.18157942 0.0675724  0.03090223 0.05896823\n",
            " 0.13196437 0.15514077 0.02217069 0.19714046]\n",
            "sample_random coverages  [0.59007263 0.64021301 0.59260559 0.46946716 0.33181763 0.64509583\n",
            " 0.40423584 0.68179321 0.59877014 0.71076965]\n",
            "statsitic average of sample_random overlap_rates is  0.08985324896885896\n",
            "statsitic std of sample_random overlap_rates is  0.06599938070776873\n",
            "statsitic average of sample_random coverages is  0.5664840698242187\n",
            "statsitic std of sample_random coverages is  0.11782043348303574\n",
            "sample_det overlap_rates  [ 0.08880251  0.19401947  0.12148848  0.00468798  0.33831937  0.00820891\n",
            " -1.057648    0.00673239  0.09171049 -1.29797874]\n",
            "sample_det coverages  [ 0.40826416  0.06582642  0.18739319  0.59564209  0.19483948  0.49258423\n",
            " -1.88749695  0.57115173  0.51062012 -0.79945374]\n",
            "statsitic average of sample_det overlap_rates is  -0.15016571378081528\n",
            "statsitic std of sample_det overlap_rates is  0.525467893336101\n",
            "statsitic average of sample_det coverages is  0.03393707275390625\n",
            "statsitic std of sample_det coverages is  0.7495812867291402\n"
          ]
        },
        {
          "output_type": "stream",
          "name": "stderr",
          "text": [
            "epoch 6 iter 14: train loss 2.80437. lr 7.200000e-05: 100%|██████████| 15/15 [00:03<00:00,  3.88it/s]\n",
            "epoch 6 iter 3: test loss 3.11263: 100%|██████████| 4/4 [00:00<00:00, 12.58it/s]\n"
          ]
        },
        {
          "output_type": "stream",
          "name": "stdout",
          "text": [
            "overlap_rates  [0.47508865 0.         0.39198964 0.05835423 0.01272178 0.\n",
            " 0.         0.343079   0.4229443  0.        ]\n",
            "coverages  [0.8605957  0.75019836 0.74252319 0.80328369 0.54093933 0.56816101\n",
            " 0.69799805 0.64454651 0.80535889 0.6204834 ]\n",
            "statsitic average of overlap_rates is  0.1704177604884798\n",
            "statsitic std of overlap_rates is  0.19725494030364016\n",
            "statsitic average of coverages is  0.7034088134765625\n",
            "statsitic std of coverages is  0.10190912439987176\n",
            "recon_overlap_rates  [0.8253048280387117, 1, 0.2130373772164817, 0.1960988034990113, 0.5506539044730857, 1, 0.735869966752863, 1, 1, 1]\n",
            "recon_coverages  [0.2790679931640625, 0.1471099853515625, 0.239227294921875, 0.4552764892578125, 0.322021484375, 0.3224029541015625, 0.2065277099609375, 0.308837890625, 0.1563873291015625, 0.2401123046875]\n",
            "statsitic average of recon_overlap_rates is  0.7520964879980154\n",
            "statsitic std of  recon_overlap_rates is  0.3087394989145144\n",
            "statsitic average of recon_coverages is  0.2676971435546875\n",
            "statsitic std of recon_coverages is  0.08671563911872283\n",
            "sample_random overlap_rates  [0.2827336  0.02362189 0.05430495 0.02510631 0.00982582 0.0011406\n",
            " 0.16938599 0.00471208 0.         0.05406404]\n",
            "sample_random coverages  [0.85783386 0.76869202 0.64598083 0.63511658 0.70347595 0.40133667\n",
            " 0.40681458 0.44039917 0.58543396 0.57801819]\n",
            "statsitic average of sample_random overlap_rates is  0.062489528419004015\n",
            "statsitic std of sample_random overlap_rates is  0.08761324655844878\n",
            "statsitic average of sample_random coverages is  0.6023101806640625\n",
            "statsitic std of sample_random coverages is  0.14556515143158297\n",
            "sample_det overlap_rates  [0.02183218 0.0077945  0.04243696 0.00462296 0.         0.02024558\n",
            " 0.0640004  0.40742271 0.00990879 0.266313  ]\n",
            "sample_det coverages  [0.45988464 0.67538452 0.80722046 0.60401917 0.46833801 0.5554657\n",
            " 0.61463928 0.18460083 0.5035553  0.69030762]\n",
            "statsitic average of sample_det overlap_rates is  0.08445770799869842\n",
            "statsitic std of sample_det overlap_rates is  0.1313577635758364\n",
            "statsitic average of sample_det coverages is  0.556341552734375\n",
            "statsitic std of sample_det coverages is  0.16085926131517267\n"
          ]
        },
        {
          "output_type": "stream",
          "name": "stderr",
          "text": [
            "epoch 7 iter 14: train loss 2.66159. lr 7.200000e-05: 100%|██████████| 15/15 [00:03<00:00,  3.89it/s]\n",
            "epoch 7 iter 3: test loss 3.21374: 100%|██████████| 4/4 [00:00<00:00, 12.62it/s]\n"
          ]
        },
        {
          "output_type": "stream",
          "name": "stdout",
          "text": [
            "overlap_rates  [0.47508865 0.         0.39198964 0.05835423 0.01272178 0.\n",
            " 0.         0.343079   0.4229443  0.        ]\n",
            "coverages  [0.8605957  0.75019836 0.74252319 0.80328369 0.54093933 0.56816101\n",
            " 0.69799805 0.64454651 0.80535889 0.6204834 ]\n",
            "statsitic average of overlap_rates is  0.1704177604884798\n",
            "statsitic std of overlap_rates is  0.19725494030364016\n",
            "statsitic average of coverages is  0.7034088134765625\n",
            "statsitic std of coverages is  0.10190912439987176\n",
            "recon_overlap_rates  [1, 0.6200787401574803, 0.19316880141622408, 0.07012205784632602, 0.3870819397993311, 1, 0.6222519310754605, 0.5565913538516278, 0.40339663988312635, 0.4046432889963724]\n",
            "recon_coverages  [0.2289276123046875, 0.31005859375, 0.1465301513671875, 0.4362945556640625, 0.364990234375, 0.2678985595703125, 0.2054443359375, 0.4288482666015625, 0.25067138671875, 0.3154754638671875]\n",
            "statsitic average of recon_overlap_rates is  0.5257334753025948\n",
            "statsitic std of  recon_overlap_rates is  0.28914718254241556\n",
            "statsitic average of recon_coverages is  0.295513916015625\n",
            "statsitic std of recon_coverages is  0.08974970472001338\n",
            "sample_random overlap_rates  [0.07482093 0.         0.04073351 0.0094361  0.47560514 0.02096344\n",
            " 0.03139003 0.0021     0.36852981 0.02383876]\n",
            "sample_random coverages  [0.61140442 0.62519836 0.78965759 0.60639954 0.40344238 0.55464172\n",
            " 0.68103027 0.4214325  0.44306946 0.80778503]\n",
            "statsitic average of sample_random overlap_rates is  0.10474177288204167\n",
            "statsitic std of sample_random overlap_rates is  0.16175599180840156\n",
            "statsitic average of sample_random coverages is  0.5944061279296875\n",
            "statsitic std of sample_random coverages is  0.13542872863855898\n",
            "sample_det overlap_rates  [1.         0.01715178 0.02084197 0.00475485 0.07240194 0.00929251\n",
            " 0.03741799 0.0159119  1.         0.02524856]\n",
            "sample_det coverages  [1.33700562 0.50798035 0.77311707 0.58726501 0.38630676 0.70115662\n",
            " 0.65124512 0.5916748  0.38934326 0.81646729]\n",
            "statsitic average of sample_det overlap_rates is  0.2203021513401316\n",
            "statsitic std of sample_det overlap_rates is  0.3902614480039873\n",
            "statsitic average of sample_det coverages is  0.6741561889648438\n",
            "statsitic std of sample_det coverages is  0.26011773614518363\n"
          ]
        },
        {
          "output_type": "stream",
          "name": "stderr",
          "text": [
            "epoch 8 iter 14: train loss 2.61637. lr 7.200000e-05: 100%|██████████| 15/15 [00:03<00:00,  3.88it/s]\n",
            "epoch 8 iter 3: test loss 3.21249: 100%|██████████| 4/4 [00:00<00:00, 12.73it/s]\n"
          ]
        },
        {
          "output_type": "stream",
          "name": "stdout",
          "text": [
            "overlap_rates  [0.47508865 0.         0.39198964 0.05835423 0.01272178 0.\n",
            " 0.         0.343079   0.4229443  0.        ]\n",
            "coverages  [0.8605957  0.75019836 0.74252319 0.80328369 0.54093933 0.56816101\n",
            " 0.69799805 0.64454651 0.80535889 0.6204834 ]\n",
            "statsitic average of overlap_rates is  0.1704177604884798\n",
            "statsitic std of overlap_rates is  0.19725494030364016\n",
            "statsitic average of coverages is  0.7034088134765625\n",
            "statsitic std of coverages is  0.10190912439987176\n",
            "recon_overlap_rates  [1, 1, 0.15013966480446927, 0.06874368960046157, 0.47807293633807546, 1, 1, 0.8418401611820013, 0.28684548039926394, 0.8938917776127079]\n",
            "recon_coverages  [0.403564453125, 0.0982513427734375, 0.1529541015625, 0.5289459228515625, 0.3636016845703125, 0.2352752685546875, 0.193359375, 0.363525390625, 0.2736358642578125, 0.2670440673828125]\n",
            "statsitic average of recon_overlap_rates is  0.6719533709936979\n",
            "statsitic std of  recon_overlap_rates is  0.3647774273521429\n",
            "statsitic average of recon_coverages is  0.2880157470703125\n",
            "statsitic std of recon_coverages is  0.12225135980512412\n",
            "sample_random overlap_rates  [0.04213411 0.01502248 0.00456005 0.00799529 0.44711653 0.02387618\n",
            " 0.18484248 1.         0.11195572 0.0172225 ]\n",
            "sample_random coverages  [0.76847839 0.44793701 0.7696228  0.72521973 0.57548523 0.57772827\n",
            " 0.77011108 0.0778656  0.68650818 0.66891479]\n",
            "statsitic average of sample_random overlap_rates is  0.18547253499250266\n",
            "statsitic std of sample_random overlap_rates is  0.3009261987335868\n",
            "statsitic average of sample_random coverages is  0.606787109375\n",
            "statsitic std of sample_random coverages is  0.2025811881305657\n",
            "sample_det overlap_rates  [ 0.24232944 -1.65116074  0.0443858   0.00475485  0.          0.01131038\n",
            "  0.06236102  0.01251485  0.57157335  0.02270323]\n",
            "sample_det coverages  [ 0.83399963 -3.64201355  0.3815918   0.58726501  0.74009705  0.77168274\n",
            "  0.61073303  0.52671814  0.78294373  0.77896118]\n",
            "statsitic average of sample_det overlap_rates is  -0.06792278262128053\n",
            "statsitic std of sample_det overlap_rates is  0.5542831401742785\n",
            "statsitic average of sample_det coverages is  0.2371978759765625\n",
            "statsitic std of sample_det coverages is  1.3000433985816153\n"
          ]
        },
        {
          "output_type": "stream",
          "name": "stderr",
          "text": [
            "epoch 9 iter 14: train loss 2.49556. lr 7.200000e-05: 100%|██████████| 15/15 [00:03<00:00,  3.88it/s]\n",
            "epoch 9 iter 3: test loss 3.26462: 100%|██████████| 4/4 [00:00<00:00, 12.58it/s]\n"
          ]
        },
        {
          "output_type": "stream",
          "name": "stdout",
          "text": [
            "overlap_rates  [0.47508865 0.         0.39198964 0.05835423 0.01272178 0.\n",
            " 0.         0.343079   0.4229443  0.        ]\n",
            "coverages  [0.8605957  0.75019836 0.74252319 0.80328369 0.54093933 0.56816101\n",
            " 0.69799805 0.64454651 0.80535889 0.6204834 ]\n",
            "statsitic average of overlap_rates is  0.1704177604884798\n",
            "statsitic std of overlap_rates is  0.19725494030364016\n",
            "statsitic average of coverages is  0.7034088134765625\n",
            "statsitic std of coverages is  0.10190912439987176\n",
            "recon_overlap_rates  [0.7155686638388123, 1, 0.16249316566429742, 0.1032769591996461, 0.9391829155060353, 1, 1, 1, 1, 1]\n",
            "recon_coverages  [0.46044921875, 0.082977294921875, 0.1395416259765625, 0.4484100341796875, 0.32867431640625, 0.2140350341796875, 0.1397705078125, 0.2415008544921875, 0.1945648193359375, 0.2978057861328125]\n",
            "statsitic average of recon_overlap_rates is  0.792052170420879\n",
            "statsitic std of  recon_overlap_rates is  0.3402509094699611\n",
            "statsitic average of recon_coverages is  0.25477294921875\n",
            "statsitic std of recon_coverages is  0.12189733261663108\n",
            "sample_random overlap_rates  [0.05910872 0.02565627 1.         0.00554017 0.00929318 0.01152315\n",
            " 0.22243035 0.12042356 0.12450141 0.01536516]\n",
            "sample_random coverages  [0.78683472 0.71844482 0.40423584 0.58389282 1.57461548 0.5826416\n",
            " 0.70054626 0.7464447  0.52026367 0.39822388]\n",
            "statsitic average of sample_random overlap_rates is  0.1593841963722607\n",
            "statsitic std of sample_random overlap_rates is  0.28811152147665126\n",
            "statsitic average of sample_random coverages is  0.7016143798828125\n",
            "statsitic std of sample_random coverages is  0.3182873460109091\n",
            "sample_det overlap_rates  [0.03905852 0.03448748 0.37682893 0.00475485 0.01124049 0.01149349\n",
            " 0.08902992 0.22863355 0.01476141 0.68813777]\n",
            "sample_det coverages  [0.80906677 0.66809082 0.49745178 0.58726501 0.56742859 0.68769836\n",
            " 0.33660889 0.6386261  0.62228394 0.71327209]\n",
            "statsitic average of sample_det overlap_rates is  0.14984264169920442\n",
            "statsitic std of sample_det overlap_rates is  0.213171057637235\n",
            "statsitic average of sample_det coverages is  0.6127792358398437\n",
            "statsitic std of sample_det coverages is  0.12261174433429259\n"
          ]
        },
        {
          "output_type": "stream",
          "name": "stderr",
          "text": [
            "epoch 10 iter 14: train loss 2.49476. lr 7.200000e-05: 100%|██████████| 15/15 [00:03<00:00,  3.90it/s]\n",
            "epoch 10 iter 3: test loss 3.18192: 100%|██████████| 4/4 [00:00<00:00, 12.69it/s]\n"
          ]
        },
        {
          "output_type": "stream",
          "name": "stdout",
          "text": [
            "overlap_rates  [0.47508865 0.         0.39198964 0.05835423 0.01272178 0.\n",
            " 0.         0.343079   0.4229443  0.        ]\n",
            "coverages  [0.8605957  0.75019836 0.74252319 0.80328369 0.54093933 0.56816101\n",
            " 0.69799805 0.64454651 0.80535889 0.6204834 ]\n",
            "statsitic average of overlap_rates is  0.1704177604884798\n",
            "statsitic std of overlap_rates is  0.19725494030364016\n",
            "statsitic average of coverages is  0.7034088134765625\n",
            "statsitic std of coverages is  0.10190912439987176\n",
            "recon_overlap_rates  [1, 1, 0.16144428304627517, 0.07536869242142775, 0.884350085102571, -101.95804195804196, 0.5886809780736999, 0.8805321507760532, 0.8161221247496028, 0.4656803108198265]\n",
            "recon_coverages  [0.3845977783203125, 0.1920623779296875, 0.147064208984375, 0.4024810791015625, 0.340667724609375, -0.0109100341796875, 0.265838623046875, 0.344085693359375, 0.2209014892578125, 0.3888092041015625]\n",
            "statsitic average of recon_overlap_rates is  -9.60858633330525\n",
            "statsitic std of  recon_overlap_rates is  30.784755354035667\n",
            "statsitic average of recon_coverages is  0.267559814453125\n",
            "statsitic std of recon_coverages is  0.12559796816301563\n",
            "sample_random overlap_rates  [0.0963038  0.1285994  0.03715815 0.00375626 0.04459261 0.04256916\n",
            " 0.17779541 0.02651621 0.00774341 0.07169668]\n",
            "sample_random coverages  [0.75340271 0.58448792 0.51330566 0.76776123 0.5721283  0.56921387\n",
            " 0.80758667 0.65716553 0.70742798 0.32115173]\n",
            "statsitic average of sample_random overlap_rates is  0.06367310851609417\n",
            "statsitic std of sample_random overlap_rates is  0.05289588207419968\n",
            "statsitic average of sample_random coverages is  0.6253631591796875\n",
            "statsitic std of sample_random coverages is  0.13797888366085315\n",
            "sample_det overlap_rates  [ 1.42704313e-01  1.08142494e-02  7.31467308e-02  4.75485229e-03\n",
            " -1.49352584e+01  0.00000000e+00  1.83996344e-01  2.63846602e-01\n",
            "  8.58161600e-02  1.00000000e+00]\n",
            "sample_det coverages  [ 0.72741699  0.67163086  0.27911377  0.58726501 -0.05020142  0.682724\n",
            "  0.70117188  0.23554993  0.75746155  0.6083374 ]\n",
            "statsitic average of sample_det overlap_rates is  -1.3170179107036262\n",
            "statsitic std of sample_det overlap_rates is  4.548112455602629\n",
            "statsitic average of sample_det coverages is  0.5200469970703125\n",
            "statsitic std of sample_det coverages is  0.2565345576729516\n"
          ]
        },
        {
          "output_type": "stream",
          "name": "stderr",
          "text": [
            "epoch 11 iter 14: train loss 2.39217. lr 7.200000e-05: 100%|██████████| 15/15 [00:03<00:00,  3.89it/s]\n",
            "epoch 11 iter 3: test loss 3.22914: 100%|██████████| 4/4 [00:00<00:00, 12.64it/s]\n"
          ]
        },
        {
          "output_type": "stream",
          "name": "stdout",
          "text": [
            "overlap_rates  [0.47508865 0.         0.39198964 0.05835423 0.01272178 0.\n",
            " 0.         0.343079   0.4229443  0.        ]\n",
            "coverages  [0.8605957  0.75019836 0.74252319 0.80328369 0.54093933 0.56816101\n",
            " 0.69799805 0.64454651 0.80535889 0.6204834 ]\n",
            "statsitic average of overlap_rates is  0.1704177604884798\n",
            "statsitic std of overlap_rates is  0.19725494030364016\n",
            "statsitic average of coverages is  0.7034088134765625\n",
            "statsitic std of coverages is  0.10190912439987176\n",
            "recon_overlap_rates  [0.7906326097093415, 0.8616907300647926, 0.09968907889623008, 0.19973831904417588, 0.9675037600838613, 1, 0.7848830305189407, 1, 0.3664522681110359, 0.6739737108190091]\n",
            "recon_coverages  [0.2945098876953125, 0.2990875244140625, 0.15704345703125, 0.4431610107421875, 0.3347930908203125, 0.3746490478515625, 0.256988525390625, 0.2640228271484375, 0.27044677734375, 0.3772735595703125]\n",
            "statsitic average of recon_overlap_rates is  0.6744563507247389\n",
            "statsitic std of  recon_overlap_rates is  0.3176732883142251\n",
            "statsitic average of recon_coverages is  0.30719757080078125\n",
            "statsitic std of recon_coverages is  0.0756416229805173\n",
            "sample_random overlap_rates  [0.00109093 0.         0.11954993 0.00652702 0.00332137 0.04754684\n",
            " 0.04681137 0.         0.00813218 0.01167258]\n",
            "sample_random coverages  [0.68536377 0.62677002 0.82452393 0.84861755 0.62939453 0.62387085\n",
            " 0.74938965 0.59536743 0.70925903 0.62355042]\n",
            "statsitic average of sample_random overlap_rates is  0.024465221233439277\n",
            "statsitic std of sample_random overlap_rates is  0.036077591891653854\n",
            "statsitic average of sample_random coverages is  0.6916107177734375\n",
            "statsitic std of sample_random coverages is  0.08518497186090823\n",
            "sample_det overlap_rates  [ 0.36768731  0.23886532  0.4303018   0.00449819 -2.04535891  1.\n",
            "  0.15851735 -3.71372175  0.0337663   0.02222748]\n",
            "sample_det coverages  [ 0.6578064   0.51423645  0.52531433  0.62077332 -0.7905426   0.25448608\n",
            "  0.38696289 -0.22418213  0.59559631  0.70982361]\n",
            "statsitic average of sample_det overlap_rates is  -0.3503216921942971\n",
            "statsitic std of sample_det overlap_rates is  1.3472995922665991\n",
            "statsitic average of sample_det coverages is  0.3250274658203125\n",
            "statsitic std of sample_det coverages is  0.45280654863085534\n"
          ]
        },
        {
          "output_type": "stream",
          "name": "stderr",
          "text": [
            "epoch 12 iter 14: train loss 2.22765. lr 7.200000e-05: 100%|██████████| 15/15 [00:03<00:00,  3.89it/s]\n",
            "epoch 12 iter 3: test loss 3.22221: 100%|██████████| 4/4 [00:00<00:00, 12.64it/s]\n"
          ]
        },
        {
          "output_type": "stream",
          "name": "stdout",
          "text": [
            "overlap_rates  [0.47508865 0.         0.39198964 0.05835423 0.01272178 0.\n",
            " 0.         0.343079   0.4229443  0.        ]\n",
            "coverages  [0.8605957  0.75019836 0.74252319 0.80328369 0.54093933 0.56816101\n",
            " 0.69799805 0.64454651 0.80535889 0.6204834 ]\n",
            "statsitic average of overlap_rates is  0.1704177604884798\n",
            "statsitic std of overlap_rates is  0.19725494030364016\n",
            "statsitic average of coverages is  0.7034088134765625\n",
            "statsitic std of coverages is  0.10190912439987176\n",
            "recon_overlap_rates  [1, 0.8864077187049286, 0.13381647443094824, 0.1906135468983304, 0.7615769712140176, 1, 0.5701305794151234, 1, 1, 1]\n",
            "recon_coverages  [0.417877197265625, 0.3068084716796875, 0.1494903564453125, 0.44964599609375, 0.414520263671875, 0.0661468505859375, 0.3073272705078125, 0.2628936767578125, 0.2115936279296875, 0.361053466796875]\n",
            "statsitic average of recon_overlap_rates is  0.7542545290663348\n",
            "statsitic std of  recon_overlap_rates is  0.3249628334697558\n",
            "statsitic average of recon_coverages is  0.2947357177734375\n",
            "statsitic std of recon_coverages is  0.11810474420132518\n",
            "sample_random overlap_rates  [0.54601447 0.04220653 0.11815143 0.01475232 0.04962277 0.\n",
            " 0.26370957 0.32306933 0.02413074 0.1088405 ]\n",
            "sample_random coverages  [0.80763245 0.82319641 0.77590942 0.61853027 0.69371033 0.72651672\n",
            " 0.59684753 0.74232483 0.65826416 0.6824646 ]\n",
            "statsitic average of sample_random overlap_rates is  0.149049765577501\n",
            "statsitic std of sample_random overlap_rates is  0.16755290449937632\n",
            "statsitic average of sample_random coverages is  0.7125396728515625\n",
            "statsitic std of sample_random coverages is  0.07267263020176559\n",
            "sample_det overlap_rates  [ 4.78133899e-01 -1.25205761e+01  2.63196697e-01  4.64443429e-03\n",
            "  1.18454192e-01  3.61543633e-01  1.56507150e-01  1.57860367e-02\n",
            "  3.82875044e-03  8.71441344e-01]\n",
            "sample_det coverages  [ 1.67723083 -0.14089966  0.82788086  0.60122681  1.69032288  0.56739807\n",
            "  0.57298279  0.53742981  0.78909302  0.64852905]\n",
            "statsitic average of sample_det overlap_rates is  -1.0247039995330083\n",
            "statsitic std of sample_det overlap_rates is  3.840461735995649\n",
            "statsitic average of sample_det coverages is  0.7771194458007813\n",
            "statsitic std of sample_det coverages is  0.5177064652862661\n"
          ]
        },
        {
          "output_type": "stream",
          "name": "stderr",
          "text": [
            "epoch 13 iter 14: train loss 2.13743. lr 7.200000e-05: 100%|██████████| 15/15 [00:03<00:00,  3.88it/s]\n",
            "epoch 13 iter 3: test loss 3.48313: 100%|██████████| 4/4 [00:00<00:00, 12.65it/s]\n"
          ]
        },
        {
          "output_type": "stream",
          "name": "stdout",
          "text": [
            "overlap_rates  [0.47508865 0.         0.39198964 0.05835423 0.01272178 0.\n",
            " 0.         0.343079   0.4229443  0.        ]\n",
            "coverages  [0.8605957  0.75019836 0.74252319 0.80328369 0.54093933 0.56816101\n",
            " 0.69799805 0.64454651 0.80535889 0.6204834 ]\n",
            "statsitic average of overlap_rates is  0.1704177604884798\n",
            "statsitic std of overlap_rates is  0.19725494030364016\n",
            "statsitic average of coverages is  0.7034088134765625\n",
            "statsitic std of coverages is  0.10190912439987176\n",
            "recon_overlap_rates  [0.6478062002371675, 0.7153167233612209, 0.1912249556175501, 0.1792212096106048, 0.9271523178807947, 1, 0.7574916117088973, 1, 1, 1]\n",
            "recon_coverages  [0.36029052734375, 0.331939697265625, 0.1804962158203125, 0.4604339599609375, 0.36865234375, 0.386260986328125, 0.263763427734375, 0.2733917236328125, 0.178619384765625, 0.08221435546875]\n",
            "statsitic average of recon_overlap_rates is  0.7418213018416235\n",
            "statsitic std of  recon_overlap_rates is  0.305030266877278\n",
            "statsitic average of recon_coverages is  0.28860626220703123\n",
            "statsitic std of recon_coverages is  0.10941488089190703\n",
            "sample_random overlap_rates  [1.03834081e-01 0.00000000e+00 0.00000000e+00 5.02262943e-03\n",
            " 1.00000000e+00 0.00000000e+00 6.32683722e-03 4.75106899e-04\n",
            " 8.94088975e-02 8.93703453e-03]\n",
            "sample_random coverages  [0.68054199 0.59465027 0.70503235 0.55291748 0.21568298 0.54450989\n",
            " 0.72111511 0.61021423 0.73880005 0.22537231]\n",
            "statsitic average of sample_random overlap_rates is  0.12140045863089333\n",
            "statsitic std of sample_random overlap_rates is  0.2952185810046702\n",
            "statsitic average of sample_random coverages is  0.5588836669921875\n",
            "statsitic std of sample_random coverages is  0.181113760044679\n",
            "sample_det overlap_rates  [0.05916653 0.         0.77461482 0.00496743 0.24629686 0.20011427\n",
            " 0.00968089 0.22266022 0.         0.02581544]\n",
            "sample_det coverages  [0.74841309 0.4387207  0.66949463 0.56213379 0.75508118 0.42730713\n",
            " 0.6809082  0.25547791 0.46716309 0.73352051]\n",
            "statsitic average of sample_det overlap_rates is  0.1543316456991743\n",
            "statsitic std of sample_det overlap_rates is  0.22724799261884315\n",
            "statsitic average of sample_det coverages is  0.573822021484375\n",
            "statsitic std of sample_det coverages is  0.16187523757726585\n"
          ]
        },
        {
          "output_type": "stream",
          "name": "stderr",
          "text": [
            "epoch 14 iter 14: train loss 2.03127. lr 7.200000e-05: 100%|██████████| 15/15 [00:03<00:00,  3.90it/s]\n",
            "epoch 14 iter 3: test loss 3.22532: 100%|██████████| 4/4 [00:00<00:00, 12.61it/s]\n"
          ]
        },
        {
          "output_type": "stream",
          "name": "stdout",
          "text": [
            "overlap_rates  [0.47508865 0.         0.39198964 0.05835423 0.01272178 0.\n",
            " 0.         0.343079   0.4229443  0.        ]\n",
            "coverages  [0.8605957  0.75019836 0.74252319 0.80328369 0.54093933 0.56816101\n",
            " 0.69799805 0.64454651 0.80535889 0.6204834 ]\n",
            "statsitic average of overlap_rates is  0.1704177604884798\n",
            "statsitic std of overlap_rates is  0.19725494030364016\n",
            "statsitic average of coverages is  0.7034088134765625\n",
            "statsitic std of coverages is  0.10190912439987176\n",
            "recon_overlap_rates  [0.6651943087704396, 0.6358994849937845, 0.2041522491349481, 0.06988776868936655, 0.7878061187413705, 1, 0.858811225379118, 1, 0.33728048168590063, 1]\n",
            "recon_coverages  [0.3592681884765625, 0.34368896484375, 0.167572021484375, 0.4010772705078125, 0.419952392578125, 0.43829345703125, 0.2626190185546875, 0.320220947265625, 0.304107666015625, 0.1349945068359375]\n",
            "statsitic average of recon_overlap_rates is  0.6559031637394928\n",
            "statsitic std of  recon_overlap_rates is  0.32607940556407705\n",
            "statsitic average of recon_coverages is  0.315179443359375\n",
            "statsitic std of recon_coverages is  0.09666159518333407\n",
            "sample_random overlap_rates  [4.94489475e-02 5.69379038e-01 0.00000000e+00 1.00000000e+00\n",
            " 1.04118059e-02 1.79322467e-02 1.53005464e-04 2.76292299e-01\n",
            " 4.51245881e-02 1.44077209e-01]\n",
            "sample_random coverages  [0.78501892 0.55731201 0.63703918 0.62963867 0.52319336 0.72923279\n",
            " 0.6980896  0.74357605 0.59277344 0.79684448]\n",
            "statsitic average of sample_random overlap_rates is  0.2112819139416818\n",
            "statsitic std of sample_random overlap_rates is  0.3130174301227666\n",
            "statsitic average of sample_random coverages is  0.6692718505859375\n",
            "statsitic std of sample_random coverages is  0.0905288480635737\n",
            "sample_det overlap_rates  [0.10814864 0.06832112 0.20743241 0.44532114 0.         0.09040547\n",
            " 0.01235913 0.00089216 0.00577493 0.01784103]\n",
            "sample_det coverages  [0.69190979 0.45806885 0.86801147 0.62077332 0.80545044 0.78500366\n",
            " 0.72842407 0.71833801 0.60243225 0.76118469]\n",
            "statsitic average of sample_det overlap_rates is  0.09564960277563316\n",
            "statsitic std of sample_det overlap_rates is  0.13224708215015754\n",
            "statsitic average of sample_det coverages is  0.7039596557617187\n",
            "statsitic std of sample_det coverages is  0.11211455256148103\n"
          ]
        },
        {
          "output_type": "stream",
          "name": "stderr",
          "text": [
            "epoch 15 iter 14: train loss 2.08650. lr 7.200000e-05: 100%|██████████| 15/15 [00:03<00:00,  3.89it/s]\n",
            "epoch 15 iter 3: test loss 3.48660: 100%|██████████| 4/4 [00:00<00:00, 12.62it/s]\n"
          ]
        },
        {
          "output_type": "stream",
          "name": "stdout",
          "text": [
            "overlap_rates  [0.47508865 0.         0.39198964 0.05835423 0.01272178 0.\n",
            " 0.         0.343079   0.4229443  0.        ]\n",
            "coverages  [0.8605957  0.75019836 0.74252319 0.80328369 0.54093933 0.56816101\n",
            " 0.69799805 0.64454651 0.80535889 0.6204834 ]\n",
            "statsitic average of overlap_rates is  0.1704177604884798\n",
            "statsitic std of overlap_rates is  0.19725494030364016\n",
            "statsitic average of coverages is  0.7034088134765625\n",
            "statsitic std of coverages is  0.10190912439987176\n",
            "recon_overlap_rates  [1, 0.9035220506610152, 0.22020238201844722, 0.07276958882854927, 0.9483896307934014, 1, 0.3527733755942948, 1, 0.3329912249191769, -16.391555285540704]\n",
            "recon_coverages  [0.3440704345703125, 0.302398681640625, 0.1703948974609375, 0.39337158203125, 0.38848876953125, 0.270599365234375, 0.4332733154296875, 0.4118499755859375, 0.2973480224609375, -0.05023193359375]\n",
            "statsitic average of recon_overlap_rates is  -1.056090703272582\n",
            "statsitic std of  recon_overlap_rates is  5.123814210565046\n",
            "statsitic average of recon_coverages is  0.29615631103515627\n",
            "statsitic std of recon_coverages is  0.1374599017746924\n",
            "sample_random overlap_rates  [0.87755947 0.01278452 0.07893193 0.00471836 0.         0.29209856\n",
            " 1.         0.03513637 0.56356121 0.1967883 ]\n",
            "sample_random coverages  [0.51568604 0.76625061 0.65031433 0.62738037 0.73091125 0.80818176\n",
            " 0.16096497 0.770401   0.75308228 0.69459534]\n",
            "statsitic average of sample_random overlap_rates is  0.3061578707625714\n",
            "statsitic std of sample_random overlap_rates is  0.3580618901291098\n",
            "statsitic average of sample_random coverages is  0.6477767944335937\n",
            "statsitic std of sample_random coverages is  0.18161806959295204\n",
            "sample_det overlap_rates  [1.         0.         0.10921797 0.         0.03036164 0.12368816\n",
            " 0.05159932 0.13458111 0.43182994 0.00855031]\n",
            "sample_det coverages  [0.1390686  0.43095398 0.75764465 0.62356567 0.5995636  0.32568359\n",
            " 0.46368408 0.73617554 0.76663208 0.74952698]\n",
            "statsitic average of sample_det overlap_rates is  0.1889828448969109\n",
            "statsitic std of sample_det overlap_rates is  0.2963661196867218\n",
            "statsitic average of sample_det coverages is  0.5592498779296875\n",
            "statsitic std of sample_det coverages is  0.20306053709090136\n"
          ]
        },
        {
          "output_type": "stream",
          "name": "stderr",
          "text": [
            "epoch 16 iter 14: train loss 1.90790. lr 7.200000e-05: 100%|██████████| 15/15 [00:03<00:00,  3.87it/s]\n",
            "epoch 16 iter 3: test loss 3.28448: 100%|██████████| 4/4 [00:00<00:00, 12.80it/s]\n"
          ]
        },
        {
          "output_type": "stream",
          "name": "stdout",
          "text": [
            "overlap_rates  [0.47508865 0.         0.39198964 0.05835423 0.01272178 0.\n",
            " 0.         0.343079   0.4229443  0.        ]\n",
            "coverages  [0.8605957  0.75019836 0.74252319 0.80328369 0.54093933 0.56816101\n",
            " 0.69799805 0.64454651 0.80535889 0.6204834 ]\n",
            "statsitic average of overlap_rates is  0.1704177604884798\n",
            "statsitic std of overlap_rates is  0.19725494030364016\n",
            "statsitic average of coverages is  0.7034088134765625\n",
            "statsitic std of coverages is  0.10190912439987176\n",
            "recon_overlap_rates  [1, 0.6978139943398067, 0.2041164658634538, 0.21414781626780316, 0.9945476096404583, 1, 0.6045758250658028, 1, 0.3890704847843101, 1]\n",
            "recon_coverages  [0.309295654296875, 0.312713623046875, 0.1519775390625, 0.4188995361328125, 0.386199951171875, 0.5673828125, 0.30145263671875, 0.277618408203125, 0.3314361572265625, 0.048309326171875]\n",
            "statsitic average of recon_overlap_rates is  0.7104272195961635\n",
            "statsitic std of  recon_overlap_rates is  0.32146719340234703\n",
            "statsitic average of recon_coverages is  0.310528564453125\n",
            "statsitic std of recon_coverages is  0.1337724786420629\n",
            "sample_random overlap_rates  [0.16759088 1.         0.28835146 0.00458302 0.0011672  0.20878094\n",
            " 0.00731512 0.00270339 0.21218154 0.06728308]\n",
            "sample_random coverages  [0.6686554  0.24212646 0.74639893 0.60928345 0.74516296 0.75138855\n",
            " 0.74467468 0.71682739 0.75883484 0.73931885]\n",
            "statsitic average of sample_random overlap_rates is  0.195995663826295\n",
            "statsitic std of sample_random overlap_rates is  0.2864107105899103\n",
            "statsitic average of sample_random coverages is  0.6722671508789062\n",
            "statsitic std of sample_random coverages is  0.15009626154136826\n",
            "sample_det overlap_rates  [0.11197484 0.15889691 0.41875835 0.         0.         0.11148908\n",
            " 0.04559931 0.03083968 0.00408315 0.00227217]\n",
            "sample_det coverages  [0.6889801  0.46478271 0.83345032 0.59284973 0.81944275 0.65489197\n",
            " 0.70907593 0.65310669 0.7399292  0.75213623]\n",
            "statsitic average of sample_det overlap_rates is  0.08839135056761971\n",
            "statsitic std of sample_det overlap_rates is  0.12267716894611805\n",
            "statsitic average of sample_det coverages is  0.6908645629882812\n",
            "statsitic std of sample_det coverages is  0.1033437961006588\n"
          ]
        },
        {
          "output_type": "stream",
          "name": "stderr",
          "text": [
            "epoch 17 iter 14: train loss 1.80877. lr 7.200000e-05: 100%|██████████| 15/15 [00:03<00:00,  3.87it/s]\n",
            "epoch 17 iter 3: test loss 3.48975: 100%|██████████| 4/4 [00:00<00:00, 12.46it/s]\n"
          ]
        },
        {
          "output_type": "stream",
          "name": "stdout",
          "text": [
            "overlap_rates  [0.47508865 0.         0.39198964 0.05835423 0.01272178 0.\n",
            " 0.         0.343079   0.4229443  0.        ]\n",
            "coverages  [0.8605957  0.75019836 0.74252319 0.80328369 0.54093933 0.56816101\n",
            " 0.69799805 0.64454651 0.80535889 0.6204834 ]\n",
            "statsitic average of overlap_rates is  0.1704177604884798\n",
            "statsitic std of overlap_rates is  0.19725494030364016\n",
            "statsitic average of coverages is  0.7034088134765625\n",
            "statsitic std of coverages is  0.10190912439987176\n",
            "recon_overlap_rates  [0.6190973907200716, 1, 0.23342465753424657, 0.07662862159789288, 1, 1, 0.3701268030374596, 1, 0.3336638806252066, 1]\n",
            "recon_coverages  [0.4087677001953125, 0.2418975830078125, 0.167083740234375, 0.4344940185546875, 0.3827667236328125, 0.457763671875, 0.4199676513671875, 0.39056396484375, 0.3231353759765625, 0.214691162109375]\n",
            "statsitic average of recon_overlap_rates is  0.6632941353514876\n",
            "statsitic std of  recon_overlap_rates is  0.3594961656587174\n",
            "statsitic average of recon_coverages is  0.3441131591796875\n",
            "statsitic std of recon_coverages is  0.09677220041213107\n",
            "sample_random overlap_rates  [0.00227225 0.00427812 0.12361124 0.         0.02824055 0.61101545\n",
            " 0.07749924 0.15300608 0.20941776 0.02101651]\n",
            "sample_random coverages  [0.87969971 0.79180908 0.85014343 0.58882141 0.60083008 0.71781921\n",
            " 0.65190125 0.68043518 0.69474792 0.68029785]\n",
            "statsitic average of sample_random overlap_rates is  0.1230357196588672\n",
            "statsitic std of sample_random overlap_rates is  0.17657214303467375\n",
            "statsitic average of sample_random coverages is  0.7136505126953125\n",
            "statsitic std of sample_random coverages is  0.09328745112502188\n",
            "sample_det overlap_rates  [0.00163232 0.77255352 0.43799764 0.00473235 0.01999328 0.01207508\n",
            " 0.22208281 0.00087431 0.00247416 0.01408585]\n",
            "sample_det coverages  [0.79457092 0.63867188 0.81446838 0.59005737 0.7265625  0.64952087\n",
            " 0.15809631 0.73300171 0.69689941 0.80053711]\n",
            "statsitic average of sample_det overlap_rates is  0.148850132329546\n",
            "statsitic std of sample_det overlap_rates is  0.24843790366823965\n",
            "statsitic average of sample_det coverages is  0.6602386474609375\n",
            "statsitic std of sample_det coverages is  0.1817155166022196\n"
          ]
        },
        {
          "output_type": "stream",
          "name": "stderr",
          "text": [
            "epoch 18 iter 14: train loss 1.71843. lr 7.200000e-05: 100%|██████████| 15/15 [00:03<00:00,  3.86it/s]\n",
            "epoch 18 iter 3: test loss 3.58467: 100%|██████████| 4/4 [00:00<00:00, 12.40it/s]\n"
          ]
        },
        {
          "output_type": "stream",
          "name": "stdout",
          "text": [
            "overlap_rates  [0.47508865 0.         0.39198964 0.05835423 0.01272178 0.\n",
            " 0.         0.343079   0.4229443  0.        ]\n",
            "coverages  [0.8605957  0.75019836 0.74252319 0.80328369 0.54093933 0.56816101\n",
            " 0.69799805 0.64454651 0.80535889 0.6204834 ]\n",
            "statsitic average of overlap_rates is  0.1704177604884798\n",
            "statsitic std of overlap_rates is  0.19725494030364016\n",
            "statsitic average of coverages is  0.7034088134765625\n",
            "statsitic std of coverages is  0.10190912439987176\n",
            "recon_overlap_rates  [0.7461852174311506, 0.6600688012701773, 0.2268900115217584, 0.27394655529523615, 1, 1, 0.6848089468779124, 0.4993141289437586, 0.32491685629266587, 1]\n",
            "recon_coverages  [0.3329925537109375, 0.2883148193359375, 0.1721649169921875, 0.4493865966796875, 0.38458251953125, 0.470550537109375, 0.32745361328125, 0.4115753173828125, 0.34869384765625, 0.2386322021484375]\n",
            "statsitic average of recon_overlap_rates is  0.641613051763266\n",
            "statsitic std of  recon_overlap_rates is  0.2874343000182454\n",
            "statsitic average of recon_coverages is  0.3424346923828125\n",
            "statsitic std of recon_coverages is  0.08801006911085699\n",
            "sample_random overlap_rates  [0.02244509 0.02066305 0.19198222 0.07321742 0.         0.08473656\n",
            " 0.28638554 0.04752994 0.55992162 0.02344734]\n",
            "sample_random coverages  [0.85658264 0.63285828 0.39128113 0.75733948 0.7298584  0.05618286\n",
            " 0.63648987 0.65234375 0.73197937 0.67810059]\n",
            "statsitic average of sample_random overlap_rates is  0.13103287725885682\n",
            "statsitic std of sample_random overlap_rates is  0.16642434024261998\n",
            "statsitic average of sample_random coverages is  0.6123016357421875\n",
            "statsitic std of sample_random coverages is  0.21769478930128616\n",
            "sample_det overlap_rates  [ 0.03409957 -2.12638058  0.11927729  0.          0.01562075  0.00968388\n",
            "  0.02578043  0.          0.          0.15245073]\n",
            "sample_det coverages  [ 0.76071167 -2.07232666  0.6232605   0.59843445  0.67303467  0.70906067\n",
            "  0.52203369  0.60005188  0.68725586  0.69142151]\n",
            "statsitic average of sample_det overlap_rates is  -0.17694679449258247\n",
            "statsitic std of sample_det overlap_rates is  0.651768839692735\n",
            "statsitic average of sample_det coverages is  0.3792938232421875\n",
            "statsitic std of sample_det coverages is  0.8197480023781712\n"
          ]
        },
        {
          "output_type": "stream",
          "name": "stderr",
          "text": [
            "epoch 19 iter 14: train loss 1.70490. lr 7.200000e-05: 100%|██████████| 15/15 [00:03<00:00,  3.89it/s]\n",
            "epoch 19 iter 3: test loss 3.56726: 100%|██████████| 4/4 [00:00<00:00, 12.79it/s]\n"
          ]
        },
        {
          "output_type": "stream",
          "name": "stdout",
          "text": [
            "overlap_rates  [0.47508865 0.         0.39198964 0.05835423 0.01272178 0.\n",
            " 0.         0.343079   0.4229443  0.        ]\n",
            "coverages  [0.8605957  0.75019836 0.74252319 0.80328369 0.54093933 0.56816101\n",
            " 0.69799805 0.64454651 0.80535889 0.6204834 ]\n",
            "statsitic average of overlap_rates is  0.1704177604884798\n",
            "statsitic std of overlap_rates is  0.19725494030364016\n",
            "statsitic average of coverages is  0.7034088134765625\n",
            "statsitic std of coverages is  0.10190912439987176\n",
            "recon_overlap_rates  [1, 1, 0.2585880869839269, 0.0797536222633561, 0.8922011924292745, 1, 0.7867296446243814, 0.5459936986470625, 0.3497396680767979, 1]\n",
            "recon_coverages  [0.32403564453125, 0.134979248046875, 0.19366455078125, 0.478118896484375, 0.3813323974609375, 0.4138031005859375, 0.339202880859375, 0.493988037109375, 0.3751220703125, 0.2357635498046875]\n",
            "statsitic average of recon_overlap_rates is  0.6913005913024799\n",
            "statsitic std of  recon_overlap_rates is  0.33610367738754987\n",
            "statsitic average of recon_coverages is  0.33700103759765626\n",
            "statsitic std of recon_coverages is  0.11209653784404366\n",
            "sample_random overlap_rates  [0.04068808 0.07151545 0.01558605 0.04995007 0.22931275 0.0059198\n",
            " 0.02628773 1.         0.09971955 0.12029498]\n",
            "sample_random coverages  [0.77703857 0.80288696 0.48362732 0.76400757 0.82038879 0.71914673\n",
            " 0.83004761 0.11254883 0.76171875 0.39727783]\n",
            "statsitic average of sample_random overlap_rates is  0.16592744645489374\n",
            "statsitic std of sample_random overlap_rates is  0.284941052837022\n",
            "statsitic average of sample_random coverages is  0.646868896484375\n",
            "statsitic std of sample_random coverages is  0.22616959714401316\n",
            "sample_det overlap_rates  [0.00185692 0.06311035 0.31496735 0.02222109 0.36183379 0.04225926\n",
            " 0.04149431 0.         0.         0.18830179]\n",
            "sample_det coverages  [0.74777222 0.8343811  0.80395508 0.59741211 0.8334198  0.71131897\n",
            " 0.47216797 0.70959473 0.55914307 0.65061951]\n",
            "statsitic average of sample_det overlap_rates is  0.10360448621097036\n",
            "statsitic std of sample_det overlap_rates is  0.12893198262904176\n",
            "statsitic average of sample_det coverages is  0.6919784545898438\n",
            "statsitic std of sample_det coverages is  0.1154276879636851\n"
          ]
        },
        {
          "output_type": "stream",
          "name": "stderr",
          "text": [
            "epoch 20 iter 14: train loss 1.62139. lr 7.200000e-05: 100%|██████████| 15/15 [00:03<00:00,  3.89it/s]\n",
            "epoch 20 iter 3: test loss 3.53966: 100%|██████████| 4/4 [00:00<00:00, 12.53it/s]\n"
          ]
        },
        {
          "output_type": "stream",
          "name": "stdout",
          "text": [
            "overlap_rates  [0.47508865 0.         0.39198964 0.05835423 0.01272178 0.\n",
            " 0.         0.343079   0.4229443  0.        ]\n",
            "coverages  [0.8605957  0.75019836 0.74252319 0.80328369 0.54093933 0.56816101\n",
            " 0.69799805 0.64454651 0.80535889 0.6204834 ]\n",
            "statsitic average of overlap_rates is  0.1704177604884798\n",
            "statsitic std of overlap_rates is  0.19725494030364016\n",
            "statsitic average of coverages is  0.7034088134765625\n",
            "statsitic std of coverages is  0.10190912439987176\n",
            "recon_overlap_rates  [1, 1, 0.23326830732292916, 0.03962915199888467, 0.7729696620306983, 1, 0.5290660437780206, 0.6877620283489718, 1, 1]\n",
            "recon_coverages  [0.416107177734375, 0.254150390625, 0.203369140625, 0.4377899169921875, 0.423492431640625, 0.563751220703125, 0.4050140380859375, 0.5350189208984375, 0.2530670166015625, 0.1373138427734375]\n",
            "statsitic average of recon_overlap_rates is  0.7262695193479505\n",
            "statsitic std of  recon_overlap_rates is  0.33641046509998696\n",
            "statsitic average of recon_coverages is  0.36290740966796875\n",
            "statsitic std of recon_coverages is  0.1356759539683867\n",
            "sample_random overlap_rates  [ 1.77701132e-02 -8.28207779e+00  1.29700296e-02  2.01597484e-01\n",
            "  9.27506904e-04  1.00000000e+00  1.13644966e-01  2.18931985e-02\n",
            "  2.41694498e-03  1.76010694e-02]\n",
            "sample_random coverages  [ 0.61051941 -0.23617554  0.71176147  0.85392761  0.72386169  0.54443359\n",
            "  0.48376465  0.55548096  0.69445801  0.75335693]\n",
            "statsitic average of sample_random overlap_rates is  -0.6893256475170805\n",
            "statsitic std of sample_random overlap_rates is  2.5474683616193006\n",
            "statsitic average of sample_random coverages is  0.5695388793945313\n",
            "statsitic std of sample_random coverages is  0.28867868971056015\n",
            "sample_det overlap_rates  [0.05670396 1.         0.14647101 0.21409497 0.23950702 0.07122898\n",
            " 0.39326717 0.         0.00237046 0.00996931]\n",
            "sample_det coverages  [0.77876282 0.34367371 0.66651917 0.7885437  0.79980469 0.56790161\n",
            " 0.80409241 0.60873413 0.72738647 0.78059387]\n",
            "statsitic average of sample_det overlap_rates is  0.21336128769482143\n",
            "statsitic std of sample_det overlap_rates is  0.28852670818117293\n",
            "statsitic average of sample_det coverages is  0.6866012573242187\n",
            "statsitic std of sample_det coverages is  0.13934085498825022\n"
          ]
        },
        {
          "output_type": "stream",
          "name": "stderr",
          "text": [
            "epoch 21 iter 14: train loss 1.55141. lr 7.200000e-05: 100%|██████████| 15/15 [00:03<00:00,  3.88it/s]\n",
            "epoch 21 iter 3: test loss 3.63052: 100%|██████████| 4/4 [00:00<00:00, 12.69it/s]\n"
          ]
        },
        {
          "output_type": "stream",
          "name": "stdout",
          "text": [
            "overlap_rates  [0.47508865 0.         0.39198964 0.05835423 0.01272178 0.\n",
            " 0.         0.343079   0.4229443  0.        ]\n",
            "coverages  [0.8605957  0.75019836 0.74252319 0.80328369 0.54093933 0.56816101\n",
            " 0.69799805 0.64454651 0.80535889 0.6204834 ]\n",
            "statsitic average of overlap_rates is  0.1704177604884798\n",
            "statsitic std of overlap_rates is  0.19725494030364016\n",
            "statsitic average of coverages is  0.7034088134765625\n",
            "statsitic std of coverages is  0.10190912439987176\n",
            "recon_overlap_rates  [0.7769462749916229, 1, 0.3310090237899918, 0.043328409650418516, 1, 1, 0.8780720798957881, 1, 0.27281335069238966, 1]\n",
            "recon_coverages  [0.4098358154296875, 0.2653656005859375, 0.22320556640625, 0.433868408203125, 0.3155670166015625, 0.5320281982421875, 0.351409912109375, 0.3759765625, 0.3867645263671875, 0.1696624755859375]\n",
            "statsitic average of recon_overlap_rates is  0.7302169139020211\n",
            "statsitic std of  recon_overlap_rates is  0.35047968949130326\n",
            "statsitic average of recon_coverages is  0.346368408203125\n",
            "statsitic std of recon_coverages is  0.10128774759599123\n",
            "sample_random overlap_rates  [1.03874535e-01 2.88819939e-01 5.09180806e-01 1.41498297e-01\n",
            " 1.00000000e+00 6.17311365e-02 1.56133987e-02 2.15083033e-01\n",
            " 5.32654692e-04 1.09632517e-01]\n",
            "sample_random coverages  [0.72581482 0.74751282 0.72215271 0.67214966 0.00726318 0.68716431\n",
            " 0.71928406 0.72312927 0.51564026 0.82214355]\n",
            "statsitic average of sample_random overlap_rates is  0.2445966316494026\n",
            "statsitic std of sample_random overlap_rates is  0.28940515029215064\n",
            "statsitic average of sample_random coverages is  0.6342254638671875\n",
            "statsitic std of sample_random coverages is  0.2215379906150295\n",
            "sample_det overlap_rates  [0.09253143 1.         0.00160606 0.74046358 0.18565834 0.00544972\n",
            " 0.39226658 0.05970149 0.06314517 0.07536543]\n",
            "sample_det coverages  [0.61904907 0.14103699 0.76956177 0.62802124 0.81817627 0.67198181\n",
            " 0.79081726 0.79537964 0.63117981 0.70983887]\n",
            "statsitic average of sample_det overlap_rates is  0.26161877944049206\n",
            "statsitic std of sample_det overlap_rates is  0.3277209812042287\n",
            "statsitic average of sample_det coverages is  0.6575042724609375\n",
            "statsitic std of sample_det coverages is  0.18651604135938515\n"
          ]
        },
        {
          "output_type": "stream",
          "name": "stderr",
          "text": [
            "epoch 22 iter 14: train loss 1.57981. lr 7.200000e-05: 100%|██████████| 15/15 [00:03<00:00,  3.88it/s]\n",
            "epoch 22 iter 3: test loss 3.71708: 100%|██████████| 4/4 [00:00<00:00, 12.68it/s]\n"
          ]
        },
        {
          "output_type": "stream",
          "name": "stdout",
          "text": [
            "overlap_rates  [0.47508865 0.         0.39198964 0.05835423 0.01272178 0.\n",
            " 0.         0.343079   0.4229443  0.        ]\n",
            "coverages  [0.8605957  0.75019836 0.74252319 0.80328369 0.54093933 0.56816101\n",
            " 0.69799805 0.64454651 0.80535889 0.6204834 ]\n",
            "statsitic average of overlap_rates is  0.1704177604884798\n",
            "statsitic std of overlap_rates is  0.19725494030364016\n",
            "statsitic average of coverages is  0.7034088134765625\n",
            "statsitic std of coverages is  0.10190912439987176\n",
            "recon_overlap_rates  [1, 1, 0.22903000697836706, 0.05100294379407134, 1, 1, 0.42881736526946107, 0.8468169997506323, 1, 1]\n",
            "recon_coverages  [0.2986297607421875, 0.18817138671875, 0.218658447265625, 0.445770263671875, 0.3029327392578125, 0.3803253173828125, 0.40771484375, 0.4283294677734375, 0.186920166015625, 0.2363739013671875]\n",
            "statsitic average of recon_overlap_rates is  0.7555667315792531\n",
            "statsitic std of  recon_overlap_rates is  0.35316123081418843\n",
            "statsitic average of recon_coverages is  0.30938262939453126\n",
            "statsitic std of recon_coverages is  0.0953203145447798\n",
            "sample_random overlap_rates  [0.45101216 0.00448413 1.         0.02409275 0.         0.00470156\n",
            " 0.18145835 0.00324082 0.01497629 0.27850768]\n",
            "sample_random coverages  [0.66859436 0.77584839 0.49131775 0.65803528 0.62574768 0.75619507\n",
            " 0.44718933 0.59324646 0.68875122 0.82575989]\n",
            "statsitic average of sample_random overlap_rates is  0.1962473759684636\n",
            "statsitic std of sample_random overlap_rates is  0.30489879842842615\n",
            "statsitic average of sample_random coverages is  0.6530685424804688\n",
            "statsitic std of sample_random coverages is  0.11399382642143684\n",
            "sample_det overlap_rates  [0.13723669 0.7849147  0.28837669 0.11206378 0.03704691 1.\n",
            " 0.         0.         0.         0.01383691]\n",
            "sample_det coverages  [0.67367554 0.68154907 0.83348083 0.10144043 0.68701172 0.45605469\n",
            " 0.69813538 0.73599243 0.62278748 0.67268372]\n",
            "statsitic average of sample_det overlap_rates is  0.23734756773212512\n",
            "statsitic std of sample_det overlap_rates is  0.3418873582499777\n",
            "statsitic average of sample_det coverages is  0.6162811279296875\n",
            "statsitic std of sample_det coverages is  0.19357698917860108\n"
          ]
        },
        {
          "output_type": "stream",
          "name": "stderr",
          "text": [
            "epoch 23 iter 14: train loss 1.44682. lr 7.200000e-05: 100%|██████████| 15/15 [00:03<00:00,  3.88it/s]\n",
            "epoch 23 iter 3: test loss 3.69448: 100%|██████████| 4/4 [00:00<00:00, 12.71it/s]\n"
          ]
        },
        {
          "output_type": "stream",
          "name": "stdout",
          "text": [
            "overlap_rates  [0.47508865 0.         0.39198964 0.05835423 0.01272178 0.\n",
            " 0.         0.343079   0.4229443  0.        ]\n",
            "coverages  [0.8605957  0.75019836 0.74252319 0.80328369 0.54093933 0.56816101\n",
            " 0.69799805 0.64454651 0.80535889 0.6204834 ]\n",
            "statsitic average of overlap_rates is  0.1704177604884798\n",
            "statsitic std of overlap_rates is  0.19725494030364016\n",
            "statsitic average of coverages is  0.7034088134765625\n",
            "statsitic std of coverages is  0.10190912439987176\n",
            "recon_overlap_rates  [0.8743396953923269, 1, 0.6004437400950872, 0.10501762757736548, 0.6465397420564373, 1, 1, 0.8538553191489362, 0.3215201862741229, 1]\n",
            "recon_coverages  [0.3957366943359375, 0.2547760009765625, 0.2407073974609375, 0.4284820556640625, 0.4720611572265625, 0.5162811279296875, 0.2835235595703125, 0.4482269287109375, 0.3866424560546875, 0.2837677001953125]\n",
            "statsitic average of recon_overlap_rates is  0.7401716310544275\n",
            "statsitic std of  recon_overlap_rates is  0.30132185950598867\n",
            "statsitic average of recon_coverages is  0.3710205078125\n",
            "statsitic std of recon_coverages is  0.09337586258302472\n",
            "sample_random overlap_rates  [0.00879481 0.00377127 0.00203386 0.52968046 0.26832363 0.00898432\n",
            " 0.1128289  0.08636415 0.         0.15706849]\n",
            "sample_random coverages  [0.70787048 0.97105408 0.7202301  0.73490906 0.75758362 0.67935181\n",
            " 0.82116699 0.53869629 0.69871521 0.56277466]\n",
            "statsitic average of sample_random overlap_rates is  0.11778498897770565\n",
            "statsitic std of sample_random overlap_rates is  0.16089188539483634\n",
            "statsitic average of sample_random coverages is  0.7192352294921875\n",
            "statsitic std of sample_random coverages is  0.11607549668580561\n",
            "sample_det overlap_rates  [ 0.02852473 -5.16291611  0.13672185  0.11250899  0.16059462  0.\n",
            "  0.43433374  0.10239505  0.6392311   0.53665985]\n",
            "sample_det coverages  [ 0.78421021 -0.37632751  0.71058655  0.67919922  0.59431458  0.67634583\n",
            "  0.77890015  0.63645935  0.46199036  0.96939087]\n",
            "statsitic average of sample_det overlap_rates is  -0.301194617984638\n",
            "statsitic std of sample_det overlap_rates is  1.6340816054636844\n",
            "statsitic average of sample_det coverages is  0.5915069580078125\n",
            "statsitic std of sample_det coverages is  0.3463554865111632\n"
          ]
        },
        {
          "output_type": "stream",
          "name": "stderr",
          "text": [
            "epoch 24 iter 14: train loss 1.37891. lr 7.200000e-05: 100%|██████████| 15/15 [00:03<00:00,  3.87it/s]\n",
            "epoch 24 iter 3: test loss 3.68509: 100%|██████████| 4/4 [00:00<00:00, 12.59it/s]\n"
          ]
        },
        {
          "output_type": "stream",
          "name": "stdout",
          "text": [
            "overlap_rates  [0.47508865 0.         0.39198964 0.05835423 0.01272178 0.\n",
            " 0.         0.343079   0.4229443  0.        ]\n",
            "coverages  [0.8605957  0.75019836 0.74252319 0.80328369 0.54093933 0.56816101\n",
            " 0.69799805 0.64454651 0.80535889 0.6204834 ]\n",
            "statsitic average of overlap_rates is  0.1704177604884798\n",
            "statsitic std of overlap_rates is  0.19725494030364016\n",
            "statsitic average of coverages is  0.7034088134765625\n",
            "statsitic std of coverages is  0.10190912439987176\n",
            "recon_overlap_rates  [0.6483673327299311, 0.8563128732045834, 0.40547483342698887, 0.07307314333848097, 0.7695620437956204, 1, 0.6208450288078002, 0.8087834770767136, 0.2561452059254436, 0.9106685357954271]\n",
            "recon_coverages  [0.438323974609375, 0.2836456298828125, 0.1900787353515625, 0.43475341796875, 0.4180908203125, 0.3956451416015625, 0.41314697265625, 0.40338134765625, 0.37493896484375, 0.3156585693359375]\n",
            "statsitic average of recon_overlap_rates is  0.634923247410099\n",
            "statsitic std of  recon_overlap_rates is  0.286157073862292\n",
            "statsitic average of recon_coverages is  0.366766357421875\n",
            "statsitic std of recon_coverages is  0.0758347580467174\n",
            "sample_random overlap_rates  [0.07001607 0.11974978 0.10102318 0.28271814 0.00063057 0.20579113\n",
            " 0.28107574 0.         0.41855027 0.02666877]\n",
            "sample_random coverages  [0.68365479 0.80250549 0.49511719 0.63951111 0.72595215 0.70350647\n",
            " 0.64851379 0.6270752  0.743927   0.09669495]\n",
            "statsitic average of sample_random overlap_rates is  0.15062236448289149\n",
            "statsitic std of sample_random overlap_rates is  0.13407312676669905\n",
            "statsitic average of sample_random coverages is  0.6166458129882812\n",
            "statsitic std of sample_random coverages is  0.19012954671569962\n",
            "sample_det overlap_rates  [0.21553046 0.         1.         0.1212947  0.0484909  0.30569212\n",
            " 0.28849457 0.         0.20882925 0.22650597]\n",
            "sample_det coverages  [0.75653076 0.5849762  0.83766174 0.63830566 0.61172485 0.81626892\n",
            " 0.83499146 0.65411377 0.67434692 0.71913147]\n",
            "statsitic average of sample_det overlap_rates is  0.24148379730674305\n",
            "statsitic std of sample_det overlap_rates is  0.27421967641435413\n",
            "statsitic average of sample_det coverages is  0.71280517578125\n",
            "statsitic std of sample_det coverages is  0.08955820441809267\n"
          ]
        },
        {
          "output_type": "stream",
          "name": "stderr",
          "text": [
            "epoch 25 iter 14: train loss 1.28396. lr 7.200000e-05: 100%|██████████| 15/15 [00:03<00:00,  3.88it/s]\n",
            "epoch 25 iter 3: test loss 3.54516: 100%|██████████| 4/4 [00:00<00:00, 12.55it/s]\n"
          ]
        },
        {
          "output_type": "stream",
          "name": "stdout",
          "text": [
            "overlap_rates  [0.47508865 0.         0.39198964 0.05835423 0.01272178 0.\n",
            " 0.         0.343079   0.4229443  0.        ]\n",
            "coverages  [0.8605957  0.75019836 0.74252319 0.80328369 0.54093933 0.56816101\n",
            " 0.69799805 0.64454651 0.80535889 0.6204834 ]\n",
            "statsitic average of overlap_rates is  0.1704177604884798\n",
            "statsitic std of overlap_rates is  0.19725494030364016\n",
            "statsitic average of coverages is  0.7034088134765625\n",
            "statsitic std of coverages is  0.10190912439987176\n",
            "recon_overlap_rates  [0.5928399926122022, 0.6554817436842361, 0.4957198037373421, 0.07844654185362834, 1, 1, 1, 0.9249840591125614, 0.25379426644182124, 0.7103733170134638]\n",
            "recon_coverages  [0.495697021484375, 0.3146820068359375, 0.292327880859375, 0.4930877685546875, 0.3298492431640625, 0.54132080078125, 0.3351898193359375, 0.4068145751953125, 0.380035400390625, 0.39892578125]\n",
            "statsitic average of recon_overlap_rates is  0.6711639724455256\n",
            "statsitic std of  recon_overlap_rates is  0.3087124983892241\n",
            "statsitic average of recon_coverages is  0.39879302978515624\n",
            "statsitic std of recon_coverages is  0.08137589603601783\n",
            "sample_random overlap_rates  [1.50030998e-02 1.00000000e+00 6.66163480e-02 2.12217850e-01\n",
            " 1.31092656e-02 2.38787996e-01 1.09385255e-04 9.19914716e-03\n",
            " 4.30111995e-03 0.00000000e+00]\n",
            "sample_random coverages  [0.7383728  0.46859741 0.5458374  0.6746521  0.70187378 0.6335144\n",
            " 0.5579834  0.63694763 0.73435974 0.60978699]\n",
            "statsitic average of sample_random overlap_rates is  0.15593442109047434\n",
            "statsitic std of sample_random overlap_rates is  0.2939112970372011\n",
            "statsitic average of sample_random coverages is  0.6301925659179688\n",
            "statsitic std of sample_random coverages is  0.08281582875410505\n",
            "sample_det overlap_rates  [0.36658473 0.         0.00086421 0.00861406 0.00432512 0.00790588\n",
            " 0.05232801 0.         0.00842155 0.31541449]\n",
            "sample_det coverages  [0.63938904 0.7631073  0.56500244 0.67489624 0.57858276 0.72763062\n",
            " 0.65872192 0.67726135 0.64865112 0.73460388]\n",
            "statsitic average of sample_det overlap_rates is  0.07644580598333986\n",
            "statsitic std of sample_det overlap_rates is  0.13356509920883683\n",
            "statsitic average of sample_det coverages is  0.66678466796875\n",
            "statsitic std of sample_det coverages is  0.06085953860573086\n"
          ]
        },
        {
          "output_type": "stream",
          "name": "stderr",
          "text": [
            "epoch 26 iter 14: train loss 1.16640. lr 7.200000e-05: 100%|██████████| 15/15 [00:03<00:00,  3.89it/s]\n",
            "epoch 26 iter 3: test loss 3.92522: 100%|██████████| 4/4 [00:00<00:00, 12.53it/s]\n"
          ]
        },
        {
          "output_type": "stream",
          "name": "stdout",
          "text": [
            "overlap_rates  [0.47508865 0.         0.39198964 0.05835423 0.01272178 0.\n",
            " 0.         0.343079   0.4229443  0.        ]\n",
            "coverages  [0.8605957  0.75019836 0.74252319 0.80328369 0.54093933 0.56816101\n",
            " 0.69799805 0.64454651 0.80535889 0.6204834 ]\n",
            "statsitic average of overlap_rates is  0.1704177604884798\n",
            "statsitic std of overlap_rates is  0.19725494030364016\n",
            "statsitic average of coverages is  0.7034088134765625\n",
            "statsitic std of coverages is  0.10190912439987176\n",
            "recon_overlap_rates  [0.6546696275191687, 0.5774994867583658, 0.27344782034346105, 0.06915807560137457, 1, 1, 0.5663301954557484, 0.7170824553055537, 0.3297954721450371, 0.9515971247501169]\n",
            "recon_coverages  [0.3641815185546875, 0.29730224609375, 0.2425689697265625, 0.497314453125, 0.3596954345703125, 0.5036163330078125, 0.4036102294921875, 0.448944091796875, 0.3349761962890625, 0.3587493896484375]\n",
            "statsitic average of recon_overlap_rates is  0.6139580257878826\n",
            "statsitic std of  recon_overlap_rates is  0.3035538227814369\n",
            "statsitic average of recon_coverages is  0.38109588623046875\n",
            "statsitic std of recon_coverages is  0.07950461459499121\n",
            "sample_random overlap_rates  [0.01910556 0.00087057 0.04984145 0.03497461 0.         0.03996146\n",
            " 0.01601079 0.1252424  0.05089363 0.10548473]\n",
            "sample_random coverages  [0.74993896 0.52581787 0.71699524 0.53488159 0.61003113 0.66516113\n",
            " 0.75765991 0.56652832 0.6889801  0.7684021 ]\n",
            "statsitic average of sample_random overlap_rates is  0.04423852139956629\n",
            "statsitic std of sample_random overlap_rates is  0.03969737978356312\n",
            "statsitic average of sample_random coverages is  0.6584396362304688\n",
            "statsitic std of sample_random coverages is  0.08852196760182279\n",
            "sample_det overlap_rates  [0.70990649 0.02784128 0.19463056 0.04600436 0.         0.00107632\n",
            " 0.02972953 1.         0.01305014 0.47602058]\n",
            "sample_det coverages  [0.90892029 0.60067749 0.64678955 0.76950073 0.66966248 0.76554871\n",
            " 0.63130188 0.51826477 0.75650024 0.81259155]\n",
            "statsitic average of sample_det overlap_rates is  0.24982592710722057\n",
            "statsitic std of sample_det overlap_rates is  0.3388599686309337\n",
            "statsitic average of sample_det coverages is  0.7079757690429688\n",
            "statsitic std of sample_det coverages is  0.10925725671521469\n"
          ]
        },
        {
          "output_type": "stream",
          "name": "stderr",
          "text": [
            "epoch 27 iter 14: train loss 1.19701. lr 7.200000e-05: 100%|██████████| 15/15 [00:03<00:00,  3.87it/s]\n",
            "epoch 27 iter 3: test loss 3.79625: 100%|██████████| 4/4 [00:00<00:00, 12.70it/s]\n"
          ]
        },
        {
          "output_type": "stream",
          "name": "stdout",
          "text": [
            "overlap_rates  [0.47508865 0.         0.39198964 0.05835423 0.01272178 0.\n",
            " 0.         0.343079   0.4229443  0.        ]\n",
            "coverages  [0.8605957  0.75019836 0.74252319 0.80328369 0.54093933 0.56816101\n",
            " 0.69799805 0.64454651 0.80535889 0.6204834 ]\n",
            "statsitic average of overlap_rates is  0.1704177604884798\n",
            "statsitic std of overlap_rates is  0.19725494030364016\n",
            "statsitic average of coverages is  0.7034088134765625\n",
            "statsitic std of coverages is  0.10190912439987176\n",
            "recon_overlap_rates  [0.5271627750713925, 0.9393733959614546, 0.5258268824771288, 0.06868752893754937, 1, 1, 0.5893241167434716, 0.8479457722050727, 0.35871526524720315, 0.7556663644605621]\n",
            "recon_coverages  [0.4541778564453125, 0.3151092529296875, 0.216827392578125, 0.5602569580078125, 0.3136444091796875, 0.3948211669921875, 0.3973388671875, 0.4794769287109375, 0.3382568359375, 0.33660888671875]\n",
            "statsitic average of recon_overlap_rates is  0.6612702101103834\n",
            "statsitic std of  recon_overlap_rates is  0.28892476368569164\n",
            "statsitic average of recon_coverages is  0.38065185546875\n",
            "statsitic std of recon_coverages is  0.09341899836365818\n",
            "sample_random overlap_rates  [0.11521202 0.10948905 0.2191176  0.0433647  0.00490294 0.43039531\n",
            " 0.25306731 0.04804889 0.08596657 0.02840748]\n",
            "sample_random coverages  [0.57466125 0.62504578 0.86392212 0.51408386 0.76248169 0.74458313\n",
            " 0.68525696 0.71166992 0.58236694 0.86157227]\n",
            "statsitic average of sample_random overlap_rates is  0.13379718659622333\n",
            "statsitic std of sample_random overlap_rates is  0.12488032977652841\n",
            "statsitic average of sample_random coverages is  0.6925643920898438\n",
            "statsitic std of sample_random coverages is  0.11331311477571225\n",
            "sample_det overlap_rates  [ 4.38606256e-02  1.50177074e-02 -1.33840148e+01  4.03211418e-02\n",
            "  0.00000000e+00  4.12798588e-01  2.97147942e-02  6.51414438e-01\n",
            "  1.55061778e-01  7.78923747e-03]\n",
            "sample_det coverages  [ 0.68534851  0.68075562 -0.15635681  0.76972961  0.64753723  0.67456055\n",
            "  0.65164185  0.39483643  0.76568604  0.70718384]\n",
            "statsitic average of sample_det overlap_rates is  -1.2028036522870393\n",
            "statsitic std of sample_det overlap_rates is  4.065562607169286\n",
            "statsitic average of sample_det coverages is  0.58209228515625\n",
            "statsitic std of sample_det coverages is  0.2651416634086261\n"
          ]
        },
        {
          "output_type": "stream",
          "name": "stderr",
          "text": [
            "epoch 28 iter 14: train loss 1.15737. lr 7.200000e-05: 100%|██████████| 15/15 [00:03<00:00,  3.88it/s]\n",
            "epoch 28 iter 3: test loss 3.74088: 100%|██████████| 4/4 [00:00<00:00, 12.70it/s]\n"
          ]
        },
        {
          "output_type": "stream",
          "name": "stdout",
          "text": [
            "overlap_rates  [0.47508865 0.         0.39198964 0.05835423 0.01272178 0.\n",
            " 0.         0.343079   0.4229443  0.        ]\n",
            "coverages  [0.8605957  0.75019836 0.74252319 0.80328369 0.54093933 0.56816101\n",
            " 0.69799805 0.64454651 0.80535889 0.6204834 ]\n",
            "statsitic average of overlap_rates is  0.1704177604884798\n",
            "statsitic std of overlap_rates is  0.19725494030364016\n",
            "statsitic average of coverages is  0.7034088134765625\n",
            "statsitic std of coverages is  0.10190912439987176\n",
            "recon_overlap_rates  [1, 1, 1, 0.09006940736785905, 0.7969527034176278, 1, 0.3919781221513218, 1, 0.9289056875449964, 0.9482324410036377]\n",
            "recon_coverages  [0.2335205078125, 0.205657958984375, 0.1790771484375, 0.57159423828125, 0.4326324462890625, 0.467071533203125, 0.4854278564453125, 0.2557220458984375, 0.25433349609375, 0.327178955078125]\n",
            "statsitic average of recon_overlap_rates is  0.8156138361485443\n",
            "statsitic std of  recon_overlap_rates is  0.30110533027982994\n",
            "statsitic average of recon_coverages is  0.34122161865234374\n",
            "statsitic std of recon_coverages is  0.13014834105659348\n",
            "sample_random overlap_rates  [0.54791643 0.01563935 0.14603083 0.20878021 0.01692133 0.56381992\n",
            " 0.05690788 0.09616244 0.00100431 0.09566805]\n",
            "sample_random coverages  [0.54486084 0.6146698  0.4780426  0.79246521 0.78091431 0.55923462\n",
            " 0.73843384 0.54632568 0.68370056 0.75202942]\n",
            "statsitic average of sample_random overlap_rates is  0.17488507581041238\n",
            "statsitic std of sample_random overlap_rates is  0.19983533900246325\n",
            "statsitic average of sample_random coverages is  0.6490676879882813\n",
            "statsitic std of sample_random coverages is  0.1084670476999849\n",
            "sample_det overlap_rates  [0.01089264 0.06685234 0.65751412 0.12323287 0.00241465 0.01468873\n",
            " 0.00310861 1.         0.25582068 0.07210412]\n",
            "sample_det coverages  [0.60375977 1.64907837 0.59184265 0.7361145  0.72671509 0.64094543\n",
            " 0.6282959  0.30484009 0.52757263 0.72924805]\n",
            "statsitic average of sample_det overlap_rates is  0.22066287450866215\n",
            "statsitic std of sample_det overlap_rates is  0.3218776897872617\n",
            "statsitic average of sample_det coverages is  0.7138412475585938\n",
            "statsitic std of sample_det coverages is  0.33424228023011354\n"
          ]
        },
        {
          "output_type": "stream",
          "name": "stderr",
          "text": [
            "epoch 29 iter 14: train loss 1.07103. lr 7.200000e-05: 100%|██████████| 15/15 [00:03<00:00,  3.87it/s]\n",
            "epoch 29 iter 3: test loss 4.09875: 100%|██████████| 4/4 [00:00<00:00, 12.66it/s]\n"
          ]
        },
        {
          "output_type": "stream",
          "name": "stdout",
          "text": [
            "overlap_rates  [0.47508865 0.         0.39198964 0.05835423 0.01272178 0.\n",
            " 0.         0.343079   0.4229443  0.        ]\n",
            "coverages  [0.8605957  0.75019836 0.74252319 0.80328369 0.54093933 0.56816101\n",
            " 0.69799805 0.64454651 0.80535889 0.6204834 ]\n",
            "statsitic average of overlap_rates is  0.1704177604884798\n",
            "statsitic std of overlap_rates is  0.19725494030364016\n",
            "statsitic average of coverages is  0.7034088134765625\n",
            "statsitic std of coverages is  0.10190912439987176\n",
            "recon_overlap_rates  [0.5543958555538626, 0.7797242666113817, 0.35350196048281696, 0.09165254979846954, 1, 1, 0.8801728707139072, 0.7785620588419014, 0.34070118796307797, 1]\n",
            "recon_coverages  [0.40057373046875, 0.294403076171875, 0.1984710693359375, 0.522430419921875, 0.289794921875, 0.49737548828125, 0.3742523193359375, 0.488555908203125, 0.3686370849609375, 0.292083740234375]\n",
            "statsitic average of recon_overlap_rates is  0.6778710749965418\n",
            "statsitic std of  recon_overlap_rates is  0.308307807339742\n",
            "statsitic average of recon_coverages is  0.37265777587890625\n",
            "statsitic std of recon_coverages is  0.10101483721114285\n",
            "sample_random overlap_rates  [0.00398956 0.0458926  0.         0.06876114 0.49225714 0.00967866\n",
            " 1.         0.13460997 0.0061758  0.30319279]\n",
            "sample_random coverages  [0.61959839 0.75840759 0.5528717  0.68481445 0.84049988 0.75358582\n",
            " 0.75468445 0.70439148 0.57321167 0.62319946]\n",
            "statsitic average of sample_random overlap_rates is  0.2064557658692312\n",
            "statsitic std of sample_random overlap_rates is  0.30546766279852583\n",
            "statsitic average of sample_random coverages is  0.6865264892578125\n",
            "statsitic std of sample_random coverages is  0.08805270001420265\n",
            "sample_det overlap_rates  [0.22445475 0.00624786 0.10138841 0.04558852 0.05513479 0.26044874\n",
            " 0.00706627 0.34661449 0.01915282 0.03505502]\n",
            "sample_det coverages  [0.71081543 0.53485107 0.66490173 0.77651978 0.7131958  0.79296875\n",
            " 0.62190247 0.77206421 0.64372253 0.68774414]\n",
            "statsitic average of sample_det overlap_rates is  0.11011516738411667\n",
            "statsitic std of sample_det overlap_rates is  0.11583781967096375\n",
            "statsitic average of sample_det coverages is  0.6918685913085938\n",
            "statsitic std of sample_det coverages is  0.07565993617609894\n"
          ]
        },
        {
          "output_type": "stream",
          "name": "stderr",
          "text": [
            "epoch 30 iter 14: train loss 1.01872. lr 7.200000e-05: 100%|██████████| 15/15 [00:03<00:00,  3.85it/s]\n",
            "epoch 30 iter 3: test loss 4.08215: 100%|██████████| 4/4 [00:00<00:00, 12.41it/s]\n"
          ]
        },
        {
          "output_type": "stream",
          "name": "stdout",
          "text": [
            "overlap_rates  [0.47508865 0.         0.39198964 0.05835423 0.01272178 0.\n",
            " 0.         0.343079   0.4229443  0.        ]\n",
            "coverages  [0.8605957  0.75019836 0.74252319 0.80328369 0.54093933 0.56816101\n",
            " 0.69799805 0.64454651 0.80535889 0.6204834 ]\n",
            "statsitic average of overlap_rates is  0.1704177604884798\n",
            "statsitic std of overlap_rates is  0.19725494030364016\n",
            "statsitic average of coverages is  0.7034088134765625\n",
            "statsitic std of coverages is  0.10190912439987176\n",
            "recon_overlap_rates  [0.5174030514939606, 1, 0.338566011112091, 0.07943446279995177, 1, 1, 0.5761493781380238, 1, 1, 1]\n",
            "recon_coverages  [0.384033203125, 0.2895355224609375, 0.1730194091796875, 0.50616455078125, 0.3033294677734375, 0.271392822265625, 0.4649810791015625, 0.2541351318359375, 0.2009735107421875, 0.3245849609375]\n",
            "statsitic average of recon_overlap_rates is  0.7511552903544028\n",
            "statsitic std of  recon_overlap_rates is  0.32836688309126005\n",
            "statsitic average of recon_coverages is  0.3172149658203125\n",
            "statsitic std of recon_coverages is  0.10168475349107525\n",
            "sample_random overlap_rates  [0.15235917 0.16499578 0.24940694 0.2033086  0.         0.76230649\n",
            " 0.38773245 0.51286582 0.06469348 0.04665486]\n",
            "sample_random coverages  [0.78067017 0.70469666 0.70755005 0.49346924 0.71911621 0.70178223\n",
            " 0.60475159 0.55267334 0.7021637  0.54258728]\n",
            "statsitic average of sample_random overlap_rates is  0.2544323582213945\n",
            "statsitic std of sample_random overlap_rates is  0.22526823711690586\n",
            "statsitic average of sample_random coverages is  0.650946044921875\n",
            "statsitic std of sample_random coverages is  0.09006011586422115\n",
            "sample_det overlap_rates  [7.06334536e-01 1.00000000e+00 1.00000000e+00 1.36430777e-01\n",
            " 6.12518380e-01 7.91624612e-04 1.52723570e-02 9.65102204e-01\n",
            " 8.56424797e-02 2.17337355e-01]\n",
            "sample_det coverages  [0.67687988 0.64102173 0.12034607 0.79542542 0.456604   0.77101135\n",
            " 0.71936035 0.66810608 0.71035767 0.79931641]\n",
            "statsitic average of sample_det overlap_rates is  0.47394297132227303\n",
            "statsitic std of sample_det overlap_rates is  0.4040677534904605\n",
            "statsitic average of sample_det coverages is  0.6358428955078125\n",
            "statsitic std of sample_det coverages is  0.19585801572312792\n"
          ]
        },
        {
          "output_type": "stream",
          "name": "stderr",
          "text": [
            "epoch 31 iter 14: train loss 0.91660. lr 7.200000e-05: 100%|██████████| 15/15 [00:03<00:00,  3.89it/s]\n",
            "epoch 31 iter 3: test loss 4.19505: 100%|██████████| 4/4 [00:00<00:00, 12.66it/s]\n"
          ]
        },
        {
          "output_type": "stream",
          "name": "stdout",
          "text": [
            "overlap_rates  [0.47508865 0.         0.39198964 0.05835423 0.01272178 0.\n",
            " 0.         0.343079   0.4229443  0.        ]\n",
            "coverages  [0.8605957  0.75019836 0.74252319 0.80328369 0.54093933 0.56816101\n",
            " 0.69799805 0.64454651 0.80535889 0.6204834 ]\n",
            "statsitic average of overlap_rates is  0.1704177604884798\n",
            "statsitic std of overlap_rates is  0.19725494030364016\n",
            "statsitic average of coverages is  0.7034088134765625\n",
            "statsitic std of coverages is  0.10190912439987176\n",
            "recon_overlap_rates  [0.34344186046511627, 0.982715656645989, 0.5422959325488743, 0.22570410942503966, 1, 1, 0.5096034015101533, 1, 1, 0.9184480116157134]\n",
            "recon_coverages  [0.4100799560546875, 0.2877960205078125, 0.1646881103515625, 0.5098114013671875, 0.3493499755859375, 0.37249755859375, 0.416290283203125, 0.4431304931640625, 0.2089691162109375, 0.378326416015625]\n",
            "statsitic average of recon_overlap_rates is  0.7522208972210886\n",
            "statsitic std of  recon_overlap_rates is  0.2955654227946635\n",
            "statsitic average of recon_coverages is  0.35409393310546877\n",
            "statsitic std of recon_coverages is  0.10072629391507489\n",
            "sample_random overlap_rates  [0.07054816 0.33592696 0.36801507 0.1772104  0.15465112 0.21504252\n",
            " 0.00834667 0.         0.07529723 0.07136354]\n",
            "sample_random coverages  [0.64497375 0.8256073  0.42134094 0.7255249  0.79031372 0.67111206\n",
            " 0.70565796 0.67579651 0.61219788 0.62007141]\n",
            "statsitic average of sample_random overlap_rates is  0.14764016433727314\n",
            "statsitic std of sample_random overlap_rates is  0.12152314286710908\n",
            "statsitic average of sample_random coverages is  0.6692596435546875\n",
            "statsitic std of sample_random coverages is  0.10552936666393534\n",
            "sample_det overlap_rates  [0.12542418 0.00122871 0.16466473 0.00589781 0.         0.54825082\n",
            " 0.0019006  0.59008458 0.00623119 0.07655824]\n",
            "sample_det coverages  [0.69247437 0.63334656 0.69360352 0.76063538 0.69384766 0.8487854\n",
            " 0.69847107 0.86054993 0.79585266 0.47615051]\n",
            "statsitic average of sample_det overlap_rates is  0.15202408556913485\n",
            "statsitic std of sample_det overlap_rates is  0.21597479947829465\n",
            "statsitic average of sample_det coverages is  0.7153717041015625\n",
            "statsitic std of sample_det coverages is  0.10635030627561338\n"
          ]
        },
        {
          "output_type": "stream",
          "name": "stderr",
          "text": [
            "epoch 32 iter 14: train loss 0.91317. lr 7.200000e-05: 100%|██████████| 15/15 [00:03<00:00,  3.88it/s]\n",
            "epoch 32 iter 3: test loss 4.13678: 100%|██████████| 4/4 [00:00<00:00, 12.68it/s]\n"
          ]
        },
        {
          "output_type": "stream",
          "name": "stdout",
          "text": [
            "overlap_rates  [0.47508865 0.         0.39198964 0.05835423 0.01272178 0.\n",
            " 0.         0.343079   0.4229443  0.        ]\n",
            "coverages  [0.8605957  0.75019836 0.74252319 0.80328369 0.54093933 0.56816101\n",
            " 0.69799805 0.64454651 0.80535889 0.6204834 ]\n",
            "statsitic average of overlap_rates is  0.1704177604884798\n",
            "statsitic std of overlap_rates is  0.19725494030364016\n",
            "statsitic average of coverages is  0.7034088134765625\n",
            "statsitic std of coverages is  0.10190912439987176\n",
            "recon_overlap_rates  [0.48546521971179507, 0.5883642842458713, 0.30711926887335844, 0.22699519687389758, 1, 1, 0.524442082890542, 1, 0.9381313886066113, 1]\n",
            "recon_coverages  [0.4288482666015625, 0.445343017578125, 0.1986846923828125, 0.5623016357421875, 0.2256011962890625, 0.13360595703125, 0.45947265625, 0.3575439453125, 0.2552642822265625, 0.3180694580078125]\n",
            "statsitic average of recon_overlap_rates is  0.7070517441202075\n",
            "statsitic std of  recon_overlap_rates is  0.29725517442163524\n",
            "statsitic average of recon_coverages is  0.3384735107421875\n",
            "statsitic std of recon_coverages is  0.12895118493728824\n",
            "sample_random overlap_rates  [0.00713681 0.0199987  0.01965995 0.02929376 0.06652283 0.00403506\n",
            " 0.06786651 0.01648265 0.10223735 0.4750797 ]\n",
            "sample_random coverages  [0.79321289 0.70500183 0.73500061 0.78341675 0.71427917 0.68067932\n",
            " 0.68080139 0.77392578 0.57833862 0.67965698]\n",
            "statsitic average of sample_random overlap_rates is  0.08083133087342684\n",
            "statsitic std of sample_random overlap_rates is  0.1348446457805742\n",
            "statsitic average of sample_random coverages is  0.7124313354492188\n",
            "statsitic std of sample_random coverages is  0.060809371831061804\n",
            "sample_det overlap_rates  [0.01306051 0.01539034 0.06691769 0.16348916 0.         0.00837277\n",
            " 0.10012748 0.55955705 0.         0.09332527]\n",
            "sample_det coverages  [0.42059326 0.77928162 0.74563599 0.70111084 0.66731262 0.71257019\n",
            " 0.7301178  0.80883789 0.78759766 0.75668335]\n",
            "statsitic average of sample_det overlap_rates is  0.10202402774546564\n",
            "statsitic std of sample_det overlap_rates is  0.16106967830631436\n",
            "statsitic average of sample_det coverages is  0.71097412109375\n",
            "statsitic std of sample_det coverages is  0.10492800293124681\n"
          ]
        },
        {
          "output_type": "stream",
          "name": "stderr",
          "text": [
            "epoch 33 iter 14: train loss 0.85646. lr 7.200000e-05: 100%|██████████| 15/15 [00:03<00:00,  3.87it/s]\n",
            "epoch 33 iter 3: test loss 4.33554: 100%|██████████| 4/4 [00:00<00:00, 12.61it/s]\n"
          ]
        },
        {
          "output_type": "stream",
          "name": "stdout",
          "text": [
            "overlap_rates  [0.47508865 0.         0.39198964 0.05835423 0.01272178 0.\n",
            " 0.         0.343079   0.4229443  0.        ]\n",
            "coverages  [0.8605957  0.75019836 0.74252319 0.80328369 0.54093933 0.56816101\n",
            " 0.69799805 0.64454651 0.80535889 0.6204834 ]\n",
            "statsitic average of overlap_rates is  0.1704177604884798\n",
            "statsitic std of overlap_rates is  0.19725494030364016\n",
            "statsitic average of coverages is  0.7034088134765625\n",
            "statsitic std of coverages is  0.10190912439987176\n",
            "recon_overlap_rates  [0.5062819002748331, 0.16558771848700637, 0.874886862076168, 0.10604876734473932, 1, 1, 0.3168222731592777, 1, 1, 1]\n",
            "recon_coverages  [0.388641357421875, 0.65997314453125, 0.2191619873046875, 0.5663299560546875, 0.3154144287109375, 0.2903289794921875, 0.545867919921875, 0.3620452880859375, 0.2505035400390625, 0.1530303955078125]\n",
            "statsitic average of recon_overlap_rates is  0.6969627521342024\n",
            "statsitic std of  recon_overlap_rates is  0.36100132848695243\n",
            "statsitic average of recon_coverages is  0.37512969970703125\n",
            "statsitic std of recon_coverages is  0.1572073205359787\n",
            "sample_random overlap_rates  [0.19667282 0.1050226  0.01469791 0.25203709 0.14950616 0.32953422\n",
            " 0.00465806 0.19690091 0.01020758 0.17695052]\n",
            "sample_random coverages  [0.72735596 0.60092163 0.56268311 0.16291809 0.58552551 0.6171875\n",
            " 0.79273987 0.71589661 0.53366089 0.43202209]\n",
            "statsitic average of sample_random overlap_rates is  0.14361878616688245\n",
            "statsitic std of sample_random overlap_rates is  0.10408522903361933\n",
            "statsitic average of sample_random coverages is  0.5730911254882812\n",
            "statsitic std of sample_random coverages is  0.16885369860497873\n",
            "sample_det overlap_rates  [0.94745131 0.09240895 0.06893939 0.08896246 0.11715887 0.13736438\n",
            " 0.01200579 0.48846382 0.48023479 1.        ]\n",
            "sample_det coverages  [0.65885925 0.68162537 0.62438965 0.43325806 0.62879944 0.67227173\n",
            " 0.70664978 0.82403564 0.80326843 0.35675049]\n",
            "statsitic average of sample_det overlap_rates is  0.3432989753428228\n",
            "statsitic std of sample_det overlap_rates is  0.3524613673746285\n",
            "statsitic average of sample_det coverages is  0.6389907836914063\n",
            "statsitic std of sample_det coverages is  0.13835792975617306\n"
          ]
        },
        {
          "output_type": "stream",
          "name": "stderr",
          "text": [
            "epoch 34 iter 14: train loss 0.79279. lr 7.200000e-05: 100%|██████████| 15/15 [00:03<00:00,  3.87it/s]\n",
            "epoch 34 iter 3: test loss 4.28879: 100%|██████████| 4/4 [00:00<00:00, 12.45it/s]\n"
          ]
        },
        {
          "output_type": "stream",
          "name": "stdout",
          "text": [
            "overlap_rates  [0.47508865 0.         0.39198964 0.05835423 0.01272178 0.\n",
            " 0.         0.343079   0.4229443  0.        ]\n",
            "coverages  [0.8605957  0.75019836 0.74252319 0.80328369 0.54093933 0.56816101\n",
            " 0.69799805 0.64454651 0.80535889 0.6204834 ]\n",
            "statsitic average of overlap_rates is  0.1704177604884798\n",
            "statsitic std of overlap_rates is  0.19725494030364016\n",
            "statsitic average of coverages is  0.7034088134765625\n",
            "statsitic std of coverages is  0.10190912439987176\n",
            "recon_overlap_rates  [0.46619790773452235, 0.8334015554645927, 0.3982239966958078, 0.1008058103164926, 1, 1, 0.6402447601631734, 1, 1, 0.932575398705195]\n",
            "recon_coverages  [0.4448699951171875, 0.2982177734375, 0.2216644287109375, 0.575653076171875, 0.2933349609375, 0.3141326904296875, 0.43389892578125, 0.2861175537109375, 0.17608642578125, 0.38653564453125]\n",
            "statsitic average of recon_overlap_rates is  0.7371449429079784\n",
            "statsitic std of  recon_overlap_rates is  0.3043725288857853\n",
            "statsitic average of recon_coverages is  0.3430511474609375\n",
            "statsitic std of recon_coverages is  0.11215451437497888\n",
            "sample_random overlap_rates  [0.76573265 0.0257147  0.15506986 0.01981423 0.         0.21359327\n",
            " 0.23388795 0.26140416 0.         0.19516625]\n",
            "sample_random coverages  [0.49391174 0.63729858 0.7721405  0.65380859 0.72772217 0.71774292\n",
            " 0.80427551 0.53486633 0.70504761 0.65533447]\n",
            "statsitic average of sample_random overlap_rates is  0.18703830489651657\n",
            "statsitic std of sample_random overlap_rates is  0.21641658308573028\n",
            "statsitic average of sample_random coverages is  0.67021484375\n",
            "statsitic std of sample_random coverages is  0.09279898060967628\n",
            "sample_det overlap_rates  [0.18872349 0.04261389 0.67235293 0.43496912 0.         0.\n",
            " 0.07211147 0.61319926 0.         0.00886622]\n",
            "sample_det coverages  [0.61811829 0.8396759  0.61808777 0.76832581 0.78675842 0.6368103\n",
            " 0.60009766 0.81639099 0.77786255 0.75379944]\n",
            "statsitic average of sample_det overlap_rates is  0.20328363825977286\n",
            "statsitic std of sample_det overlap_rates is  0.25431058243658505\n",
            "statsitic average of sample_det coverages is  0.7215927124023438\n",
            "statsitic std of sample_det coverages is  0.08771192000731073\n"
          ]
        },
        {
          "output_type": "stream",
          "name": "stderr",
          "text": [
            "epoch 35 iter 14: train loss 0.77894. lr 7.200000e-05: 100%|██████████| 15/15 [00:03<00:00,  3.89it/s]\n",
            "epoch 35 iter 3: test loss 4.14394: 100%|██████████| 4/4 [00:00<00:00, 12.56it/s]\n"
          ]
        },
        {
          "output_type": "stream",
          "name": "stdout",
          "text": [
            "overlap_rates  [0.47508865 0.         0.39198964 0.05835423 0.01272178 0.\n",
            " 0.         0.343079   0.4229443  0.        ]\n",
            "coverages  [0.8605957  0.75019836 0.74252319 0.80328369 0.54093933 0.56816101\n",
            " 0.69799805 0.64454651 0.80535889 0.6204834 ]\n",
            "statsitic average of overlap_rates is  0.1704177604884798\n",
            "statsitic std of overlap_rates is  0.19725494030364016\n",
            "statsitic average of coverages is  0.7034088134765625\n",
            "statsitic std of coverages is  0.10190912439987176\n",
            "recon_overlap_rates  [0.4928525628936748, 0.8424092409240924, 1, 0.2878933362596362, 1, 1, 0.5936056952283222, 1, 0.96071083172147, 1]\n",
            "recon_coverages  [0.4045562744140625, 0.31439208984375, 0.2873077392578125, 0.5561981201171875, 0.4099578857421875, 0.34588623046875, 0.475830078125, 0.501373291015625, 0.25244140625, 0.32366943359375]\n",
            "statsitic average of recon_overlap_rates is  0.8177471667027195\n",
            "statsitic std of  recon_overlap_rates is  0.249733515591936\n",
            "statsitic average of recon_coverages is  0.3871612548828125\n",
            "statsitic std of recon_coverages is  0.09457940415007839\n",
            "sample_random overlap_rates  [0.         0.26873196 0.14360864 0.0587085  0.27031273 0.09487654\n",
            " 0.11128537 0.18170517 0.00327883 0.60624068]\n",
            "sample_random coverages  [0.52471924 0.66592407 0.71646118 0.71006775 0.73823547 0.70137024\n",
            " 0.71998596 0.71194458 0.72132874 0.68559265]\n",
            "statsitic average of sample_random overlap_rates is  0.17387484025636665\n",
            "statsitic std of sample_random overlap_rates is  0.16999195125320354\n",
            "statsitic average of sample_random coverages is  0.68956298828125\n",
            "statsitic std of sample_random coverages is  0.05816868532779603\n",
            "sample_det overlap_rates  [0.03556935 0.03271908 0.38560727 0.17438733 1.         0.26884976\n",
            " 0.04764231 0.36806097 0.0040153  0.        ]\n",
            "sample_det coverages  [0.44743347 0.73777771 0.70883179 0.51055908 0.50827026 0.81637573\n",
            " 1.31185913 0.88096619 0.72583008 0.61535645]\n",
            "statsitic average of sample_det overlap_rates is  0.23168513646619976\n",
            "statsitic std of sample_det overlap_rates is  0.29235160001607086\n",
            "statsitic average of sample_det coverages is  0.7263259887695312\n",
            "statsitic std of sample_det coverages is  0.23653920932293784\n"
          ]
        },
        {
          "output_type": "stream",
          "name": "stderr",
          "text": [
            "epoch 36 iter 14: train loss 0.74940. lr 7.200000e-05: 100%|██████████| 15/15 [00:03<00:00,  3.87it/s]\n",
            "epoch 36 iter 3: test loss 4.29044: 100%|██████████| 4/4 [00:00<00:00, 12.72it/s]\n"
          ]
        },
        {
          "output_type": "stream",
          "name": "stdout",
          "text": [
            "overlap_rates  [0.47508865 0.         0.39198964 0.05835423 0.01272178 0.\n",
            " 0.         0.343079   0.4229443  0.        ]\n",
            "coverages  [0.8605957  0.75019836 0.74252319 0.80328369 0.54093933 0.56816101\n",
            " 0.69799805 0.64454651 0.80535889 0.6204834 ]\n",
            "statsitic average of overlap_rates is  0.1704177604884798\n",
            "statsitic std of overlap_rates is  0.19725494030364016\n",
            "statsitic average of coverages is  0.7034088134765625\n",
            "statsitic std of coverages is  0.10190912439987176\n",
            "recon_overlap_rates  [0.5606501526013202, 0.7260546564075352, 0.18739294278862625, 0.10817838669089892, 1, 1, 0.4752004228702317, 1, 0.37163846838824577, 1]\n",
            "recon_coverages  [0.429962158203125, 0.345062255859375, 0.3563232421875, 0.5457305908203125, 0.349395751953125, 0.3146820068359375, 0.5196075439453125, 0.3888702392578125, 0.34271240234375, 0.3453826904296875]\n",
            "statsitic average of recon_overlap_rates is  0.6429115029746858\n",
            "statsitic std of  recon_overlap_rates is  0.3344968195016641\n",
            "statsitic average of recon_coverages is  0.39377288818359374\n",
            "statsitic std of recon_coverages is  0.07563589563442964\n",
            "sample_random overlap_rates  [0.15416017 0.02929387 0.01744197 0.53894372 0.01073677 0.09442724\n",
            " 0.01217507 0.19899662 0.14191166 0.21682012]\n",
            "sample_random coverages  [0.53825378 0.45681763 0.7960968  0.66941833 0.52583313 0.52243042\n",
            " 0.52888489 0.75428772 0.73545837 0.85020447]\n",
            "statsitic average of sample_random overlap_rates is  0.14149072187589773\n",
            "statsitic std of sample_random overlap_rates is  0.15202675885666092\n",
            "statsitic average of sample_random coverages is  0.6377685546875\n",
            "statsitic std of sample_random coverages is  0.13215637767277735\n",
            "sample_det overlap_rates  [0.25678482 0.         0.01853635 0.03648269 0.59662289 0.\n",
            " 0.27931282 0.37127715 0.56947955 0.14242435]\n",
            "sample_det coverages  [0.86697388 0.6055603  0.6338501  0.70140076 0.78889465 0.67652893\n",
            " 0.82780457 0.87814331 0.71243286 0.42811584]\n",
            "statsitic average of sample_det overlap_rates is  0.22709206260310572\n",
            "statsitic std of sample_det overlap_rates is  0.2164065330963748\n",
            "statsitic average of sample_det coverages is  0.7119705200195312\n",
            "statsitic std of sample_det coverages is  0.13051503233740508\n"
          ]
        },
        {
          "output_type": "stream",
          "name": "stderr",
          "text": [
            "epoch 37 iter 14: train loss 0.66665. lr 7.200000e-05: 100%|██████████| 15/15 [00:03<00:00,  3.86it/s]\n",
            "epoch 37 iter 3: test loss 4.30021: 100%|██████████| 4/4 [00:00<00:00, 12.68it/s]\n"
          ]
        },
        {
          "output_type": "stream",
          "name": "stdout",
          "text": [
            "overlap_rates  [0.47508865 0.         0.39198964 0.05835423 0.01272178 0.\n",
            " 0.         0.343079   0.4229443  0.        ]\n",
            "coverages  [0.8605957  0.75019836 0.74252319 0.80328369 0.54093933 0.56816101\n",
            " 0.69799805 0.64454651 0.80535889 0.6204834 ]\n",
            "statsitic average of overlap_rates is  0.1704177604884798\n",
            "statsitic std of overlap_rates is  0.19725494030364016\n",
            "statsitic average of coverages is  0.7034088134765625\n",
            "statsitic std of coverages is  0.10190912439987176\n",
            "recon_overlap_rates  [0.6030055507920032, 1, 0.2902991959931462, 0.08726019184652278, 1, 1, 0.4854211312422885, 1, 0.9525598573611819, 1]\n",
            "recon_coverages  [0.3381195068359375, 0.2447357177734375, 0.231536865234375, 0.509033203125, 0.333343505859375, 0.388946533203125, 0.469940185546875, 0.246673583984375, 0.2396240234375, 0.3909912109375]\n",
            "statsitic average of recon_overlap_rates is  0.7418545927235143\n",
            "statsitic std of  recon_overlap_rates is  0.33091165703615105\n",
            "statsitic average of recon_coverages is  0.33929443359375\n",
            "statsitic std of recon_coverages is  0.09493160742445288\n",
            "sample_random overlap_rates  [0.06990896 0.20615824 0.01156894 0.029958   0.10985522 0.14563127\n",
            " 0.00228817 0.0298425  0.10078605 0.53817265]\n",
            "sample_random coverages  [0.63690186 0.5872345  0.77026367 0.76655579 0.6776886  0.71583557\n",
            " 0.6401825  0.7460022  0.58818054 0.56881714]\n",
            "statsitic average of sample_random overlap_rates is  0.12441700100703776\n",
            "statsitic std of sample_random overlap_rates is  0.15085886848809757\n",
            "statsitic average of sample_random coverages is  0.6697662353515625\n",
            "statsitic std of sample_random coverages is  0.07285514380419521\n",
            "sample_det overlap_rates  [0.50283532 0.00321973 0.32266746 0.11132049 0.68770901 0.17925123\n",
            " 0.0091016  0.34232297 0.88871794 0.2371586 ]\n",
            "sample_det coverages  [0.79917908 0.69665527 0.76538086 0.87451172 0.81216431 0.79924011\n",
            " 0.80471802 0.87980652 0.69422913 0.65086365]\n",
            "statsitic average of sample_det overlap_rates is  0.3284304348705913\n",
            "statsitic std of sample_det overlap_rates is  0.2755178911874685\n",
            "statsitic average of sample_det coverages is  0.7776748657226562\n",
            "statsitic std of sample_det coverages is  0.07239902531503148\n"
          ]
        },
        {
          "output_type": "stream",
          "name": "stderr",
          "text": [
            "epoch 38 iter 14: train loss 0.66347. lr 7.200000e-05: 100%|██████████| 15/15 [00:03<00:00,  3.88it/s]\n",
            "epoch 38 iter 3: test loss 4.35130: 100%|██████████| 4/4 [00:00<00:00, 12.52it/s]\n"
          ]
        },
        {
          "output_type": "stream",
          "name": "stdout",
          "text": [
            "overlap_rates  [0.47508865 0.         0.39198964 0.05835423 0.01272178 0.\n",
            " 0.         0.343079   0.4229443  0.        ]\n",
            "coverages  [0.8605957  0.75019836 0.74252319 0.80328369 0.54093933 0.56816101\n",
            " 0.69799805 0.64454651 0.80535889 0.6204834 ]\n",
            "statsitic average of overlap_rates is  0.1704177604884798\n",
            "statsitic std of overlap_rates is  0.19725494030364016\n",
            "statsitic average of coverages is  0.7034088134765625\n",
            "statsitic std of coverages is  0.10190912439987176\n",
            "recon_overlap_rates  [0.3688831699655603, 0.587683366593145, 0.300702133405347, 0.11105794790005316, 1, 1, 0.3164453939671397, 1, 0.8985732448085888, 0.990431556336653]\n",
            "recon_coverages  [0.4031829833984375, 0.4358367919921875, 0.22601318359375, 0.57403564453125, 0.351409912109375, 0.2198944091796875, 0.599945068359375, 0.106048583984375, 0.216033935546875, 0.3907012939453125]\n",
            "statsitic average of recon_overlap_rates is  0.6573776812976487\n",
            "statsitic std of  recon_overlap_rates is  0.33930432446904657\n",
            "statsitic average of recon_coverages is  0.3523101806640625\n",
            "statsitic std of recon_coverages is  0.1530442749143834\n",
            "sample_random overlap_rates  [0.16593628 0.02222695 0.87679679 0.36545285 0.37761277 0.22514289\n",
            " 0.84344004 0.27337909 0.90125941 0.2053674 ]\n",
            "sample_random coverages  [0.77297974 0.64530945 0.82162476 0.6063385  0.6555481  0.55262756\n",
            " 0.54150391 0.6469574  0.61427307 0.65101624]\n",
            "statsitic average of sample_random overlap_rates is  0.4256614466729672\n",
            "statsitic std of sample_random overlap_rates is  0.30859890652565225\n",
            "statsitic average of sample_random coverages is  0.65081787109375\n",
            "statsitic std of sample_random coverages is  0.0831089584411327\n",
            "sample_det overlap_rates  [1.42328378e-01 3.23787765e-02 2.40335806e-01 1.02615359e-01\n",
            " 3.21572723e-01 6.97029505e-03 5.21724751e-02 3.75297407e-01\n",
            " 5.51729961e-01 3.88330664e-04]\n",
            "sample_det coverages  [0.74617004 0.77474976 0.54708862 0.54959106 0.54060364 0.61076355\n",
            " 0.7381897  0.87861633 0.7228241  0.62869263]\n",
            "statsitic average of sample_det overlap_rates is  0.1825789511811376\n",
            "statsitic std of sample_det overlap_rates is  0.1754081078518223\n",
            "statsitic average of sample_det coverages is  0.6737289428710938\n",
            "statsitic std of sample_det coverages is  0.1091606725062675\n"
          ]
        },
        {
          "output_type": "stream",
          "name": "stderr",
          "text": [
            "epoch 39 iter 14: train loss 0.59920. lr 7.200000e-05: 100%|██████████| 15/15 [00:03<00:00,  3.87it/s]\n",
            "epoch 39 iter 3: test loss 4.43923: 100%|██████████| 4/4 [00:00<00:00, 12.54it/s]\n"
          ]
        },
        {
          "output_type": "stream",
          "name": "stdout",
          "text": [
            "overlap_rates  [0.47508865 0.         0.39198964 0.05835423 0.01272178 0.\n",
            " 0.         0.343079   0.4229443  0.        ]\n",
            "coverages  [0.8605957  0.75019836 0.74252319 0.80328369 0.54093933 0.56816101\n",
            " 0.69799805 0.64454651 0.80535889 0.6204834 ]\n",
            "statsitic average of overlap_rates is  0.1704177604884798\n",
            "statsitic std of overlap_rates is  0.19725494030364016\n",
            "statsitic average of coverages is  0.7034088134765625\n",
            "statsitic std of coverages is  0.10190912439987176\n",
            "recon_overlap_rates  [0.526595965897276, 0.5449774558356124, 0.8045970219806192, 0.04536677115987461, 0.9712782705525477, 1, 0.3361188951160929, 1, 1, 1]\n",
            "recon_coverages  [0.3668975830078125, 0.412872314453125, 0.25823974609375, 0.6084442138671875, 0.3973846435546875, 0.1972808837890625, 0.60986328125, 0.3806915283203125, 0.2050628662109375, 0.36505126953125]\n",
            "statsitic average of recon_overlap_rates is  0.7228934380542024\n",
            "statsitic std of  recon_overlap_rates is  0.32470700840253797\n",
            "statsitic average of recon_coverages is  0.3801788330078125\n",
            "statsitic std of recon_coverages is  0.1362412689740634\n",
            "sample_random overlap_rates  [0.14562663 0.07780634 0.01345207 0.22617609 0.39529115 1.\n",
            " 0.51126056 0.40800782 0.27220175 0.22199891]\n",
            "sample_random coverages  [0.60133362 0.71228027 0.724823   0.85888672 0.76280212 0.5730896\n",
            " 0.68972778 0.53086853 0.66253662 0.53144836]\n",
            "statsitic average of sample_random overlap_rates is  0.32718213276173624\n",
            "statsitic std of sample_random overlap_rates is  0.2675081669969289\n",
            "statsitic average of sample_random coverages is  0.6647796630859375\n",
            "statsitic std of sample_random coverages is  0.10095384935378354\n",
            "sample_det overlap_rates  [0.12804528 0.         0.26306882 0.06918031 0.02026061 0.03615691\n",
            " 0.00581665 0.46888212 0.16251529 0.        ]\n",
            "sample_det coverages  [0.53112793 0.68165588 0.73031616 0.78388977 0.76818848 0.8052063\n",
            " 0.75550842 0.8769989  0.78596497 0.62841797]\n",
            "statsitic average of sample_det overlap_rates is  0.11539259883578327\n",
            "statsitic std of sample_det overlap_rates is  0.14326391958744136\n",
            "statsitic average of sample_det coverages is  0.7347274780273437\n",
            "statsitic std of sample_det coverages is  0.0934840419530196\n"
          ]
        },
        {
          "output_type": "stream",
          "name": "stderr",
          "text": [
            "epoch 40 iter 14: train loss 0.53574. lr 7.200000e-05: 100%|██████████| 15/15 [00:03<00:00,  3.88it/s]\n",
            "epoch 40 iter 3: test loss 4.41252: 100%|██████████| 4/4 [00:00<00:00, 12.64it/s]\n"
          ]
        },
        {
          "output_type": "stream",
          "name": "stdout",
          "text": [
            "overlap_rates  [0.47508865 0.         0.39198964 0.05835423 0.01272178 0.\n",
            " 0.         0.343079   0.4229443  0.        ]\n",
            "coverages  [0.8605957  0.75019836 0.74252319 0.80328369 0.54093933 0.56816101\n",
            " 0.69799805 0.64454651 0.80535889 0.6204834 ]\n",
            "statsitic average of overlap_rates is  0.1704177604884798\n",
            "statsitic std of overlap_rates is  0.19725494030364016\n",
            "statsitic average of coverages is  0.7034088134765625\n",
            "statsitic std of coverages is  0.10190912439987176\n",
            "recon_overlap_rates  [0.5158828382838284, 0.6785938018203929, 0.28075655040777375, 0.15324053824581263, 1, 1, 0.29739302235929066, 1, 1, 1]\n",
            "recon_coverages  [0.369873046875, 0.4140777587890625, 0.35174560546875, 0.5930633544921875, 0.3592376708984375, 0.2031402587890625, 0.63330078125, 0.199615478515625, 0.2382354736328125, 0.3453826904296875]\n",
            "statsitic average of recon_overlap_rates is  0.6925866751117098\n",
            "statsitic std of  recon_overlap_rates is  0.33475530439242257\n",
            "statsitic average of recon_coverages is  0.3707672119140625\n",
            "statsitic std of recon_coverages is  0.1401112242844958\n",
            "sample_random overlap_rates  [0.09821925 0.03722202 0.11676462 0.         0.05435924 0.31307535\n",
            " 0.12409979 0.00074285 0.04224453 0.        ]\n",
            "sample_random coverages  [0.6315155  0.64155579 0.64385986 0.71063232 0.69726562 0.54533386\n",
            " 0.71191406 0.63676453 0.81306458 0.64437866]\n",
            "statsitic average of sample_random overlap_rates is  0.07867276707874069\n",
            "statsitic std of sample_random overlap_rates is  0.08996079624815452\n",
            "statsitic average of sample_random coverages is  0.6676284790039062\n",
            "statsitic std of sample_random coverages is  0.06696159525168136\n",
            "sample_det overlap_rates  [0.06424894 0.29369965 0.44100149 0.05296652 0.7435801  0.01722111\n",
            " 0.20802061 1.         0.1182512  0.        ]\n",
            "sample_det coverages  [0.68161011 0.77088928 0.66429138 0.77926636 0.5680542  0.77883911\n",
            " 0.68107605 0.38314819 0.80377197 0.62841797]\n",
            "statsitic average of sample_det overlap_rates is  0.2938989616537514\n",
            "statsitic std of sample_det overlap_rates is  0.32161670288075717\n",
            "statsitic average of sample_det coverages is  0.6739364624023437\n",
            "statsitic std of sample_det coverages is  0.12099576520721253\n"
          ]
        },
        {
          "output_type": "stream",
          "name": "stderr",
          "text": [
            "epoch 41 iter 14: train loss 0.52929. lr 7.200000e-05: 100%|██████████| 15/15 [00:03<00:00,  3.89it/s]\n",
            "epoch 41 iter 3: test loss 4.46641: 100%|██████████| 4/4 [00:00<00:00, 12.60it/s]\n"
          ]
        },
        {
          "output_type": "stream",
          "name": "stdout",
          "text": [
            "overlap_rates  [0.47508865 0.         0.39198964 0.05835423 0.01272178 0.\n",
            " 0.         0.343079   0.4229443  0.        ]\n",
            "coverages  [0.8605957  0.75019836 0.74252319 0.80328369 0.54093933 0.56816101\n",
            " 0.69799805 0.64454651 0.80535889 0.6204834 ]\n",
            "statsitic average of overlap_rates is  0.1704177604884798\n",
            "statsitic std of overlap_rates is  0.19725494030364016\n",
            "statsitic average of coverages is  0.7034088134765625\n",
            "statsitic std of coverages is  0.10190912439987176\n",
            "recon_overlap_rates  [0.25531442936892307, 0.3878548248722444, 0.5265520173863744, 0.0707561494078348, 1, 1, 0.5962680476203879, 1, 1, 0.6969708002621423]\n",
            "recon_coverages  [0.4127349853515625, 0.4090728759765625, 0.322967529296875, 0.60296630859375, 0.22039794921875, 0.22064208984375, 0.5421600341796875, 0.3780517578125, 0.2220458984375, 0.419097900390625]\n",
            "statsitic average of recon_overlap_rates is  0.6533716268917906\n",
            "statsitic std of  recon_overlap_rates is  0.3271451261248086\n",
            "statsitic average of recon_coverages is  0.37501373291015627\n",
            "statsitic std of recon_coverages is  0.12580955240446876\n",
            "sample_random overlap_rates  [ 0.12552619  0.04769025  0.51938046 -2.61410287  0.02796653  0.10213997\n",
            "  0.25375061  0.33683128  0.00763035  0.        ]\n",
            "sample_random coverages  [ 0.8228302   0.67350769  0.57829285 -1.94320679  0.81513977  0.70661926\n",
            "  0.59092712  0.78665161  0.75590515  0.55841064]\n",
            "statsitic average of sample_random overlap_rates is  -0.11931872108687983\n",
            "statsitic std of sample_random overlap_rates is  0.8466444991437136\n",
            "statsitic average of sample_random coverages is  0.43450775146484377\n",
            "statsitic std of sample_random coverages is  0.7980076326550066\n",
            "sample_det overlap_rates  [0.16459892 0.         0.02449152 0.49053169 0.00126852 0.00240366\n",
            " 0.26948866 0.40078646 0.11818304 0.        ]\n",
            "sample_det coverages  [0.76869202 0.71224976 0.83049011 0.51972961 0.6736145  0.5776825\n",
            " 0.748703   0.84204102 0.79377747 0.62841797]\n",
            "statsitic average of sample_det overlap_rates is  0.14717524714448488\n",
            "statsitic std of sample_det overlap_rates is  0.17289794389481458\n",
            "statsitic average of sample_det coverages is  0.709539794921875\n",
            "statsitic std of sample_det coverages is  0.10276538989001177\n"
          ]
        },
        {
          "output_type": "stream",
          "name": "stderr",
          "text": [
            "epoch 42 iter 14: train loss 0.50260. lr 7.200000e-05: 100%|██████████| 15/15 [00:03<00:00,  3.87it/s]\n",
            "epoch 42 iter 3: test loss 4.62745: 100%|██████████| 4/4 [00:00<00:00, 12.60it/s]\n"
          ]
        },
        {
          "output_type": "stream",
          "name": "stdout",
          "text": [
            "overlap_rates  [0.47508865 0.         0.39198964 0.05835423 0.01272178 0.\n",
            " 0.         0.343079   0.4229443  0.        ]\n",
            "coverages  [0.8605957  0.75019836 0.74252319 0.80328369 0.54093933 0.56816101\n",
            " 0.69799805 0.64454651 0.80535889 0.6204834 ]\n",
            "statsitic average of overlap_rates is  0.1704177604884798\n",
            "statsitic std of overlap_rates is  0.19725494030364016\n",
            "statsitic average of coverages is  0.7034088134765625\n",
            "statsitic std of coverages is  0.10190912439987176\n",
            "recon_overlap_rates  [0.47529706066291433, 0.3690170362358031, 0.46633941093969145, 0.1817520901490367, 1, 1, 0.7109100221956633, 1, 0.3098925346300004, 0.7354341168222575]\n",
            "recon_coverages  [0.390380859375, 0.451416015625, 0.174072265625, 0.671630859375, 0.3341064453125, 0.41436767578125, 0.4468536376953125, 0.4677886962890625, 0.3734283447265625, 0.4135284423828125]\n",
            "statsitic average of recon_overlap_rates is  0.6248642271635366\n",
            "statsitic std of  recon_overlap_rates is  0.29160313721788433\n",
            "statsitic average of recon_coverages is  0.41375732421875\n",
            "statsitic std of recon_coverages is  0.11743006120281842\n",
            "sample_random overlap_rates  [0.18105904 0.06060406 0.06659675 0.38476821 0.         0.\n",
            " 0.04845878 0.43870542 0.00114598 0.08933082]\n",
            "sample_random coverages  [0.70715332 0.69213867 0.58197021 0.1612854  0.66294861 0.62982178\n",
            " 0.74154663 0.80856323 0.55923462 0.61611938]\n",
            "statsitic average of sample_random overlap_rates is  0.12706690535341977\n",
            "statsitic std of sample_random overlap_rates is  0.15174615355303298\n",
            "statsitic average of sample_random coverages is  0.6160781860351563\n",
            "statsitic std of sample_random coverages is  0.16747819215684154\n",
            "sample_det overlap_rates  [0.36855261 0.07092378 0.40929199 0.3063683  1.         0.00242145\n",
            " 0.00976907 0.39015473 0.12069575 0.        ]\n",
            "sample_det coverages  [0.81797791 0.72331238 0.6933136  0.80938721 0.42510986 0.51042175\n",
            " 0.69975281 0.88063049 0.7772522  0.62841797]\n",
            "statsitic average of sample_det overlap_rates is  0.26781776863039686\n",
            "statsitic std of sample_det overlap_rates is  0.29186787778479867\n",
            "statsitic average of sample_det coverages is  0.6965576171875\n",
            "statsitic std of sample_det coverages is  0.13475082430212537\n"
          ]
        },
        {
          "output_type": "stream",
          "name": "stderr",
          "text": [
            "epoch 43 iter 14: train loss 0.50969. lr 7.200000e-05: 100%|██████████| 15/15 [00:03<00:00,  3.89it/s]\n",
            "epoch 43 iter 3: test loss 4.38088: 100%|██████████| 4/4 [00:00<00:00, 12.66it/s]\n"
          ]
        },
        {
          "output_type": "stream",
          "name": "stdout",
          "text": [
            "overlap_rates  [0.47508865 0.         0.39198964 0.05835423 0.01272178 0.\n",
            " 0.         0.343079   0.4229443  0.        ]\n",
            "coverages  [0.8605957  0.75019836 0.74252319 0.80328369 0.54093933 0.56816101\n",
            " 0.69799805 0.64454651 0.80535889 0.6204834 ]\n",
            "statsitic average of overlap_rates is  0.1704177604884798\n",
            "statsitic std of overlap_rates is  0.19725494030364016\n",
            "statsitic average of coverages is  0.7034088134765625\n",
            "statsitic std of coverages is  0.10190912439987176\n",
            "recon_overlap_rates  [0.3979763912310287, 0.7536799966640257, 0.8622271298734392, 0.10199932226363945, 1, 1, 0.996643583945732, 1, 0.2789267511899246, 0.9117834801480914]\n",
            "recon_coverages  [0.4071807861328125, 0.3659210205078125, 0.1796417236328125, 0.630401611328125, 0.319427490234375, 0.404998779296875, 0.431884765625, 0.3925323486328125, 0.3622589111328125, 0.3585662841796875]\n",
            "statsitic average of recon_overlap_rates is  0.7303236655315881\n",
            "statsitic std of  recon_overlap_rates is  0.3238795064289131\n",
            "statsitic average of recon_coverages is  0.3852813720703125\n",
            "statsitic std of recon_coverages is  0.10555552886199544\n",
            "sample_random overlap_rates  [0.07032684 0.10773486 0.19683736 0.14459023 0.3964412  0.00972973\n",
            " 0.89516975 0.18198202 0.01460145 0.33808709]\n",
            "sample_random coverages  [0.47386169 0.72261047 0.59922791 0.94081116 0.66886902 0.64926147\n",
            " 0.84408569 0.66885376 0.76495361 0.5617218 ]\n",
            "statsitic average of sample_random overlap_rates is  0.23555005379770594\n",
            "statsitic std of sample_random overlap_rates is  0.2505171400214534\n",
            "statsitic average of sample_random coverages is  0.6894256591796875\n",
            "statsitic std of sample_random coverages is  0.12934093387346324\n",
            "sample_det overlap_rates  [0.98896169 0.         0.12230412 0.09314465 0.25085519 0.11150013\n",
            " 0.01000336 0.40408573 0.12425725 0.        ]\n",
            "sample_det coverages  [0.51699829 0.68031311 0.72660828 0.61677551 0.57542419 0.84983826\n",
            " 0.7276001  0.88063049 0.75497437 0.62841797]\n",
            "statsitic average of sample_det overlap_rates is  0.21051121238637052\n",
            "statsitic std of sample_det overlap_rates is  0.285081665703193\n",
            "statsitic average of sample_det coverages is  0.695758056640625\n",
            "statsitic std of sample_det coverages is  0.10992611927542922\n"
          ]
        },
        {
          "output_type": "stream",
          "name": "stderr",
          "text": [
            "epoch 44 iter 14: train loss 0.44664. lr 7.200000e-05: 100%|██████████| 15/15 [00:03<00:00,  3.87it/s]\n",
            "epoch 44 iter 3: test loss 4.62785: 100%|██████████| 4/4 [00:00<00:00, 12.42it/s]\n"
          ]
        },
        {
          "output_type": "stream",
          "name": "stdout",
          "text": [
            "overlap_rates  [0.47508865 0.         0.39198964 0.05835423 0.01272178 0.\n",
            " 0.         0.343079   0.4229443  0.        ]\n",
            "coverages  [0.8605957  0.75019836 0.74252319 0.80328369 0.54093933 0.56816101\n",
            " 0.69799805 0.64454651 0.80535889 0.6204834 ]\n",
            "statsitic average of overlap_rates is  0.1704177604884798\n",
            "statsitic std of overlap_rates is  0.19725494030364016\n",
            "statsitic average of coverages is  0.7034088134765625\n",
            "statsitic std of coverages is  0.10190912439987176\n",
            "recon_overlap_rates  [0.5675616390278143, 0.5164347366566848, 0.4704734470101752, 0.06752483075554677, 1, 1, 0.5131093001251411, 1, 0.2323060056036058, 0.639628548313342]\n",
            "recon_coverages  [0.347808837890625, 0.4331207275390625, 0.3284149169921875, 0.617584228515625, 0.3375701904296875, 0.2327880859375, 0.4999237060546875, 0.36199951171875, 0.3757781982421875, 0.4337921142578125]\n",
            "statsitic average of recon_overlap_rates is  0.600703850749231\n",
            "statsitic std of  recon_overlap_rates is  0.30539428110462447\n",
            "statsitic average of recon_coverages is  0.3968780517578125\n",
            "statsitic std of recon_coverages is  0.10060091805242397\n",
            "sample_random overlap_rates  [1.         0.02677887 0.49393044 0.24529633 0.04614687 0.\n",
            " 0.3054998  0.10304524 0.13892658 0.11372103]\n",
            "sample_random coverages  [0.53286743 0.69630432 0.57821655 0.80046082 0.63916016 0.53608704\n",
            " 0.6081543  0.67494202 0.76477051 1.6915741 ]\n",
            "statsitic average of sample_random overlap_rates is  0.2473345144437697\n",
            "statsitic std of sample_random overlap_rates is  0.28834390942675026\n",
            "statsitic average of sample_random coverages is  0.7522537231445312\n",
            "statsitic std of sample_random coverages is  0.3244399653251398\n",
            "sample_det overlap_rates  [0.08400073 0.13416465 0.21563519 0.08513386 1.         0.01971425\n",
            " 0.19981406 0.40408573 0.12413932 0.        ]\n",
            "sample_det coverages  [0.49917603 0.83331299 0.67358398 0.74435425 0.52726746 0.80418396\n",
            " 0.68934631 0.88063049 0.75569153 0.62771606]\n",
            "statsitic average of sample_det overlap_rates is  0.22666878114512082\n",
            "statsitic std of sample_det overlap_rates is  0.28000453379135576\n",
            "statsitic average of sample_det coverages is  0.7035263061523438\n",
            "statsitic std of sample_det coverages is  0.11933214046763661\n"
          ]
        },
        {
          "output_type": "stream",
          "name": "stderr",
          "text": [
            "epoch 45 iter 14: train loss 0.41343. lr 7.200000e-05: 100%|██████████| 15/15 [00:03<00:00,  3.87it/s]\n",
            "epoch 45 iter 3: test loss 4.59079: 100%|██████████| 4/4 [00:00<00:00, 12.50it/s]\n"
          ]
        },
        {
          "output_type": "stream",
          "name": "stdout",
          "text": [
            "overlap_rates  [0.47508865 0.         0.39198964 0.05835423 0.01272178 0.\n",
            " 0.         0.343079   0.4229443  0.        ]\n",
            "coverages  [0.8605957  0.75019836 0.74252319 0.80328369 0.54093933 0.56816101\n",
            " 0.69799805 0.64454651 0.80535889 0.6204834 ]\n",
            "statsitic average of overlap_rates is  0.1704177604884798\n",
            "statsitic std of overlap_rates is  0.19725494030364016\n",
            "statsitic average of coverages is  0.7034088134765625\n",
            "statsitic std of coverages is  0.10190912439987176\n",
            "recon_overlap_rates  [0.3520594686814526, 0.27215857428623386, 0.4552358827734096, 0.1047415520235074, 0.9273658259055566, 1, 0.5756240822320118, 1, 0.18393226572676424, 1]\n",
            "recon_coverages  [0.375640869140625, 0.4195404052734375, 0.1707763671875, 0.5712127685546875, 0.4022979736328125, 0.217437744140625, 0.4468231201171875, 0.3588409423828125, 0.398284912109375, 0.349365234375]\n",
            "statsitic average of recon_overlap_rates is  0.5871117651628937\n",
            "statsitic std of  recon_overlap_rates is  0.3456017867838642\n",
            "statsitic average of recon_coverages is  0.37102203369140624\n",
            "statsitic std of recon_coverages is  0.10687507048029068\n",
            "sample_random overlap_rates  [0.04773171 0.06886949 0.1206871  0.3000517  0.95518392 0.50670148\n",
            " 0.01153284 0.08970201 0.11135465 0.        ]\n",
            "sample_random coverages  [0.74165344 0.73425293 0.514328   0.64935303 0.76368713 0.83563232\n",
            " 0.8044281  0.79983521 0.7796936  0.64587402]\n",
            "statsitic average of sample_random overlap_rates is  0.22118149110378704\n",
            "statsitic std of sample_random overlap_rates is  0.2849749512895127\n",
            "statsitic average of sample_random coverages is  0.726873779296875\n",
            "statsitic std of sample_random coverages is  0.0923745880538791\n",
            "sample_det overlap_rates  [4.75587111e-02 1.34629172e-02 9.52347168e-02 1.74957990e-01\n",
            " 9.15139845e-03 1.87762085e-04 5.30240265e-03 0.00000000e+00\n",
            " 3.72618503e-01 0.00000000e+00]\n",
            "sample_det coverages  [0.69847107 0.76617432 0.6452179  0.78091431 0.80033875 0.73139954\n",
            " 0.55252075 0.67225647 0.80090332 0.62771606]\n",
            "statsitic average of sample_det overlap_rates is  0.07184744013424454\n",
            "statsitic std of sample_det overlap_rates is  0.11378002103810564\n",
            "statsitic average of sample_det coverages is  0.7075912475585937\n",
            "statsitic std of sample_det coverages is  0.07895149490881206\n"
          ]
        },
        {
          "output_type": "stream",
          "name": "stderr",
          "text": [
            "epoch 46 iter 14: train loss 0.41906. lr 7.200000e-05: 100%|██████████| 15/15 [00:03<00:00,  3.86it/s]\n",
            "epoch 46 iter 3: test loss 4.49008: 100%|██████████| 4/4 [00:00<00:00, 12.64it/s]\n"
          ]
        },
        {
          "output_type": "stream",
          "name": "stdout",
          "text": [
            "overlap_rates  [0.47508865 0.         0.39198964 0.05835423 0.01272178 0.\n",
            " 0.         0.343079   0.4229443  0.        ]\n",
            "coverages  [0.8605957  0.75019836 0.74252319 0.80328369 0.54093933 0.56816101\n",
            " 0.69799805 0.64454651 0.80535889 0.6204834 ]\n",
            "statsitic average of overlap_rates is  0.1704177604884798\n",
            "statsitic std of overlap_rates is  0.19725494030364016\n",
            "statsitic average of coverages is  0.7034088134765625\n",
            "statsitic std of coverages is  0.10190912439987176\n",
            "recon_overlap_rates  [0.4215194048447979, 0.3769442757718716, 0.5947820905686074, 0.18436487112208674, 1, 1, 0.46437319688639705, 1, 0.31820179293373174, 1]\n",
            "recon_coverages  [0.4163665771484375, 0.653350830078125, 0.3585205078125, 0.593170166015625, 0.2893218994140625, 0.1530303955078125, 0.560638427734375, 0.2574920654296875, 0.34722900390625, 0.3487091064453125]\n",
            "statsitic average of recon_overlap_rates is  0.6360185632127493\n",
            "statsitic std of  recon_overlap_rates is  0.31292498400791763\n",
            "statsitic average of recon_coverages is  0.39778289794921873\n",
            "statsitic std of recon_coverages is  0.15106720061204673\n",
            "sample_random overlap_rates  [0.04011693 0.10408856 0.46941697 0.02969167 0.79983498 0.16364217\n",
            " 0.17927745 0.14829264 0.45577136 0.03562169]\n",
            "sample_random coverages  [0.79342651 0.60235596 0.83146667 0.54833984 0.62875366 0.66931152\n",
            " 0.75180054 0.74311829 0.72984314 0.42964172]\n",
            "statsitic average of sample_random overlap_rates is  0.24257544198890169\n",
            "statsitic std of sample_random overlap_rates is  0.23976895735181242\n",
            "statsitic average of sample_random coverages is  0.6728057861328125\n",
            "statsitic std of sample_random coverages is  0.11648880871925527\n",
            "sample_det overlap_rates  [0.0021826  0.01349387 0.8021366  1.         0.11736473 0.00195298\n",
            " 0.00248763 0.39015473 0.35161787 0.02436035]\n",
            "sample_det coverages  [0.69911194 0.70335388 0.73701477 0.60031128 0.743927   0.63285828\n",
            " 0.58885193 0.88063049 0.80308533 0.68463135]\n",
            "statsitic average of sample_det overlap_rates is  0.27057513533505195\n",
            "statsitic std of sample_det overlap_rates is  0.3466604513381669\n",
            "statsitic average of sample_det coverages is  0.7073776245117187\n",
            "statsitic std of sample_det coverages is  0.08547357458686317\n"
          ]
        },
        {
          "output_type": "stream",
          "name": "stderr",
          "text": [
            "epoch 47 iter 14: train loss 0.37449. lr 7.200000e-05: 100%|██████████| 15/15 [00:03<00:00,  3.86it/s]\n",
            "epoch 47 iter 3: test loss 4.70597: 100%|██████████| 4/4 [00:00<00:00, 12.66it/s]\n"
          ]
        },
        {
          "output_type": "stream",
          "name": "stdout",
          "text": [
            "overlap_rates  [0.47508865 0.         0.39198964 0.05835423 0.01272178 0.\n",
            " 0.         0.343079   0.4229443  0.        ]\n",
            "coverages  [0.8605957  0.75019836 0.74252319 0.80328369 0.54093933 0.56816101\n",
            " 0.69799805 0.64454651 0.80535889 0.6204834 ]\n",
            "statsitic average of overlap_rates is  0.1704177604884798\n",
            "statsitic std of overlap_rates is  0.19725494030364016\n",
            "statsitic average of coverages is  0.7034088134765625\n",
            "statsitic std of coverages is  0.10190912439987176\n",
            "recon_overlap_rates  [0.5647241591097945, 0.6176366147169067, 0.6509512683578104, 0.21159615061556553, 1, 1, 0.4808702175543886, 1, 0.4026921406860617, 1]\n",
            "recon_coverages  [0.4223480224609375, 0.3867340087890625, 0.36572265625, 0.6358184814453125, 0.264312744140625, 0.389678955078125, 0.4881591796875, 0.46392822265625, 0.351409912109375, 0.335052490234375]\n",
            "statsitic average of recon_overlap_rates is  0.6928470551040528\n",
            "statsitic std of  recon_overlap_rates is  0.27602999059717\n",
            "statsitic average of recon_coverages is  0.41031646728515625\n",
            "statsitic std of recon_coverages is  0.09661884277720188\n",
            "sample_random overlap_rates  [0.11200733 0.0216569  0.05574757 0.31715387 0.01934476 0.01539899\n",
            " 0.35044807 0.00192376 0.22442928 0.        ]\n",
            "sample_random coverages  [0.58265686 0.61720276 0.6842804  0.58566284 0.61524963 0.8164978\n",
            " 0.78665161 0.60281372 0.63298035 0.62670898]\n",
            "statsitic average of sample_random overlap_rates is  0.11181105489209572\n",
            "statsitic std of sample_random overlap_rates is  0.12864265295745286\n",
            "statsitic average of sample_random coverages is  0.6550704956054687\n",
            "statsitic std of sample_random coverages is  0.07831317116637848\n",
            "sample_det overlap_rates  [0.38827055 0.04278402 0.3252725  0.27238717 0.20477621 0.00194193\n",
            " 0.00248763 0.         0.49626581 0.        ]\n",
            "sample_det coverages  [0.81982422 0.47398376 0.85813904 0.76678467 0.58911133 0.63645935\n",
            " 0.58885193 0.67225647 0.80090332 0.62841797]\n",
            "statsitic average of sample_det overlap_rates is  0.1734185819674525\n",
            "statsitic std of sample_det overlap_rates is  0.17890344496773367\n",
            "statsitic average of sample_det coverages is  0.6834732055664062\n",
            "statsitic std of sample_det coverages is  0.11702168862690228\n"
          ]
        },
        {
          "output_type": "stream",
          "name": "stderr",
          "text": [
            "epoch 48 iter 14: train loss 0.36298. lr 7.200000e-05: 100%|██████████| 15/15 [00:03<00:00,  3.84it/s]\n",
            "epoch 48 iter 3: test loss 4.69452: 100%|██████████| 4/4 [00:00<00:00, 12.57it/s]\n"
          ]
        },
        {
          "output_type": "stream",
          "name": "stdout",
          "text": [
            "overlap_rates  [0.47508865 0.         0.39198964 0.05835423 0.01272178 0.\n",
            " 0.         0.343079   0.4229443  0.        ]\n",
            "coverages  [0.8605957  0.75019836 0.74252319 0.80328369 0.54093933 0.56816101\n",
            " 0.69799805 0.64454651 0.80535889 0.6204834 ]\n",
            "statsitic average of overlap_rates is  0.1704177604884798\n",
            "statsitic std of overlap_rates is  0.19725494030364016\n",
            "statsitic average of coverages is  0.7034088134765625\n",
            "statsitic std of coverages is  0.10190912439987176\n",
            "recon_overlap_rates  [0.43205710074091314, 0.483668479252582, 0.2895958228582479, 0.20295445219532213, 1, 1, 0.3102150537634409, 1, 0.23238275776807055, 1]\n",
            "recon_coverages  [0.3933563232421875, 0.4181060791015625, 0.31561279296875, 0.5577850341796875, 0.2857513427734375, 0.2015533447265625, 0.59600830078125, 0.4103240966796875, 0.370269775390625, 0.4472198486328125]\n",
            "statsitic average of recon_overlap_rates is  0.5950873666578578\n",
            "statsitic std of  recon_overlap_rates is  0.3397955521394462\n",
            "statsitic average of recon_coverages is  0.39959869384765623\n",
            "statsitic std of recon_coverages is  0.11245485661880356\n",
            "sample_random overlap_rates  [0.05083993 0.59342744 0.30053627 0.09790958 0.00944293 0.21741131\n",
            " 0.08458255 0.01900758 0.96343891 1.        ]\n",
            "sample_random coverages  [0.68670654 0.67558289 0.73695374 0.71315002 0.73846436 0.66323853\n",
            " 0.74000549 0.66790771 0.60557556 0.62176514]\n",
            "statsitic average of sample_random overlap_rates is  0.33365964966689265\n",
            "statsitic std of sample_random overlap_rates is  0.3639297207552627\n",
            "statsitic average of sample_random coverages is  0.6849349975585938\n",
            "statsitic std of sample_random coverages is  0.04532086219681922\n",
            "sample_det overlap_rates  [0.08081735 0.         0.45376524 0.08529631 0.09000296 0.00194193\n",
            " 0.00248763 0.         0.49626581 0.09469565]\n",
            "sample_det coverages  [0.71463013 0.61697388 0.8747406  0.83757019 0.77308655 0.63645935\n",
            " 0.58885193 0.66957092 0.80090332 0.56929016]\n",
            "statsitic average of sample_det overlap_rates is  0.1305272894972856\n",
            "statsitic std of sample_det overlap_rates is  0.1768314404156932\n",
            "statsitic average of sample_det coverages is  0.7082077026367187\n",
            "statsitic std of sample_det coverages is  0.10286834829241827\n"
          ]
        },
        {
          "output_type": "stream",
          "name": "stderr",
          "text": [
            "epoch 49 iter 14: train loss 0.36510. lr 7.200000e-05: 100%|██████████| 15/15 [00:03<00:00,  3.86it/s]\n",
            "epoch 49 iter 3: test loss 4.75791: 100%|██████████| 4/4 [00:00<00:00, 12.66it/s]\n"
          ]
        },
        {
          "output_type": "stream",
          "name": "stdout",
          "text": [
            "overlap_rates  [0.47508865 0.         0.39198964 0.05835423 0.01272178 0.\n",
            " 0.         0.343079   0.4229443  0.        ]\n",
            "coverages  [0.8605957  0.75019836 0.74252319 0.80328369 0.54093933 0.56816101\n",
            " 0.69799805 0.64454651 0.80535889 0.6204834 ]\n",
            "statsitic average of overlap_rates is  0.1704177604884798\n",
            "statsitic std of overlap_rates is  0.19725494030364016\n",
            "statsitic average of coverages is  0.7034088134765625\n",
            "statsitic std of coverages is  0.10190912439987176\n",
            "recon_overlap_rates  [0.4591646390916464, 0.6494683421942967, 0.8140569395017794, 0.11168985610655251, 1, 1, 0.838255033557047, 1, 0.6011809916580748, 1]\n",
            "recon_coverages  [0.37628173828125, 0.37884521484375, 0.2744140625, 0.6415557861328125, 0.3295440673828125, 0.4649658203125, 0.50018310546875, 0.2899627685546875, 0.325592041015625, 0.38519287109375]\n",
            "statsitic average of recon_overlap_rates is  0.7473815802109397\n",
            "statsitic std of  recon_overlap_rates is  0.2803751842873359\n",
            "statsitic average of recon_coverages is  0.39665374755859373\n",
            "statsitic std of recon_coverages is  0.10587935159130764\n",
            "sample_random overlap_rates  [0.43014967 0.10792032 0.30002614 1.         0.04777876 0.09640467\n",
            " 0.21417045 0.37318021 0.00695972 0.        ]\n",
            "sample_random coverages  [0.83699036 0.51168823 0.75880432 0.59240723 0.75976562 0.57676697\n",
            " 0.71865845 0.69490051 0.76296997 0.66210938]\n",
            "statsitic average of sample_random overlap_rates is  0.2576589946502633\n",
            "statsitic std of sample_random overlap_rates is  0.28628084239898255\n",
            "statsitic average of sample_random coverages is  0.687506103515625\n",
            "statsitic std of sample_random coverages is  0.09603865234050336\n",
            "sample_det overlap_rates  [0.10566609 0.         0.07705387 1.         0.10057115 0.00194193\n",
            " 0.00248763 0.         0.46340116 0.        ]\n",
            "sample_det coverages  [0.70556641 0.53114319 0.73587036 0.59529114 0.7640686  0.63645935\n",
            " 0.58885193 0.67225647 0.80090332 0.62771606]\n",
            "statsitic average of sample_det overlap_rates is  0.17511218348033175\n",
            "statsitic std of sample_det overlap_rates is  0.30583083620613366\n",
            "statsitic average of sample_det coverages is  0.6658126831054687\n",
            "statsitic std of sample_det coverages is  0.08110410265506274\n"
          ]
        },
        {
          "output_type": "stream",
          "name": "stderr",
          "text": [
            "epoch 50 iter 14: train loss 0.32507. lr 7.200000e-05: 100%|██████████| 15/15 [00:03<00:00,  3.87it/s]\n",
            "epoch 50 iter 3: test loss 4.60581: 100%|██████████| 4/4 [00:00<00:00, 12.61it/s]\n"
          ]
        },
        {
          "output_type": "stream",
          "name": "stdout",
          "text": [
            "overlap_rates  [0.47508865 0.         0.39198964 0.05835423 0.01272178 0.\n",
            " 0.         0.343079   0.4229443  0.        ]\n",
            "coverages  [0.8605957  0.75019836 0.74252319 0.80328369 0.54093933 0.56816101\n",
            " 0.69799805 0.64454651 0.80535889 0.6204834 ]\n",
            "statsitic average of overlap_rates is  0.1704177604884798\n",
            "statsitic std of overlap_rates is  0.19725494030364016\n",
            "statsitic average of coverages is  0.7034088134765625\n",
            "statsitic std of coverages is  0.10190912439987176\n",
            "recon_overlap_rates  [0.22429564581046468, 0.5527498063516654, 0.4722350610762628, 0.08834964122635355, 1, 1, 0.5829168431455598, 0.847986513136968, 0.2775869660942316, 1]\n",
            "recon_coverages  [0.417022705078125, 0.39398193359375, 0.2310943603515625, 0.5847930908203125, 0.2527008056640625, 0.588775634765625, 0.5403900146484375, 0.479705810546875, 0.346527099609375, 0.395599365234375]\n",
            "statsitic average of recon_overlap_rates is  0.6046120476841506\n",
            "statsitic std of  recon_overlap_rates is  0.32665316642396514\n",
            "statsitic average of recon_coverages is  0.42305908203125\n",
            "statsitic std of recon_coverages is  0.11998364910845546\n",
            "sample_random overlap_rates  [0.82502833 0.09384959 0.2252486  0.31483518 0.00500707 0.\n",
            " 0.2480477  0.00652661 0.         0.07534344]\n",
            "sample_random coverages  [0.63294983 0.73733521 0.77029419 0.67997742 0.67958069 0.62875366\n",
            " 0.79330444 0.64059448 0.75309753 0.75196838]\n",
            "statsitic average of sample_random overlap_rates is  0.17938865187080802\n",
            "statsitic std of sample_random overlap_rates is  0.24182776646153012\n",
            "statsitic average of sample_random coverages is  0.7067855834960938\n",
            "statsitic std of sample_random coverages is  0.058325948846068246\n",
            "sample_det overlap_rates  [0.14464047 0.00089036 0.56695897 0.3336227  0.09548534 0.00194193\n",
            " 0.00248763 0.         0.46340116 0.        ]\n",
            "sample_det coverages  [0.75418091 0.58268738 0.6925354  0.8964386  0.75234985 0.63645935\n",
            " 0.58885193 0.67225647 0.80090332 0.62771606]\n",
            "statsitic average of sample_det overlap_rates is  0.160942855733749\n",
            "statsitic std of sample_det overlap_rates is  0.20457523253297347\n",
            "statsitic average of sample_det coverages is  0.7004379272460938\n",
            "statsitic std of sample_det coverages is  0.09520909278570078\n"
          ]
        },
        {
          "output_type": "stream",
          "name": "stderr",
          "text": [
            "epoch 51 iter 14: train loss 0.33052. lr 7.200000e-05: 100%|██████████| 15/15 [00:03<00:00,  3.87it/s]\n",
            "epoch 51 iter 3: test loss 5.02406: 100%|██████████| 4/4 [00:00<00:00, 12.59it/s]\n"
          ]
        },
        {
          "output_type": "stream",
          "name": "stdout",
          "text": [
            "overlap_rates  [0.47508865 0.         0.39198964 0.05835423 0.01272178 0.\n",
            " 0.         0.343079   0.4229443  0.        ]\n",
            "coverages  [0.8605957  0.75019836 0.74252319 0.80328369 0.54093933 0.56816101\n",
            " 0.69799805 0.64454651 0.80535889 0.6204834 ]\n",
            "statsitic average of overlap_rates is  0.1704177604884798\n",
            "statsitic std of overlap_rates is  0.19725494030364016\n",
            "statsitic average of coverages is  0.7034088134765625\n",
            "statsitic std of coverages is  0.10190912439987176\n",
            "recon_overlap_rates  [0.3525922314318219, 0.7616992882562278, 1, 0.094441959293223, 1, 1, 1, 1, 0.28865578865578867, 0.6957280469077203]\n",
            "recon_coverages  [0.37554931640625, 0.343017578125, 0.2006683349609375, 0.5457763671875, 0.288360595703125, 0.529449462890625, 0.431671142578125, 0.2441864013671875, 0.39276123046875, 0.43719482421875]\n",
            "statsitic average of recon_overlap_rates is  0.7193117314544782\n",
            "statsitic std of  recon_overlap_rates is  0.3326698634636735\n",
            "statsitic average of recon_coverages is  0.378863525390625\n",
            "statsitic std of recon_coverages is  0.10784178328365042\n",
            "sample_random overlap_rates  [0.11393915 0.81018132 0.04834954 1.         0.59255268 0.3122792\n",
            " 0.0024565  0.         0.49626581 0.        ]\n",
            "sample_random coverages  [0.81892395 0.49397278 0.66842651 0.30906677 0.66548157 0.64356995\n",
            " 0.59631348 0.67710876 0.80090332 0.62771606]\n",
            "statsitic average of sample_random overlap_rates is  0.33760242067836754\n",
            "statsitic std of sample_random overlap_rates is  0.3502688126281101\n",
            "statsitic average of sample_random coverages is  0.6301483154296875\n",
            "statsitic std of sample_random coverages is  0.13880938059147835\n",
            "sample_det overlap_rates  [0.23770023 0.36963474 0.35849822 0.20403654 0.0136669  0.00194193\n",
            " 0.00248763 0.         0.49626581 0.        ]\n",
            "sample_det coverages  [0.74682617 0.54391479 0.75187683 0.82180786 0.79046631 0.63645935\n",
            " 0.58885193 0.67225647 0.80090332 0.62771606]\n",
            "statsitic average of sample_det overlap_rates is  0.16842320071215092\n",
            "statsitic std of sample_det overlap_rates is  0.18058125126359673\n",
            "statsitic average of sample_det coverages is  0.69810791015625\n",
            "statsitic std of sample_det coverages is  0.0920866190000867\n"
          ]
        },
        {
          "output_type": "stream",
          "name": "stderr",
          "text": [
            "epoch 52 iter 14: train loss 0.31081. lr 7.200000e-05: 100%|██████████| 15/15 [00:03<00:00,  3.85it/s]\n",
            "epoch 52 iter 3: test loss 4.84935: 100%|██████████| 4/4 [00:00<00:00, 12.67it/s]\n"
          ]
        },
        {
          "output_type": "stream",
          "name": "stdout",
          "text": [
            "overlap_rates  [0.47508865 0.         0.39198964 0.05835423 0.01272178 0.\n",
            " 0.         0.343079   0.4229443  0.        ]\n",
            "coverages  [0.8605957  0.75019836 0.74252319 0.80328369 0.54093933 0.56816101\n",
            " 0.69799805 0.64454651 0.80535889 0.6204834 ]\n",
            "statsitic average of overlap_rates is  0.1704177604884798\n",
            "statsitic std of overlap_rates is  0.19725494030364016\n",
            "statsitic average of coverages is  0.7034088134765625\n",
            "statsitic std of coverages is  0.10190912439987176\n",
            "recon_overlap_rates  [0.3563949742268041, 0.513346422156314, 0.8185096153846154, 0.09231977468450414, 1, 1, 0.8064788562466068, 1, 0.2106510685476163, 0.8931803791575105]\n",
            "recon_coverages  [0.37890625, 0.3652801513671875, 0.2919921875, 0.563446044921875, 0.29443359375, 0.5020904541015625, 0.505889892578125, 0.2927398681640625, 0.3991241455078125, 0.4096832275390625]\n",
            "statsitic average of recon_overlap_rates is  0.6690881090403971\n",
            "statsitic std of  recon_overlap_rates is  0.32936106166973955\n",
            "statsitic average of recon_coverages is  0.40035858154296877\n",
            "statsitic std of recon_coverages is  0.09187387535534497\n",
            "sample_random overlap_rates  [0.05097295 0.54537407 0.0743225  0.13308913 0.008621   0.4300318\n",
            " 0.04530324 0.37648363 0.118933   0.21033415]\n",
            "sample_random coverages  [0.73161316 0.46542358 0.45269775 0.87478638 0.84603882 0.53735352\n",
            " 0.81138611 0.88063049 0.73219299 0.66030884]\n",
            "statsitic average of sample_random overlap_rates is  0.19934654911905586\n",
            "statsitic std of sample_random overlap_rates is  0.17693408521924026\n",
            "statsitic average of sample_random coverages is  0.6992431640625\n",
            "statsitic std of sample_random coverages is  0.15593449585635344\n",
            "sample_det overlap_rates  [0.17409636 0.03726593 0.1382463  0.06305304 0.09354979 0.00194193\n",
            " 0.00248763 0.         0.49626581 0.44378943]\n",
            "sample_det coverages  [0.61886597 0.66168213 0.82780457 0.57595825 0.80738831 0.63645935\n",
            " 0.58885193 0.67225647 0.80090332 0.66520691]\n",
            "statsitic average of sample_det overlap_rates is  0.1450696217291859\n",
            "statsitic std of sample_det overlap_rates is  0.17214075590249872\n",
            "statsitic average of sample_det coverages is  0.6855377197265625\n",
            "statsitic std of sample_det coverages is  0.08818450887127069\n"
          ]
        },
        {
          "output_type": "stream",
          "name": "stderr",
          "text": [
            "epoch 53 iter 14: train loss 0.28128. lr 7.200000e-05: 100%|██████████| 15/15 [00:03<00:00,  3.88it/s]\n",
            "epoch 53 iter 3: test loss 5.10533: 100%|██████████| 4/4 [00:00<00:00, 12.61it/s]\n"
          ]
        },
        {
          "output_type": "stream",
          "name": "stdout",
          "text": [
            "overlap_rates  [0.47508865 0.         0.39198964 0.05835423 0.01272178 0.\n",
            " 0.         0.343079   0.4229443  0.        ]\n",
            "coverages  [0.8605957  0.75019836 0.74252319 0.80328369 0.54093933 0.56816101\n",
            " 0.69799805 0.64454651 0.80535889 0.6204834 ]\n",
            "statsitic average of overlap_rates is  0.1704177604884798\n",
            "statsitic std of overlap_rates is  0.19725494030364016\n",
            "statsitic average of coverages is  0.7034088134765625\n",
            "statsitic std of coverages is  0.10190912439987176\n",
            "recon_overlap_rates  [0.3268585303149325, 0.8598374927452118, 0.7392224279291193, 0.08242753623188406, 1, 1, 1, 1, 0.1982740296730859, 0.7326756789672391]\n",
            "recon_coverages  [0.427337646484375, 0.31549072265625, 0.4038543701171875, 0.6064453125, 0.15313720703125, 0.3267364501953125, 0.3162689208984375, 0.27215576171875, 0.3589324951171875, 0.3758697509765625]\n",
            "statsitic average of recon_overlap_rates is  0.6939295695861473\n",
            "statsitic std of  recon_overlap_rates is  0.34060899509341247\n",
            "statsitic average of recon_coverages is  0.35562286376953123\n",
            "statsitic std of recon_coverages is  0.1107984764883022\n",
            "sample_random overlap_rates  [0.13040046 0.00329901 1.         0.04374136 0.14144207 0.00254959\n",
            " 0.00248763 0.         0.1354017  0.11760753]\n",
            "sample_random coverages  [0.86988831 0.61053467 0.769104   0.58500671 0.83337402 0.68226624\n",
            " 0.58885193 0.68185425 0.62657166 0.61303711]\n",
            "statsitic average of sample_random overlap_rates is  0.15769293490482472\n",
            "statsitic std of sample_random overlap_rates is  0.2867824178205112\n",
            "statsitic average of sample_random coverages is  0.6860488891601563\n",
            "statsitic std of sample_random coverages is  0.09831536556845223\n",
            "sample_det overlap_rates  [0.38827055 0.03726593 0.13285381 0.02866476 0.02958373 0.00194193\n",
            " 0.00248763 0.         0.49626581 0.        ]\n",
            "sample_det coverages  [0.81982422 0.66168213 0.75309753 0.74737549 0.69940186 0.63645935\n",
            " 0.58885193 0.67225647 0.80090332 0.62771606]\n",
            "statsitic average of sample_det overlap_rates is  0.1117334165031733\n",
            "statsitic std of sample_det overlap_rates is  0.17115370960265253\n",
            "statsitic average of sample_det coverages is  0.7007568359375\n",
            "statsitic std of sample_det coverages is  0.07311085841383386\n"
          ]
        },
        {
          "output_type": "stream",
          "name": "stderr",
          "text": [
            "epoch 54 iter 14: train loss 0.28108. lr 7.200000e-05: 100%|██████████| 15/15 [00:03<00:00,  3.88it/s]\n",
            "epoch 54 iter 3: test loss 4.92366: 100%|██████████| 4/4 [00:00<00:00, 12.56it/s]\n"
          ]
        },
        {
          "output_type": "stream",
          "name": "stdout",
          "text": [
            "overlap_rates  [0.47508865 0.         0.39198964 0.05835423 0.01272178 0.\n",
            " 0.         0.343079   0.4229443  0.        ]\n",
            "coverages  [0.8605957  0.75019836 0.74252319 0.80328369 0.54093933 0.56816101\n",
            " 0.69799805 0.64454651 0.80535889 0.6204834 ]\n",
            "statsitic average of overlap_rates is  0.1704177604884798\n",
            "statsitic std of overlap_rates is  0.19725494030364016\n",
            "statsitic average of coverages is  0.7034088134765625\n",
            "statsitic std of coverages is  0.10190912439987176\n",
            "recon_overlap_rates  [0.5478348902489532, 0.38912224797219, 0.7792798483891346, 0.2523762530514725, 1, 1, 0.48402271335523017, 1, 0.303710646274443, 0.9382990550305725]\n",
            "recon_coverages  [0.3315887451171875, 0.42138671875, 0.3623199462890625, 0.587554931640625, 0.303253173828125, 0.3238983154296875, 0.548187255859375, 0.2024688720703125, 0.3581695556640625, 0.384307861328125]\n",
            "statsitic average of recon_overlap_rates is  0.6694645654321997\n",
            "statsitic std of  recon_overlap_rates is  0.29113661101498944\n",
            "statsitic average of recon_coverages is  0.38231353759765624\n",
            "statsitic std of recon_coverages is  0.10804234086659373\n",
            "sample_random overlap_rates  [0.39525474 0.31629586 0.30244319 0.01702725 0.02947217 0.09949081\n",
            " 0.44184188 0.         0.49626581 0.        ]\n",
            "sample_random coverages  [0.80325317 0.80723572 0.71510315 0.77157593 0.72068787 0.34461975\n",
            " 0.66838074 0.67225647 0.80090332 0.62792969]\n",
            "statsitic average of sample_random overlap_rates is  0.2098091718496174\n",
            "statsitic std of sample_random overlap_rates is  0.18976389072232563\n",
            "statsitic average of sample_random coverages is  0.693194580078125\n",
            "statsitic std of sample_random coverages is  0.13073522810083738\n",
            "sample_det overlap_rates  [0.38827055 0.03726593 0.73267761 0.08041076 0.57067455 1.\n",
            " 0.00248763 0.         0.49626581 0.09492842]\n",
            "sample_det coverages  [0.81982422 0.66168213 0.69654846 0.76226807 0.69671631 0.24554443\n",
            " 0.58885193 0.67225647 0.80090332 0.65228271]\n",
            "statsitic average of sample_det overlap_rates is  0.34029812580171304\n",
            "statsitic std of sample_det overlap_rates is  0.33441946430310476\n",
            "statsitic average of sample_det coverages is  0.6596878051757813\n",
            "statsitic std of sample_det coverages is  0.1534885202159555\n"
          ]
        },
        {
          "output_type": "stream",
          "name": "stderr",
          "text": [
            "epoch 55 iter 14: train loss 0.25089. lr 7.200000e-05: 100%|██████████| 15/15 [00:03<00:00,  3.88it/s]\n",
            "epoch 55 iter 3: test loss 5.01686: 100%|██████████| 4/4 [00:00<00:00, 12.61it/s]\n"
          ]
        },
        {
          "output_type": "stream",
          "name": "stdout",
          "text": [
            "overlap_rates  [0.47508865 0.         0.39198964 0.05835423 0.01272178 0.\n",
            " 0.         0.343079   0.4229443  0.        ]\n",
            "coverages  [0.8605957  0.75019836 0.74252319 0.80328369 0.54093933 0.56816101\n",
            " 0.69799805 0.64454651 0.80535889 0.6204834 ]\n",
            "statsitic average of overlap_rates is  0.1704177604884798\n",
            "statsitic std of overlap_rates is  0.19725494030364016\n",
            "statsitic average of coverages is  0.7034088134765625\n",
            "statsitic std of coverages is  0.10190912439987176\n",
            "recon_overlap_rates  [0.4454844796329868, 0.4991861096039067, 1, 0.15834354575163398, 1, 1, 0.8030242493161631, 1, 0.3411804271061039, 0.8500347831848146]\n",
            "recon_coverages  [0.4124298095703125, 0.393707275390625, 0.212646484375, 0.59765625, 0.2354888916015625, 0.28399658203125, 0.4964752197265625, 0.25457763671875, 0.36297607421875, 0.4606170654296875]\n",
            "statsitic average of recon_overlap_rates is  0.7097253594595608\n",
            "statsitic std of  recon_overlap_rates is  0.3032204107494534\n",
            "statsitic average of recon_coverages is  0.37105712890625\n",
            "statsitic std of recon_coverages is  0.11916692615430208\n",
            "sample_random overlap_rates  [0.26936613 0.03726593 0.1025419  0.42714061 0.24809945 0.88418047\n",
            " 0.19305531 0.39025062 0.49626581 0.00248079]\n",
            "sample_random coverages  [0.77175903 0.66168213 0.59909058 0.87142944 0.7868042  0.66255188\n",
            " 0.70178223 0.885849   0.80090332 0.62738037]\n",
            "statsitic average of sample_random overlap_rates is  0.30506470187928997\n",
            "statsitic std of sample_random overlap_rates is  0.24808190654403733\n",
            "statsitic average of sample_random coverages is  0.7369232177734375\n",
            "statsitic std of sample_random coverages is  0.09565071451704309\n",
            "sample_det overlap_rates  [0.38827055 0.03726593 0.06934142 0.39158961 0.10960133 0.00194193\n",
            " 0.00248763 0.         0.49626581 0.        ]\n",
            "sample_det coverages  [0.81982422 0.66168213 0.74465942 0.6930542  0.78269958 0.63645935\n",
            " 0.58885193 0.67225647 0.80090332 0.62771606]\n",
            "statsitic average of sample_det overlap_rates is  0.14967642105924747\n",
            "statsitic std of sample_det overlap_rates is  0.18562469639698184\n",
            "statsitic average of sample_det coverages is  0.7028106689453125\n",
            "statsitic std of sample_det coverages is  0.07562836268383186\n"
          ]
        },
        {
          "output_type": "stream",
          "name": "stderr",
          "text": [
            "epoch 56 iter 14: train loss 0.28399. lr 7.200000e-05: 100%|██████████| 15/15 [00:03<00:00,  3.88it/s]\n",
            "epoch 56 iter 3: test loss 5.11619: 100%|██████████| 4/4 [00:00<00:00, 12.65it/s]\n"
          ]
        },
        {
          "output_type": "stream",
          "name": "stdout",
          "text": [
            "overlap_rates  [0.47508865 0.         0.39198964 0.05835423 0.01272178 0.\n",
            " 0.         0.343079   0.4229443  0.        ]\n",
            "coverages  [0.8605957  0.75019836 0.74252319 0.80328369 0.54093933 0.56816101\n",
            " 0.69799805 0.64454651 0.80535889 0.6204834 ]\n",
            "statsitic average of overlap_rates is  0.1704177604884798\n",
            "statsitic std of overlap_rates is  0.19725494030364016\n",
            "statsitic average of coverages is  0.7034088134765625\n",
            "statsitic std of coverages is  0.10190912439987176\n",
            "recon_overlap_rates  [0.9791701198961269, 0.23725154138936497, 0.70196821568543, 0.27645399597044995, 1, 1, 1, 1, 0.30297669069839445, 1]\n",
            "recon_coverages  [0.2761688232421875, 0.6855316162109375, 0.3542938232421875, 0.5680084228515625, 0.1347198486328125, 0.2814178466796875, 0.19854736328125, 0.19598388671875, 0.3449859619140625, 0.3601531982421875]\n",
            "statsitic average of recon_overlap_rates is  0.7497820563639765\n",
            "statsitic std of  recon_overlap_rates is  0.32470173389778156\n",
            "statsitic average of recon_coverages is  0.3399810791015625\n",
            "statsitic std of recon_coverages is  0.16199104215655366\n",
            "sample_random overlap_rates  [0.07928458 0.05694275 0.11631678 0.14192446 0.61662674 0.00973442\n",
            " 0.00273333 0.05864969 0.36336683 0.        ]\n",
            "sample_random coverages  [0.61682129 1.03703308 0.71520996 0.79463196 0.66241455 0.75553894\n",
            " 0.53591919 0.67123413 0.79257202 0.62736511]\n",
            "statsitic average of sample_random overlap_rates is  0.144557958524455\n",
            "statsitic std of sample_random overlap_rates is  0.18709266136347122\n",
            "statsitic average of sample_random coverages is  0.7208740234375\n",
            "statsitic std of sample_random coverages is  0.13093201713417402\n",
            "sample_det overlap_rates  [0.38827055 0.03726593 0.028343   0.32522202 0.32502106 0.00194193\n",
            " 0.00248763 0.         0.49626581 0.23563728]\n",
            "sample_det coverages  [0.81982422 0.66168213 0.8263855  0.81956482 0.7244873  0.63645935\n",
            " 0.58885193 0.67225647 0.80090332 0.74021912]\n",
            "statsitic average of sample_det overlap_rates is  0.1840455214011857\n",
            "statsitic std of sample_det overlap_rates is  0.18095337839645342\n",
            "statsitic average of sample_det coverages is  0.7290634155273438\n",
            "statsitic std of sample_det coverages is  0.08198049668271926\n"
          ]
        },
        {
          "output_type": "stream",
          "name": "stderr",
          "text": [
            "epoch 57 iter 14: train loss 0.24780. lr 7.200000e-05: 100%|██████████| 15/15 [00:03<00:00,  3.85it/s]\n",
            "epoch 57 iter 3: test loss 5.01808: 100%|██████████| 4/4 [00:00<00:00, 12.61it/s]\n"
          ]
        },
        {
          "output_type": "stream",
          "name": "stdout",
          "text": [
            "overlap_rates  [0.47508865 0.         0.39198964 0.05835423 0.01272178 0.\n",
            " 0.         0.343079   0.4229443  0.        ]\n",
            "coverages  [0.8605957  0.75019836 0.74252319 0.80328369 0.54093933 0.56816101\n",
            " 0.69799805 0.64454651 0.80535889 0.6204834 ]\n",
            "statsitic average of overlap_rates is  0.1704177604884798\n",
            "statsitic std of overlap_rates is  0.19725494030364016\n",
            "statsitic average of coverages is  0.7034088134765625\n",
            "statsitic std of coverages is  0.10190912439987176\n",
            "recon_overlap_rates  [0.4173347275473452, 0.5873242889833279, 0.8264941533131226, 0.16356040327220875, 1, 1, 0.43495370954314977, 1, 0.27427163849486114, 1]\n",
            "recon_coverages  [0.3939971923828125, 0.3734130859375, 0.2818603515625, 0.6099395751953125, 0.1243743896484375, 0.4792022705078125, 0.6048736572265625, 0.4405364990234375, 0.359283447265625, 0.3739166259765625]\n",
            "statsitic average of recon_overlap_rates is  0.6703938921154016\n",
            "statsitic std of  recon_overlap_rates is  0.3160842674822282\n",
            "statsitic average of recon_coverages is  0.40413970947265626\n",
            "statsitic std of recon_coverages is  0.13667487241638313\n",
            "sample_random overlap_rates  [0.00104631 0.00798471 0.42266216 0.50711898 0.08515906 0.3041735\n",
            " 0.00248763 0.         0.46434653 0.24838664]\n",
            "sample_random coverages  [0.61250305 0.71853638 0.65513611 0.40617371 0.77656555 0.75352478\n",
            " 0.58885193 0.66929626 0.79753113 0.65258789]\n",
            "statsitic average of sample_random overlap_rates is  0.20433655202605397\n",
            "statsitic std of sample_random overlap_rates is  0.19885596317017\n",
            "statsitic average of sample_random coverages is  0.6630706787109375\n",
            "statsitic std of sample_random coverages is  0.10793157705812959\n",
            "sample_det overlap_rates  [0.00822081 0.03726593 0.11023364 0.36919233 0.02331368 0.0021172\n",
            " 0.00248763 0.         0.37273212 0.        ]\n",
            "sample_det coverages  [0.7424469  0.66168213 0.79025269 0.72679138 0.77885437 0.58377075\n",
            " 0.58885193 0.67225647 0.80065918 0.62771606]\n",
            "statsitic average of sample_det overlap_rates is  0.09255633458182597\n",
            "statsitic std of sample_det overlap_rates is  0.1427331245399015\n",
            "statsitic average of sample_det coverages is  0.6973281860351562\n",
            "statsitic std of sample_det coverages is  0.07763377023592039\n"
          ]
        },
        {
          "output_type": "stream",
          "name": "stderr",
          "text": [
            "epoch 58 iter 14: train loss 0.22229. lr 7.200000e-05: 100%|██████████| 15/15 [00:03<00:00,  3.88it/s]\n",
            "epoch 58 iter 3: test loss 4.97108: 100%|██████████| 4/4 [00:00<00:00, 12.65it/s]\n"
          ]
        },
        {
          "output_type": "stream",
          "name": "stdout",
          "text": [
            "overlap_rates  [0.47508865 0.         0.39198964 0.05835423 0.01272178 0.\n",
            " 0.         0.343079   0.4229443  0.        ]\n",
            "coverages  [0.8605957  0.75019836 0.74252319 0.80328369 0.54093933 0.56816101\n",
            " 0.69799805 0.64454651 0.80535889 0.6204834 ]\n",
            "statsitic average of overlap_rates is  0.1704177604884798\n",
            "statsitic std of overlap_rates is  0.19725494030364016\n",
            "statsitic average of coverages is  0.7034088134765625\n",
            "statsitic std of coverages is  0.10190912439987176\n",
            "recon_overlap_rates  [0.5237386124737211, 0.6212323171518253, 1, 0.11365947012738473, 1, 1, 0.6071691122415973, 1, 0.2698297132225054, 1]\n",
            "recon_coverages  [0.348388671875, 0.3548736572265625, 0.1882781982421875, 0.510284423828125, 0.29913330078125, 0.3538818359375, 0.5189056396484375, 0.590484619140625, 0.3772430419921875, 0.4032135009765625]\n",
            "statsitic average of recon_overlap_rates is  0.7135629225217034\n",
            "statsitic std of  recon_overlap_rates is  0.31982685350673834\n",
            "statsitic average of recon_coverages is  0.39446868896484377\n",
            "statsitic std of recon_coverages is  0.1116400736865405\n",
            "sample_random overlap_rates  [0.03767037 0.57254009 0.3508305  0.38844802 0.08918452 0.0019596\n",
            " 0.09569477 0.05615971 0.12735156 0.05361807]\n",
            "sample_random coverages  [0.66835022 0.89819336 0.80841064 0.60760498 0.75126648 0.63072205\n",
            " 0.66667175 0.57247925 0.65455627 0.66592407]\n",
            "statsitic average of sample_random overlap_rates is  0.17734572178925076\n",
            "statsitic std of sample_random overlap_rates is  0.18111943719709878\n",
            "statsitic average of sample_random coverages is  0.6924179077148438\n",
            "statsitic std of sample_random coverages is  0.09382081041055831\n",
            "sample_det overlap_rates  [0.40765834 0.03726593 0.1026534  0.37720327 0.03700652 0.00194193\n",
            " 0.00248763 0.         0.49626581 0.19971273]\n",
            "sample_det coverages  [0.80853271 0.66168213 0.73608398 0.80682373 0.68528748 0.63645935\n",
            " 0.58885193 0.67225647 0.80090332 0.77549744]\n",
            "statsitic average of sample_det overlap_rates is  0.16621955663779558\n",
            "statsitic std of sample_det overlap_rates is  0.18211234429163817\n",
            "statsitic average of sample_det coverages is  0.7172378540039063\n",
            "statsitic std of sample_det coverages is  0.07499889955669471\n"
          ]
        },
        {
          "output_type": "stream",
          "name": "stderr",
          "text": [
            "epoch 59 iter 14: train loss 0.21983. lr 7.200000e-05: 100%|██████████| 15/15 [00:03<00:00,  3.88it/s]\n",
            "epoch 59 iter 3: test loss 5.00604: 100%|██████████| 4/4 [00:00<00:00, 12.56it/s]\n"
          ]
        },
        {
          "output_type": "stream",
          "name": "stdout",
          "text": [
            "overlap_rates  [0.47508865 0.         0.39198964 0.05835423 0.01272178 0.\n",
            " 0.         0.343079   0.4229443  0.        ]\n",
            "coverages  [0.8605957  0.75019836 0.74252319 0.80328369 0.54093933 0.56816101\n",
            " 0.69799805 0.64454651 0.80535889 0.6204834 ]\n",
            "statsitic average of overlap_rates is  0.1704177604884798\n",
            "statsitic std of overlap_rates is  0.19725494030364016\n",
            "statsitic average of coverages is  0.7034088134765625\n",
            "statsitic std of coverages is  0.10190912439987176\n",
            "recon_overlap_rates  [0.5212796227795619, 0.8500316484311421, 0.805154872258648, 0.17643028434395341, 1, 1, 0.7132626235155471, 1, 0.262754481304242, 0.8433271786179133]\n",
            "recon_coverages  [0.3753814697265625, 0.337493896484375, 0.3374481201171875, 0.5790252685546875, 0.3106842041015625, 0.371673583984375, 0.5049591064453125, 0.4899139404296875, 0.376251220703125, 0.5041046142578125]\n",
            "statsitic average of recon_overlap_rates is  0.7172240711251009\n",
            "statsitic std of  recon_overlap_rates is  0.28610641337587156\n",
            "statsitic average of recon_coverages is  0.41869354248046875\n",
            "statsitic std of recon_coverages is  0.08732914023469149\n",
            "sample_random overlap_rates  [0.06633108 0.14763242 0.04542612 0.14153706 0.30159527 0.12983161\n",
            " 0.29026709 0.         0.49892909 0.14904798]\n",
            "sample_random coverages  [0.71841431 0.76049805 0.53677368 0.60437012 0.79006958 0.66873169\n",
            " 0.50559998 0.68299866 0.7979126  0.8013916 ]\n",
            "statsitic average of sample_random overlap_rates is  0.17705977278403312\n",
            "statsitic std of sample_random overlap_rates is  0.14071469776011739\n",
            "statsitic average of sample_random coverages is  0.686676025390625\n",
            "statsitic std of sample_random coverages is  0.10249366232022229\n",
            "sample_det overlap_rates  [0.40765834 0.28883477 0.29702318 0.62771841 0.21761658 0.00194193\n",
            " 0.00248763 0.         0.49626581 0.05883986]\n",
            "sample_det coverages  [0.80853271 0.80194092 0.81091309 0.60972595 0.68322754 0.63645935\n",
            " 0.58885193 0.67225647 0.80090332 0.49479675]\n",
            "statsitic average of sample_det overlap_rates is  0.23983865076867777\n",
            "statsitic std of sample_det overlap_rates is  0.21301339274609535\n",
            "statsitic average of sample_det coverages is  0.6907608032226562\n",
            "statsitic std of sample_det coverages is  0.10559401932870344\n"
          ]
        },
        {
          "output_type": "stream",
          "name": "stderr",
          "text": [
            "epoch 60 iter 14: train loss 0.22201. lr 7.200000e-05: 100%|██████████| 15/15 [00:03<00:00,  3.88it/s]\n",
            "epoch 60 iter 3: test loss 5.22723: 100%|██████████| 4/4 [00:00<00:00, 12.60it/s]\n"
          ]
        },
        {
          "output_type": "stream",
          "name": "stdout",
          "text": [
            "overlap_rates  [0.47508865 0.         0.39198964 0.05835423 0.01272178 0.\n",
            " 0.         0.343079   0.4229443  0.        ]\n",
            "coverages  [0.8605957  0.75019836 0.74252319 0.80328369 0.54093933 0.56816101\n",
            " 0.69799805 0.64454651 0.80535889 0.6204834 ]\n",
            "statsitic average of overlap_rates is  0.1704177604884798\n",
            "statsitic std of overlap_rates is  0.19725494030364016\n",
            "statsitic average of coverages is  0.7034088134765625\n",
            "statsitic std of coverages is  0.10190912439987176\n",
            "recon_overlap_rates  [0.37136264080100123, 0.48554332435024894, 0.7017318043529136, 0.3146464646464647, 1, 1, 0.7038879241840068, 1, 0.16530990222681655, 1]\n",
            "recon_coverages  [0.39013671875, 0.3340606689453125, 0.26080322265625, 0.57403564453125, 0.3568267822265625, 0.3856353759765625, 0.5184478759765625, 0.4027862548828125, 0.3542633056640625, 0.391632080078125]\n",
            "statsitic average of recon_overlap_rates is  0.6742482060561452\n",
            "statsitic std of  recon_overlap_rates is  0.30688297340284443\n",
            "statsitic average of recon_coverages is  0.39686279296875\n",
            "statsitic std of recon_coverages is  0.08501811947823625\n",
            "sample_random overlap_rates  [0.03571978 0.07315874 0.09472027 0.75451561 0.00257053 0.15956703\n",
            " 0.00893844 0.         0.49145914 0.        ]\n",
            "sample_random coverages  [0.69416809 0.5587616  0.52339172 0.85069275 0.73606873 0.76405334\n",
            " 0.60772705 0.67225647 0.7959137  0.62771606]\n",
            "statsitic average of sample_random overlap_rates is  0.1620649546166156\n",
            "statsitic std of sample_random overlap_rates is  0.24275987606733002\n",
            "statsitic average of sample_random coverages is  0.683074951171875\n",
            "statsitic std of sample_random coverages is  0.10006433025210572\n",
            "sample_det overlap_rates  [0.38827055 0.03726593 0.10422601 0.10293091 0.92383623 0.00194193\n",
            " 0.00248763 0.         0.49626581 0.        ]\n",
            "sample_det coverages  [0.81982422 0.66168213 0.78749084 0.61224365 0.66934204 0.63645935\n",
            " 0.58885193 0.67225647 0.80090332 0.62771606]\n",
            "statsitic average of sample_det overlap_rates is  0.20572250061634412\n",
            "statsitic std of sample_det overlap_rates is  0.29157267072703463\n",
            "statsitic average of sample_det coverages is  0.687677001953125\n",
            "statsitic std of sample_det coverages is  0.07948001855126618\n"
          ]
        },
        {
          "output_type": "stream",
          "name": "stderr",
          "text": [
            "epoch 61 iter 14: train loss 0.21526. lr 7.200000e-05: 100%|██████████| 15/15 [00:03<00:00,  3.86it/s]\n",
            "epoch 61 iter 3: test loss 5.02447: 100%|██████████| 4/4 [00:00<00:00, 12.71it/s]\n"
          ]
        },
        {
          "output_type": "stream",
          "name": "stdout",
          "text": [
            "overlap_rates  [0.47508865 0.         0.39198964 0.05835423 0.01272178 0.\n",
            " 0.         0.343079   0.4229443  0.        ]\n",
            "coverages  [0.8605957  0.75019836 0.74252319 0.80328369 0.54093933 0.56816101\n",
            " 0.69799805 0.64454651 0.80535889 0.6204834 ]\n",
            "statsitic average of overlap_rates is  0.1704177604884798\n",
            "statsitic std of overlap_rates is  0.19725494030364016\n",
            "statsitic average of coverages is  0.7034088134765625\n",
            "statsitic std of coverages is  0.10190912439987176\n",
            "recon_overlap_rates  [0.3216484391975085, 0.6360935329526162, 0.8961005423086855, 0.16279299528243635, 1, 1, 0.48349930046909717, 1, 0.18016735679779158, 0.6549677958015268]\n",
            "recon_coverages  [0.421356201171875, 0.39544677734375, 0.354522705078125, 0.6177825927734375, 0.3196868896484375, 0.428131103515625, 0.5562286376953125, 0.2339630126953125, 0.353759765625, 0.51171875]\n",
            "statsitic average of recon_overlap_rates is  0.6335269962809662\n",
            "statsitic std of  recon_overlap_rates is  0.3192523383971005\n",
            "statsitic average of recon_coverages is  0.4192596435546875\n",
            "statsitic std of recon_coverages is  0.10959077697523803\n",
            "sample_random overlap_rates  [0.31258838 0.2046073  0.04068125 0.03334158 0.62594211 0.6994823\n",
            " 0.0104501  0.04608848 0.14228879 0.        ]\n",
            "sample_random coverages  [0.88485718 0.74583435 0.78842163 0.67823792 0.76123047 0.54232788\n",
            " 0.65122986 0.61050415 0.79774475 0.62763977]\n",
            "statsitic average of sample_random overlap_rates is  0.21154702824351945\n",
            "statsitic std of sample_random overlap_rates is  0.24461792258935047\n",
            "statsitic average of sample_random coverages is  0.7088027954101562\n",
            "statsitic std of sample_random coverages is  0.0987814685815683\n",
            "sample_det overlap_rates  [0.38827055 0.03726593 0.11829938 0.15878609 0.67188777 0.07574127\n",
            " 0.00248763 0.         0.94851252 0.        ]\n",
            "sample_det coverages  [0.81982422 0.66168213 0.85310364 0.87034607 0.76570129 0.70913696\n",
            " 0.58885193 0.67225647 0.54470825 0.62771606]\n",
            "statsitic average of sample_det overlap_rates is  0.2401251145231862\n",
            "statsitic std of sample_det overlap_rates is  0.31170529865154945\n",
            "statsitic average of sample_det coverages is  0.7113327026367188\n",
            "statsitic std of sample_det coverages is  0.10670733060914198\n"
          ]
        },
        {
          "output_type": "stream",
          "name": "stderr",
          "text": [
            "epoch 62 iter 14: train loss 0.19890. lr 7.200000e-05: 100%|██████████| 15/15 [00:03<00:00,  3.87it/s]\n",
            "epoch 62 iter 3: test loss 5.01477: 100%|██████████| 4/4 [00:00<00:00, 12.57it/s]\n"
          ]
        },
        {
          "output_type": "stream",
          "name": "stdout",
          "text": [
            "overlap_rates  [0.47508865 0.         0.39198964 0.05835423 0.01272178 0.\n",
            " 0.         0.343079   0.4229443  0.        ]\n",
            "coverages  [0.8605957  0.75019836 0.74252319 0.80328369 0.54093933 0.56816101\n",
            " 0.69799805 0.64454651 0.80535889 0.6204834 ]\n",
            "statsitic average of overlap_rates is  0.1704177604884798\n",
            "statsitic std of overlap_rates is  0.19725494030364016\n",
            "statsitic average of coverages is  0.7034088134765625\n",
            "statsitic std of coverages is  0.10190912439987176\n",
            "recon_overlap_rates  [0.44279919662899225, 0.8802790697674419, 0.4808451998162609, 0.19123872630222713, 1, 1, 0.4037401473391376, 1, 0.2388528365082688, 0.8613733164498676]\n",
            "recon_coverages  [0.3874664306640625, 0.32806396484375, 0.332183837890625, 0.5803070068359375, 0.312225341796875, 0.5785980224609375, 0.592376708984375, 0.47210693359375, 0.3644561767578125, 0.53021240234375]\n",
            "statsitic average of recon_overlap_rates is  0.6499128492812195\n",
            "statsitic std of  recon_overlap_rates is  0.31255405669978703\n",
            "statsitic average of recon_coverages is  0.4477996826171875\n",
            "statsitic std of recon_coverages is  0.10937180663453863\n",
            "sample_random overlap_rates  [9.74510144e-02 3.92659173e-02 3.66174719e-01 5.27431171e-02\n",
            " 2.13990713e-04 8.98063001e-02 3.69557358e-02 1.43029037e-03\n",
            " 9.32317593e-03 0.00000000e+00]\n",
            "sample_random coverages  [0.79197693 0.69093323 0.75578308 0.83522034 0.71305847 0.5459137\n",
            " 0.59085083 0.67210388 0.55482483 0.62828064]\n",
            "statsitic average of sample_random overlap_rates is  0.06933642605235898\n",
            "statsitic std of sample_random overlap_rates is  0.1045699693526959\n",
            "statsitic average of sample_random coverages is  0.6778945922851562\n",
            "statsitic std of sample_random coverages is  0.0937422568506119\n",
            "sample_det overlap_rates  [0.12901653 0.03726593 0.10744285 0.04298071 0.35974317 0.00504534\n",
            " 0.00248763 0.         0.1001142  0.        ]\n",
            "sample_det coverages  [0.87614441 0.66168213 0.59945679 0.6880188  0.74147034 0.7016449\n",
            " 0.58885193 0.67225647 0.7215271  0.62771606]\n",
            "statsitic average of sample_det overlap_rates is  0.0784096363807819\n",
            "statsitic std of sample_det overlap_rates is  0.10460127084670069\n",
            "statsitic average of sample_det coverages is  0.6878768920898437\n",
            "statsitic std of sample_det coverages is  0.07862084750673146\n"
          ]
        },
        {
          "output_type": "stream",
          "name": "stderr",
          "text": [
            "epoch 63 iter 14: train loss 0.17647. lr 7.200000e-05: 100%|██████████| 15/15 [00:03<00:00,  3.88it/s]\n",
            "epoch 63 iter 3: test loss 5.08198: 100%|██████████| 4/4 [00:00<00:00, 12.54it/s]\n"
          ]
        },
        {
          "output_type": "stream",
          "name": "stdout",
          "text": [
            "overlap_rates  [0.47508865 0.         0.39198964 0.05835423 0.01272178 0.\n",
            " 0.         0.343079   0.4229443  0.        ]\n",
            "coverages  [0.8605957  0.75019836 0.74252319 0.80328369 0.54093933 0.56816101\n",
            " 0.69799805 0.64454651 0.80535889 0.6204834 ]\n",
            "statsitic average of overlap_rates is  0.1704177604884798\n",
            "statsitic std of overlap_rates is  0.19725494030364016\n",
            "statsitic average of coverages is  0.7034088134765625\n",
            "statsitic std of coverages is  0.10190912439987176\n",
            "recon_overlap_rates  [0.3687710335320115, 1, 0.557549181317134, 0.31002104581512063, 1, 1, 0.26270490717936495, 1, 0.22028909917293793, 1]\n",
            "recon_coverages  [0.3763275146484375, 0.29376220703125, 0.3792877197265625, 0.565521240234375, 0.29827880859375, 0.467559814453125, 0.5761871337890625, 0.3907318115234375, 0.409576416015625, 0.40875244140625]\n",
            "statsitic average of recon_overlap_rates is  0.6719335267016568\n",
            "statsitic std of  recon_overlap_rates is  0.3384613310293003\n",
            "statsitic average of recon_coverages is  0.4165985107421875\n",
            "statsitic std of recon_coverages is  0.09117328384270294\n",
            "sample_random overlap_rates  [0.1641853  0.18940283 0.01674744 0.61732702 0.22549889 0.16427131\n",
            " 0.23373043 0.         0.48822597 0.        ]\n",
            "sample_random coverages  [0.62518311 0.83197021 0.71157837 0.58615112 0.48171997 0.71133423\n",
            " 0.61993408 0.66957092 0.8086853  0.62771606]\n",
            "statsitic average of sample_random overlap_rates is  0.20993891886093735\n",
            "statsitic std of sample_random overlap_rates is  0.19346555168067417\n",
            "statsitic average of sample_random coverages is  0.6673843383789062\n",
            "statsitic std of sample_random coverages is  0.0988028821186983\n",
            "sample_det overlap_rates  [0.4487145  0.16191684 0.08410479 0.15259878 0.24997606 0.00194193\n",
            " 0.00248763 0.         0.05774332 0.        ]\n",
            "sample_det coverages  [0.68133545 0.83042908 0.79446411 0.79324341 0.79658508 0.63645935\n",
            " 0.58885193 0.67225647 0.74783325 0.62771606]\n",
            "statsitic average of sample_det overlap_rates is  0.11594838406238994\n",
            "statsitic std of sample_det overlap_rates is  0.13759134084851235\n",
            "statsitic average of sample_det coverages is  0.7169174194335938\n",
            "statsitic std of sample_det coverages is  0.08131334285499457\n"
          ]
        },
        {
          "output_type": "stream",
          "name": "stderr",
          "text": [
            "epoch 64 iter 14: train loss 0.17661. lr 7.200000e-05: 100%|██████████| 15/15 [00:03<00:00,  3.88it/s]\n",
            "epoch 64 iter 3: test loss 5.17337: 100%|██████████| 4/4 [00:00<00:00, 12.60it/s]\n"
          ]
        },
        {
          "output_type": "stream",
          "name": "stdout",
          "text": [
            "overlap_rates  [0.47508865 0.         0.39198964 0.05835423 0.01272178 0.\n",
            " 0.         0.343079   0.4229443  0.        ]\n",
            "coverages  [0.8605957  0.75019836 0.74252319 0.80328369 0.54093933 0.56816101\n",
            " 0.69799805 0.64454651 0.80535889 0.6204834 ]\n",
            "statsitic average of overlap_rates is  0.1704177604884798\n",
            "statsitic std of overlap_rates is  0.19725494030364016\n",
            "statsitic average of coverages is  0.7034088134765625\n",
            "statsitic std of coverages is  0.10190912439987176\n",
            "recon_overlap_rates  [0.4791602227033715, 0.546538423003707, 0.8652007184117276, 0.12903681918443527, 1, 1, 0.43981750552132975, 1, 0.25134693877551023, 1]\n",
            "recon_coverages  [0.3946533203125, 0.4568939208984375, 0.3143463134765625, 0.539581298828125, 0.3568267822265625, 0.47674560546875, 0.52508544921875, 0.43731689453125, 0.37384033203125, 0.3321533203125]\n",
            "statsitic average of recon_overlap_rates is  0.6711100627600082\n",
            "statsitic std of  recon_overlap_rates is  0.3234577420782094\n",
            "statsitic average of recon_coverages is  0.42074432373046877\n",
            "statsitic std of recon_coverages is  0.07474086140417383\n",
            "sample_random overlap_rates  [0.06228825 0.0376886  0.09483766 0.32767439 0.17942335 0.57576667\n",
            " 0.00248763 0.         0.49626581 0.47809104]\n",
            "sample_random coverages  [0.66656494 0.73725891 0.73126221 0.78465271 0.41067505 0.71151733\n",
            " 0.58885193 0.67225647 0.80090332 0.57423401]\n",
            "statsitic average of sample_random overlap_rates is  0.22545233959496896\n",
            "statsitic std of sample_random overlap_rates is  0.21258747705901368\n",
            "statsitic average of sample_random coverages is  0.6678176879882812\n",
            "statsitic std of sample_random coverages is  0.11102083705384015\n",
            "sample_det overlap_rates  [0.40765834 0.03726593 0.02695143 0.12394066 0.37276508 0.00194193\n",
            " 0.00248763 0.         0.49626581 0.3028843 ]\n",
            "sample_det coverages  [0.80853271 0.66168213 0.68731689 0.87324524 0.6383667  0.63645935\n",
            " 0.58885193 0.67225647 0.80090332 0.6999054 ]\n",
            "statsitic average of sample_det overlap_rates is  0.17721611145599198\n",
            "statsitic std of sample_det overlap_rates is  0.1861689174776184\n",
            "statsitic average of sample_det coverages is  0.7067520141601562\n",
            "statsitic std of sample_det coverages is  0.0860858006239775\n"
          ]
        },
        {
          "output_type": "stream",
          "name": "stderr",
          "text": [
            "epoch 65 iter 14: train loss 0.18745. lr 7.200000e-05: 100%|██████████| 15/15 [00:03<00:00,  3.86it/s]\n",
            "epoch 65 iter 3: test loss 5.42437: 100%|██████████| 4/4 [00:00<00:00, 12.62it/s]\n"
          ]
        },
        {
          "output_type": "stream",
          "name": "stdout",
          "text": [
            "overlap_rates  [0.47508865 0.         0.39198964 0.05835423 0.01272178 0.\n",
            " 0.         0.343079   0.4229443  0.        ]\n",
            "coverages  [0.8605957  0.75019836 0.74252319 0.80328369 0.54093933 0.56816101\n",
            " 0.69799805 0.64454651 0.80535889 0.6204834 ]\n",
            "statsitic average of overlap_rates is  0.1704177604884798\n",
            "statsitic std of overlap_rates is  0.19725494030364016\n",
            "statsitic average of coverages is  0.7034088134765625\n",
            "statsitic std of coverages is  0.10190912439987176\n",
            "recon_overlap_rates  [0.5271228193655422, 0.5026118721461187, 0.43680102984954544, 0.21358620875711548, 0.9910113975479092, 1, 0.4051334082869444, 1, 0.22572256482651015, 0.9828639363751897]\n",
            "recon_coverages  [0.3035125732421875, 0.4177093505859375, 0.379302978515625, 0.5655975341796875, 0.4243927001953125, 0.28961181640625, 0.5564422607421875, 0.5193328857421875, 0.410736083984375, 0.3722076416015625]\n",
            "statsitic average of recon_overlap_rates is  0.6284853237154875\n",
            "statsitic std of  recon_overlap_rates is  0.31307542381799974\n",
            "statsitic average of recon_coverages is  0.42388458251953126\n",
            "statsitic std of recon_coverages is  0.0917346030537068\n",
            "sample_random overlap_rates  [0.2353585  0.70386338 0.08673459 0.12451729 0.09338318 0.06317461\n",
            " 0.00248254 0.39015473 0.49626581 0.        ]\n",
            "sample_random coverages  [0.59950256 0.72909546 0.73536682 0.87324524 0.75915527 0.42268372\n",
            " 0.59005737 0.88063049 0.80090332 0.62771606]\n",
            "statsitic average of sample_random overlap_rates is  0.21959346391270937\n",
            "statsitic std of sample_random overlap_rates is  0.2242431525308844\n",
            "statsitic average of sample_random coverages is  0.7018356323242188\n",
            "statsitic std of sample_random coverages is  0.13516737088201375\n",
            "sample_det overlap_rates  [0.40765834 0.03726593 0.05449473 0.12394066 0.43466633 0.00194193\n",
            " 0.00248763 0.         0.49626581 0.27943677]\n",
            "sample_det coverages  [0.80853271 0.66168213 0.63449097 0.87324524 0.85012817 0.63645935\n",
            " 0.58885193 0.67225647 0.80090332 0.57434082]\n",
            "statsitic average of sample_det overlap_rates is  0.18381581399535063\n",
            "statsitic std of sample_det overlap_rates is  0.190087333382\n",
            "statsitic average of sample_det coverages is  0.710089111328125\n",
            "statsitic std of sample_det coverages is  0.10592744853783952\n"
          ]
        },
        {
          "output_type": "stream",
          "name": "stderr",
          "text": [
            "epoch 66 iter 14: train loss 0.17382. lr 7.200000e-05: 100%|██████████| 15/15 [00:03<00:00,  3.86it/s]\n",
            "epoch 66 iter 3: test loss 5.17517: 100%|██████████| 4/4 [00:00<00:00, 12.64it/s]\n"
          ]
        },
        {
          "output_type": "stream",
          "name": "stdout",
          "text": [
            "overlap_rates  [0.47508865 0.         0.39198964 0.05835423 0.01272178 0.\n",
            " 0.         0.343079   0.4229443  0.        ]\n",
            "coverages  [0.8605957  0.75019836 0.74252319 0.80328369 0.54093933 0.56816101\n",
            " 0.69799805 0.64454651 0.80535889 0.6204834 ]\n",
            "statsitic average of overlap_rates is  0.1704177604884798\n",
            "statsitic std of overlap_rates is  0.19725494030364016\n",
            "statsitic average of coverages is  0.7034088134765625\n",
            "statsitic std of coverages is  0.10190912439987176\n",
            "recon_overlap_rates  [0.43087630496678264, 0.46154469896614636, 0.4973053548904942, 0.12588698399544207, 1, 1, 0.8027063095496726, 1, 0.937016498938865, 1]\n",
            "recon_coverages  [0.3858642578125, 0.3763580322265625, 0.3992156982421875, 0.589202880859375, 0.3790435791015625, 0.6056060791015625, 0.4916534423828125, 0.44635009765625, 0.2228851318359375, 0.4390411376953125]\n",
            "statsitic average of recon_overlap_rates is  0.7255336151307403\n",
            "statsitic std of  recon_overlap_rates is  0.3033455323382065\n",
            "statsitic average of recon_coverages is  0.43352203369140624\n",
            "statsitic std of recon_coverages is  0.1055819317047759\n",
            "sample_random overlap_rates  [0.38809609 0.34604759 0.38577499 0.37901904 0.30052635 0.35053759\n",
            " 0.01328986 0.39032754 0.61676077 1.        ]\n",
            "sample_random coverages  [0.80729675 0.65727234 0.563797   0.24203491 0.72184753 0.71101379\n",
            " 0.7348175  0.77426147 0.46484375 0.33534241]\n",
            "statsitic average of sample_random overlap_rates is  0.41703798188605196\n",
            "statsitic std of sample_random overlap_rates is  0.23869588218320137\n",
            "statsitic average of sample_random coverages is  0.6012527465820312\n",
            "statsitic std of sample_random coverages is  0.18431239538309635\n",
            "sample_det overlap_rates  [0.40765834 0.03726593 0.12035756 0.12394066 0.00493936 0.0833162\n",
            " 0.00248763 0.         0.49626581 0.14883851]\n",
            "sample_det coverages  [0.80853271 0.66168213 0.83813477 0.87324524 0.72596741 0.51939392\n",
            " 0.58885193 0.67225647 0.80090332 0.8177948 ]\n",
            "statsitic average of sample_det overlap_rates is  0.14250699994820962\n",
            "statsitic std of sample_det overlap_rates is  0.164238753872454\n",
            "statsitic average of sample_det coverages is  0.73067626953125\n",
            "statsitic std of sample_det coverages is  0.11108823290235488\n"
          ]
        },
        {
          "output_type": "stream",
          "name": "stderr",
          "text": [
            "epoch 67 iter 14: train loss 0.16476. lr 7.200000e-05: 100%|██████████| 15/15 [00:03<00:00,  3.87it/s]\n",
            "epoch 67 iter 3: test loss 5.16625: 100%|██████████| 4/4 [00:00<00:00, 12.66it/s]\n"
          ]
        },
        {
          "output_type": "stream",
          "name": "stdout",
          "text": [
            "overlap_rates  [0.47508865 0.         0.39198964 0.05835423 0.01272178 0.\n",
            " 0.         0.343079   0.4229443  0.        ]\n",
            "coverages  [0.8605957  0.75019836 0.74252319 0.80328369 0.54093933 0.56816101\n",
            " 0.69799805 0.64454651 0.80535889 0.6204834 ]\n",
            "statsitic average of overlap_rates is  0.1704177604884798\n",
            "statsitic std of overlap_rates is  0.19725494030364016\n",
            "statsitic average of coverages is  0.7034088134765625\n",
            "statsitic std of coverages is  0.10190912439987176\n",
            "recon_overlap_rates  [0.6216665170153542, 0.5056170459727232, 0.8652176070666469, 0.055501826778422525, 1, 1, 0.2502480650922802, 1, 0.22344689378757515, 1]\n",
            "recon_coverages  [0.339874267578125, 0.3680877685546875, 0.3074798583984375, 0.5679931640625, 0.4109039306640625, 0.6367340087890625, 0.5382232666015625, 0.5140380859375, 0.365478515625, 0.3118438720703125]\n",
            "statsitic average of recon_overlap_rates is  0.6521697955713003\n",
            "statsitic std of  recon_overlap_rates is  0.35399124308105306\n",
            "statsitic average of recon_coverages is  0.436065673828125\n",
            "statsitic std of recon_coverages is  0.11209073314622979\n",
            "sample_random overlap_rates  [0.41870101 0.22793309 0.85739951 0.17735807 0.30559777 0.13605875\n",
            " 0.00258023 0.         0.49626581 0.00781777]\n",
            "sample_random coverages  [0.68130493 0.77722168 0.86630249 0.82325745 0.72290039 0.71887207\n",
            " 0.56771851 0.67225647 0.80090332 0.56602478]\n",
            "statsitic average of sample_random overlap_rates is  0.26297120170852994\n",
            "statsitic std of sample_random overlap_rates is  0.25701455706753495\n",
            "statsitic average of sample_random coverages is  0.7196762084960937\n",
            "statsitic std of sample_random coverages is  0.09621309555065419\n",
            "sample_det overlap_rates  [0.40765834 0.03726593 0.14453337 0.02070922 0.10250983 0.00194193\n",
            " 0.00248763 0.         0.49626581 0.17697218]\n",
            "sample_det coverages  [0.80853271 0.66168213 0.78546143 0.69923401 0.75691223 0.63645935\n",
            " 0.58885193 0.67225647 0.80090332 0.65493774]\n",
            "statsitic average of sample_det overlap_rates is  0.1390344250553952\n",
            "statsitic std of sample_det overlap_rates is  0.1684352277930659\n",
            "statsitic average of sample_det coverages is  0.7065231323242187\n",
            "statsitic std of sample_det coverages is  0.07262123609179252\n"
          ]
        },
        {
          "output_type": "stream",
          "name": "stderr",
          "text": [
            "epoch 68 iter 14: train loss 0.15568. lr 7.200000e-05: 100%|██████████| 15/15 [00:03<00:00,  3.86it/s]\n",
            "epoch 68 iter 3: test loss 5.24606: 100%|██████████| 4/4 [00:00<00:00, 12.73it/s]\n"
          ]
        },
        {
          "output_type": "stream",
          "name": "stdout",
          "text": [
            "overlap_rates  [0.47508865 0.         0.39198964 0.05835423 0.01272178 0.\n",
            " 0.         0.343079   0.4229443  0.        ]\n",
            "coverages  [0.8605957  0.75019836 0.74252319 0.80328369 0.54093933 0.56816101\n",
            " 0.69799805 0.64454651 0.80535889 0.6204834 ]\n",
            "statsitic average of overlap_rates is  0.1704177604884798\n",
            "statsitic std of overlap_rates is  0.19725494030364016\n",
            "statsitic average of coverages is  0.7034088134765625\n",
            "statsitic std of coverages is  0.10190912439987176\n",
            "recon_overlap_rates  [0.20768428702328667, 0.372993050563144, 0.4208203530633437, 0.17494356659142213, 1, 1, 0.49299209681402817, 1, 0.3944638245820686, 1]\n",
            "recon_coverages  [0.4829254150390625, 0.382049560546875, 0.41143798828125, 0.51373291015625, 0.2652587890625, 0.4806671142578125, 0.4942626953125, 0.451995849609375, 0.3368072509765625, 0.46343994140625]\n",
            "statsitic average of recon_overlap_rates is  0.6063897178637292\n",
            "statsitic std of  recon_overlap_rates is  0.33339310385869236\n",
            "statsitic average of recon_coverages is  0.42825775146484374\n",
            "statsitic std of recon_coverages is  0.07519919616095397\n",
            "sample_random overlap_rates  [9.19582187e-02 7.82984995e-01 3.50079626e-01 9.63346226e-02\n",
            " 3.35118487e-02 4.06954551e-01 1.56257909e-01 5.16830704e-04\n",
            " 4.96265813e-01 0.00000000e+00]\n",
            "sample_random coverages  [0.54342651 0.56945801 0.71861267 0.59571838 0.66386414 0.76748657\n",
            " 0.54264832 0.67904663 0.80090332 0.63296509]\n",
            "statsitic average of sample_random overlap_rates is  0.24148644140702405\n",
            "statsitic std of sample_random overlap_rates is  0.2465020314485304\n",
            "statsitic average of sample_random coverages is  0.6514129638671875\n",
            "statsitic std of sample_random coverages is  0.08654741386658003\n",
            "sample_det overlap_rates  [0.40765834 0.31148562 0.11847314 0.13152699 0.38105029 0.00194193\n",
            " 0.00248763 0.         0.49626581 0.1377762 ]\n",
            "sample_det coverages  [0.80853271 0.73519897 0.85185242 0.55639648 0.74209595 0.63645935\n",
            " 0.58885193 0.67225647 0.80090332 0.55729675]\n",
            "statsitic average of sample_det overlap_rates is  0.198866594395321\n",
            "statsitic std of sample_det overlap_rates is  0.17593633580377122\n",
            "statsitic average of sample_det coverages is  0.6949844360351562\n",
            "statsitic std of sample_det coverages is  0.1029206793284231\n"
          ]
        },
        {
          "output_type": "stream",
          "name": "stderr",
          "text": [
            "epoch 69 iter 14: train loss 0.14930. lr 7.200000e-05: 100%|██████████| 15/15 [00:03<00:00,  3.87it/s]\n",
            "epoch 69 iter 3: test loss 5.22698: 100%|██████████| 4/4 [00:00<00:00, 12.79it/s]\n"
          ]
        },
        {
          "output_type": "stream",
          "name": "stdout",
          "text": [
            "overlap_rates  [0.47508865 0.         0.39198964 0.05835423 0.01272178 0.\n",
            " 0.         0.343079   0.4229443  0.        ]\n",
            "coverages  [0.8605957  0.75019836 0.74252319 0.80328369 0.54093933 0.56816101\n",
            " 0.69799805 0.64454651 0.80535889 0.6204834 ]\n",
            "statsitic average of overlap_rates is  0.1704177604884798\n",
            "statsitic std of overlap_rates is  0.19725494030364016\n",
            "statsitic average of coverages is  0.7034088134765625\n",
            "statsitic std of coverages is  0.10190912439987176\n",
            "recon_overlap_rates  [0.27891903378904864, 0.436419232391396, 0.2976499086311674, 0.1758811426128317, 1, 1, 0.535209950434864, 1, 0.37311391511515046, 1]\n",
            "recon_coverages  [0.430816650390625, 0.43414306640625, 0.3590545654296875, 0.5710296630859375, 0.305938720703125, 0.365509033203125, 0.4894866943359375, 0.4729461669921875, 0.345855712890625, 0.4303741455078125]\n",
            "statsitic average of recon_overlap_rates is  0.6097193182974459\n",
            "statsitic std of  recon_overlap_rates is  0.3310399419846303\n",
            "statsitic average of recon_coverages is  0.42051544189453127\n",
            "statsitic std of recon_coverages is  0.07486962733216149\n",
            "sample_random overlap_rates  [0.35990028 0.00926264 0.030076   0.0384192  0.79589729 0.17628751\n",
            " 0.77385232 0.         0.40063041 0.        ]\n",
            "sample_random coverages  [0.84468079 0.62599182 0.56822205 0.67915344 0.53184509 0.77952576\n",
            " 0.66210938 0.67225647 0.76002502 0.60906982]\n",
            "statsitic average of sample_random overlap_rates is  0.25843256495344274\n",
            "statsitic std of sample_random overlap_rates is  0.2979937292371026\n",
            "statsitic average of sample_random coverages is  0.6732879638671875\n",
            "statsitic std of sample_random coverages is  0.09260212847625923\n",
            "sample_det overlap_rates  [0.37886768 0.11021645 0.13588194 0.15584538 0.18806677 0.00194193\n",
            " 0.00248763 0.         0.49626581 0.29870725]\n",
            "sample_det coverages  [0.80827332 0.64431763 0.77752686 0.64581299 0.82449341 0.63645935\n",
            " 0.58885193 0.67225647 0.80090332 0.4662323 ]\n",
            "statsitic average of sample_det overlap_rates is  0.1768280852790613\n",
            "statsitic std of sample_det overlap_rates is  0.16020087480705605\n",
            "statsitic average of sample_det coverages is  0.6865127563476563\n",
            "statsitic std of sample_det coverages is  0.10928845473734468\n"
          ]
        },
        {
          "output_type": "stream",
          "name": "stderr",
          "text": [
            "epoch 70 iter 14: train loss 0.16889. lr 7.200000e-05: 100%|██████████| 15/15 [00:03<00:00,  3.87it/s]\n",
            "epoch 70 iter 3: test loss 5.26463: 100%|██████████| 4/4 [00:00<00:00, 12.45it/s]\n"
          ]
        },
        {
          "output_type": "stream",
          "name": "stdout",
          "text": [
            "overlap_rates  [0.47508865 0.         0.39198964 0.05835423 0.01272178 0.\n",
            " 0.         0.343079   0.4229443  0.        ]\n",
            "coverages  [0.8605957  0.75019836 0.74252319 0.80328369 0.54093933 0.56816101\n",
            " 0.69799805 0.64454651 0.80535889 0.6204834 ]\n",
            "statsitic average of overlap_rates is  0.1704177604884798\n",
            "statsitic std of overlap_rates is  0.19725494030364016\n",
            "statsitic average of coverages is  0.7034088134765625\n",
            "statsitic std of coverages is  0.10190912439987176\n",
            "recon_overlap_rates  [0.4556010420543357, 0.5339627170173614, 0.7394762667217603, 0.3762133214325561, 1, 1, 0.6863918358356889, 1, 0.21638464875951563, 0.5611060907283572]\n",
            "recon_coverages  [0.410003662109375, 0.381439208984375, 0.2954254150390625, 0.54705810546875, 0.198486328125, 0.13201904296875, 0.4156646728515625, 0.3687591552734375, 0.3868560791015625, 0.4221343994140625]\n",
            "statsitic average of recon_overlap_rates is  0.6569135922549576\n",
            "statsitic std of  recon_overlap_rates is  0.2642899055267959\n",
            "statsitic average of recon_coverages is  0.35578460693359376\n",
            "statsitic std of recon_coverages is  0.11303190545818365\n",
            "sample_random overlap_rates  [0.49371187 0.25705072 0.00353498 1.         0.20903752 0.13854004\n",
            " 0.32157635 0.         0.49626581 0.        ]\n",
            "sample_random coverages  [0.6927948  0.78071594 0.72517395 0.65164185 0.68075562 0.49937439\n",
            " 0.6121521  0.6696167  0.80090332 0.62736511]\n",
            "statsitic average of sample_random overlap_rates is  0.29197172972626184\n",
            "statsitic std of sample_random overlap_rates is  0.2949483350173024\n",
            "statsitic average of sample_random coverages is  0.6740493774414062\n",
            "statsitic std of sample_random coverages is  0.08217271835116424\n",
            "sample_det overlap_rates  [0.37886768 0.03726593 0.11864376 0.09161662 0.08195407 0.00194193\n",
            " 0.00248763 0.         0.49626581 0.03169985]\n",
            "sample_det coverages  [0.80827332 0.66168213 0.85011292 0.24899292 0.74214172 0.63645935\n",
            " 0.58885193 0.67225647 0.80090332 0.60842896]\n",
            "statsitic average of sample_det overlap_rates is  0.1240743296453316\n",
            "statsitic std of sample_det overlap_rates is  0.16354390608608357\n",
            "statsitic average of sample_det coverages is  0.661810302734375\n",
            "statsitic std of sample_det coverages is  0.16188013664103507\n"
          ]
        },
        {
          "output_type": "stream",
          "name": "stderr",
          "text": [
            "epoch 71 iter 14: train loss 0.15881. lr 7.200000e-05: 100%|██████████| 15/15 [00:03<00:00,  3.87it/s]\n",
            "epoch 71 iter 3: test loss 5.27422: 100%|██████████| 4/4 [00:00<00:00, 12.56it/s]\n"
          ]
        },
        {
          "output_type": "stream",
          "name": "stdout",
          "text": [
            "overlap_rates  [0.47508865 0.         0.39198964 0.05835423 0.01272178 0.\n",
            " 0.         0.343079   0.4229443  0.        ]\n",
            "coverages  [0.8605957  0.75019836 0.74252319 0.80328369 0.54093933 0.56816101\n",
            " 0.69799805 0.64454651 0.80535889 0.6204834 ]\n",
            "statsitic average of overlap_rates is  0.1704177604884798\n",
            "statsitic std of overlap_rates is  0.19725494030364016\n",
            "statsitic average of coverages is  0.7034088134765625\n",
            "statsitic std of coverages is  0.10190912439987176\n",
            "recon_overlap_rates  [0.29734840156545445, 0.39884141926140476, 0.636156878601031, 0.08047529706066292, 1, 1, 0.5849037790407817, 1, 0.5545407949303387, 0.9716076543107385]\n",
            "recon_coverages  [0.3470001220703125, 0.42144775390625, 0.301910400390625, 0.6099700927734375, 0.1569671630859375, 0.201812744140625, 0.4590911865234375, 0.3349456787109375, 0.3274688720703125, 0.3675994873046875]\n",
            "statsitic average of recon_overlap_rates is  0.6523874224770412\n",
            "statsitic std of  recon_overlap_rates is  0.31562925483728405\n",
            "statsitic average of recon_coverages is  0.35282135009765625\n",
            "statsitic std of recon_coverages is  0.12128367224869381\n",
            "sample_random overlap_rates  [0.38115503 0.3961057  0.45991904 1.         0.53744597 0.19290228\n",
            " 0.00248763 0.         0.23925556 0.11890755]\n",
            "sample_random coverages  [0.81034851 0.60575867 0.75016785 0.66072083 0.84024048 0.78468323\n",
            " 0.58885193 0.67225647 0.760849   0.57322693]\n",
            "statsitic average of sample_random overlap_rates is  0.33281787643395616\n",
            "statsitic std of sample_random overlap_rates is  0.28345632801929854\n",
            "statsitic average of sample_random coverages is  0.7047103881835938\n",
            "statsitic std of sample_random coverages is  0.091995794396142\n",
            "sample_det overlap_rates  [0.37886768 0.03726593 0.08434588 0.03510825 0.18249703 0.00194193\n",
            " 0.00248763 0.         0.49626581 0.        ]\n",
            "sample_det coverages  [0.80827332 0.66168213 0.68943787 0.67800903 0.59054565 0.63645935\n",
            " 0.58885193 0.67225647 0.80090332 0.62771606]\n",
            "statsitic average of sample_det overlap_rates is  0.12187801520800456\n",
            "statsitic std of sample_det overlap_rates is  0.16862048034813015\n",
            "statsitic average of sample_det coverages is  0.6754135131835938\n",
            "statsitic std of sample_det coverages is  0.07231133421753701\n"
          ]
        },
        {
          "output_type": "stream",
          "name": "stderr",
          "text": [
            "epoch 72 iter 14: train loss 0.13989. lr 7.200000e-05: 100%|██████████| 15/15 [00:03<00:00,  3.83it/s]\n",
            "epoch 72 iter 3: test loss 5.37149: 100%|██████████| 4/4 [00:00<00:00, 12.60it/s]\n"
          ]
        },
        {
          "output_type": "stream",
          "name": "stdout",
          "text": [
            "overlap_rates  [0.47508865 0.         0.39198964 0.05835423 0.01272178 0.\n",
            " 0.         0.343079   0.4229443  0.        ]\n",
            "coverages  [0.8605957  0.75019836 0.74252319 0.80328369 0.54093933 0.56816101\n",
            " 0.69799805 0.64454651 0.80535889 0.6204834 ]\n",
            "statsitic average of overlap_rates is  0.1704177604884798\n",
            "statsitic std of overlap_rates is  0.19725494030364016\n",
            "statsitic average of coverages is  0.7034088134765625\n",
            "statsitic std of coverages is  0.10190912439987176\n",
            "recon_overlap_rates  [0.3967842083314026, 0.29466888028039107, 0.6131689224989162, 0.1764907290349768, 1, 1, 0.27802877960878536, 1, 0.4243857130794562, 0.9778935511123628]\n",
            "recon_coverages  [0.3292999267578125, 0.4135894775390625, 0.3167877197265625, 0.579345703125, 0.3538055419921875, 0.105865478515625, 0.5842742919921875, 0.414093017578125, 0.361419677734375, 0.325103759765625]\n",
            "statsitic average of recon_overlap_rates is  0.6161420783946291\n",
            "statsitic std of  recon_overlap_rates is  0.3269191012039493\n",
            "statsitic average of recon_coverages is  0.37835845947265623\n",
            "statsitic std of recon_coverages is  0.1301888385732419\n",
            "sample_random overlap_rates  [0.14397624 0.03726593 0.18725531 0.3080662  0.38428442 0.00191833\n",
            " 0.00248763 0.00423185 0.039177   0.24502436]\n",
            "sample_random coverages  [0.70901489 0.66168213 0.80288696 0.77540588 0.75538635 0.63633728\n",
            " 0.58885193 0.83291626 0.59552002 0.62330627]\n",
            "statsitic average of sample_random overlap_rates is  0.13536872687922843\n",
            "statsitic std of sample_random overlap_rates is  0.13345950038780724\n",
            "statsitic average of sample_random coverages is  0.6981307983398437\n",
            "statsitic std of sample_random coverages is  0.08469095139546064\n",
            "sample_det overlap_rates  [0.1293732  0.03726593 0.34710418 0.03510825 0.24924018 0.00191833\n",
            " 0.00248763 0.         0.49626581 0.03169985]\n",
            "sample_det coverages  [0.76805115 0.66168213 0.77378845 0.67800903 0.78320312 0.63633728\n",
            " 0.58885193 0.67225647 0.80090332 0.60842896]\n",
            "statsitic average of sample_det overlap_rates is  0.13304633658046408\n",
            "statsitic std of sample_det overlap_rates is  0.1649975672509047\n",
            "statsitic average of sample_det coverages is  0.6971511840820312\n",
            "statsitic std of sample_det coverages is  0.07390022606184467\n"
          ]
        },
        {
          "output_type": "stream",
          "name": "stderr",
          "text": [
            "epoch 73 iter 14: train loss 0.14783. lr 7.200000e-05: 100%|██████████| 15/15 [00:03<00:00,  3.88it/s]\n",
            "epoch 73 iter 3: test loss 5.33338: 100%|██████████| 4/4 [00:00<00:00, 12.82it/s]\n"
          ]
        },
        {
          "output_type": "stream",
          "name": "stdout",
          "text": [
            "overlap_rates  [0.47508865 0.         0.39198964 0.05835423 0.01272178 0.\n",
            " 0.         0.343079   0.4229443  0.        ]\n",
            "coverages  [0.8605957  0.75019836 0.74252319 0.80328369 0.54093933 0.56816101\n",
            " 0.69799805 0.64454651 0.80535889 0.6204834 ]\n",
            "statsitic average of overlap_rates is  0.1704177604884798\n",
            "statsitic std of overlap_rates is  0.19725494030364016\n",
            "statsitic average of coverages is  0.7034088134765625\n",
            "statsitic std of coverages is  0.10190912439987176\n",
            "recon_overlap_rates  [0.43405226047283285, 0.2859153442876746, 0.3091526090591649, 0.07817852756770732, 1, 1, 1, 1, 0.3171482515186341, 0.9118796486952137]\n",
            "recon_coverages  [0.2943115234375, 0.4336700439453125, 0.3102569580078125, 0.472137451171875, 0.2852020263671875, 0.562774658203125, 0.3877716064453125, 0.452392578125, 0.37176513671875, 0.3631134033203125]\n",
            "statsitic average of recon_overlap_rates is  0.6336326641601228\n",
            "statsitic std of  recon_overlap_rates is  0.3590320519146923\n",
            "statsitic average of recon_coverages is  0.39333953857421877\n",
            "statsitic std of recon_coverages is  0.08357286784292005\n",
            "sample_random overlap_rates  [0.38092717 0.0973661  0.26108771 0.18297184 0.03139528 0.0019445\n",
            " 0.15024859 0.39015473 0.49626581 0.15329741]\n",
            "sample_random coverages  [0.80706787 0.70851135 0.56871033 0.60360718 0.75819397 0.63562012\n",
            " 0.80717468 0.88063049 0.80090332 0.60319519]\n",
            "statsitic average of sample_random overlap_rates is  0.21456591373202832\n",
            "statsitic std of sample_random overlap_rates is  0.15537390075095903\n",
            "statsitic average of sample_random coverages is  0.7173614501953125\n",
            "statsitic std of sample_random coverages is  0.10307670603965652\n",
            "sample_det overlap_rates  [0.40765834 0.03726593 0.0607202  0.51895998 0.0192123  0.00191833\n",
            " 0.00248763 0.         0.06165458 0.03169985]\n",
            "sample_det coverages  [0.80853271 0.66168213 0.87501526 0.48005676 0.81010437 0.63633728\n",
            " 0.58885193 0.67225647 0.67118835 0.60842896]\n",
            "statsitic average of sample_det overlap_rates is  0.11415771411390371\n",
            "statsitic std of sample_det overlap_rates is  0.17760793562339258\n",
            "statsitic average of sample_det coverages is  0.6812454223632812\n",
            "statsitic std of sample_det coverages is  0.11280536984931724\n"
          ]
        },
        {
          "output_type": "stream",
          "name": "stderr",
          "text": [
            "epoch 74 iter 14: train loss 0.13805. lr 7.200000e-05: 100%|██████████| 15/15 [00:03<00:00,  3.86it/s]\n",
            "epoch 74 iter 3: test loss 5.21475: 100%|██████████| 4/4 [00:00<00:00, 12.69it/s]\n"
          ]
        },
        {
          "output_type": "stream",
          "name": "stdout",
          "text": [
            "overlap_rates  [0.47508865 0.         0.39198964 0.05835423 0.01272178 0.\n",
            " 0.         0.343079   0.4229443  0.        ]\n",
            "coverages  [0.8605957  0.75019836 0.74252319 0.80328369 0.54093933 0.56816101\n",
            " 0.69799805 0.64454651 0.80535889 0.6204834 ]\n",
            "statsitic average of overlap_rates is  0.1704177604884798\n",
            "statsitic std of overlap_rates is  0.19725494030364016\n",
            "statsitic average of coverages is  0.7034088134765625\n",
            "statsitic std of coverages is  0.10190912439987176\n",
            "recon_overlap_rates  [0.3176896902205135, 0.3435401831129196, 0.2742426387315968, 0.18520321246045265, 1, 1, 0.46317362530116807, 1, 0.2515092712376024, 0.8038931322311386]\n",
            "recon_coverages  [0.3452911376953125, 0.449981689453125, 0.43115234375, 0.5642852783203125, 0.2133331298828125, 0.3847503662109375, 0.5003204345703125, 0.4157867431640625, 0.42462158203125, 0.4734649658203125]\n",
            "statsitic average of recon_overlap_rates is  0.5639251753295391\n",
            "statsitic std of  recon_overlap_rates is  0.32747071724457705\n",
            "statsitic average of recon_coverages is  0.42029876708984376\n",
            "statsitic std of recon_coverages is  0.08984695694476164\n",
            "sample_random overlap_rates  [0.40699011 0.0272527  0.32202402 0.13080781 0.17183847 0.00191833\n",
            " 0.01289516 0.         0.49626581 0.00722637]\n",
            "sample_random coverages  [0.80986023 0.76202393 0.75961304 0.87324524 0.76365662 0.63633728\n",
            " 0.61058044 0.67225647 0.80090332 0.77915955]\n",
            "statsitic average of sample_random overlap_rates is  0.15772187874948854\n",
            "statsitic std of sample_random overlap_rates is  0.17733085067865562\n",
            "statsitic average of sample_random coverages is  0.7467636108398438\n",
            "statsitic std of sample_random coverages is  0.0780601642062235\n",
            "sample_det overlap_rates  [0.40765834 0.03726593 0.103704   0.13196107 0.24857187 0.51819093\n",
            " 0.00248763 0.         0.16059975 0.03169985]\n",
            "sample_det coverages  [0.80853271 0.66168213 0.75511169 0.87324524 0.78530884 0.70040894\n",
            " 0.58885193 0.67225647 0.73272705 0.60842896]\n",
            "statsitic average of sample_det overlap_rates is  0.1642139376861297\n",
            "statsitic std of sample_det overlap_rates is  0.16828348222527606\n",
            "statsitic average of sample_det coverages is  0.7186553955078125\n",
            "statsitic std of sample_det coverages is  0.08525037348529452\n"
          ]
        },
        {
          "output_type": "stream",
          "name": "stderr",
          "text": [
            "epoch 75 iter 14: train loss 0.13874. lr 7.200000e-05: 100%|██████████| 15/15 [00:03<00:00,  3.87it/s]\n",
            "epoch 75 iter 3: test loss 5.41661: 100%|██████████| 4/4 [00:00<00:00, 12.65it/s]\n"
          ]
        },
        {
          "output_type": "stream",
          "name": "stdout",
          "text": [
            "overlap_rates  [0.47508865 0.         0.39198964 0.05835423 0.01272178 0.\n",
            " 0.         0.343079   0.4229443  0.        ]\n",
            "coverages  [0.8605957  0.75019836 0.74252319 0.80328369 0.54093933 0.56816101\n",
            " 0.69799805 0.64454651 0.80535889 0.6204834 ]\n",
            "statsitic average of overlap_rates is  0.1704177604884798\n",
            "statsitic std of overlap_rates is  0.19725494030364016\n",
            "statsitic average of coverages is  0.7034088134765625\n",
            "statsitic std of coverages is  0.10190912439987176\n",
            "recon_overlap_rates  [0.328260321197343, 0.28655848719095384, 0.300623656671717, 0.11823492354389784, 1, 1, 1, 1, 0.33174147071917115, 0.7499218614342767]\n",
            "recon_coverages  [0.362945556640625, 0.477691650390625, 0.4330596923828125, 0.532867431640625, 0.2372589111328125, 0.4837188720703125, 0.3369903564453125, 0.3260345458984375, 0.3770294189453125, 0.4393768310546875]\n",
            "statsitic average of recon_overlap_rates is  0.611534072075736\n",
            "statsitic std of  recon_overlap_rates is  0.3502742744916491\n",
            "statsitic average of recon_coverages is  0.40069732666015623\n",
            "statsitic std of recon_coverages is  0.08435855431741739\n",
            "sample_random overlap_rates  [0.37717047 0.47686947 0.19175945 0.11772252 0.0034412  0.07615556\n",
            " 0.00248763 0.         0.48531093 0.        ]\n",
            "sample_random coverages  [0.80847168 0.85395813 0.50846863 0.90394592 0.69172668 0.58265686\n",
            " 0.58885193 0.67225647 0.80090332 0.62771606]\n",
            "statsitic average of sample_random overlap_rates is  0.17309172223276964\n",
            "statsitic std of sample_random overlap_rates is  0.19027067161795344\n",
            "statsitic average of sample_random coverages is  0.7038955688476562\n",
            "statsitic std of sample_random coverages is  0.12488537432460994\n",
            "sample_det overlap_rates  [0.40765834 0.6194325  0.03180983 0.19627166 0.25127178 0.00194193\n",
            " 0.00248763 0.         0.02989378 0.        ]\n",
            "sample_det coverages  [0.80853271 0.70606995 0.838974   0.55741882 0.77687073 0.63645935\n",
            " 0.58885193 0.67225647 0.7197113  0.62771606]\n",
            "statsitic average of sample_det overlap_rates is  0.1540767447432494\n",
            "statsitic std of sample_det overlap_rates is  0.20397574395429185\n",
            "statsitic average of sample_det coverages is  0.6932861328125\n",
            "statsitic std of sample_det coverages is  0.08927049995333776\n"
          ]
        },
        {
          "output_type": "stream",
          "name": "stderr",
          "text": [
            "epoch 76 iter 14: train loss 0.13762. lr 7.200000e-05: 100%|██████████| 15/15 [00:03<00:00,  3.87it/s]\n",
            "epoch 76 iter 3: test loss 5.50970: 100%|██████████| 4/4 [00:00<00:00, 12.60it/s]\n"
          ]
        },
        {
          "output_type": "stream",
          "name": "stdout",
          "text": [
            "overlap_rates  [0.47508865 0.         0.39198964 0.05835423 0.01272178 0.\n",
            " 0.         0.343079   0.4229443  0.        ]\n",
            "coverages  [0.8605957  0.75019836 0.74252319 0.80328369 0.54093933 0.56816101\n",
            " 0.69799805 0.64454651 0.80535889 0.6204834 ]\n",
            "statsitic average of overlap_rates is  0.1704177604884798\n",
            "statsitic std of overlap_rates is  0.19725494030364016\n",
            "statsitic average of coverages is  0.7034088134765625\n",
            "statsitic std of coverages is  0.10190912439987176\n",
            "recon_overlap_rates  [0.35961247568969246, 0.3366389803809251, 0.3647313900264996, 0.22317874203821655, 1, 1, 0.4399695585996956, 1, 0.2671634451715399, 0.8410117434507678]\n",
            "recon_coverages  [0.423675537109375, 0.42620849609375, 0.5067138671875, 0.61328125, 0.2404937744140625, 0.3485260009765625, 0.501251220703125, 0.388275146484375, 0.4033966064453125, 0.47296142578125]\n",
            "statsitic average of recon_overlap_rates is  0.5832306335357337\n",
            "statsitic std of  recon_overlap_rates is  0.3156192684484752\n",
            "statsitic average of recon_coverages is  0.43247833251953127\n",
            "statsitic std of recon_coverages is  0.09559902383991419\n",
            "sample_random overlap_rates  [0.35597914 0.10371405 0.16503013 0.18940692 0.22306589 0.15442782\n",
            " 0.34320209 0.         0.10220262 0.        ]\n",
            "sample_random coverages  [0.71086121 0.61174011 0.67597961 0.7121582  0.69129944 0.64976501\n",
            " 0.79370117 0.67225647 0.70245361 0.62771606]\n",
            "statsitic average of sample_random overlap_rates is  0.16370286718029609\n",
            "statsitic std of sample_random overlap_rates is  0.11594860296756902\n",
            "statsitic average of sample_random coverages is  0.6847930908203125\n",
            "statsitic std of sample_random coverages is  0.04868257152467002\n",
            "sample_det overlap_rates  [0.40765834 0.03726593 0.21138441 0.12097236 0.24857187 0.32187986\n",
            " 0.00248763 0.         0.49626581 0.03169985]\n",
            "sample_det coverages  [0.80853271 0.66168213 0.64952087 0.61326599 0.78530884 0.80422974\n",
            " 0.58885193 0.67225647 0.80090332 0.60842896]\n",
            "statsitic average of sample_det overlap_rates is  0.18781860642660886\n",
            "statsitic std of sample_det overlap_rates is  0.16935728709235173\n",
            "statsitic average of sample_det coverages is  0.699298095703125\n",
            "statsitic std of sample_det coverages is  0.08552507379642137\n"
          ]
        },
        {
          "output_type": "stream",
          "name": "stderr",
          "text": [
            "epoch 77 iter 14: train loss 0.12372. lr 7.200000e-05: 100%|██████████| 15/15 [00:03<00:00,  3.87it/s]\n",
            "epoch 77 iter 3: test loss 5.44385: 100%|██████████| 4/4 [00:00<00:00, 12.62it/s]\n"
          ]
        },
        {
          "output_type": "stream",
          "name": "stdout",
          "text": [
            "overlap_rates  [0.47508865 0.         0.39198964 0.05835423 0.01272178 0.\n",
            " 0.         0.343079   0.4229443  0.        ]\n",
            "coverages  [0.8605957  0.75019836 0.74252319 0.80328369 0.54093933 0.56816101\n",
            " 0.69799805 0.64454651 0.80535889 0.6204834 ]\n",
            "statsitic average of overlap_rates is  0.1704177604884798\n",
            "statsitic std of overlap_rates is  0.19725494030364016\n",
            "statsitic average of coverages is  0.7034088134765625\n",
            "statsitic std of coverages is  0.10190912439987176\n",
            "recon_overlap_rates  [0.6185102722396518, 0.6683862057760267, 0.245602630773937, 0.3532466874414127, 1, 1, 0.43255377795459066, 1, 0.24806797646968357, 0.5368240215118016]\n",
            "recon_coverages  [0.301544189453125, 0.3756561279296875, 0.3990478515625, 0.6022796630859375, 0.3420562744140625, 0.3082733154296875, 0.5369720458984375, 0.32843017578125, 0.3968658447265625, 0.4085693359375]\n",
            "statsitic average of recon_overlap_rates is  0.6103191572167105\n",
            "statsitic std of  recon_overlap_rates is  0.2874586468618662\n",
            "statsitic average of recon_coverages is  0.399969482421875\n",
            "statsitic std of recon_coverages is  0.09324281615783266\n",
            "sample_random overlap_rates  [0.12901653 1.         0.05296195 0.58500514 0.02867487 0.56891939\n",
            " 0.00248763 0.         0.27988658 0.03166333]\n",
            "sample_random coverages  [0.87614441 0.45860291 0.77789307 0.57881165 0.52680969 0.69586182\n",
            " 0.58885193 0.67225647 0.71031189 0.60913086]\n",
            "statsitic average of sample_random overlap_rates is  0.26786154097654036\n",
            "statsitic std of sample_random overlap_rates is  0.3237313654018774\n",
            "statsitic average of sample_random coverages is  0.6494674682617188\n",
            "statsitic std of sample_random coverages is  0.11662638203808158\n",
            "sample_det overlap_rates  [0.40765834 0.03726593 0.13051427 0.26243983 0.24924018 0.\n",
            " 0.00248763 0.         0.22899729 0.        ]\n",
            "sample_det coverages  [0.80853271 0.66168213 0.84294128 0.64979553 0.78320312 0.77919006\n",
            " 0.58885193 0.67225647 0.70944214 0.62771606]\n",
            "statsitic average of sample_det overlap_rates is  0.13186034695647958\n",
            "statsitic std of sample_det overlap_rates is  0.1393476989355406\n",
            "statsitic average of sample_det coverages is  0.7123611450195313\n",
            "statsitic std of sample_det coverages is  0.08142719102932905\n"
          ]
        },
        {
          "output_type": "stream",
          "name": "stderr",
          "text": [
            "epoch 78 iter 14: train loss 0.12601. lr 7.200000e-05: 100%|██████████| 15/15 [00:03<00:00,  3.84it/s]\n",
            "epoch 78 iter 3: test loss 5.37107: 100%|██████████| 4/4 [00:00<00:00, 12.54it/s]\n"
          ]
        },
        {
          "output_type": "stream",
          "name": "stdout",
          "text": [
            "overlap_rates  [0.47508865 0.         0.39198964 0.05835423 0.01272178 0.\n",
            " 0.         0.343079   0.4229443  0.        ]\n",
            "coverages  [0.8605957  0.75019836 0.74252319 0.80328369 0.54093933 0.56816101\n",
            " 0.69799805 0.64454651 0.80535889 0.6204834 ]\n",
            "statsitic average of overlap_rates is  0.1704177604884798\n",
            "statsitic std of overlap_rates is  0.19725494030364016\n",
            "statsitic average of coverages is  0.7034088134765625\n",
            "statsitic std of coverages is  0.10190912439987176\n",
            "recon_overlap_rates  [0.4348064351978706, 0.41148559067755214, 0.5370628779229566, 0.14511185586204922, 0.8967098166127292, 1, 0.6318475111930472, 1, 0.20910367423355955, 1]\n",
            "recon_coverages  [0.3898162841796875, 0.437347412109375, 0.3608551025390625, 0.5326995849609375, 0.45263671875, 0.4781036376953125, 0.4635009765625, 0.5050048828125, 0.391204833984375, 0.3293914794921875]\n",
            "statsitic average of recon_overlap_rates is  0.6266127761699765\n",
            "statsitic std of  recon_overlap_rates is  0.3144009255033066\n",
            "statsitic average of recon_coverages is  0.43405609130859374\n",
            "statsitic std of recon_coverages is  0.0616717005501112\n",
            "sample_random overlap_rates  [0.37959692 0.3230812  0.15569737 0.36275913 0.01292347 0.00194193\n",
            " 0.00248763 0.         0.49626581 0.23019619]\n",
            "sample_random coverages  [0.80784607 0.82305908 0.62643433 0.74636841 0.81704712 0.63645935\n",
            " 0.58885193 0.67225647 0.80090332 0.6595459 ]\n",
            "statsitic average of sample_random overlap_rates is  0.19649496573310518\n",
            "statsitic std of sample_random overlap_rates is  0.17822891105414781\n",
            "statsitic average of sample_random coverages is  0.717877197265625\n",
            "statsitic std of sample_random coverages is  0.0859181948132239\n",
            "sample_det overlap_rates  [0.40765834 0.03726593 0.09043288 0.02052272 0.24924018 0.46631191\n",
            " 0.00248763 0.         0.49626581 0.        ]\n",
            "sample_det coverages  [0.80853271 0.66168213 0.75152588 0.67956543 0.78320312 0.74554443\n",
            " 0.58885193 0.67225647 0.80090332 0.62771606]\n",
            "statsitic average of sample_det overlap_rates is  0.17701854037952966\n",
            "statsitic std of sample_det overlap_rates is  0.19714744056918843\n",
            "statsitic average of sample_det coverages is  0.7119781494140625\n",
            "statsitic std of sample_det coverages is  0.07239643410849635\n"
          ]
        },
        {
          "output_type": "stream",
          "name": "stderr",
          "text": [
            "epoch 79 iter 14: train loss 0.11820. lr 7.200000e-05: 100%|██████████| 15/15 [00:03<00:00,  3.86it/s]\n",
            "epoch 79 iter 3: test loss 5.31653: 100%|██████████| 4/4 [00:00<00:00, 12.61it/s]\n"
          ]
        },
        {
          "output_type": "stream",
          "name": "stdout",
          "text": [
            "overlap_rates  [0.47508865 0.         0.39198964 0.05835423 0.01272178 0.\n",
            " 0.         0.343079   0.4229443  0.        ]\n",
            "coverages  [0.8605957  0.75019836 0.74252319 0.80328369 0.54093933 0.56816101\n",
            " 0.69799805 0.64454651 0.80535889 0.6204834 ]\n",
            "statsitic average of overlap_rates is  0.1704177604884798\n",
            "statsitic std of overlap_rates is  0.19725494030364016\n",
            "statsitic average of coverages is  0.7034088134765625\n",
            "statsitic std of coverages is  0.10190912439987176\n",
            "recon_overlap_rates  [0.29337979094076655, 0.3042460971961183, 0.7461071646986875, 0.12666298816749433, 1, 1, 0.30430515128951463, 1, 0.200023959747624, 0.6123753792804508]\n",
            "recon_coverages  [0.306549072265625, 0.3978118896484375, 0.3243560791015625, 0.497772216796875, 0.2899169921875, 0.406646728515625, 0.450836181640625, 0.576141357421875, 0.382110595703125, 0.42242431640625]\n",
            "statsitic average of recon_overlap_rates is  0.5587100531320657\n",
            "statsitic std of  recon_overlap_rates is  0.33725396709197136\n",
            "statsitic average of recon_coverages is  0.40545654296875\n",
            "statsitic std of recon_coverages is  0.08385520721786059\n",
            "sample_random overlap_rates  [0.06807763 0.03726593 0.03453416 0.07555038 0.39687424 0.01669403\n",
            " 0.34219815 0.00274267 0.49626581 0.        ]\n",
            "sample_random coverages  [0.86875916 0.66168213 0.67558289 0.6293335  0.75372314 0.7714386\n",
            " 0.75219727 0.6676178  0.80090332 0.62771606]\n",
            "statsitic average of sample_random overlap_rates is  0.14702030133565303\n",
            "statsitic std of sample_random overlap_rates is  0.17831118853156833\n",
            "statsitic average of sample_random coverages is  0.7208953857421875\n",
            "statsitic std of sample_random coverages is  0.07638124710916346\n",
            "sample_det overlap_rates  [0.40765834 0.03726593 0.15588254 0.02052272 0.24924018 0.00194193\n",
            " 0.00248763 0.         0.49626581 0.        ]\n",
            "sample_det coverages  [0.80853271 0.66168213 0.72279358 0.67956543 0.78320312 0.63645935\n",
            " 0.58885193 0.67225647 0.80090332 0.62771606]\n",
            "statsitic average of sample_det overlap_rates is  0.13712650893847422\n",
            "statsitic std of sample_det overlap_rates is  0.17682426538741328\n",
            "statsitic average of sample_det coverages is  0.6981964111328125\n",
            "statsitic std of sample_det coverages is  0.07324098427102076\n"
          ]
        },
        {
          "output_type": "stream",
          "name": "stderr",
          "text": [
            "epoch 80 iter 14: train loss 0.12400. lr 7.200000e-05: 100%|██████████| 15/15 [00:03<00:00,  3.88it/s]\n",
            "epoch 80 iter 3: test loss 5.50833: 100%|██████████| 4/4 [00:00<00:00, 12.61it/s]\n"
          ]
        },
        {
          "output_type": "stream",
          "name": "stdout",
          "text": [
            "overlap_rates  [0.47508865 0.         0.39198964 0.05835423 0.01272178 0.\n",
            " 0.         0.343079   0.4229443  0.        ]\n",
            "coverages  [0.8605957  0.75019836 0.74252319 0.80328369 0.54093933 0.56816101\n",
            " 0.69799805 0.64454651 0.80535889 0.6204834 ]\n",
            "statsitic average of overlap_rates is  0.1704177604884798\n",
            "statsitic std of overlap_rates is  0.19725494030364016\n",
            "statsitic average of coverages is  0.7034088134765625\n",
            "statsitic std of coverages is  0.10190912439987176\n",
            "recon_overlap_rates  [0.3517152242985621, 0.5410149579946725, 1, 0.1687359226501126, 1, 1, 0.8021723323032176, 1, 0.275983491726932, 0.8164477537019995]\n",
            "recon_coverages  [0.2833404541015625, 0.446807861328125, 0.2877960205078125, 0.555511474609375, 0.2176666259765625, 0.3450927734375, 0.33575439453125, 0.5078125, 0.4029998779296875, 0.364776611328125]\n",
            "statsitic average of recon_overlap_rates is  0.6956069682675496\n",
            "statsitic std of  recon_overlap_rates is  0.3150263997333947\n",
            "statsitic average of recon_coverages is  0.374755859375\n",
            "statsitic std of recon_coverages is  0.09973078415837114\n",
            "sample_random overlap_rates  [0.37852937 0.00690678 0.6519622  0.07676216 0.01310693 0.15809903\n",
            " 0.08775797 0.         0.49626581 0.        ]\n",
            "sample_random coverages  [0.80847168 0.68928528 0.52957153 0.50331116 0.62632751 0.72723389\n",
            " 0.62994385 0.66957092 0.80090332 0.62771606]\n",
            "statsitic average of sample_random overlap_rates is  0.18693902526776746\n",
            "statsitic std of sample_random overlap_rates is  0.22449179151061316\n",
            "statsitic average of sample_random coverages is  0.6612335205078125\n",
            "statsitic std of sample_random coverages is  0.09591372930307751\n",
            "sample_det overlap_rates  [0.37852937 0.03726593 0.17127227 0.04331327 0.04472373 0.00194193\n",
            " 0.00248763 0.         0.49626581 0.        ]\n",
            "sample_det coverages  [0.80847168 0.66168213 0.75869751 0.67956543 0.83895874 0.63645935\n",
            " 0.58885193 0.67225647 0.80090332 0.62771606]\n",
            "statsitic average of sample_det overlap_rates is  0.1175799952064664\n",
            "statsitic std of sample_det overlap_rates is  0.16909253064000843\n",
            "statsitic average of sample_det coverages is  0.7073562622070313\n",
            "statsitic std of sample_det coverages is  0.08272434837843677\n"
          ]
        },
        {
          "output_type": "stream",
          "name": "stderr",
          "text": [
            "epoch 81 iter 14: train loss 0.11509. lr 7.200000e-05: 100%|██████████| 15/15 [00:03<00:00,  3.86it/s]\n",
            "epoch 81 iter 3: test loss 5.34659: 100%|██████████| 4/4 [00:00<00:00, 12.72it/s]\n"
          ]
        },
        {
          "output_type": "stream",
          "name": "stdout",
          "text": [
            "overlap_rates  [0.47508865 0.         0.39198964 0.05835423 0.01272178 0.\n",
            " 0.         0.343079   0.4229443  0.        ]\n",
            "coverages  [0.8605957  0.75019836 0.74252319 0.80328369 0.54093933 0.56816101\n",
            " 0.69799805 0.64454651 0.80535889 0.6204834 ]\n",
            "statsitic average of overlap_rates is  0.1704177604884798\n",
            "statsitic std of overlap_rates is  0.19725494030364016\n",
            "statsitic average of coverages is  0.7034088134765625\n",
            "statsitic std of coverages is  0.10190912439987176\n",
            "recon_overlap_rates  [0.369829814735028, 0.30933200729322063, 0.3870544705166034, 0.2633082385605211, 1, 1, 0.541449858088931, 1, 0.22311460217995677, 1]\n",
            "recon_coverages  [0.2833251953125, 0.4602813720703125, 0.3257904052734375, 0.571563720703125, 0.307525634765625, 0.4027862548828125, 0.51611328125, 0.3451080322265625, 0.3457794189453125, 0.3989410400390625]\n",
            "statsitic average of recon_overlap_rates is  0.609408899137426\n",
            "statsitic std of  recon_overlap_rates is  0.32874895973908097\n",
            "statsitic average of recon_coverages is  0.395721435546875\n",
            "statsitic std of recon_coverages is  0.08944308435943603\n",
            "sample_random overlap_rates  [0.1110579  0.22315858 0.73136285 0.04285816 0.25244692 0.07092801\n",
            " 0.00248698 0.         0.66067167 0.18878948]\n",
            "sample_random coverages  [0.66911316 0.7043457  0.70983887 0.641922   0.77325439 0.6292572\n",
            " 0.58900452 0.67225647 0.78648376 0.45706177]\n",
            "statsitic average of sample_random overlap_rates is  0.22837605500657462\n",
            "statsitic std of sample_random overlap_rates is  0.2486364352219007\n",
            "statsitic average of sample_random coverages is  0.6632537841796875\n",
            "statsitic std of sample_random coverages is  0.08994374515503481\n",
            "sample_det overlap_rates  [0.37852937 0.03726593 1.         0.17782559 0.24924018 0.08694126\n",
            " 0.00248763 0.         0.49626581 0.        ]\n",
            "sample_det coverages  [0.80847168 0.66168213 0.68299866 0.60279846 0.78320312 0.73905945\n",
            " 0.58885193 0.67225647 0.80090332 0.62771606]\n",
            "statsitic average of sample_det overlap_rates is  0.24285557759997028\n",
            "statsitic std of sample_det overlap_rates is  0.30041175966504363\n",
            "statsitic average of sample_det coverages is  0.6967941284179687\n",
            "statsitic std of sample_det coverages is  0.07736098383167392\n"
          ]
        },
        {
          "output_type": "stream",
          "name": "stderr",
          "text": [
            "epoch 82 iter 14: train loss 0.11977. lr 7.200000e-05: 100%|██████████| 15/15 [00:03<00:00,  3.86it/s]\n",
            "epoch 82 iter 3: test loss 5.50547: 100%|██████████| 4/4 [00:00<00:00, 12.56it/s]\n"
          ]
        },
        {
          "output_type": "stream",
          "name": "stdout",
          "text": [
            "overlap_rates  [0.47508865 0.         0.39198964 0.05835423 0.01272178 0.\n",
            " 0.         0.343079   0.4229443  0.        ]\n",
            "coverages  [0.8605957  0.75019836 0.74252319 0.80328369 0.54093933 0.56816101\n",
            " 0.69799805 0.64454651 0.80535889 0.6204834 ]\n",
            "statsitic average of overlap_rates is  0.1704177604884798\n",
            "statsitic std of overlap_rates is  0.19725494030364016\n",
            "statsitic average of coverages is  0.7034088134765625\n",
            "statsitic std of coverages is  0.10190912439987176\n",
            "recon_overlap_rates  [0.437147274835717, 1, 0.3197664789665452, 0.3438809315015103, 1, 1, 0.47282690061981614, 1, 0.29810851611757394, 0.7028649568088583]\n",
            "recon_coverages  [0.394744873046875, 0.3352508544921875, 0.3685302734375, 0.62640380859375, 0.269073486328125, 0.4796600341796875, 0.5095977783203125, 0.348724365234375, 0.343658447265625, 0.4575042724609375]\n",
            "statsitic average of recon_overlap_rates is  0.657459505885002\n",
            "statsitic std of  recon_overlap_rates is  0.2992533258082979\n",
            "statsitic average of recon_coverages is  0.4133148193359375\n",
            "statsitic std of recon_coverages is  0.09965224582336395\n",
            "sample_random overlap_rates  [0.37852937 0.03726593 0.28279467 0.21667182 0.12814163 0.56583378\n",
            " 0.00248763 0.         0.49626581 0.26451027]\n",
            "sample_random coverages  [0.80847168 0.66168213 0.71525574 0.78930664 0.66540527 0.79754639\n",
            " 0.58885193 0.67225647 0.80090332 0.67222595]\n",
            "statsitic average of sample_random overlap_rates is  0.23725009069161476\n",
            "statsitic std of sample_random overlap_rates is  0.19014637783377925\n",
            "statsitic average of sample_random coverages is  0.7171905517578125\n",
            "statsitic std of sample_random coverages is  0.07299054397503464\n",
            "sample_det overlap_rates  [0.38253478 0.03726593 0.12081183 0.21095015 0.03190211 0.26161783\n",
            " 0.00248763 0.         0.49626581 0.        ]\n",
            "sample_det coverages  [0.80953979 0.66168213 0.443573   0.67834473 0.82554626 0.77490234\n",
            " 0.58885193 0.67225647 0.80090332 0.62771606]\n",
            "statsitic average of sample_det overlap_rates is  0.15438360820432384\n",
            "statsitic std of sample_det overlap_rates is  0.1685887500943534\n",
            "statsitic average of sample_det coverages is  0.6883316040039062\n",
            "statsitic std of sample_det coverages is  0.11323945414110316\n"
          ]
        },
        {
          "output_type": "stream",
          "name": "stderr",
          "text": [
            "epoch 83 iter 14: train loss 0.11603. lr 7.200000e-05: 100%|██████████| 15/15 [00:03<00:00,  3.88it/s]\n",
            "epoch 83 iter 3: test loss 5.63546: 100%|██████████| 4/4 [00:00<00:00, 12.36it/s]\n"
          ]
        },
        {
          "output_type": "stream",
          "name": "stdout",
          "text": [
            "overlap_rates  [0.47508865 0.         0.39198964 0.05835423 0.01272178 0.\n",
            " 0.         0.343079   0.4229443  0.        ]\n",
            "coverages  [0.8605957  0.75019836 0.74252319 0.80328369 0.54093933 0.56816101\n",
            " 0.69799805 0.64454651 0.80535889 0.6204834 ]\n",
            "statsitic average of overlap_rates is  0.1704177604884798\n",
            "statsitic std of overlap_rates is  0.19725494030364016\n",
            "statsitic average of coverages is  0.7034088134765625\n",
            "statsitic std of coverages is  0.10190912439987176\n",
            "recon_overlap_rates  [0.5483273097951997, 0.17084709702704215, 0.4946205650459921, 0.45838902375821716, 1, 1, 0.45951151186203276, 1, 0.3265331253591659, 0.7167265399106282]\n",
            "recon_coverages  [0.4939727783203125, 0.545074462890625, 0.37158203125, 0.5594024658203125, 0.210662841796875, 0.3571624755859375, 0.5229034423828125, 0.4751434326171875, 0.371734619140625, 0.348297119140625]\n",
            "statsitic average of recon_overlap_rates is  0.6174955172758277\n",
            "statsitic std of  recon_overlap_rates is  0.2833877336166179\n",
            "statsitic average of recon_coverages is  0.42559356689453126\n",
            "statsitic std of recon_coverages is  0.10557055814740646\n",
            "sample_random overlap_rates  [0.245161   0.00914621 0.35089295 0.01021666 0.25003933 0.11001014\n",
            " 0.00248763 0.         0.47896832 0.33332338]\n",
            "sample_random coverages  [0.67007446 0.68734741 0.74760437 0.64370728 0.77587891 0.7822876\n",
            " 0.58885193 0.67225647 0.78210449 0.51124573]\n",
            "statsitic average of sample_random overlap_rates is  0.17902456132244565\n",
            "statsitic std of sample_random overlap_rates is  0.1667522375074766\n",
            "statsitic average of sample_random coverages is  0.6861358642578125\n",
            "statsitic std of sample_random coverages is  0.08519994567234628\n",
            "sample_det overlap_rates  [0.40765834 0.03726593 0.12426121 0.14758653 0.09758893 0.35980383\n",
            " 0.00248763 0.         0.49626581 0.        ]\n",
            "sample_det coverages  [0.80853271 0.66168213 0.84938049 0.64804077 0.71893311 0.82450867\n",
            " 0.58885193 0.67225647 0.80090332 0.62771606]\n",
            "statsitic average of sample_det overlap_rates is  0.16729182097964618\n",
            "statsitic std of sample_det overlap_rates is  0.1761248163910351\n",
            "statsitic average of sample_det coverages is  0.72008056640625\n",
            "statsitic std of sample_det coverages is  0.0886682166172507\n"
          ]
        },
        {
          "output_type": "stream",
          "name": "stderr",
          "text": [
            "epoch 84 iter 14: train loss 0.12687. lr 7.200000e-05: 100%|██████████| 15/15 [00:03<00:00,  3.88it/s]\n",
            "epoch 84 iter 3: test loss 5.45802: 100%|██████████| 4/4 [00:00<00:00, 12.62it/s]\n"
          ]
        },
        {
          "output_type": "stream",
          "name": "stdout",
          "text": [
            "overlap_rates  [0.47508865 0.         0.39198964 0.05835423 0.01272178 0.\n",
            " 0.         0.343079   0.4229443  0.        ]\n",
            "coverages  [0.8605957  0.75019836 0.74252319 0.80328369 0.54093933 0.56816101\n",
            " 0.69799805 0.64454651 0.80535889 0.6204834 ]\n",
            "statsitic average of overlap_rates is  0.1704177604884798\n",
            "statsitic std of overlap_rates is  0.19725494030364016\n",
            "statsitic average of coverages is  0.7034088134765625\n",
            "statsitic std of coverages is  0.10190912439987176\n",
            "recon_overlap_rates  [0.784766845487237, 0.6005279060882853, 0.4275677284906222, 0.2395895123976747, 1, 1, 0.2554158495789595, 1, 0.25699901190420177, 1]\n",
            "recon_coverages  [0.2588348388671875, 0.4393463134765625, 0.2562713623046875, 0.51446533203125, 0.21002197265625, 0.293212890625, 0.6613922119140625, 0.5004730224609375, 0.3242950439453125, 0.30450439453125]\n",
            "statsitic average of recon_overlap_rates is  0.656486685394698\n",
            "statsitic std of  recon_overlap_rates is  0.32221857984837876\n",
            "statsitic average of recon_coverages is  0.37628173828125\n",
            "statsitic std of recon_coverages is  0.13797714106763145\n",
            "sample_random overlap_rates  [4.08450970e-01 3.72659349e-02 5.43243784e-01 1.11793158e-01\n",
            " 5.38394239e-04 2.50225564e-01 1.49462790e-01 3.90154731e-01\n",
            " 2.58125294e-01 2.53413557e-01]\n",
            "sample_random coverages  [0.80853271 0.66168213 0.83891296 0.7855072  0.68019104 0.71029663\n",
            " 0.73423767 0.88063049 0.64788818 0.75320435]\n",
            "statsitic average of sample_random overlap_rates is  0.24026741781399547\n",
            "statsitic std of sample_random overlap_rates is  0.1632691656029735\n",
            "statsitic average of sample_random coverages is  0.7501083374023437\n",
            "statsitic std of sample_random coverages is  0.0738862641468276\n",
            "sample_det overlap_rates  [0.40732011 0.03726593 0.58032802 0.02044557 0.29529963 0.\n",
            " 0.00248763 0.         0.49626581 0.179385  ]\n",
            "sample_det coverages  [0.8092041  0.66168213 0.67823792 0.69929504 0.8170929  0.5848999\n",
            " 0.58885193 0.67225647 0.80090332 0.53988647]\n",
            "statsitic average of sample_det overlap_rates is  0.20187976991893125\n",
            "statsitic std of sample_det overlap_rates is  0.21508357200793388\n",
            "statsitic average of sample_det coverages is  0.6852310180664063\n",
            "statsitic std of sample_det coverages is  0.09358784590953181\n"
          ]
        },
        {
          "output_type": "stream",
          "name": "stderr",
          "text": [
            "epoch 85 iter 14: train loss 0.11157. lr 7.200000e-05: 100%|██████████| 15/15 [00:03<00:00,  3.85it/s]\n",
            "epoch 85 iter 3: test loss 5.61781: 100%|██████████| 4/4 [00:00<00:00, 12.61it/s]\n"
          ]
        },
        {
          "output_type": "stream",
          "name": "stdout",
          "text": [
            "overlap_rates  [0.47508865 0.         0.39198964 0.05835423 0.01272178 0.\n",
            " 0.         0.343079   0.4229443  0.        ]\n",
            "coverages  [0.8605957  0.75019836 0.74252319 0.80328369 0.54093933 0.56816101\n",
            " 0.69799805 0.64454651 0.80535889 0.6204834 ]\n",
            "statsitic average of overlap_rates is  0.1704177604884798\n",
            "statsitic std of overlap_rates is  0.19725494030364016\n",
            "statsitic average of coverages is  0.7034088134765625\n",
            "statsitic std of coverages is  0.10190912439987176\n",
            "recon_overlap_rates  [0.43787905815198, 0.3515263644773358, 0.649050154473148, 0.3372979045572217, 1, 1, 0.4019894329820833, 1, 0.3488563675130839, 1]\n",
            "recon_coverages  [0.3421630859375, 0.494842529296875, 0.2321319580078125, 0.624786376953125, 0.356231689453125, 0.506683349609375, 0.5169525146484375, 0.475311279296875, 0.31488037109375, 0.3757171630859375]\n",
            "statsitic average of recon_overlap_rates is  0.6526599282154852\n",
            "statsitic std of  recon_overlap_rates is  0.2956334359189239\n",
            "statsitic average of recon_coverages is  0.42397003173828124\n",
            "statsitic std of recon_coverages is  0.11215385571616523\n",
            "sample_random overlap_rates  [0.40698486 0.07353319 0.06453935 0.49039432 0.18325278 0.11485137\n",
            " 0.00250007 1.         0.03447534 0.03649764]\n",
            "sample_random coverages  [0.80915833 0.71362305 0.6570282  0.86177063 0.57145691 0.75608826\n",
            " 0.58592224 0.30082703 0.70904541 0.60662842]\n",
            "statsitic average of sample_random overlap_rates is  0.2407028902665548\n",
            "statsitic std of sample_random overlap_rates is  0.29759304461572295\n",
            "statsitic average of sample_random coverages is  0.6571548461914063\n",
            "statsitic std of sample_random coverages is  0.14919197572705514\n",
            "sample_det overlap_rates  [0.40765834 0.03726593 0.28286712 0.07289305 0.24857187 0.\n",
            " 0.00248763 0.         0.49626581 0.28490328]\n",
            "sample_det coverages  [0.80853271 0.66168213 0.86514282 0.63929749 0.78530884 0.67155457\n",
            " 0.58885193 0.67225647 0.80090332 0.50799561]\n",
            "statsitic average of sample_det overlap_rates is  0.18329130329288168\n",
            "statsitic std of sample_det overlap_rates is  0.17498230089861436\n",
            "statsitic average of sample_det coverages is  0.700152587890625\n",
            "statsitic std of sample_det coverages is  0.10604802166906337\n"
          ]
        },
        {
          "output_type": "stream",
          "name": "stderr",
          "text": [
            "epoch 86 iter 14: train loss 0.11453. lr 7.200000e-05: 100%|██████████| 15/15 [00:03<00:00,  3.84it/s]\n",
            "epoch 86 iter 3: test loss 5.68463: 100%|██████████| 4/4 [00:00<00:00, 12.62it/s]\n"
          ]
        },
        {
          "output_type": "stream",
          "name": "stdout",
          "text": [
            "overlap_rates  [0.47508865 0.         0.39198964 0.05835423 0.01272178 0.\n",
            " 0.         0.343079   0.4229443  0.        ]\n",
            "coverages  [0.8605957  0.75019836 0.74252319 0.80328369 0.54093933 0.56816101\n",
            " 0.69799805 0.64454651 0.80535889 0.6204834 ]\n",
            "statsitic average of overlap_rates is  0.1704177604884798\n",
            "statsitic std of overlap_rates is  0.19725494030364016\n",
            "statsitic average of coverages is  0.7034088134765625\n",
            "statsitic std of coverages is  0.10190912439987176\n",
            "recon_overlap_rates  [0.3497795994122651, 0.7271057786483839, 0.6994768455725635, 0.3266264252179745, 1, 1, 0.3169330584935627, 1, 0.1164160910199106, 0.46381629222069387]\n",
            "recon_coverages  [0.394622802734375, 0.3739013671875, 0.31500244140625, 0.500518798828125, 0.2588348388671875, 0.4283905029296875, 0.4515533447265625, 0.365386962890625, 0.375518798828125, 0.39935302734375]\n",
            "statsitic average of recon_overlap_rates is  0.6000154090585355\n",
            "statsitic std of  recon_overlap_rates is  0.3123973707185563\n",
            "statsitic average of recon_coverages is  0.38630828857421873\n",
            "statsitic std of recon_coverages is  0.06430646779392685\n",
            "sample_random overlap_rates  [0.37852937 0.03549675 0.07853701 0.03905518 0.1125919  0.49847445\n",
            " 1.         0.         0.49626581 0.        ]\n",
            "sample_random coverages  [0.80847168 0.59622192 0.80435181 0.61886597 0.55415344 0.64013672\n",
            " 0.49159241 0.67225647 0.80090332 0.62771606]\n",
            "statsitic average of sample_random overlap_rates is  0.263895046762536\n",
            "statsitic std of sample_random overlap_rates is  0.3103651689022042\n",
            "statsitic average of sample_random coverages is  0.6614669799804688\n",
            "statsitic std of sample_random coverages is  0.10470186023159252\n",
            "sample_det overlap_rates  [0.37852937 0.03726593 0.13093759 0.03860319 0.98119947 0.26930113\n",
            " 0.00248763 0.         0.49626581 0.32631854]\n",
            "sample_det coverages  [0.80847168 0.66168213 0.83520508 0.67947388 0.48696899 0.77574158\n",
            " 0.58885193 0.67225647 0.80090332 0.58441162]\n",
            "statsitic average of sample_det overlap_rates is  0.2660908660760722\n",
            "statsitic std of sample_det overlap_rates is  0.2903979749449826\n",
            "statsitic average of sample_det coverages is  0.6893966674804688\n",
            "statsitic std of sample_det coverages is  0.10890203826847017\n"
          ]
        },
        {
          "output_type": "stream",
          "name": "stderr",
          "text": [
            "epoch 87 iter 14: train loss 0.11623. lr 7.200000e-05: 100%|██████████| 15/15 [00:03<00:00,  3.86it/s]\n",
            "epoch 87 iter 3: test loss 5.65557: 100%|██████████| 4/4 [00:00<00:00, 12.55it/s]\n"
          ]
        },
        {
          "output_type": "stream",
          "name": "stdout",
          "text": [
            "overlap_rates  [0.47508865 0.         0.39198964 0.05835423 0.01272178 0.\n",
            " 0.         0.343079   0.4229443  0.        ]\n",
            "coverages  [0.8605957  0.75019836 0.74252319 0.80328369 0.54093933 0.56816101\n",
            " 0.69799805 0.64454651 0.80535889 0.6204834 ]\n",
            "statsitic average of overlap_rates is  0.1704177604884798\n",
            "statsitic std of overlap_rates is  0.19725494030364016\n",
            "statsitic average of coverages is  0.7034088134765625\n",
            "statsitic std of coverages is  0.10190912439987176\n",
            "recon_overlap_rates  [0.231854555664748, 0.33697602348719624, 0.5688569222642123, 0.17845722812680817, 1, 1, 0.36891637536972305, 1, 0.322030354977631, 0.7681366875799476]\n",
            "recon_coverages  [0.43475341796875, 0.4677581787109375, 0.3755035400390625, 0.5010528564453125, 0.32916259765625, 0.46380615234375, 0.4539794921875, 0.364105224609375, 0.3649444580078125, 0.501007080078125]\n",
            "statsitic average of recon_overlap_rates is  0.5775228147470266\n",
            "statsitic std of  recon_overlap_rates is  0.3189459754382111\n",
            "statsitic average of recon_coverages is  0.4256072998046875\n",
            "statsitic std of recon_coverages is  0.05897125870405003\n",
            "sample_random overlap_rates  [0.40765834 0.00971528 0.03996249 0.05014324 1.         0.11697123\n",
            " 0.00248763 0.         1.         0.30342095]\n",
            "sample_random coverages  [0.80853271 0.63452148 0.92745972 0.72972107 0.59333801 0.75569153\n",
            " 0.58885193 0.67225647 0.4584198  0.54684448]\n",
            "statsitic average of sample_random overlap_rates is  0.29303591413870833\n",
            "statsitic std of sample_random overlap_rates is  0.3764894833563798\n",
            "statsitic average of sample_random coverages is  0.671563720703125\n",
            "statsitic std of sample_random coverages is  0.13039223899522367\n",
            "sample_det overlap_rates  [0.40765834 0.03726593 0.52609656 0.47661954 0.3329753  0.00194193\n",
            " 0.00248763 0.         0.67230013 0.        ]\n",
            "sample_det coverages  [0.80853271 0.66168213 0.7326355  0.85690308 0.6960907  0.63645935\n",
            " 0.58885193 0.67225647 0.72680664 0.62771606]\n",
            "statsitic average of sample_det overlap_rates is  0.24573453556938554\n",
            "statsitic std of sample_det overlap_rates is  0.2511042008844177\n",
            "statsitic average of sample_det coverages is  0.70079345703125\n",
            "statsitic std of sample_det coverages is  0.07876853562947655\n"
          ]
        },
        {
          "output_type": "stream",
          "name": "stderr",
          "text": [
            "epoch 88 iter 14: train loss 0.11571. lr 7.200000e-05: 100%|██████████| 15/15 [00:03<00:00,  3.86it/s]\n",
            "epoch 88 iter 3: test loss 5.63529: 100%|██████████| 4/4 [00:00<00:00, 12.54it/s]\n"
          ]
        },
        {
          "output_type": "stream",
          "name": "stdout",
          "text": [
            "overlap_rates  [0.47508865 0.         0.39198964 0.05835423 0.01272178 0.\n",
            " 0.         0.343079   0.4229443  0.        ]\n",
            "coverages  [0.8605957  0.75019836 0.74252319 0.80328369 0.54093933 0.56816101\n",
            " 0.69799805 0.64454651 0.80535889 0.6204834 ]\n",
            "statsitic average of overlap_rates is  0.1704177604884798\n",
            "statsitic std of overlap_rates is  0.19725494030364016\n",
            "statsitic average of coverages is  0.7034088134765625\n",
            "statsitic std of coverages is  0.10190912439987176\n",
            "recon_overlap_rates  [0.36519658830871643, 0.7141815150567886, 0.7273502191914272, 0.11380906849177193, 1, 1, 0.5087766571714528, 1, 0.3806770161469685, 0.5936504602891246]\n",
            "recon_coverages  [0.29339599609375, 0.4393157958984375, 0.2506103515625, 0.606414794921875, 0.2732696533203125, 0.3591461181640625, 0.396392822265625, 0.509124755859375, 0.3430328369140625, 0.4359283447265625]\n",
            "statsitic average of recon_overlap_rates is  0.640364152465625\n",
            "statsitic std of  recon_overlap_rates is  0.2899899479061891\n",
            "statsitic average of recon_coverages is  0.39066314697265625\n",
            "statsitic std of recon_coverages is  0.10542753907893011\n",
            "sample_random overlap_rates  [0.3998386  0.03726593 0.57461289 0.05320481 0.34808798 0.22862566\n",
            " 0.00248763 0.         0.49626581 0.00211802]\n",
            "sample_random coverages  [0.81304932 0.66168213 0.7331543  0.68228149 0.78527832 0.5546875\n",
            " 0.58885193 0.67208862 0.80090332 0.61956787]\n",
            "statsitic average of sample_random overlap_rates is  0.21425073372665385\n",
            "statsitic std of sample_random overlap_rates is  0.213298377445084\n",
            "statsitic average of sample_random coverages is  0.6911544799804688\n",
            "statsitic std of sample_random coverages is  0.08546987100073956\n",
            "sample_det overlap_rates  [0.40765834 0.03726593 0.01892762 0.03860319 0.04672729 0.00194193\n",
            " 0.00248763 0.         0.49626581 0.        ]\n",
            "sample_det coverages  [0.80853271 0.66168213 0.84405518 0.67947388 0.7651062  0.63645935\n",
            " 0.58885193 0.67225647 0.80090332 0.62771606]\n",
            "statsitic average of sample_det overlap_rates is  0.10498777454078807\n",
            "statsitic std of sample_det overlap_rates is  0.17540563268155998\n",
            "statsitic average of sample_det coverages is  0.7085037231445312\n",
            "statsitic std of sample_det coverages is  0.08396664095375186\n"
          ]
        },
        {
          "output_type": "stream",
          "name": "stderr",
          "text": [
            "epoch 89 iter 14: train loss 0.10363. lr 7.200000e-05: 100%|██████████| 15/15 [00:03<00:00,  3.84it/s]\n",
            "epoch 89 iter 3: test loss 5.57348: 100%|██████████| 4/4 [00:00<00:00, 12.63it/s]\n"
          ]
        },
        {
          "output_type": "stream",
          "name": "stdout",
          "text": [
            "overlap_rates  [0.47508865 0.         0.39198964 0.05835423 0.01272178 0.\n",
            " 0.         0.343079   0.4229443  0.        ]\n",
            "coverages  [0.8605957  0.75019836 0.74252319 0.80328369 0.54093933 0.56816101\n",
            " 0.69799805 0.64454651 0.80535889 0.6204834 ]\n",
            "statsitic average of overlap_rates is  0.1704177604884798\n",
            "statsitic std of overlap_rates is  0.19725494030364016\n",
            "statsitic average of coverages is  0.7034088134765625\n",
            "statsitic std of coverages is  0.10190912439987176\n",
            "recon_overlap_rates  [0.26068561939029694, 0.5133606673264527, 0.48968074814575946, 0.19156004341676808, 1, 1, 0.2552445216461785, 1, 0.2477466504263094, 1]\n",
            "recon_coverages  [0.3859100341796875, 0.43170166015625, 0.283905029296875, 0.4639129638671875, 0.150909423828125, 0.51959228515625, 0.456787109375, 0.4552154541015625, 0.375823974609375, 0.3869781494140625]\n",
            "statsitic average of recon_overlap_rates is  0.5958278250351765\n",
            "statsitic std of  recon_overlap_rates is  0.3441509625178378\n",
            "statsitic average of recon_coverages is  0.3910736083984375\n",
            "statsitic std of recon_coverages is  0.10067056554017884\n",
            "sample_random overlap_rates  [0.21365713 0.1923687  0.01457691 0.01803512 0.19079357 0.00194193\n",
            " 0.00248763 0.         1.         0.96781859]\n",
            "sample_random coverages  [0.72824097 0.68302917 0.64376831 0.70730591 0.66163635 0.63645935\n",
            " 0.58885193 0.67225647 0.64660645 0.68704224]\n",
            "statsitic average of sample_random overlap_rates is  0.26016795828338213\n",
            "statsitic std of sample_random overlap_rates is  0.37140330454275683\n",
            "statsitic average of sample_random coverages is  0.6655197143554688\n",
            "statsitic std of sample_random coverages is  0.03750146056475044\n",
            "sample_det overlap_rates  [0.40765834 0.03726593 0.12794104 0.35517806 0.07046129 0.00194193\n",
            " 0.00248763 0.         0.49626581 0.        ]\n",
            "sample_det coverages  [0.80853271 0.66168213 0.84892273 0.72668457 0.63212585 0.63645935\n",
            " 0.58885193 0.67225647 0.80090332 0.62771606]\n",
            "statsitic average of sample_det overlap_rates is  0.14992000453307502\n",
            "statsitic std of sample_det overlap_rates is  0.18346358476753527\n",
            "statsitic average of sample_det coverages is  0.7004135131835938\n",
            "statsitic std of sample_det coverages is  0.08562143629084241\n"
          ]
        },
        {
          "output_type": "stream",
          "name": "stderr",
          "text": [
            "epoch 90 iter 14: train loss 0.11920. lr 7.200000e-05: 100%|██████████| 15/15 [00:03<00:00,  3.86it/s]\n",
            "epoch 90 iter 3: test loss 5.66843: 100%|██████████| 4/4 [00:00<00:00, 12.71it/s]\n"
          ]
        },
        {
          "output_type": "stream",
          "name": "stdout",
          "text": [
            "overlap_rates  [0.47508865 0.         0.39198964 0.05835423 0.01272178 0.\n",
            " 0.         0.343079   0.4229443  0.        ]\n",
            "coverages  [0.8605957  0.75019836 0.74252319 0.80328369 0.54093933 0.56816101\n",
            " 0.69799805 0.64454651 0.80535889 0.6204834 ]\n",
            "statsitic average of overlap_rates is  0.1704177604884798\n",
            "statsitic std of overlap_rates is  0.19725494030364016\n",
            "statsitic average of coverages is  0.7034088134765625\n",
            "statsitic std of coverages is  0.10190912439987176\n",
            "recon_overlap_rates  [0.47897162952050565, 0.9367694960720444, 0.2758895803414712, 0.12788976947614192, 1, 1, 0.5726850852579323, 1, 0.2749263516036679, 1]\n",
            "recon_coverages  [0.3210906982421875, 0.31854248046875, 0.2868804931640625, 0.4640045166015625, 0.289794921875, 0.43743896484375, 0.5655517578125, 0.4808197021484375, 0.3677520751953125, 0.4759979248046875]\n",
            "statsitic average of recon_overlap_rates is  0.6667131912271763\n",
            "statsitic std of  recon_overlap_rates is  0.34028071888574424\n",
            "statsitic average of recon_coverages is  0.400787353515625\n",
            "statsitic std of recon_coverages is  0.09167882222237404\n",
            "sample_random overlap_rates  [0.38115503 0.24773624 0.12160152 0.06027427 0.13788075 0.07926395\n",
            " 0.00248763 0.         0.49626581 0.41923331]\n",
            "sample_random coverages  [0.81034851 0.68078613 0.85139465 0.71212769 0.64872742 0.36402893\n",
            " 0.58885193 0.67225647 0.80090332 0.71687317]\n",
            "statsitic average of sample_random overlap_rates is  0.19458984932121362\n",
            "statsitic std of sample_random overlap_rates is  0.17139329205255463\n",
            "statsitic average of sample_random coverages is  0.6846298217773438\n",
            "statsitic std of sample_random coverages is  0.13128068511503851\n",
            "sample_det overlap_rates  [0.40765834 0.03726593 0.77020989 0.15744001 0.12231538 0.00194193\n",
            " 0.00248763 0.         0.49626581 0.        ]\n",
            "sample_det coverages  [0.80853271 0.66168213 0.85713196 0.69761658 0.81349182 0.63645935\n",
            " 0.58885193 0.67225647 0.80090332 0.62771606]\n",
            "statsitic average of sample_det overlap_rates is  0.19955849302337353\n",
            "statsitic std of sample_det overlap_rates is  0.25467617613556776\n",
            "statsitic average of sample_det coverages is  0.7164642333984375\n",
            "statsitic std of sample_det coverages is  0.08982253881593459\n"
          ]
        },
        {
          "output_type": "stream",
          "name": "stderr",
          "text": [
            "epoch 91 iter 14: train loss 0.11547. lr 7.200000e-05: 100%|██████████| 15/15 [00:03<00:00,  3.87it/s]\n",
            "epoch 91 iter 3: test loss 5.80083: 100%|██████████| 4/4 [00:00<00:00, 12.75it/s]\n"
          ]
        },
        {
          "output_type": "stream",
          "name": "stdout",
          "text": [
            "overlap_rates  [0.47508865 0.         0.39198964 0.05835423 0.01272178 0.\n",
            " 0.         0.343079   0.4229443  0.        ]\n",
            "coverages  [0.8605957  0.75019836 0.74252319 0.80328369 0.54093933 0.56816101\n",
            " 0.69799805 0.64454651 0.80535889 0.6204834 ]\n",
            "statsitic average of overlap_rates is  0.1704177604884798\n",
            "statsitic std of overlap_rates is  0.19725494030364016\n",
            "statsitic average of coverages is  0.7034088134765625\n",
            "statsitic std of coverages is  0.10190912439987176\n",
            "recon_overlap_rates  [0.3300575263662512, 0.21433771276042568, 0.6362508164598302, 0.2989742150718673, 1, 1, 0.35984235343796184, 1, 0.29622047841085714, 0.5432083281073623]\n",
            "recon_coverages  [0.31829833984375, 0.4401702880859375, 0.233612060546875, 0.4893951416015625, 0.148162841796875, 0.580657958984375, 0.433624267578125, 0.432037353515625, 0.4025115966796875, 0.48663330078125]\n",
            "statsitic average of recon_overlap_rates is  0.5678891430614557\n",
            "statsitic std of  recon_overlap_rates is  0.3060076631978682\n",
            "statsitic average of recon_coverages is  0.39651031494140626\n",
            "statsitic std of recon_coverages is  0.12229936416242948\n",
            "sample_random overlap_rates  [0.12901653 0.03726593 0.2386619  0.03859302 0.01251885 0.00194193\n",
            " 0.00248763 0.         0.49626581 0.        ]\n",
            "sample_random coverages  [0.87614441 0.66168213 0.64497375 0.6784668  0.53630066 0.63645935\n",
            " 0.58885193 0.65087891 0.80090332 0.62771606]\n",
            "statsitic average of sample_random overlap_rates is  0.09567516080746971\n",
            "statsitic std of sample_random overlap_rates is  0.15211574998536503\n",
            "statsitic average of sample_random coverages is  0.6702377319335937\n",
            "statsitic std of sample_random coverages is  0.09388123556816008\n",
            "sample_det overlap_rates  [0.37852937 0.03726593 0.35191482 0.03860319 0.13558492 0.00194193\n",
            " 0.00248763 0.         0.49626581 0.        ]\n",
            "sample_det coverages  [0.80847168 0.66168213 0.7853241  0.67947388 0.68582153 0.63645935\n",
            " 0.58885193 0.67225647 0.80090332 0.62771606]\n",
            "statsitic average of sample_det overlap_rates is  0.14425936079995966\n",
            "statsitic std of sample_det overlap_rates is  0.18071326309095312\n",
            "statsitic average of sample_det coverages is  0.694696044921875\n",
            "statsitic std of sample_det coverages is  0.07309107743523253\n"
          ]
        },
        {
          "output_type": "stream",
          "name": "stderr",
          "text": [
            "epoch 92 iter 14: train loss 0.09638. lr 7.200000e-05: 100%|██████████| 15/15 [00:03<00:00,  3.86it/s]\n",
            "epoch 92 iter 3: test loss 5.61076: 100%|██████████| 4/4 [00:00<00:00, 12.68it/s]\n"
          ]
        },
        {
          "output_type": "stream",
          "name": "stdout",
          "text": [
            "overlap_rates  [0.47508865 0.         0.39198964 0.05835423 0.01272178 0.\n",
            " 0.         0.343079   0.4229443  0.        ]\n",
            "coverages  [0.8605957  0.75019836 0.74252319 0.80328369 0.54093933 0.56816101\n",
            " 0.69799805 0.64454651 0.80535889 0.6204834 ]\n",
            "statsitic average of overlap_rates is  0.1704177604884798\n",
            "statsitic std of overlap_rates is  0.19725494030364016\n",
            "statsitic average of coverages is  0.7034088134765625\n",
            "statsitic std of coverages is  0.10190912439987176\n",
            "recon_overlap_rates  [1, 0.560796829516361, 0.3004837195870334, 0.2991739803820341, 1, 1, 0.4108369432544336, 1, 0.2441860465116279, 0.7389932042899933]\n",
            "recon_coverages  [0.2415771484375, 0.4350738525390625, 0.422698974609375, 0.532012939453125, 0.1506805419921875, 0.49688720703125, 0.6375579833984375, 0.42425537109375, 0.35430908203125, 0.4737701416015625]\n",
            "statsitic average of recon_overlap_rates is  0.6554470723541483\n",
            "statsitic std of  recon_overlap_rates is  0.31188214904580014\n",
            "statsitic average of recon_coverages is  0.41688232421875\n",
            "statsitic std of recon_coverages is  0.13323649697354795\n",
            "sample_random overlap_rates  [0.04764145 0.295973   0.08407103 0.14080648 0.25083388 0.26306314\n",
            " 0.00248763 0.         0.49626581 0.        ]\n",
            "sample_random coverages  [0.6162262  0.65551758 0.58950806 0.62928772 0.77311707 0.72041321\n",
            " 0.58885193 0.67277527 0.80090332 0.62771606]\n",
            "statsitic average of sample_random overlap_rates is  0.1581142408951956\n",
            "statsitic std of sample_random overlap_rates is  0.15657866645225763\n",
            "statsitic average of sample_random coverages is  0.667431640625\n",
            "statsitic std of sample_random coverages is  0.07061358460598942\n",
            "sample_det overlap_rates  [0.40765834 0.03726593 0.52591636 0.38239565 0.00861673 0.00194193\n",
            " 0.00248763 0.         0.49626581 0.        ]\n",
            "sample_det coverages  [0.80853271 0.66168213 0.75598145 0.74610901 0.76322937 0.63645935\n",
            " 0.58885193 0.67225647 0.80090332 0.62771606]\n",
            "statsitic average of sample_det overlap_rates is  0.18625483769995774\n",
            "statsitic std of sample_det overlap_rates is  0.22132415944901476\n",
            "statsitic average of sample_det coverages is  0.7061721801757812\n",
            "statsitic std of sample_det coverages is  0.07395405752965534\n"
          ]
        },
        {
          "output_type": "stream",
          "name": "stderr",
          "text": [
            "epoch 93 iter 14: train loss 0.10522. lr 7.200000e-05: 100%|██████████| 15/15 [00:03<00:00,  3.86it/s]\n",
            "epoch 93 iter 3: test loss 5.74766: 100%|██████████| 4/4 [00:00<00:00, 12.67it/s]\n"
          ]
        },
        {
          "output_type": "stream",
          "name": "stdout",
          "text": [
            "overlap_rates  [0.47508865 0.         0.39198964 0.05835423 0.01272178 0.\n",
            " 0.         0.343079   0.4229443  0.        ]\n",
            "coverages  [0.8605957  0.75019836 0.74252319 0.80328369 0.54093933 0.56816101\n",
            " 0.69799805 0.64454651 0.80535889 0.6204834 ]\n",
            "statsitic average of overlap_rates is  0.1704177604884798\n",
            "statsitic std of overlap_rates is  0.19725494030364016\n",
            "statsitic average of coverages is  0.7034088134765625\n",
            "statsitic std of coverages is  0.10190912439987176\n",
            "recon_overlap_rates  [0.4159929206387515, 0.4289230769230769, 0.4599980989195526, 0.26772572980312287, 1, 1, 0.5220791422571018, 1, 0.21817420435510887, 0.661379286717599]\n",
            "recon_coverages  [0.3793487548828125, 0.4711151123046875, 0.4815826416015625, 0.5619049072265625, 0.1224517822265625, 0.44677734375, 0.55218505859375, 0.439483642578125, 0.40081787109375, 0.4453887939453125]\n",
            "statsitic average of recon_overlap_rates is  0.5974272459614314\n",
            "statsitic std of  recon_overlap_rates is  0.287870885346418\n",
            "statsitic average of recon_coverages is  0.4301055908203125\n",
            "statsitic std of recon_coverages is  0.1163144394424879\n",
            "sample_random overlap_rates  [3.65296458e-01 2.29153355e-01 1.59982286e-01 2.94599480e-01\n",
            " 1.07948816e-01 1.94193378e-03 2.48762665e-03 1.13489343e-04\n",
            " 5.55892673e-01 2.80883780e-01]\n",
            "sample_random coverages  [0.80551147 0.57312012 0.79249573 0.54022217 0.68089294 0.63645935\n",
            " 0.58885193 0.67225647 0.73928833 0.61326599]\n",
            "statsitic average of sample_random overlap_rates is  0.19982998970281857\n",
            "statsitic std of sample_random overlap_rates is  0.17279785311529883\n",
            "statsitic average of sample_random coverages is  0.6642364501953125\n",
            "statsitic std of sample_random coverages is  0.08667048419178967\n",
            "sample_det overlap_rates  [0.40765834 0.03726593 0.02627106 0.6121172  0.24840294 0.03522082\n",
            " 0.00248763 0.         0.01614851 0.        ]\n",
            "sample_det coverages  [0.80853271 0.66168213 0.70918274 0.78276062 0.7858429  0.52897644\n",
            " 0.58885193 0.67225647 0.68222046 0.62771606]\n",
            "statsitic average of sample_det overlap_rates is  0.13855724247862722\n",
            "statsitic std of sample_det overlap_rates is  0.20351464223540675\n",
            "statsitic average of sample_det coverages is  0.68480224609375\n",
            "statsitic std of sample_det coverages is  0.08553027090946759\n"
          ]
        },
        {
          "output_type": "stream",
          "name": "stderr",
          "text": [
            "epoch 94 iter 14: train loss 0.10014. lr 7.200000e-05: 100%|██████████| 15/15 [00:03<00:00,  3.88it/s]\n",
            "epoch 94 iter 3: test loss 5.92168: 100%|██████████| 4/4 [00:00<00:00, 12.56it/s]\n"
          ]
        },
        {
          "output_type": "stream",
          "name": "stdout",
          "text": [
            "overlap_rates  [0.47508865 0.         0.39198964 0.05835423 0.01272178 0.\n",
            " 0.         0.343079   0.4229443  0.        ]\n",
            "coverages  [0.8605957  0.75019836 0.74252319 0.80328369 0.54093933 0.56816101\n",
            " 0.69799805 0.64454651 0.80535889 0.6204834 ]\n",
            "statsitic average of overlap_rates is  0.1704177604884798\n",
            "statsitic std of overlap_rates is  0.19725494030364016\n",
            "statsitic average of coverages is  0.7034088134765625\n",
            "statsitic std of coverages is  0.10190912439987176\n",
            "recon_overlap_rates  [0.49532099013886094, 0.3831903824521935, 0.3503449495842915, 0.17104394049004498, 1, 1, 0.1952605655633245, 1, 0.8837001950404012, 0.7084066256229845]\n",
            "recon_coverages  [0.30328369140625, 0.43408203125, 0.34503173828125, 0.4851226806640625, 0.3159027099609375, 0.586761474609375, 0.4430084228515625, 0.450531005859375, 0.2738189697265625, 0.4163818359375]\n",
            "statsitic average of recon_overlap_rates is  0.6187267648892101\n",
            "statsitic std of  recon_overlap_rates is  0.32199999072298097\n",
            "statsitic average of recon_coverages is  0.4053924560546875\n",
            "statsitic std of recon_coverages is  0.09112494195773065\n",
            "sample_random overlap_rates  [0.01480048 0.13350742 0.19463582 0.09543965 0.03759829 0.01386339\n",
            " 0.39191781 0.         0.00877941 0.        ]\n",
            "sample_random coverages  [0.63095093 0.74209595 0.78623962 0.63807678 0.50648499 0.57344055\n",
            " 0.58073425 0.67225647 0.60830688 0.62771606]\n",
            "statsitic average of sample_random overlap_rates is  0.08905422822477782\n",
            "statsitic std of sample_random overlap_rates is  0.11874806754450228\n",
            "statsitic average of sample_random coverages is  0.6366302490234375\n",
            "statsitic std of sample_random coverages is  0.0772957430065154\n",
            "sample_det overlap_rates  [0.37852937 0.03726593 0.06917777 0.08056613 0.24924018 0.00194193\n",
            " 0.00248763 0.         0.47636504 0.        ]\n",
            "sample_det coverages  [0.80847168 0.66168213 0.76847839 0.5854187  0.78320312 0.63645935\n",
            " 0.58885193 0.67225647 0.79086304 0.62771606]\n",
            "statsitic average of sample_det overlap_rates is  0.1295573978666405\n",
            "statsitic std of sample_det overlap_rates is  0.16647906202799462\n",
            "statsitic average of sample_det coverages is  0.692340087890625\n",
            "statsitic std of sample_det coverages is  0.08248067448866106\n"
          ]
        },
        {
          "output_type": "stream",
          "name": "stderr",
          "text": [
            "epoch 95 iter 14: train loss 0.09508. lr 7.200000e-05: 100%|██████████| 15/15 [00:03<00:00,  3.87it/s]\n",
            "epoch 95 iter 3: test loss 5.58465: 100%|██████████| 4/4 [00:00<00:00, 12.72it/s]\n"
          ]
        },
        {
          "output_type": "stream",
          "name": "stdout",
          "text": [
            "overlap_rates  [0.47508865 0.         0.39198964 0.05835423 0.01272178 0.\n",
            " 0.         0.343079   0.4229443  0.        ]\n",
            "coverages  [0.8605957  0.75019836 0.74252319 0.80328369 0.54093933 0.56816101\n",
            " 0.69799805 0.64454651 0.80535889 0.6204834 ]\n",
            "statsitic average of overlap_rates is  0.1704177604884798\n",
            "statsitic std of overlap_rates is  0.19725494030364016\n",
            "statsitic average of coverages is  0.7034088134765625\n",
            "statsitic std of coverages is  0.10190912439987176\n",
            "recon_overlap_rates  [0.18820659567481354, 0.29264534684653837, 0.5616827110344443, 0.394359698953257, 1, 1, 0.18286236063052672, 1, 0.19137421003092644, 0.6220845108788178]\n",
            "recon_coverages  [0.3252716064453125, 0.445648193359375, 0.2742156982421875, 0.5291595458984375, 0.36737060546875, 0.389434814453125, 0.635009765625, 0.4979248046875, 0.45391845703125, 0.4481353759765625]\n",
            "statsitic average of recon_overlap_rates is  0.5433215434049324\n",
            "statsitic std of  recon_overlap_rates is  0.3312308766278333\n",
            "statsitic average of recon_coverages is  0.43660888671875\n",
            "statsitic std of recon_coverages is  0.09898951239001108\n",
            "sample_random overlap_rates  [0.38092717 0.03726593 0.69720056 0.58973445 0.57149413 0.00726345\n",
            " 0.00248763 0.1223899  0.22613274 0.13038703]\n",
            "sample_random coverages  [0.80706787 0.66168213 1.7104187  0.59931946 0.66503906 0.62812805\n",
            " 0.58885193 0.71687317 0.69845581 0.7502594 ]\n",
            "statsitic average of sample_random overlap_rates is  0.2765283000013186\n",
            "statsitic std of sample_random overlap_rates is  0.25009421543884364\n",
            "statsitic average of sample_random coverages is  0.7826095581054687\n",
            "statsitic std of sample_random coverages is  0.31580464752797227\n",
            "sample_det overlap_rates  [0.37852937 0.03726593 0.27363373 0.34690003 0.24924018 0.00194193\n",
            " 0.00248763 0.         0.51735046 0.        ]\n",
            "sample_det coverages  [0.80847168 0.66168213 0.7223053  0.84391785 0.78320312 0.63645935\n",
            " 0.58885193 0.67225647 0.7910614  0.62771606]\n",
            "statsitic average of sample_det overlap_rates is  0.1807349268769621\n",
            "statsitic std of sample_det overlap_rates is  0.1852077947825493\n",
            "statsitic average of sample_det coverages is  0.713592529296875\n",
            "statsitic std of sample_det coverages is  0.08378399992589554\n"
          ]
        },
        {
          "output_type": "stream",
          "name": "stderr",
          "text": [
            "epoch 96 iter 14: train loss 0.09525. lr 7.200000e-05: 100%|██████████| 15/15 [00:03<00:00,  3.87it/s]\n",
            "epoch 96 iter 3: test loss 5.79647: 100%|██████████| 4/4 [00:00<00:00, 12.69it/s]\n"
          ]
        },
        {
          "output_type": "stream",
          "name": "stdout",
          "text": [
            "overlap_rates  [0.47508865 0.         0.39198964 0.05835423 0.01272178 0.\n",
            " 0.         0.343079   0.4229443  0.        ]\n",
            "coverages  [0.8605957  0.75019836 0.74252319 0.80328369 0.54093933 0.56816101\n",
            " 0.69799805 0.64454651 0.80535889 0.6204834 ]\n",
            "statsitic average of overlap_rates is  0.1704177604884798\n",
            "statsitic std of overlap_rates is  0.19725494030364016\n",
            "statsitic average of coverages is  0.7034088134765625\n",
            "statsitic std of coverages is  0.10190912439987176\n",
            "recon_overlap_rates  [0.3472853756169601, 0.32470293458866406, 0.2393398107683822, 0.3944217158897483, 1, 1, 0.20308851224105462, 1, 0.2962976301952028, 0.7074750442359697]\n",
            "recon_coverages  [0.3926239013671875, 0.4019317626953125, 0.3596343994140625, 0.5109710693359375, 0.313934326171875, 0.505828857421875, 0.6076812744140625, 0.462799072265625, 0.423675537109375, 0.4570465087890625]\n",
            "statsitic average of recon_overlap_rates is  0.5512611023535982\n",
            "statsitic std of  recon_overlap_rates is  0.3208677766356704\n",
            "statsitic average of recon_coverages is  0.4436126708984375\n",
            "statsitic std of recon_coverages is  0.08029854641663306\n",
            "sample_random overlap_rates  [0.37961841 0.02805275 0.12787636 0.17471375 0.32553614 0.01001411\n",
            " 0.00248763 0.         0.13498848 0.        ]\n",
            "sample_random coverages  [0.80615234 0.49171448 0.84613037 0.82357788 0.76060486 0.68110657\n",
            " 0.58885193 0.67225647 0.59616089 0.62771606]\n",
            "statsitic average of sample_random overlap_rates is  0.11832876430611983\n",
            "statsitic std of sample_random overlap_rates is  0.1326874261242417\n",
            "statsitic average of sample_random coverages is  0.6894271850585938\n",
            "statsitic std of sample_random coverages is  0.11104951555351723\n",
            "sample_det overlap_rates  [0.37852937 0.03726593 0.21387271 0.07880823 0.01020153 0.00191833\n",
            " 0.00248763 0.         0.67154717 0.28126607]\n",
            "sample_det coverages  [0.80847168 0.66168213 0.72836304 0.70419312 0.67008972 0.63633728\n",
            " 0.58885193 0.67225647 0.70762634 0.71203613]\n",
            "statsitic average of sample_det overlap_rates is  0.16758969692277997\n",
            "statsitic std of sample_det overlap_rates is  0.211178262425577\n",
            "statsitic average of sample_det coverages is  0.6889907836914062\n",
            "statsitic std of sample_det coverages is  0.05578402427595062\n"
          ]
        },
        {
          "output_type": "stream",
          "name": "stderr",
          "text": [
            "epoch 97 iter 14: train loss 0.09533. lr 7.200000e-05: 100%|██████████| 15/15 [00:03<00:00,  3.86it/s]\n",
            "epoch 97 iter 3: test loss 5.74184: 100%|██████████| 4/4 [00:00<00:00, 12.66it/s]\n"
          ]
        },
        {
          "output_type": "stream",
          "name": "stdout",
          "text": [
            "overlap_rates  [0.47508865 0.         0.39198964 0.05835423 0.01272178 0.\n",
            " 0.         0.343079   0.4229443  0.        ]\n",
            "coverages  [0.8605957  0.75019836 0.74252319 0.80328369 0.54093933 0.56816101\n",
            " 0.69799805 0.64454651 0.80535889 0.6204834 ]\n",
            "statsitic average of overlap_rates is  0.1704177604884798\n",
            "statsitic std of overlap_rates is  0.19725494030364016\n",
            "statsitic average of coverages is  0.7034088134765625\n",
            "statsitic std of coverages is  0.10190912439987176\n",
            "recon_overlap_rates  [1, 0.4126633245174279, 0.3097090175741861, 0.21096737720727612, 1, 1, 0.2894717534849596, 1, 0.21112150990485104, 0.7322656059178617]\n",
            "recon_coverages  [0.22869873046875, 0.3865509033203125, 0.317779541015625, 0.4588470458984375, 0.4427490234375, 0.4351806640625, 0.41595458984375, 0.51141357421875, 0.39129638671875, 0.4373016357421875]\n",
            "statsitic average of recon_overlap_rates is  0.6166198588606562\n",
            "statsitic std of  recon_overlap_rates is  0.342504968054672\n",
            "statsitic average of recon_coverages is  0.40257720947265624\n",
            "statsitic std of recon_coverages is  0.07541990337015962\n",
            "sample_random overlap_rates  [0.16033661 0.04753747 0.16516384 0.13069441 0.47138152 0.00194193\n",
            " 0.17717416 0.         0.11551175 0.        ]\n",
            "sample_random coverages  [0.75248718 0.67695618 0.65658569 0.5851593  0.53744507 0.63645935\n",
            " 0.60725403 0.67225647 0.7709198  0.62771606]\n",
            "statsitic average of sample_random overlap_rates is  0.12697416985186072\n",
            "statsitic std of sample_random overlap_rates is  0.13343212614655695\n",
            "statsitic average of sample_random coverages is  0.6523239135742187\n",
            "statsitic std of sample_random coverages is  0.06761408282283674\n",
            "sample_det overlap_rates  [0.13589866 0.03726593 0.48236365 0.1375347  0.24862984 0.00194193\n",
            " 0.00248763 0.         0.35453453 0.        ]\n",
            "sample_det coverages  [0.66975403 0.66168213 0.77131653 0.78593445 0.78512573 0.63645935\n",
            " 0.58885193 0.67225647 0.81231689 0.62771606]\n",
            "statsitic average of sample_det overlap_rates is  0.14006568787816645\n",
            "statsitic std of sample_det overlap_rates is  0.1621065077894423\n",
            "statsitic average of sample_det coverages is  0.701141357421875\n",
            "statsitic std of sample_det coverages is  0.07555678757969662\n"
          ]
        },
        {
          "output_type": "stream",
          "name": "stderr",
          "text": [
            "epoch 98 iter 14: train loss 0.08933. lr 7.200000e-05: 100%|██████████| 15/15 [00:03<00:00,  3.85it/s]\n",
            "epoch 98 iter 3: test loss 5.87656: 100%|██████████| 4/4 [00:00<00:00, 12.58it/s]\n"
          ]
        },
        {
          "output_type": "stream",
          "name": "stdout",
          "text": [
            "overlap_rates  [0.47508865 0.         0.39198964 0.05835423 0.01272178 0.\n",
            " 0.         0.343079   0.4229443  0.        ]\n",
            "coverages  [0.8605957  0.75019836 0.74252319 0.80328369 0.54093933 0.56816101\n",
            " 0.69799805 0.64454651 0.80535889 0.6204834 ]\n",
            "statsitic average of overlap_rates is  0.1704177604884798\n",
            "statsitic std of overlap_rates is  0.19725494030364016\n",
            "statsitic average of coverages is  0.7034088134765625\n",
            "statsitic std of coverages is  0.10190912439987176\n",
            "recon_overlap_rates  [1, 0.4406347819756861, 0.4623848404139196, 0.47630324650019484, 1, 1, 0.11771447834147986, 1, 0.2612745098039216, 0.6994497248624312]\n",
            "recon_coverages  [0.2320404052734375, 0.419219970703125, 0.3494720458984375, 0.5090179443359375, 0.2936248779296875, 0.4431610107421875, 0.4526519775390625, 0.5252685546875, 0.37353515625, 0.4575347900390625]\n",
            "statsitic average of recon_overlap_rates is  0.6457761581897634\n",
            "statsitic std of  recon_overlap_rates is  0.32185494481043886\n",
            "statsitic average of recon_coverages is  0.40555267333984374\n",
            "statsitic std of recon_coverages is  0.08852294518985138\n",
            "sample_random overlap_rates  [0.09291202 0.26614362 0.3645848  0.38254732 0.07611898 0.00111916\n",
            " 0.00248763 0.         0.31809738 0.        ]\n",
            "sample_random coverages  [0.52635193 0.54844666 0.76054382 0.71342468 0.74591064 0.74987793\n",
            " 0.58885193 0.67225647 0.74745178 0.62771606]\n",
            "statsitic average of sample_random overlap_rates is  0.1504010888868088\n",
            "statsitic std of sample_random overlap_rates is  0.1547618166013706\n",
            "statsitic average of sample_random coverages is  0.6680831909179688\n",
            "statsitic std of sample_random coverages is  0.08483917133359112\n",
            "sample_det overlap_rates  [0.25116032 0.03726593 0.04333082 0.77367591 0.07884297 0.00194193\n",
            " 0.00248763 0.         0.07982849 0.        ]\n",
            "sample_det coverages  [0.57533264 0.66168213 0.64794922 0.48400879 0.76542664 0.63645935\n",
            " 0.58885193 0.67225647 0.78292847 0.62771606]\n",
            "statsitic average of sample_det overlap_rates is  0.12685340199064954\n",
            "statsitic std of sample_det overlap_rates is  0.22728905482349077\n",
            "statsitic average of sample_det coverages is  0.6442611694335938\n",
            "statsitic std of sample_det coverages is  0.0829742599583255\n"
          ]
        },
        {
          "output_type": "stream",
          "name": "stderr",
          "text": [
            "epoch 99 iter 14: train loss 0.09302. lr 7.200000e-05: 100%|██████████| 15/15 [00:03<00:00,  3.84it/s]\n",
            "epoch 99 iter 3: test loss 5.95830: 100%|██████████| 4/4 [00:00<00:00, 12.63it/s]\n"
          ]
        },
        {
          "output_type": "stream",
          "name": "stdout",
          "text": [
            "overlap_rates  [0.47508865 0.         0.39198964 0.05835423 0.01272178 0.\n",
            " 0.         0.343079   0.4229443  0.        ]\n",
            "coverages  [0.8605957  0.75019836 0.74252319 0.80328369 0.54093933 0.56816101\n",
            " 0.69799805 0.64454651 0.80535889 0.6204834 ]\n",
            "statsitic average of overlap_rates is  0.1704177604884798\n",
            "statsitic std of overlap_rates is  0.19725494030364016\n",
            "statsitic average of coverages is  0.7034088134765625\n",
            "statsitic std of coverages is  0.10190912439987176\n",
            "recon_overlap_rates  [0.5549540426857766, 0.5050963025446366, 0.7622422680412371, 0.5110857417532897, 1, 1, 0.32293903145554304, 1, 0.21408150040025922, 0.5752945839789557]\n",
            "recon_coverages  [0.39178466796875, 0.43414306640625, 0.2841796875, 0.507904052734375, 0.4071044921875, 0.4818878173828125, 0.4477386474609375, 0.5086669921875, 0.4002838134765625, 0.4234466552734375]\n",
            "statsitic average of recon_overlap_rates is  0.6445693470859697\n",
            "statsitic std of  recon_overlap_rates is  0.27050066693595515\n",
            "statsitic average of recon_coverages is  0.4287139892578125\n",
            "statsitic std of recon_coverages is  0.06280075361663254\n",
            "sample_random overlap_rates  [0.08167215 0.20361518 0.0158376  0.18509664 0.0066928  0.00191833\n",
            " 0.00248763 0.         0.49626581 0.        ]\n",
            "sample_random coverages  [0.55189514 0.81713867 0.76594543 0.75949097 0.70448303 0.63633728\n",
            " 0.58885193 0.67225647 0.80090332 0.62771606]\n",
            "statsitic average of sample_random overlap_rates is  0.0993586134145334\n",
            "statsitic std of sample_random overlap_rates is  0.15174127777972393\n",
            "statsitic average of sample_random coverages is  0.6925018310546875\n",
            "statsitic std of sample_random coverages is  0.08693983649518819\n",
            "sample_det overlap_rates  [0.0532259  0.03726593 0.24004724 0.13142671 0.23883165 0.00194193\n",
            " 0.00248763 0.         0.15868126 0.28831323]\n",
            "sample_det coverages  [0.50942993 0.66168213 0.76234436 0.70159912 0.79823303 0.63645935\n",
            " 0.58885193 0.67225647 0.73312378 0.54014587]\n",
            "statsitic average of sample_det overlap_rates is  0.11522214834311906\n",
            "statsitic std of sample_det overlap_rates is  0.10569330363657871\n",
            "statsitic average of sample_det coverages is  0.66041259765625\n",
            "statsitic std of sample_det coverages is  0.08914271071189654\n"
          ]
        },
        {
          "output_type": "stream",
          "name": "stderr",
          "text": [
            "epoch 100 iter 14: train loss 0.09419. lr 7.200000e-05: 100%|██████████| 15/15 [00:03<00:00,  3.87it/s]\n",
            "epoch 100 iter 3: test loss 5.85859: 100%|██████████| 4/4 [00:00<00:00, 12.62it/s]\n"
          ]
        },
        {
          "output_type": "stream",
          "name": "stdout",
          "text": [
            "overlap_rates  [0.47508865 0.         0.39198964 0.05835423 0.01272178 0.\n",
            " 0.         0.343079   0.4229443  0.        ]\n",
            "coverages  [0.8605957  0.75019836 0.74252319 0.80328369 0.54093933 0.56816101\n",
            " 0.69799805 0.64454651 0.80535889 0.6204834 ]\n",
            "statsitic average of overlap_rates is  0.1704177604884798\n",
            "statsitic std of overlap_rates is  0.19725494030364016\n",
            "statsitic average of coverages is  0.7034088134765625\n",
            "statsitic std of coverages is  0.10190912439987176\n",
            "recon_overlap_rates  [0.9429859578265157, 0.8155568650559811, 0.37341271932135517, 0.6763805678562126, 0.9212538979156409, 1, 0.4967384086559119, 1, 0.34961167333490234, 0.4973018600584848]\n",
            "recon_coverages  [0.3249053955078125, 0.414306640625, 0.2895965576171875, 0.4686279296875, 0.4648590087890625, 0.336029052734375, 0.3906402587890625, 0.4202423095703125, 0.389007568359375, 0.5061492919921875]\n",
            "statsitic average of recon_overlap_rates is  0.7073241950025004\n",
            "statsitic std of  recon_overlap_rates is  0.24762942740544167\n",
            "statsitic average of recon_coverages is  0.4004364013671875\n",
            "statsitic std of recon_coverages is  0.06551757219456412\n",
            "sample_random overlap_rates  [0.3881709  0.0704033  0.34691007 0.24973389 0.1961299  0.02053686\n",
            " 0.2897064  0.         0.49626581 0.06917855]\n",
            "sample_random coverages  [0.80285645 0.68141174 0.54246521 0.70240784 0.81378174 0.5565033\n",
            " 0.56077576 0.67225647 0.80090332 0.67428589]\n",
            "statsitic average of sample_random overlap_rates is  0.2127035685256137\n",
            "statsitic std of sample_random overlap_rates is  0.1611839734162531\n",
            "statsitic average of sample_random coverages is  0.6807647705078125\n",
            "statsitic std of sample_random coverages is  0.09827584435253796\n",
            "sample_det overlap_rates  [0.06114617 0.03688071 0.16682178 0.13166769 0.17608726 0.50988213\n",
            " 0.00248763 0.         0.48201439 0.19202248]\n",
            "sample_det coverages  [0.48112488 0.66156006 0.67219543 0.79638672 0.64627075 0.77281189\n",
            " 0.58885193 0.67225647 0.78263855 0.52676392]\n",
            "statsitic average of sample_det overlap_rates is  0.17590102368876484\n",
            "statsitic std of sample_det overlap_rates is  0.17350977636113768\n",
            "statsitic average of sample_det coverages is  0.6600860595703125\n",
            "statsitic std of sample_det coverages is  0.10083059380055383\n"
          ]
        }
      ]
    },
    {
      "cell_type": "code",
      "source": [
        "trainer.train()"
      ],
      "metadata": {
        "colab": {
          "base_uri": "https://localhost:8080/"
        },
        "id": "FfKb1kByWqQG",
        "outputId": "d343dda8-b9f3-4531-f41c-d41f8cc09e6b"
      },
      "execution_count": null,
      "outputs": [
        {
          "output_type": "stream",
          "name": "stderr",
          "text": [
            "epoch 1 iter 7: train loss 3.33517. lr 1.440000e-04: 100%|██████████| 8/8 [00:02<00:00,  3.61it/s]\n",
            "epoch 1 iter 1: test loss 3.31453: 100%|██████████| 2/2 [00:00<00:00, 11.50it/s]\n",
            "\u001b[34m\u001b[1mwandb\u001b[0m: \u001b[33mWARNING\u001b[0m Saving files without folders. If you want to preserve sub directories pass base_path to wandb.save, i.e. wandb.save(\"/mnt/folder/file.h5\", base_path=\"/mnt\")\n"
          ]
        },
        {
          "output_type": "stream",
          "name": "stdout",
          "text": [
            "self.fixed_x is  tensor([[261, 257,  33,  ..., 263, 263, 263],\n",
            "        [261, 257,  10,  ..., 263, 263, 263],\n",
            "        [261, 257, 203,  ..., 263, 263, 263],\n",
            "        [261, 257,  11,  ..., 263, 263, 263]])\n",
            "input layouts is  [[261 257  33 ... 263 263 263]\n",
            " [261 257  10 ... 263 263 263]\n",
            " [261 257 203 ... 263 263 263]\n",
            " [261 257  11 ... 263 263 263]]\n",
            "input layouts is  [<PIL.Image.Image image mode=RGB size=260x260 at 0x7F68F0DAC0D0>, <PIL.Image.Image image mode=RGB size=260x260 at 0x7F68E80686D0>, <PIL.Image.Image image mode=RGB size=260x260 at 0x7F68E8068950>, <PIL.Image.Image image mode=RGB size=260x260 at 0x7F68E80681D0>]\n"
          ]
        },
        {
          "output_type": "stream",
          "name": "stderr",
          "text": [
            "epoch 2 iter 7: train loss 3.20320. lr 1.440000e-04: 100%|██████████| 8/8 [00:02<00:00,  3.92it/s]\n",
            "epoch 2 iter 1: test loss 3.17819: 100%|██████████| 2/2 [00:00<00:00, 11.49it/s]\n",
            "\u001b[34m\u001b[1mwandb\u001b[0m: \u001b[33mWARNING\u001b[0m Saving files without folders. If you want to preserve sub directories pass base_path to wandb.save, i.e. wandb.save(\"/mnt/folder/file.h5\", base_path=\"/mnt\")\n"
          ]
        },
        {
          "output_type": "stream",
          "name": "stdout",
          "text": [
            "self.fixed_x is  tensor([[261, 257,  33,  ..., 263, 263, 263],\n",
            "        [261, 257,  10,  ..., 263, 263, 263],\n",
            "        [261, 257, 203,  ..., 263, 263, 263],\n",
            "        [261, 257,  11,  ..., 263, 263, 263]])\n",
            "input layouts is  [[261 257  33 ... 263 263 263]\n",
            " [261 257  10 ... 263 263 263]\n",
            " [261 257 203 ... 263 263 263]\n",
            " [261 257  11 ... 263 263 263]]\n",
            "input layouts is  [<PIL.Image.Image image mode=RGB size=260x260 at 0x7F68E0683310>, <PIL.Image.Image image mode=RGB size=260x260 at 0x7F68E06831D0>, <PIL.Image.Image image mode=RGB size=260x260 at 0x7F68E0683050>, <PIL.Image.Image image mode=RGB size=260x260 at 0x7F68E075DE50>]\n"
          ]
        },
        {
          "output_type": "stream",
          "name": "stderr",
          "text": [
            "epoch 3 iter 7: train loss 3.03667. lr 1.440000e-04: 100%|██████████| 8/8 [00:02<00:00,  3.94it/s]\n",
            "epoch 3 iter 1: test loss 3.19365: 100%|██████████| 2/2 [00:00<00:00, 11.50it/s]\n",
            "\u001b[34m\u001b[1mwandb\u001b[0m: \u001b[33mWARNING\u001b[0m Saving files without folders. If you want to preserve sub directories pass base_path to wandb.save, i.e. wandb.save(\"/mnt/folder/file.h5\", base_path=\"/mnt\")\n"
          ]
        },
        {
          "output_type": "stream",
          "name": "stdout",
          "text": [
            "self.fixed_x is  tensor([[261, 257,  33,  ..., 263, 263, 263],\n",
            "        [261, 257,  10,  ..., 263, 263, 263],\n",
            "        [261, 257, 203,  ..., 263, 263, 263],\n",
            "        [261, 257,  11,  ..., 263, 263, 263]])\n",
            "input layouts is  [[261 257  33 ... 263 263 263]\n",
            " [261 257  10 ... 263 263 263]\n",
            " [261 257 203 ... 263 263 263]\n",
            " [261 257  11 ... 263 263 263]]\n",
            "input layouts is  [<PIL.Image.Image image mode=RGB size=260x260 at 0x7F68E07D0450>, <PIL.Image.Image image mode=RGB size=260x260 at 0x7F68E0639ED0>, <PIL.Image.Image image mode=RGB size=260x260 at 0x7F68E0708750>, <PIL.Image.Image image mode=RGB size=260x260 at 0x7F68E0708690>]\n"
          ]
        },
        {
          "output_type": "stream",
          "name": "stderr",
          "text": [
            "epoch 4 iter 7: train loss 2.88985. lr 1.440000e-04: 100%|██████████| 8/8 [00:02<00:00,  3.93it/s]\n",
            "epoch 4 iter 1: test loss 3.13648: 100%|██████████| 2/2 [00:00<00:00, 11.49it/s]\n",
            "\u001b[34m\u001b[1mwandb\u001b[0m: \u001b[33mWARNING\u001b[0m Saving files without folders. If you want to preserve sub directories pass base_path to wandb.save, i.e. wandb.save(\"/mnt/folder/file.h5\", base_path=\"/mnt\")\n"
          ]
        },
        {
          "output_type": "stream",
          "name": "stdout",
          "text": [
            "self.fixed_x is  tensor([[261, 257,  33,  ..., 263, 263, 263],\n",
            "        [261, 257,  10,  ..., 263, 263, 263],\n",
            "        [261, 257, 203,  ..., 263, 263, 263],\n",
            "        [261, 257,  11,  ..., 263, 263, 263]])\n",
            "input layouts is  [[261 257  33 ... 263 263 263]\n",
            " [261 257  10 ... 263 263 263]\n",
            " [261 257 203 ... 263 263 263]\n",
            " [261 257  11 ... 263 263 263]]\n",
            "input layouts is  [<PIL.Image.Image image mode=RGB size=260x260 at 0x7F68E060A110>, <PIL.Image.Image image mode=RGB size=260x260 at 0x7F68E060A050>, <PIL.Image.Image image mode=RGB size=260x260 at 0x7F68E060AE90>, <PIL.Image.Image image mode=RGB size=260x260 at 0x7F68E060AD10>]\n"
          ]
        },
        {
          "output_type": "stream",
          "name": "stderr",
          "text": [
            "epoch 5 iter 7: train loss 2.70362. lr 1.440000e-04: 100%|██████████| 8/8 [00:02<00:00,  3.92it/s]\n",
            "epoch 5 iter 1: test loss 3.13105: 100%|██████████| 2/2 [00:00<00:00, 11.54it/s]\n"
          ]
        },
        {
          "output_type": "stream",
          "name": "stdout",
          "text": [
            "self.fixed_x is  tensor([[261, 257,  33,  ..., 263, 263, 263],\n",
            "        [261, 257,  10,  ..., 263, 263, 263],\n",
            "        [261, 257, 203,  ..., 263, 263, 263],\n",
            "        [261, 257,  11,  ..., 263, 263, 263]])\n",
            "input layouts is  [[261 257  33 ... 263 263 263]\n",
            " [261 257  10 ... 263 263 263]\n",
            " [261 257 203 ... 263 263 263]\n",
            " [261 257  11 ... 263 263 263]]\n",
            "input layouts is  [<PIL.Image.Image image mode=RGB size=260x260 at 0x7F69DAAA86D0>, <PIL.Image.Image image mode=RGB size=260x260 at 0x7F68E060AB50>, <PIL.Image.Image image mode=RGB size=260x260 at 0x7F68E0711D50>, <PIL.Image.Image image mode=RGB size=260x260 at 0x7F68E069C150>]\n"
          ]
        },
        {
          "output_type": "stream",
          "name": "stderr",
          "text": [
            "epoch 6 iter 7: train loss 2.65798. lr 1.440000e-04: 100%|██████████| 8/8 [00:02<00:00,  3.92it/s]\n",
            "epoch 6 iter 1: test loss 3.10895: 100%|██████████| 2/2 [00:00<00:00, 11.45it/s]\n"
          ]
        },
        {
          "output_type": "stream",
          "name": "stdout",
          "text": [
            "self.fixed_x is  tensor([[261, 257,  33,  ..., 263, 263, 263],\n",
            "        [261, 257,  10,  ..., 263, 263, 263],\n",
            "        [261, 257, 203,  ..., 263, 263, 263],\n",
            "        [261, 257,  11,  ..., 263, 263, 263]])\n",
            "input layouts is  [[261 257  33 ... 263 263 263]\n",
            " [261 257  10 ... 263 263 263]\n",
            " [261 257 203 ... 263 263 263]\n",
            " [261 257  11 ... 263 263 263]]\n",
            "input layouts is  [<PIL.Image.Image image mode=RGB size=260x260 at 0x7F68E07B2F10>, <PIL.Image.Image image mode=RGB size=260x260 at 0x7F68E069CCD0>, <PIL.Image.Image image mode=RGB size=260x260 at 0x7F68E06CEA50>, <PIL.Image.Image image mode=RGB size=260x260 at 0x7F68E05762D0>]\n"
          ]
        },
        {
          "output_type": "stream",
          "name": "stderr",
          "text": [
            "epoch 7 iter 7: train loss 2.42111. lr 1.440000e-04: 100%|██████████| 8/8 [00:02<00:00,  3.92it/s]\n",
            "epoch 7 iter 1: test loss 3.19778: 100%|██████████| 2/2 [00:00<00:00, 11.41it/s]\n"
          ]
        },
        {
          "output_type": "stream",
          "name": "stdout",
          "text": [
            "self.fixed_x is  tensor([[261, 257,  33,  ..., 263, 263, 263],\n",
            "        [261, 257,  10,  ..., 263, 263, 263],\n",
            "        [261, 257, 203,  ..., 263, 263, 263],\n",
            "        [261, 257,  11,  ..., 263, 263, 263]])\n",
            "input layouts is  [[261 257  33 ... 263 263 263]\n",
            " [261 257  10 ... 263 263 263]\n",
            " [261 257 203 ... 263 263 263]\n",
            " [261 257  11 ... 263 263 263]]\n",
            "input layouts is  [<PIL.Image.Image image mode=RGB size=260x260 at 0x7F68E05371D0>, <PIL.Image.Image image mode=RGB size=260x260 at 0x7F68E060A510>, <PIL.Image.Image image mode=RGB size=260x260 at 0x7F68E05AD6D0>, <PIL.Image.Image image mode=RGB size=260x260 at 0x7F68E80325D0>]\n"
          ]
        },
        {
          "output_type": "stream",
          "name": "stderr",
          "text": [
            "epoch 8 iter 7: train loss 2.35362. lr 1.440000e-04: 100%|██████████| 8/8 [00:02<00:00,  3.91it/s]\n",
            "epoch 8 iter 1: test loss 3.21441: 100%|██████████| 2/2 [00:00<00:00, 11.32it/s]\n"
          ]
        },
        {
          "output_type": "stream",
          "name": "stdout",
          "text": [
            "self.fixed_x is  tensor([[261, 257,  33,  ..., 263, 263, 263],\n",
            "        [261, 257,  10,  ..., 263, 263, 263],\n",
            "        [261, 257, 203,  ..., 263, 263, 263],\n",
            "        [261, 257,  11,  ..., 263, 263, 263]])\n",
            "input layouts is  [[261 257  33 ... 263 263 263]\n",
            " [261 257  10 ... 263 263 263]\n",
            " [261 257 203 ... 263 263 263]\n",
            " [261 257  11 ... 263 263 263]]\n",
            "input layouts is  [<PIL.Image.Image image mode=RGB size=260x260 at 0x7F68E069C5D0>, <PIL.Image.Image image mode=RGB size=260x260 at 0x7F68E04DD8D0>, <PIL.Image.Image image mode=RGB size=260x260 at 0x7F68E04DD190>, <PIL.Image.Image image mode=RGB size=260x260 at 0x7F68E04DD450>]\n"
          ]
        },
        {
          "output_type": "stream",
          "name": "stderr",
          "text": [
            "epoch 9 iter 7: train loss 2.18928. lr 1.440000e-04: 100%|██████████| 8/8 [00:02<00:00,  3.91it/s]\n",
            "epoch 9 iter 1: test loss 3.39840: 100%|██████████| 2/2 [00:00<00:00, 11.27it/s]\n"
          ]
        },
        {
          "output_type": "stream",
          "name": "stdout",
          "text": [
            "self.fixed_x is  tensor([[261, 257,  33,  ..., 263, 263, 263],\n",
            "        [261, 257,  10,  ..., 263, 263, 263],\n",
            "        [261, 257, 203,  ..., 263, 263, 263],\n",
            "        [261, 257,  11,  ..., 263, 263, 263]])\n",
            "input layouts is  [[261 257  33 ... 263 263 263]\n",
            " [261 257  10 ... 263 263 263]\n",
            " [261 257 203 ... 263 263 263]\n",
            " [261 257  11 ... 263 263 263]]\n",
            "input layouts is  [<PIL.Image.Image image mode=RGB size=260x260 at 0x7F68E048F090>, <PIL.Image.Image image mode=RGB size=260x260 at 0x7F68E048FED0>, <PIL.Image.Image image mode=RGB size=260x260 at 0x7F68E048F3D0>, <PIL.Image.Image image mode=RGB size=260x260 at 0x7F68E071CA50>]\n"
          ]
        },
        {
          "output_type": "stream",
          "name": "stderr",
          "text": [
            "epoch 10 iter 7: train loss 2.15356. lr 1.440000e-04: 100%|██████████| 8/8 [00:02<00:00,  3.92it/s]\n",
            "epoch 10 iter 1: test loss 3.38813: 100%|██████████| 2/2 [00:00<00:00, 11.27it/s]\n"
          ]
        },
        {
          "output_type": "stream",
          "name": "stdout",
          "text": [
            "self.fixed_x is  tensor([[261, 257,  33,  ..., 263, 263, 263],\n",
            "        [261, 257,  10,  ..., 263, 263, 263],\n",
            "        [261, 257, 203,  ..., 263, 263, 263],\n",
            "        [261, 257,  11,  ..., 263, 263, 263]])\n",
            "input layouts is  [[261 257  33 ... 263 263 263]\n",
            " [261 257  10 ... 263 263 263]\n",
            " [261 257 203 ... 263 263 263]\n",
            " [261 257  11 ... 263 263 263]]\n",
            "input layouts is  [<PIL.Image.Image image mode=RGB size=260x260 at 0x7F68E0503390>, <PIL.Image.Image image mode=RGB size=260x260 at 0x7F68E0503890>, <PIL.Image.Image image mode=RGB size=260x260 at 0x7F68E037EA10>, <PIL.Image.Image image mode=RGB size=260x260 at 0x7F68E037ED50>]\n"
          ]
        },
        {
          "output_type": "stream",
          "name": "stderr",
          "text": [
            "epoch 11 iter 7: train loss 2.01221. lr 1.440000e-04: 100%|██████████| 8/8 [00:02<00:00,  3.92it/s]\n",
            "epoch 11 iter 1: test loss 3.48139: 100%|██████████| 2/2 [00:00<00:00, 11.33it/s]\n"
          ]
        },
        {
          "output_type": "stream",
          "name": "stdout",
          "text": [
            "self.fixed_x is  tensor([[261, 257,  33,  ..., 263, 263, 263],\n",
            "        [261, 257,  10,  ..., 263, 263, 263],\n",
            "        [261, 257, 203,  ..., 263, 263, 263],\n",
            "        [261, 257,  11,  ..., 263, 263, 263]])\n",
            "input layouts is  [[261 257  33 ... 263 263 263]\n",
            " [261 257  10 ... 263 263 263]\n",
            " [261 257 203 ... 263 263 263]\n",
            " [261 257  11 ... 263 263 263]]\n",
            "input layouts is  [<PIL.Image.Image image mode=RGB size=260x260 at 0x7F68E071E750>, <PIL.Image.Image image mode=RGB size=260x260 at 0x7F68E048F0D0>, <PIL.Image.Image image mode=RGB size=260x260 at 0x7F68E048F350>, <PIL.Image.Image image mode=RGB size=260x260 at 0x7F68E0623FD0>]\n"
          ]
        },
        {
          "output_type": "stream",
          "name": "stderr",
          "text": [
            "epoch 12 iter 7: train loss 1.86798. lr 1.440000e-04: 100%|██████████| 8/8 [00:02<00:00,  3.92it/s]\n",
            "epoch 12 iter 1: test loss 3.33602: 100%|██████████| 2/2 [00:00<00:00, 11.39it/s]\n"
          ]
        },
        {
          "output_type": "stream",
          "name": "stdout",
          "text": [
            "self.fixed_x is  tensor([[261, 257,  33,  ..., 263, 263, 263],\n",
            "        [261, 257,  10,  ..., 263, 263, 263],\n",
            "        [261, 257, 203,  ..., 263, 263, 263],\n",
            "        [261, 257,  11,  ..., 263, 263, 263]])\n",
            "input layouts is  [[261 257  33 ... 263 263 263]\n",
            " [261 257  10 ... 263 263 263]\n",
            " [261 257 203 ... 263 263 263]\n",
            " [261 257  11 ... 263 263 263]]\n",
            "input layouts is  [<PIL.Image.Image image mode=RGB size=260x260 at 0x7F68E05AD590>, <PIL.Image.Image image mode=RGB size=260x260 at 0x7F68E05ADAD0>, <PIL.Image.Image image mode=RGB size=260x260 at 0x7F68E05ADC10>, <PIL.Image.Image image mode=RGB size=260x260 at 0x7F68E0747890>]\n"
          ]
        },
        {
          "output_type": "stream",
          "name": "stderr",
          "text": [
            "epoch 13 iter 7: train loss 1.69179. lr 1.440000e-04: 100%|██████████| 8/8 [00:02<00:00,  3.92it/s]\n",
            "epoch 13 iter 1: test loss 3.56223: 100%|██████████| 2/2 [00:00<00:00, 11.33it/s]\n"
          ]
        },
        {
          "output_type": "stream",
          "name": "stdout",
          "text": [
            "self.fixed_x is  tensor([[261, 257,  33,  ..., 263, 263, 263],\n",
            "        [261, 257,  10,  ..., 263, 263, 263],\n",
            "        [261, 257, 203,  ..., 263, 263, 263],\n",
            "        [261, 257,  11,  ..., 263, 263, 263]])\n",
            "input layouts is  [[261 257  33 ... 263 263 263]\n",
            " [261 257  10 ... 263 263 263]\n",
            " [261 257 203 ... 263 263 263]\n",
            " [261 257  11 ... 263 263 263]]\n",
            "input layouts is  [<PIL.Image.Image image mode=RGB size=260x260 at 0x7F68E07D6890>, <PIL.Image.Image image mode=RGB size=260x260 at 0x7F68E07D6990>, <PIL.Image.Image image mode=RGB size=260x260 at 0x7F68E031DD90>, <PIL.Image.Image image mode=RGB size=260x260 at 0x7F68E031DC90>]\n"
          ]
        },
        {
          "output_type": "stream",
          "name": "stderr",
          "text": [
            "epoch 14 iter 7: train loss 1.56836. lr 1.440000e-04: 100%|██████████| 8/8 [00:02<00:00,  3.91it/s]\n",
            "epoch 14 iter 1: test loss 3.50014: 100%|██████████| 2/2 [00:00<00:00, 11.34it/s]\n"
          ]
        },
        {
          "output_type": "stream",
          "name": "stdout",
          "text": [
            "self.fixed_x is  tensor([[261, 257,  33,  ..., 263, 263, 263],\n",
            "        [261, 257,  10,  ..., 263, 263, 263],\n",
            "        [261, 257, 203,  ..., 263, 263, 263],\n",
            "        [261, 257,  11,  ..., 263, 263, 263]])\n",
            "input layouts is  [[261 257  33 ... 263 263 263]\n",
            " [261 257  10 ... 263 263 263]\n",
            " [261 257 203 ... 263 263 263]\n",
            " [261 257  11 ... 263 263 263]]\n",
            "input layouts is  [<PIL.Image.Image image mode=RGB size=260x260 at 0x7F68E05B0F90>, <PIL.Image.Image image mode=RGB size=260x260 at 0x7F68E05C2B90>, <PIL.Image.Image image mode=RGB size=260x260 at 0x7F68E0630250>, <PIL.Image.Image image mode=RGB size=260x260 at 0x7F68E0630690>]\n"
          ]
        },
        {
          "output_type": "stream",
          "name": "stderr",
          "text": [
            "epoch 15 iter 7: train loss 1.54723. lr 1.440000e-04: 100%|██████████| 8/8 [00:02<00:00,  3.93it/s]\n",
            "epoch 15 iter 1: test loss 3.64166: 100%|██████████| 2/2 [00:00<00:00, 11.43it/s]\n"
          ]
        },
        {
          "output_type": "stream",
          "name": "stdout",
          "text": [
            "self.fixed_x is  tensor([[261, 257,  33,  ..., 263, 263, 263],\n",
            "        [261, 257,  10,  ..., 263, 263, 263],\n",
            "        [261, 257, 203,  ..., 263, 263, 263],\n",
            "        [261, 257,  11,  ..., 263, 263, 263]])\n",
            "input layouts is  [[261 257  33 ... 263 263 263]\n",
            " [261 257  10 ... 263 263 263]\n",
            " [261 257 203 ... 263 263 263]\n",
            " [261 257  11 ... 263 263 263]]\n",
            "input layouts is  [<PIL.Image.Image image mode=RGB size=260x260 at 0x7F68E0773490>, <PIL.Image.Image image mode=RGB size=260x260 at 0x7F68E0773810>, <PIL.Image.Image image mode=RGB size=260x260 at 0x7F68E0773E50>, <PIL.Image.Image image mode=RGB size=260x260 at 0x7F68E0773F90>]\n"
          ]
        },
        {
          "output_type": "stream",
          "name": "stderr",
          "text": [
            "epoch 16 iter 7: train loss 1.39537. lr 1.440000e-04: 100%|██████████| 8/8 [00:02<00:00,  3.92it/s]\n",
            "epoch 16 iter 1: test loss 3.69503: 100%|██████████| 2/2 [00:00<00:00, 11.52it/s]\n"
          ]
        },
        {
          "output_type": "stream",
          "name": "stdout",
          "text": [
            "self.fixed_x is  tensor([[261, 257,  33,  ..., 263, 263, 263],\n",
            "        [261, 257,  10,  ..., 263, 263, 263],\n",
            "        [261, 257, 203,  ..., 263, 263, 263],\n",
            "        [261, 257,  11,  ..., 263, 263, 263]])\n",
            "input layouts is  [[261 257  33 ... 263 263 263]\n",
            " [261 257  10 ... 263 263 263]\n",
            " [261 257 203 ... 263 263 263]\n",
            " [261 257  11 ... 263 263 263]]\n",
            "input layouts is  [<PIL.Image.Image image mode=RGB size=260x260 at 0x7F68E05E3910>, <PIL.Image.Image image mode=RGB size=260x260 at 0x7F68E05E3710>, <PIL.Image.Image image mode=RGB size=260x260 at 0x7F68E05E3610>, <PIL.Image.Image image mode=RGB size=260x260 at 0x7F68E01C5B50>]\n"
          ]
        },
        {
          "output_type": "stream",
          "name": "stderr",
          "text": [
            "epoch 17 iter 7: train loss 1.22583. lr 1.440000e-04: 100%|██████████| 8/8 [00:02<00:00,  3.92it/s]\n",
            "epoch 17 iter 1: test loss 3.80047: 100%|██████████| 2/2 [00:00<00:00, 11.33it/s]\n"
          ]
        },
        {
          "output_type": "stream",
          "name": "stdout",
          "text": [
            "self.fixed_x is  tensor([[261, 257,  33,  ..., 263, 263, 263],\n",
            "        [261, 257,  10,  ..., 263, 263, 263],\n",
            "        [261, 257, 203,  ..., 263, 263, 263],\n",
            "        [261, 257,  11,  ..., 263, 263, 263]])\n",
            "input layouts is  [[261 257  33 ... 263 263 263]\n",
            " [261 257  10 ... 263 263 263]\n",
            " [261 257 203 ... 263 263 263]\n",
            " [261 257  11 ... 263 263 263]]\n",
            "input layouts is  [<PIL.Image.Image image mode=RGB size=260x260 at 0x7F68E022D810>, <PIL.Image.Image image mode=RGB size=260x260 at 0x7F68E022D850>, <PIL.Image.Image image mode=RGB size=260x260 at 0x7F68E031DD90>, <PIL.Image.Image image mode=RGB size=260x260 at 0x7F68E027FA10>]\n"
          ]
        },
        {
          "output_type": "stream",
          "name": "stderr",
          "text": [
            "epoch 18 iter 7: train loss 1.14358. lr 1.440000e-04: 100%|██████████| 8/8 [00:02<00:00,  3.92it/s]\n",
            "epoch 18 iter 1: test loss 3.90730: 100%|██████████| 2/2 [00:00<00:00, 11.51it/s]\n"
          ]
        },
        {
          "output_type": "stream",
          "name": "stdout",
          "text": [
            "self.fixed_x is  tensor([[261, 257,  33,  ..., 263, 263, 263],\n",
            "        [261, 257,  10,  ..., 263, 263, 263],\n",
            "        [261, 257, 203,  ..., 263, 263, 263],\n",
            "        [261, 257,  11,  ..., 263, 263, 263]])\n",
            "input layouts is  [[261 257  33 ... 263 263 263]\n",
            " [261 257  10 ... 263 263 263]\n",
            " [261 257 203 ... 263 263 263]\n",
            " [261 257  11 ... 263 263 263]]\n",
            "input layouts is  [<PIL.Image.Image image mode=RGB size=260x260 at 0x7F68E022D550>, <PIL.Image.Image image mode=RGB size=260x260 at 0x7F68E01FC350>, <PIL.Image.Image image mode=RGB size=260x260 at 0x7F68E01F5410>, <PIL.Image.Image image mode=RGB size=260x260 at 0x7F68E031DC90>]\n"
          ]
        },
        {
          "output_type": "stream",
          "name": "stderr",
          "text": [
            "epoch 19 iter 7: train loss 1.12271. lr 1.440000e-04: 100%|██████████| 8/8 [00:02<00:00,  3.92it/s]\n",
            "epoch 19 iter 1: test loss 3.90458: 100%|██████████| 2/2 [00:00<00:00, 11.52it/s]\n"
          ]
        },
        {
          "output_type": "stream",
          "name": "stdout",
          "text": [
            "self.fixed_x is  tensor([[261, 257,  33,  ..., 263, 263, 263],\n",
            "        [261, 257,  10,  ..., 263, 263, 263],\n",
            "        [261, 257, 203,  ..., 263, 263, 263],\n",
            "        [261, 257,  11,  ..., 263, 263, 263]])\n",
            "input layouts is  [[261 257  33 ... 263 263 263]\n",
            " [261 257  10 ... 263 263 263]\n",
            " [261 257 203 ... 263 263 263]\n",
            " [261 257  11 ... 263 263 263]]\n",
            "input layouts is  [<PIL.Image.Image image mode=RGB size=260x260 at 0x7F68E8050D50>, <PIL.Image.Image image mode=RGB size=260x260 at 0x7F68E02E0450>, <PIL.Image.Image image mode=RGB size=260x260 at 0x7F68E02B1F90>, <PIL.Image.Image image mode=RGB size=260x260 at 0x7F68E80327D0>]\n"
          ]
        },
        {
          "output_type": "stream",
          "name": "stderr",
          "text": [
            "epoch 20 iter 7: train loss 0.99593. lr 1.440000e-04: 100%|██████████| 8/8 [00:02<00:00,  3.91it/s]\n",
            "epoch 20 iter 1: test loss 3.98467: 100%|██████████| 2/2 [00:00<00:00, 11.43it/s]\n"
          ]
        },
        {
          "output_type": "stream",
          "name": "stdout",
          "text": [
            "self.fixed_x is  tensor([[261, 257,  33,  ..., 263, 263, 263],\n",
            "        [261, 257,  10,  ..., 263, 263, 263],\n",
            "        [261, 257, 203,  ..., 263, 263, 263],\n",
            "        [261, 257,  11,  ..., 263, 263, 263]])\n",
            "input layouts is  [[261 257  33 ... 263 263 263]\n",
            " [261 257  10 ... 263 263 263]\n",
            " [261 257 203 ... 263 263 263]\n",
            " [261 257  11 ... 263 263 263]]\n",
            "input layouts is  [<PIL.Image.Image image mode=RGB size=260x260 at 0x7F68E070EC10>, <PIL.Image.Image image mode=RGB size=260x260 at 0x7F68E070EA90>, <PIL.Image.Image image mode=RGB size=260x260 at 0x7F68E070ED50>, <PIL.Image.Image image mode=RGB size=260x260 at 0x7F68E01D4810>]\n"
          ]
        },
        {
          "output_type": "stream",
          "name": "stderr",
          "text": [
            "epoch 21 iter 7: train loss 0.94169. lr 1.440000e-04: 100%|██████████| 8/8 [00:02<00:00,  3.91it/s]\n",
            "epoch 21 iter 1: test loss 4.03026: 100%|██████████| 2/2 [00:00<00:00, 11.39it/s]\n"
          ]
        },
        {
          "output_type": "stream",
          "name": "stdout",
          "text": [
            "self.fixed_x is  tensor([[261, 257,  33,  ..., 263, 263, 263],\n",
            "        [261, 257,  10,  ..., 263, 263, 263],\n",
            "        [261, 257, 203,  ..., 263, 263, 263],\n",
            "        [261, 257,  11,  ..., 263, 263, 263]])\n",
            "input layouts is  [[261 257  33 ... 263 263 263]\n",
            " [261 257  10 ... 263 263 263]\n",
            " [261 257 203 ... 263 263 263]\n",
            " [261 257  11 ... 263 263 263]]\n",
            "input layouts is  [<PIL.Image.Image image mode=RGB size=260x260 at 0x7F68E0423950>, <PIL.Image.Image image mode=RGB size=260x260 at 0x7F68E0423F90>, <PIL.Image.Image image mode=RGB size=260x260 at 0x7F68E0423090>, <PIL.Image.Image image mode=RGB size=260x260 at 0x7F68E02E5250>]\n"
          ]
        },
        {
          "output_type": "stream",
          "name": "stderr",
          "text": [
            "epoch 22 iter 7: train loss 0.87765. lr 1.440000e-04: 100%|██████████| 8/8 [00:02<00:00,  3.91it/s]\n",
            "epoch 22 iter 1: test loss 4.13173: 100%|██████████| 2/2 [00:00<00:00, 11.53it/s]\n"
          ]
        },
        {
          "output_type": "stream",
          "name": "stdout",
          "text": [
            "self.fixed_x is  tensor([[261, 257,  33,  ..., 263, 263, 263],\n",
            "        [261, 257,  10,  ..., 263, 263, 263],\n",
            "        [261, 257, 203,  ..., 263, 263, 263],\n",
            "        [261, 257,  11,  ..., 263, 263, 263]])\n",
            "input layouts is  [[261 257  33 ... 263 263 263]\n",
            " [261 257  10 ... 263 263 263]\n",
            " [261 257 203 ... 263 263 263]\n",
            " [261 257  11 ... 263 263 263]]\n",
            "input layouts is  [<PIL.Image.Image image mode=RGB size=260x260 at 0x7F68E0228450>, <PIL.Image.Image image mode=RGB size=260x260 at 0x7F68E06C2550>, <PIL.Image.Image image mode=RGB size=260x260 at 0x7F68E05C3510>, <PIL.Image.Image image mode=RGB size=260x260 at 0x7F68E05D6510>]\n"
          ]
        },
        {
          "output_type": "stream",
          "name": "stderr",
          "text": [
            "epoch 23 iter 7: train loss 0.72833. lr 1.440000e-04: 100%|██████████| 8/8 [00:02<00:00,  3.92it/s]\n",
            "epoch 23 iter 1: test loss 4.17569: 100%|██████████| 2/2 [00:00<00:00, 11.31it/s]\n"
          ]
        },
        {
          "output_type": "stream",
          "name": "stdout",
          "text": [
            "self.fixed_x is  tensor([[261, 257,  33,  ..., 263, 263, 263],\n",
            "        [261, 257,  10,  ..., 263, 263, 263],\n",
            "        [261, 257, 203,  ..., 263, 263, 263],\n",
            "        [261, 257,  11,  ..., 263, 263, 263]])\n",
            "input layouts is  [[261 257  33 ... 263 263 263]\n",
            " [261 257  10 ... 263 263 263]\n",
            " [261 257 203 ... 263 263 263]\n",
            " [261 257  11 ... 263 263 263]]\n",
            "input layouts is  [<PIL.Image.Image image mode=RGB size=260x260 at 0x7F68E042DB10>, <PIL.Image.Image image mode=RGB size=260x260 at 0x7F68E0432FD0>, <PIL.Image.Image image mode=RGB size=260x260 at 0x7F68E05FDB90>, <PIL.Image.Image image mode=RGB size=260x260 at 0x7F68E06C4350>]\n"
          ]
        },
        {
          "output_type": "stream",
          "name": "stderr",
          "text": [
            "epoch 24 iter 7: train loss 0.71327. lr 1.440000e-04: 100%|██████████| 8/8 [00:02<00:00,  3.93it/s]\n",
            "epoch 24 iter 1: test loss 4.30892: 100%|██████████| 2/2 [00:00<00:00, 11.47it/s]\n"
          ]
        },
        {
          "output_type": "stream",
          "name": "stdout",
          "text": [
            "self.fixed_x is  tensor([[261, 257,  33,  ..., 263, 263, 263],\n",
            "        [261, 257,  10,  ..., 263, 263, 263],\n",
            "        [261, 257, 203,  ..., 263, 263, 263],\n",
            "        [261, 257,  11,  ..., 263, 263, 263]])\n",
            "input layouts is  [[261 257  33 ... 263 263 263]\n",
            " [261 257  10 ... 263 263 263]\n",
            " [261 257 203 ... 263 263 263]\n",
            " [261 257  11 ... 263 263 263]]\n",
            "input layouts is  [<PIL.Image.Image image mode=RGB size=260x260 at 0x7F68E048F990>, <PIL.Image.Image image mode=RGB size=260x260 at 0x7F68E058A390>, <PIL.Image.Image image mode=RGB size=260x260 at 0x7F68E058AF90>, <PIL.Image.Image image mode=RGB size=260x260 at 0x7F68F0C94990>]\n"
          ]
        },
        {
          "output_type": "stream",
          "name": "stderr",
          "text": [
            "epoch 25 iter 7: train loss 0.63669. lr 1.440000e-04: 100%|██████████| 8/8 [00:02<00:00,  3.94it/s]\n",
            "epoch 25 iter 1: test loss 4.24020: 100%|██████████| 2/2 [00:00<00:00, 11.51it/s]\n"
          ]
        },
        {
          "output_type": "stream",
          "name": "stdout",
          "text": [
            "self.fixed_x is  tensor([[261, 257,  33,  ..., 263, 263, 263],\n",
            "        [261, 257,  10,  ..., 263, 263, 263],\n",
            "        [261, 257, 203,  ..., 263, 263, 263],\n",
            "        [261, 257,  11,  ..., 263, 263, 263]])\n",
            "input layouts is  [[261 257  33 ... 263 263 263]\n",
            " [261 257  10 ... 263 263 263]\n",
            " [261 257 203 ... 263 263 263]\n",
            " [261 257  11 ... 263 263 263]]\n",
            "input layouts is  [<PIL.Image.Image image mode=RGB size=260x260 at 0x7F68E805CA90>, <PIL.Image.Image image mode=RGB size=260x260 at 0x7F68E06A4090>, <PIL.Image.Image image mode=RGB size=260x260 at 0x7F68E0406250>, <PIL.Image.Image image mode=RGB size=260x260 at 0x7F68E0630ED0>]\n"
          ]
        },
        {
          "output_type": "stream",
          "name": "stderr",
          "text": [
            "epoch 26 iter 7: train loss 0.55435. lr 1.440000e-04: 100%|██████████| 8/8 [00:02<00:00,  3.93it/s]\n",
            "epoch 26 iter 1: test loss 4.56309: 100%|██████████| 2/2 [00:00<00:00, 11.12it/s]\n"
          ]
        },
        {
          "output_type": "stream",
          "name": "stdout",
          "text": [
            "self.fixed_x is  tensor([[261, 257,  33,  ..., 263, 263, 263],\n",
            "        [261, 257,  10,  ..., 263, 263, 263],\n",
            "        [261, 257, 203,  ..., 263, 263, 263],\n",
            "        [261, 257,  11,  ..., 263, 263, 263]])\n",
            "input layouts is  [[261 257  33 ... 263 263 263]\n",
            " [261 257  10 ... 263 263 263]\n",
            " [261 257 203 ... 263 263 263]\n",
            " [261 257  11 ... 263 263 263]]\n",
            "input layouts is  [<PIL.Image.Image image mode=RGB size=260x260 at 0x7F68F0C72990>, <PIL.Image.Image image mode=RGB size=260x260 at 0x7F68E05D6210>, <PIL.Image.Image image mode=RGB size=260x260 at 0x7F68E05D6310>, <PIL.Image.Image image mode=RGB size=260x260 at 0x7F68E05D64D0>]\n"
          ]
        },
        {
          "output_type": "stream",
          "name": "stderr",
          "text": [
            "epoch 27 iter 7: train loss 0.58873. lr 1.440000e-04: 100%|██████████| 8/8 [00:02<00:00,  3.91it/s]\n",
            "epoch 27 iter 1: test loss 4.45171: 100%|██████████| 2/2 [00:00<00:00, 11.48it/s]\n"
          ]
        },
        {
          "output_type": "stream",
          "name": "stdout",
          "text": [
            "self.fixed_x is  tensor([[261, 257,  33,  ..., 263, 263, 263],\n",
            "        [261, 257,  10,  ..., 263, 263, 263],\n",
            "        [261, 257, 203,  ..., 263, 263, 263],\n",
            "        [261, 257,  11,  ..., 263, 263, 263]])\n",
            "input layouts is  [[261 257  33 ... 263 263 263]\n",
            " [261 257  10 ... 263 263 263]\n",
            " [261 257 203 ... 263 263 263]\n",
            " [261 257  11 ... 263 263 263]]\n",
            "input layouts is  [<PIL.Image.Image image mode=RGB size=260x260 at 0x7F68E0334190>, <PIL.Image.Image image mode=RGB size=260x260 at 0x7F68E8068ED0>, <PIL.Image.Image image mode=RGB size=260x260 at 0x7F68E8068450>, <PIL.Image.Image image mode=RGB size=260x260 at 0x7F68E055CED0>]\n"
          ]
        },
        {
          "output_type": "stream",
          "name": "stderr",
          "text": [
            "epoch 28 iter 7: train loss 0.50926. lr 1.440000e-04: 100%|██████████| 8/8 [00:02<00:00,  3.91it/s]\n",
            "epoch 28 iter 1: test loss 4.56166: 100%|██████████| 2/2 [00:00<00:00, 11.48it/s]\n"
          ]
        },
        {
          "output_type": "stream",
          "name": "stdout",
          "text": [
            "self.fixed_x is  tensor([[261, 257,  33,  ..., 263, 263, 263],\n",
            "        [261, 257,  10,  ..., 263, 263, 263],\n",
            "        [261, 257, 203,  ..., 263, 263, 263],\n",
            "        [261, 257,  11,  ..., 263, 263, 263]])\n",
            "input layouts is  [[261 257  33 ... 263 263 263]\n",
            " [261 257  10 ... 263 263 263]\n",
            " [261 257 203 ... 263 263 263]\n",
            " [261 257  11 ... 263 263 263]]\n",
            "input layouts is  [<PIL.Image.Image image mode=RGB size=260x260 at 0x7F68E03FD050>, <PIL.Image.Image image mode=RGB size=260x260 at 0x7F68E03A7E10>, <PIL.Image.Image image mode=RGB size=260x260 at 0x7F68E07AB590>, <PIL.Image.Image image mode=RGB size=260x260 at 0x7F68E06FF990>]\n"
          ]
        },
        {
          "output_type": "stream",
          "name": "stderr",
          "text": [
            "epoch 29 iter 7: train loss 0.45230. lr 1.440000e-04: 100%|██████████| 8/8 [00:02<00:00,  3.92it/s]\n",
            "epoch 29 iter 1: test loss 4.60871: 100%|██████████| 2/2 [00:00<00:00, 11.46it/s]\n"
          ]
        },
        {
          "output_type": "stream",
          "name": "stdout",
          "text": [
            "self.fixed_x is  tensor([[261, 257,  33,  ..., 263, 263, 263],\n",
            "        [261, 257,  10,  ..., 263, 263, 263],\n",
            "        [261, 257, 203,  ..., 263, 263, 263],\n",
            "        [261, 257,  11,  ..., 263, 263, 263]])\n",
            "input layouts is  [[261 257  33 ... 263 263 263]\n",
            " [261 257  10 ... 263 263 263]\n",
            " [261 257 203 ... 263 263 263]\n",
            " [261 257  11 ... 263 263 263]]\n",
            "input layouts is  [<PIL.Image.Image image mode=RGB size=260x260 at 0x7F68E07D6850>, <PIL.Image.Image image mode=RGB size=260x260 at 0x7F68E01FEF50>, <PIL.Image.Image image mode=RGB size=260x260 at 0x7F68E07D69D0>, <PIL.Image.Image image mode=RGB size=260x260 at 0x7F68E07D6710>]\n"
          ]
        },
        {
          "output_type": "stream",
          "name": "stderr",
          "text": [
            "epoch 30 iter 7: train loss 0.41077. lr 1.440000e-04: 100%|██████████| 8/8 [00:02<00:00,  3.92it/s]\n",
            "epoch 30 iter 1: test loss 4.69468: 100%|██████████| 2/2 [00:00<00:00, 11.34it/s]\n"
          ]
        },
        {
          "output_type": "stream",
          "name": "stdout",
          "text": [
            "self.fixed_x is  tensor([[261, 257,  33,  ..., 263, 263, 263],\n",
            "        [261, 257,  10,  ..., 263, 263, 263],\n",
            "        [261, 257, 203,  ..., 263, 263, 263],\n",
            "        [261, 257,  11,  ..., 263, 263, 263]])\n",
            "input layouts is  [[261 257  33 ... 263 263 263]\n",
            " [261 257  10 ... 263 263 263]\n",
            " [261 257 203 ... 263 263 263]\n",
            " [261 257  11 ... 263 263 263]]\n",
            "input layouts is  [<PIL.Image.Image image mode=RGB size=260x260 at 0x7F68E07D6F90>, <PIL.Image.Image image mode=RGB size=260x260 at 0x7F68E05A5F90>, <PIL.Image.Image image mode=RGB size=260x260 at 0x7F68E06FBE10>, <PIL.Image.Image image mode=RGB size=260x260 at 0x7F68E05BAD10>]\n"
          ]
        },
        {
          "output_type": "stream",
          "name": "stderr",
          "text": [
            "epoch 31 iter 7: train loss 0.33585. lr 1.440000e-04: 100%|██████████| 8/8 [00:02<00:00,  3.91it/s]\n",
            "epoch 31 iter 1: test loss 4.70580: 100%|██████████| 2/2 [00:00<00:00, 11.32it/s]\n"
          ]
        },
        {
          "output_type": "stream",
          "name": "stdout",
          "text": [
            "self.fixed_x is  tensor([[261, 257,  33,  ..., 263, 263, 263],\n",
            "        [261, 257,  10,  ..., 263, 263, 263],\n",
            "        [261, 257, 203,  ..., 263, 263, 263],\n",
            "        [261, 257,  11,  ..., 263, 263, 263]])\n",
            "input layouts is  [[261 257  33 ... 263 263 263]\n",
            " [261 257  10 ... 263 263 263]\n",
            " [261 257 203 ... 263 263 263]\n",
            " [261 257  11 ... 263 263 263]]\n",
            "input layouts is  [<PIL.Image.Image image mode=RGB size=260x260 at 0x7F68E06C9DD0>, <PIL.Image.Image image mode=RGB size=260x260 at 0x7F68E06C9910>, <PIL.Image.Image image mode=RGB size=260x260 at 0x7F68E06C9E10>, <PIL.Image.Image image mode=RGB size=260x260 at 0x7F68E06C97D0>]\n"
          ]
        },
        {
          "output_type": "stream",
          "name": "stderr",
          "text": [
            "epoch 32 iter 7: train loss 0.33593. lr 1.440000e-04: 100%|██████████| 8/8 [00:02<00:00,  3.92it/s]\n",
            "epoch 32 iter 1: test loss 4.68449: 100%|██████████| 2/2 [00:00<00:00, 11.49it/s]\n"
          ]
        },
        {
          "output_type": "stream",
          "name": "stdout",
          "text": [
            "self.fixed_x is  tensor([[261, 257,  33,  ..., 263, 263, 263],\n",
            "        [261, 257,  10,  ..., 263, 263, 263],\n",
            "        [261, 257, 203,  ..., 263, 263, 263],\n",
            "        [261, 257,  11,  ..., 263, 263, 263]])\n",
            "input layouts is  [[261 257  33 ... 263 263 263]\n",
            " [261 257  10 ... 263 263 263]\n",
            " [261 257 203 ... 263 263 263]\n",
            " [261 257  11 ... 263 263 263]]\n",
            "input layouts is  [<PIL.Image.Image image mode=RGB size=260x260 at 0x7F68E07AB590>, <PIL.Image.Image image mode=RGB size=260x260 at 0x7F68E0235DD0>, <PIL.Image.Image image mode=RGB size=260x260 at 0x7F68E046D7D0>, <PIL.Image.Image image mode=RGB size=260x260 at 0x7F68E046D450>]\n"
          ]
        },
        {
          "output_type": "stream",
          "name": "stderr",
          "text": [
            "epoch 33 iter 7: train loss 0.33372. lr 1.440000e-04: 100%|██████████| 8/8 [00:02<00:00,  3.92it/s]\n",
            "epoch 33 iter 1: test loss 4.81719: 100%|██████████| 2/2 [00:00<00:00, 11.31it/s]\n"
          ]
        },
        {
          "output_type": "stream",
          "name": "stdout",
          "text": [
            "self.fixed_x is  tensor([[261, 257,  33,  ..., 263, 263, 263],\n",
            "        [261, 257,  10,  ..., 263, 263, 263],\n",
            "        [261, 257, 203,  ..., 263, 263, 263],\n",
            "        [261, 257,  11,  ..., 263, 263, 263]])\n",
            "input layouts is  [[261 257  33 ... 263 263 263]\n",
            " [261 257  10 ... 263 263 263]\n",
            " [261 257 203 ... 263 263 263]\n",
            " [261 257  11 ... 263 263 263]]\n",
            "input layouts is  [<PIL.Image.Image image mode=RGB size=260x260 at 0x7F68E043A390>, <PIL.Image.Image image mode=RGB size=260x260 at 0x7F68E03FD0D0>, <PIL.Image.Image image mode=RGB size=260x260 at 0x7F68E03FD310>, <PIL.Image.Image image mode=RGB size=260x260 at 0x7F68E04552D0>]\n"
          ]
        },
        {
          "output_type": "stream",
          "name": "stderr",
          "text": [
            "epoch 34 iter 7: train loss 0.29993. lr 1.440000e-04: 100%|██████████| 8/8 [00:02<00:00,  3.92it/s]\n",
            "epoch 34 iter 1: test loss 4.83498: 100%|██████████| 2/2 [00:00<00:00, 11.37it/s]\n"
          ]
        },
        {
          "output_type": "stream",
          "name": "stdout",
          "text": [
            "self.fixed_x is  tensor([[261, 257,  33,  ..., 263, 263, 263],\n",
            "        [261, 257,  10,  ..., 263, 263, 263],\n",
            "        [261, 257, 203,  ..., 263, 263, 263],\n",
            "        [261, 257,  11,  ..., 263, 263, 263]])\n",
            "input layouts is  [[261 257  33 ... 263 263 263]\n",
            " [261 257  10 ... 263 263 263]\n",
            " [261 257 203 ... 263 263 263]\n",
            " [261 257  11 ... 263 263 263]]\n",
            "input layouts is  [<PIL.Image.Image image mode=RGB size=260x260 at 0x7F68E043A290>, <PIL.Image.Image image mode=RGB size=260x260 at 0x7F68E0773850>, <PIL.Image.Image image mode=RGB size=260x260 at 0x7F68E0773C90>, <PIL.Image.Image image mode=RGB size=260x260 at 0x7F68E02DBC10>]\n"
          ]
        },
        {
          "output_type": "stream",
          "name": "stderr",
          "text": [
            "epoch 35 iter 7: train loss 0.28794. lr 1.440000e-04: 100%|██████████| 8/8 [00:02<00:00,  3.91it/s]\n",
            "epoch 35 iter 1: test loss 4.84814: 100%|██████████| 2/2 [00:00<00:00, 11.34it/s]\n"
          ]
        },
        {
          "output_type": "stream",
          "name": "stdout",
          "text": [
            "self.fixed_x is  tensor([[261, 257,  33,  ..., 263, 263, 263],\n",
            "        [261, 257,  10,  ..., 263, 263, 263],\n",
            "        [261, 257, 203,  ..., 263, 263, 263],\n",
            "        [261, 257,  11,  ..., 263, 263, 263]])\n",
            "input layouts is  [[261 257  33 ... 263 263 263]\n",
            " [261 257  10 ... 263 263 263]\n",
            " [261 257 203 ... 263 263 263]\n",
            " [261 257  11 ... 263 263 263]]\n",
            "input layouts is  [<PIL.Image.Image image mode=RGB size=260x260 at 0x7F68E06C9B10>, <PIL.Image.Image image mode=RGB size=260x260 at 0x7F68E01C1350>, <PIL.Image.Image image mode=RGB size=260x260 at 0x7F68E05882D0>, <PIL.Image.Image image mode=RGB size=260x260 at 0x7F68E02FBA50>]\n"
          ]
        },
        {
          "output_type": "stream",
          "name": "stderr",
          "text": [
            "epoch 36 iter 7: train loss 0.28098. lr 1.440000e-04: 100%|██████████| 8/8 [00:02<00:00,  3.92it/s]\n",
            "epoch 36 iter 1: test loss 4.97251: 100%|██████████| 2/2 [00:00<00:00, 11.45it/s]\n"
          ]
        },
        {
          "output_type": "stream",
          "name": "stdout",
          "text": [
            "self.fixed_x is  tensor([[261, 257,  33,  ..., 263, 263, 263],\n",
            "        [261, 257,  10,  ..., 263, 263, 263],\n",
            "        [261, 257, 203,  ..., 263, 263, 263],\n",
            "        [261, 257,  11,  ..., 263, 263, 263]])\n",
            "input layouts is  [[261 257  33 ... 263 263 263]\n",
            " [261 257  10 ... 263 263 263]\n",
            " [261 257 203 ... 263 263 263]\n",
            " [261 257  11 ... 263 263 263]]\n",
            "input layouts is  [<PIL.Image.Image image mode=RGB size=260x260 at 0x7F68E02FB590>, <PIL.Image.Image image mode=RGB size=260x260 at 0x7F68E0408C50>, <PIL.Image.Image image mode=RGB size=260x260 at 0x7F68E0408A10>, <PIL.Image.Image image mode=RGB size=260x260 at 0x7F68E0218E50>]\n"
          ]
        },
        {
          "output_type": "stream",
          "name": "stderr",
          "text": [
            "epoch 37 iter 7: train loss 0.24742. lr 1.440000e-04: 100%|██████████| 8/8 [00:02<00:00,  3.91it/s]\n",
            "epoch 37 iter 1: test loss 4.91366: 100%|██████████| 2/2 [00:00<00:00, 11.38it/s]\n"
          ]
        },
        {
          "output_type": "stream",
          "name": "stdout",
          "text": [
            "self.fixed_x is  tensor([[261, 257,  33,  ..., 263, 263, 263],\n",
            "        [261, 257,  10,  ..., 263, 263, 263],\n",
            "        [261, 257, 203,  ..., 263, 263, 263],\n",
            "        [261, 257,  11,  ..., 263, 263, 263]])\n",
            "input layouts is  [[261 257  33 ... 263 263 263]\n",
            " [261 257  10 ... 263 263 263]\n",
            " [261 257 203 ... 263 263 263]\n",
            " [261 257  11 ... 263 263 263]]\n",
            "input layouts is  [<PIL.Image.Image image mode=RGB size=260x260 at 0x7F68E06022D0>, <PIL.Image.Image image mode=RGB size=260x260 at 0x7F68E00EAE90>, <PIL.Image.Image image mode=RGB size=260x260 at 0x7F68E042B090>, <PIL.Image.Image image mode=RGB size=260x260 at 0x7F68E042B950>]\n"
          ]
        },
        {
          "output_type": "stream",
          "name": "stderr",
          "text": [
            "epoch 38 iter 7: train loss 0.24600. lr 1.440000e-04: 100%|██████████| 8/8 [00:02<00:00,  3.90it/s]\n",
            "epoch 38 iter 1: test loss 4.99323: 100%|██████████| 2/2 [00:00<00:00, 11.36it/s]\n"
          ]
        },
        {
          "output_type": "stream",
          "name": "stdout",
          "text": [
            "self.fixed_x is  tensor([[261, 257,  33,  ..., 263, 263, 263],\n",
            "        [261, 257,  10,  ..., 263, 263, 263],\n",
            "        [261, 257, 203,  ..., 263, 263, 263],\n",
            "        [261, 257,  11,  ..., 263, 263, 263]])\n",
            "input layouts is  [[261 257  33 ... 263 263 263]\n",
            " [261 257  10 ... 263 263 263]\n",
            " [261 257 203 ... 263 263 263]\n",
            " [261 257  11 ... 263 263 263]]\n",
            "input layouts is  [<PIL.Image.Image image mode=RGB size=260x260 at 0x7F68E06E7250>, <PIL.Image.Image image mode=RGB size=260x260 at 0x7F68E0091E50>, <PIL.Image.Image image mode=RGB size=260x260 at 0x7F68E0091F10>, <PIL.Image.Image image mode=RGB size=260x260 at 0x7F68E805A3D0>]\n"
          ]
        },
        {
          "output_type": "stream",
          "name": "stderr",
          "text": [
            "epoch 39 iter 7: train loss 0.23336. lr 1.440000e-04: 100%|██████████| 8/8 [00:02<00:00,  3.90it/s]\n",
            "epoch 39 iter 1: test loss 5.10165: 100%|██████████| 2/2 [00:00<00:00, 11.34it/s]\n"
          ]
        },
        {
          "output_type": "stream",
          "name": "stdout",
          "text": [
            "self.fixed_x is  tensor([[261, 257,  33,  ..., 263, 263, 263],\n",
            "        [261, 257,  10,  ..., 263, 263, 263],\n",
            "        [261, 257, 203,  ..., 263, 263, 263],\n",
            "        [261, 257,  11,  ..., 263, 263, 263]])\n",
            "input layouts is  [[261 257  33 ... 263 263 263]\n",
            " [261 257  10 ... 263 263 263]\n",
            " [261 257 203 ... 263 263 263]\n",
            " [261 257  11 ... 263 263 263]]\n",
            "input layouts is  [<PIL.Image.Image image mode=RGB size=260x260 at 0x7F68E07D0B90>, <PIL.Image.Image image mode=RGB size=260x260 at 0x7F68E011D110>, <PIL.Image.Image image mode=RGB size=260x260 at 0x7F68E804C350>, <PIL.Image.Image image mode=RGB size=260x260 at 0x7F68F0F57CD0>]\n"
          ]
        },
        {
          "output_type": "stream",
          "name": "stderr",
          "text": [
            "epoch 40 iter 7: train loss 0.21551. lr 1.440000e-04: 100%|██████████| 8/8 [00:02<00:00,  3.91it/s]\n",
            "epoch 40 iter 1: test loss 5.18469: 100%|██████████| 2/2 [00:00<00:00, 11.45it/s]\n"
          ]
        },
        {
          "output_type": "stream",
          "name": "stdout",
          "text": [
            "self.fixed_x is  tensor([[261, 257,  33,  ..., 263, 263, 263],\n",
            "        [261, 257,  10,  ..., 263, 263, 263],\n",
            "        [261, 257, 203,  ..., 263, 263, 263],\n",
            "        [261, 257,  11,  ..., 263, 263, 263]])\n",
            "input layouts is  [[261 257  33 ... 263 263 263]\n",
            " [261 257  10 ... 263 263 263]\n",
            " [261 257 203 ... 263 263 263]\n",
            " [261 257  11 ... 263 263 263]]\n",
            "input layouts is  [<PIL.Image.Image image mode=RGB size=260x260 at 0x7F68E8908510>, <PIL.Image.Image image mode=RGB size=260x260 at 0x7F68E06528D0>, <PIL.Image.Image image mode=RGB size=260x260 at 0x7F68E071EDD0>, <PIL.Image.Image image mode=RGB size=260x260 at 0x7F68E042F450>]\n"
          ]
        },
        {
          "output_type": "stream",
          "name": "stderr",
          "text": [
            "epoch 41 iter 7: train loss 0.19025. lr 1.440000e-04: 100%|██████████| 8/8 [00:02<00:00,  3.91it/s]\n",
            "epoch 41 iter 1: test loss 5.17896: 100%|██████████| 2/2 [00:00<00:00, 11.37it/s]\n"
          ]
        },
        {
          "output_type": "stream",
          "name": "stdout",
          "text": [
            "self.fixed_x is  tensor([[261, 257,  33,  ..., 263, 263, 263],\n",
            "        [261, 257,  10,  ..., 263, 263, 263],\n",
            "        [261, 257, 203,  ..., 263, 263, 263],\n",
            "        [261, 257,  11,  ..., 263, 263, 263]])\n",
            "input layouts is  [[261 257  33 ... 263 263 263]\n",
            " [261 257  10 ... 263 263 263]\n",
            " [261 257 203 ... 263 263 263]\n",
            " [261 257  11 ... 263 263 263]]\n",
            "input layouts is  [<PIL.Image.Image image mode=RGB size=260x260 at 0x7F68E06764D0>, <PIL.Image.Image image mode=RGB size=260x260 at 0x7F68E07D0B90>, <PIL.Image.Image image mode=RGB size=260x260 at 0x7F68E0716D90>, <PIL.Image.Image image mode=RGB size=260x260 at 0x7F68E8068F90>]\n"
          ]
        },
        {
          "output_type": "stream",
          "name": "stderr",
          "text": [
            "epoch 42 iter 7: train loss 0.17353. lr 1.440000e-04: 100%|██████████| 8/8 [00:02<00:00,  3.92it/s]\n",
            "epoch 42 iter 1: test loss 5.16330: 100%|██████████| 2/2 [00:00<00:00, 11.44it/s]\n"
          ]
        },
        {
          "output_type": "stream",
          "name": "stdout",
          "text": [
            "self.fixed_x is  tensor([[261, 257,  33,  ..., 263, 263, 263],\n",
            "        [261, 257,  10,  ..., 263, 263, 263],\n",
            "        [261, 257, 203,  ..., 263, 263, 263],\n",
            "        [261, 257,  11,  ..., 263, 263, 263]])\n",
            "input layouts is  [[261 257  33 ... 263 263 263]\n",
            " [261 257  10 ... 263 263 263]\n",
            " [261 257 203 ... 263 263 263]\n",
            " [261 257  11 ... 263 263 263]]\n",
            "input layouts is  [<PIL.Image.Image image mode=RGB size=260x260 at 0x7F68E0733D90>, <PIL.Image.Image image mode=RGB size=260x260 at 0x7F68E05A4650>, <PIL.Image.Image image mode=RGB size=260x260 at 0x7F68E0676450>, <PIL.Image.Image image mode=RGB size=260x260 at 0x7F68E0676E90>]\n"
          ]
        },
        {
          "output_type": "stream",
          "name": "stderr",
          "text": [
            "epoch 43 iter 7: train loss 0.17784. lr 1.440000e-04: 100%|██████████| 8/8 [00:02<00:00,  3.92it/s]\n",
            "epoch 43 iter 1: test loss 5.14868: 100%|██████████| 2/2 [00:00<00:00, 11.32it/s]\n"
          ]
        },
        {
          "output_type": "stream",
          "name": "stdout",
          "text": [
            "self.fixed_x is  tensor([[261, 257,  33,  ..., 263, 263, 263],\n",
            "        [261, 257,  10,  ..., 263, 263, 263],\n",
            "        [261, 257, 203,  ..., 263, 263, 263],\n",
            "        [261, 257,  11,  ..., 263, 263, 263]])\n",
            "input layouts is  [[261 257  33 ... 263 263 263]\n",
            " [261 257  10 ... 263 263 263]\n",
            " [261 257 203 ... 263 263 263]\n",
            " [261 257  11 ... 263 263 263]]\n",
            "input layouts is  [<PIL.Image.Image image mode=RGB size=260x260 at 0x7F68E07BE690>, <PIL.Image.Image image mode=RGB size=260x260 at 0x7F68E060BA10>, <PIL.Image.Image image mode=RGB size=260x260 at 0x7F68E060B4D0>, <PIL.Image.Image image mode=RGB size=260x260 at 0x7F68E046D850>]\n"
          ]
        },
        {
          "output_type": "stream",
          "name": "stderr",
          "text": [
            "epoch 44 iter 7: train loss 0.16616. lr 1.440000e-04: 100%|██████████| 8/8 [00:02<00:00,  3.90it/s]\n",
            "epoch 44 iter 1: test loss 5.24150: 100%|██████████| 2/2 [00:00<00:00, 11.19it/s]\n"
          ]
        },
        {
          "output_type": "stream",
          "name": "stdout",
          "text": [
            "self.fixed_x is  tensor([[261, 257,  33,  ..., 263, 263, 263],\n",
            "        [261, 257,  10,  ..., 263, 263, 263],\n",
            "        [261, 257, 203,  ..., 263, 263, 263],\n",
            "        [261, 257,  11,  ..., 263, 263, 263]])\n",
            "input layouts is  [[261 257  33 ... 263 263 263]\n",
            " [261 257  10 ... 263 263 263]\n",
            " [261 257 203 ... 263 263 263]\n",
            " [261 257  11 ... 263 263 263]]\n",
            "input layouts is  [<PIL.Image.Image image mode=RGB size=260x260 at 0x7F68E0334F50>, <PIL.Image.Image image mode=RGB size=260x260 at 0x7F68E0334C50>, <PIL.Image.Image image mode=RGB size=260x260 at 0x7F68E0095890>, <PIL.Image.Image image mode=RGB size=260x260 at 0x7F68E0095490>]\n"
          ]
        },
        {
          "output_type": "stream",
          "name": "stderr",
          "text": [
            "epoch 45 iter 7: train loss 0.16363. lr 1.440000e-04: 100%|██████████| 8/8 [00:02<00:00,  3.92it/s]\n",
            "epoch 45 iter 1: test loss 5.25631: 100%|██████████| 2/2 [00:00<00:00, 11.59it/s]\n"
          ]
        },
        {
          "output_type": "stream",
          "name": "stdout",
          "text": [
            "self.fixed_x is  tensor([[261, 257,  33,  ..., 263, 263, 263],\n",
            "        [261, 257,  10,  ..., 263, 263, 263],\n",
            "        [261, 257, 203,  ..., 263, 263, 263],\n",
            "        [261, 257,  11,  ..., 263, 263, 263]])\n",
            "input layouts is  [[261 257  33 ... 263 263 263]\n",
            " [261 257  10 ... 263 263 263]\n",
            " [261 257 203 ... 263 263 263]\n",
            " [261 257  11 ... 263 263 263]]\n",
            "input layouts is  [<PIL.Image.Image image mode=RGB size=260x260 at 0x7F68E00B1690>, <PIL.Image.Image image mode=RGB size=260x260 at 0x7F68E0747A90>, <PIL.Image.Image image mode=RGB size=260x260 at 0x7F68E0747F10>, <PIL.Image.Image image mode=RGB size=260x260 at 0x7F68E0747950>]\n"
          ]
        },
        {
          "output_type": "stream",
          "name": "stderr",
          "text": [
            "epoch 46 iter 7: train loss 0.18557. lr 1.440000e-04: 100%|██████████| 8/8 [00:02<00:00,  3.91it/s]\n",
            "epoch 46 iter 1: test loss 5.27403: 100%|██████████| 2/2 [00:00<00:00, 11.48it/s]\n"
          ]
        },
        {
          "output_type": "stream",
          "name": "stdout",
          "text": [
            "self.fixed_x is  tensor([[261, 257,  33,  ..., 263, 263, 263],\n",
            "        [261, 257,  10,  ..., 263, 263, 263],\n",
            "        [261, 257, 203,  ..., 263, 263, 263],\n",
            "        [261, 257,  11,  ..., 263, 263, 263]])\n",
            "input layouts is  [[261 257  33 ... 263 263 263]\n",
            " [261 257  10 ... 263 263 263]\n",
            " [261 257 203 ... 263 263 263]\n",
            " [261 257  11 ... 263 263 263]]\n",
            "input layouts is  [<PIL.Image.Image image mode=RGB size=260x260 at 0x7F68E0107690>, <PIL.Image.Image image mode=RGB size=260x260 at 0x7F69DAAA86D0>, <PIL.Image.Image image mode=RGB size=260x260 at 0x7F68E029F8D0>, <PIL.Image.Image image mode=RGB size=260x260 at 0x7F68E029F290>]\n"
          ]
        },
        {
          "output_type": "stream",
          "name": "stderr",
          "text": [
            "epoch 47 iter 7: train loss 0.15451. lr 1.440000e-04: 100%|██████████| 8/8 [00:02<00:00,  3.91it/s]\n",
            "epoch 47 iter 1: test loss 5.42838: 100%|██████████| 2/2 [00:00<00:00, 11.41it/s]\n"
          ]
        },
        {
          "output_type": "stream",
          "name": "stdout",
          "text": [
            "self.fixed_x is  tensor([[261, 257,  33,  ..., 263, 263, 263],\n",
            "        [261, 257,  10,  ..., 263, 263, 263],\n",
            "        [261, 257, 203,  ..., 263, 263, 263],\n",
            "        [261, 257,  11,  ..., 263, 263, 263]])\n",
            "input layouts is  [[261 257  33 ... 263 263 263]\n",
            " [261 257  10 ... 263 263 263]\n",
            " [261 257 203 ... 263 263 263]\n",
            " [261 257  11 ... 263 263 263]]\n",
            "input layouts is  [<PIL.Image.Image image mode=RGB size=260x260 at 0x7F68E0710DD0>, <PIL.Image.Image image mode=RGB size=260x260 at 0x7F68E06FEA10>, <PIL.Image.Image image mode=RGB size=260x260 at 0x7F68E06FEF50>, <PIL.Image.Image image mode=RGB size=260x260 at 0x7F68E06FE090>]\n"
          ]
        },
        {
          "output_type": "stream",
          "name": "stderr",
          "text": [
            "epoch 48 iter 7: train loss 0.13993. lr 1.440000e-04: 100%|██████████| 8/8 [00:02<00:00,  3.90it/s]\n",
            "epoch 48 iter 1: test loss 5.47220: 100%|██████████| 2/2 [00:00<00:00, 11.46it/s]\n"
          ]
        },
        {
          "output_type": "stream",
          "name": "stdout",
          "text": [
            "self.fixed_x is  tensor([[261, 257,  33,  ..., 263, 263, 263],\n",
            "        [261, 257,  10,  ..., 263, 263, 263],\n",
            "        [261, 257, 203,  ..., 263, 263, 263],\n",
            "        [261, 257,  11,  ..., 263, 263, 263]])\n",
            "input layouts is  [[261 257  33 ... 263 263 263]\n",
            " [261 257  10 ... 263 263 263]\n",
            " [261 257 203 ... 263 263 263]\n",
            " [261 257  11 ... 263 263 263]]\n",
            "input layouts is  [<PIL.Image.Image image mode=RGB size=260x260 at 0x7F68E01C1E10>, <PIL.Image.Image image mode=RGB size=260x260 at 0x7F68E01C1150>, <PIL.Image.Image image mode=RGB size=260x260 at 0x7F68E0441FD0>, <PIL.Image.Image image mode=RGB size=260x260 at 0x7F68E0163110>]\n"
          ]
        },
        {
          "output_type": "stream",
          "name": "stderr",
          "text": [
            "epoch 49 iter 7: train loss 0.16482. lr 1.440000e-04: 100%|██████████| 8/8 [00:02<00:00,  3.90it/s]\n",
            "epoch 49 iter 1: test loss 5.45019: 100%|██████████| 2/2 [00:00<00:00, 11.29it/s]\n"
          ]
        },
        {
          "output_type": "stream",
          "name": "stdout",
          "text": [
            "self.fixed_x is  tensor([[261, 257,  33,  ..., 263, 263, 263],\n",
            "        [261, 257,  10,  ..., 263, 263, 263],\n",
            "        [261, 257, 203,  ..., 263, 263, 263],\n",
            "        [261, 257,  11,  ..., 263, 263, 263]])\n",
            "input layouts is  [[261 257  33 ... 263 263 263]\n",
            " [261 257  10 ... 263 263 263]\n",
            " [261 257 203 ... 263 263 263]\n",
            " [261 257  11 ... 263 263 263]]\n",
            "input layouts is  [<PIL.Image.Image image mode=RGB size=260x260 at 0x7F68E02DBB10>, <PIL.Image.Image image mode=RGB size=260x260 at 0x7F68E02EDAD0>, <PIL.Image.Image image mode=RGB size=260x260 at 0x7F68E0238F90>, <PIL.Image.Image image mode=RGB size=260x260 at 0x7F68E05EA650>]\n"
          ]
        },
        {
          "output_type": "stream",
          "name": "stderr",
          "text": [
            "epoch 50 iter 7: train loss 0.12941. lr 1.440000e-04: 100%|██████████| 8/8 [00:02<00:00,  3.90it/s]\n",
            "epoch 50 iter 1: test loss 5.47110: 100%|██████████| 2/2 [00:00<00:00, 11.45it/s]\n"
          ]
        },
        {
          "output_type": "stream",
          "name": "stdout",
          "text": [
            "self.fixed_x is  tensor([[261, 257,  33,  ..., 263, 263, 263],\n",
            "        [261, 257,  10,  ..., 263, 263, 263],\n",
            "        [261, 257, 203,  ..., 263, 263, 263],\n",
            "        [261, 257,  11,  ..., 263, 263, 263]])\n",
            "input layouts is  [[261 257  33 ... 263 263 263]\n",
            " [261 257  10 ... 263 263 263]\n",
            " [261 257 203 ... 263 263 263]\n",
            " [261 257  11 ... 263 263 263]]\n",
            "input layouts is  [<PIL.Image.Image image mode=RGB size=260x260 at 0x7F68E02F01D0>, <PIL.Image.Image image mode=RGB size=260x260 at 0x7F68E02F0410>, <PIL.Image.Image image mode=RGB size=260x260 at 0x7F68E02F0F50>, <PIL.Image.Image image mode=RGB size=260x260 at 0x7F68E0763C90>]\n"
          ]
        },
        {
          "output_type": "stream",
          "name": "stderr",
          "text": [
            "epoch 51 iter 7: train loss 0.14449. lr 1.440000e-04: 100%|██████████| 8/8 [00:02<00:00,  3.92it/s]\n",
            "epoch 51 iter 1: test loss 5.55994: 100%|██████████| 2/2 [00:00<00:00, 11.49it/s]\n"
          ]
        },
        {
          "output_type": "stream",
          "name": "stdout",
          "text": [
            "self.fixed_x is  tensor([[261, 257,  33,  ..., 263, 263, 263],\n",
            "        [261, 257,  10,  ..., 263, 263, 263],\n",
            "        [261, 257, 203,  ..., 263, 263, 263],\n",
            "        [261, 257,  11,  ..., 263, 263, 263]])\n",
            "input layouts is  [[261 257  33 ... 263 263 263]\n",
            " [261 257  10 ... 263 263 263]\n",
            " [261 257 203 ... 263 263 263]\n",
            " [261 257  11 ... 263 263 263]]\n",
            "input layouts is  [<PIL.Image.Image image mode=RGB size=260x260 at 0x7F68E060B7D0>, <PIL.Image.Image image mode=RGB size=260x260 at 0x7F68E013BA90>, <PIL.Image.Image image mode=RGB size=260x260 at 0x7F68E0133190>, <PIL.Image.Image image mode=RGB size=260x260 at 0x7F68E01330D0>]\n"
          ]
        },
        {
          "output_type": "stream",
          "name": "stderr",
          "text": [
            "epoch 52 iter 7: train loss 0.13280. lr 1.440000e-04: 100%|██████████| 8/8 [00:02<00:00,  3.91it/s]\n",
            "epoch 52 iter 1: test loss 5.43556: 100%|██████████| 2/2 [00:00<00:00, 11.23it/s]\n"
          ]
        },
        {
          "output_type": "stream",
          "name": "stdout",
          "text": [
            "self.fixed_x is  tensor([[261, 257,  33,  ..., 263, 263, 263],\n",
            "        [261, 257,  10,  ..., 263, 263, 263],\n",
            "        [261, 257, 203,  ..., 263, 263, 263],\n",
            "        [261, 257,  11,  ..., 263, 263, 263]])\n",
            "input layouts is  [[261 257  33 ... 263 263 263]\n",
            " [261 257  10 ... 263 263 263]\n",
            " [261 257 203 ... 263 263 263]\n",
            " [261 257  11 ... 263 263 263]]\n",
            "input layouts is  [<PIL.Image.Image image mode=RGB size=260x260 at 0x7F68E02F0450>, <PIL.Image.Image image mode=RGB size=260x260 at 0x7F68E02EDCD0>, <PIL.Image.Image image mode=RGB size=260x260 at 0x7F68E06D84D0>, <PIL.Image.Image image mode=RGB size=260x260 at 0x7F68E0620C90>]\n"
          ]
        },
        {
          "output_type": "stream",
          "name": "stderr",
          "text": [
            "epoch 53 iter 7: train loss 0.13328. lr 1.440000e-04: 100%|██████████| 8/8 [00:02<00:00,  3.91it/s]\n",
            "epoch 53 iter 1: test loss 5.50651: 100%|██████████| 2/2 [00:00<00:00, 11.36it/s]\n"
          ]
        },
        {
          "output_type": "stream",
          "name": "stdout",
          "text": [
            "self.fixed_x is  tensor([[261, 257,  33,  ..., 263, 263, 263],\n",
            "        [261, 257,  10,  ..., 263, 263, 263],\n",
            "        [261, 257, 203,  ..., 263, 263, 263],\n",
            "        [261, 257,  11,  ..., 263, 263, 263]])\n",
            "input layouts is  [[261 257  33 ... 263 263 263]\n",
            " [261 257  10 ... 263 263 263]\n",
            " [261 257 203 ... 263 263 263]\n",
            " [261 257  11 ... 263 263 263]]\n",
            "input layouts is  [<PIL.Image.Image image mode=RGB size=260x260 at 0x7F68E0441FD0>, <PIL.Image.Image image mode=RGB size=260x260 at 0x7F68E06E0F50>, <PIL.Image.Image image mode=RGB size=260x260 at 0x7F68E03DB990>, <PIL.Image.Image image mode=RGB size=260x260 at 0x7F68E0683050>]\n"
          ]
        },
        {
          "output_type": "stream",
          "name": "stderr",
          "text": [
            "epoch 54 iter 7: train loss 0.13493. lr 1.440000e-04: 100%|██████████| 8/8 [00:02<00:00,  3.92it/s]\n",
            "epoch 54 iter 1: test loss 5.58806: 100%|██████████| 2/2 [00:00<00:00, 11.30it/s]\n"
          ]
        },
        {
          "output_type": "stream",
          "name": "stdout",
          "text": [
            "self.fixed_x is  tensor([[261, 257,  33,  ..., 263, 263, 263],\n",
            "        [261, 257,  10,  ..., 263, 263, 263],\n",
            "        [261, 257, 203,  ..., 263, 263, 263],\n",
            "        [261, 257,  11,  ..., 263, 263, 263]])\n",
            "input layouts is  [[261 257  33 ... 263 263 263]\n",
            " [261 257  10 ... 263 263 263]\n",
            " [261 257 203 ... 263 263 263]\n",
            " [261 257  11 ... 263 263 263]]\n",
            "input layouts is  [<PIL.Image.Image image mode=RGB size=260x260 at 0x7F68E01633D0>, <PIL.Image.Image image mode=RGB size=260x260 at 0x7F68E01B4CD0>, <PIL.Image.Image image mode=RGB size=260x260 at 0x7F68E0169BD0>, <PIL.Image.Image image mode=RGB size=260x260 at 0x7F68E0169C10>]\n"
          ]
        },
        {
          "output_type": "stream",
          "name": "stderr",
          "text": [
            "epoch 55 iter 7: train loss 0.13191. lr 1.440000e-04: 100%|██████████| 8/8 [00:02<00:00,  3.91it/s]\n",
            "epoch 55 iter 1: test loss 5.57973: 100%|██████████| 2/2 [00:00<00:00, 11.36it/s]\n"
          ]
        },
        {
          "output_type": "stream",
          "name": "stdout",
          "text": [
            "self.fixed_x is  tensor([[261, 257,  33,  ..., 263, 263, 263],\n",
            "        [261, 257,  10,  ..., 263, 263, 263],\n",
            "        [261, 257, 203,  ..., 263, 263, 263],\n",
            "        [261, 257,  11,  ..., 263, 263, 263]])\n",
            "input layouts is  [[261 257  33 ... 263 263 263]\n",
            " [261 257  10 ... 263 263 263]\n",
            " [261 257 203 ... 263 263 263]\n",
            " [261 257  11 ... 263 263 263]]\n",
            "input layouts is  [<PIL.Image.Image image mode=RGB size=260x260 at 0x7F68E03DB690>, <PIL.Image.Image image mode=RGB size=260x260 at 0x7F68E02D6850>, <PIL.Image.Image image mode=RGB size=260x260 at 0x7F68E06FEFD0>, <PIL.Image.Image image mode=RGB size=260x260 at 0x7F68E06D84D0>]\n"
          ]
        },
        {
          "output_type": "stream",
          "name": "stderr",
          "text": [
            "epoch 56 iter 7: train loss 0.12970. lr 1.440000e-04: 100%|██████████| 8/8 [00:02<00:00,  3.90it/s]\n",
            "epoch 56 iter 1: test loss 5.57222: 100%|██████████| 2/2 [00:00<00:00, 11.41it/s]\n"
          ]
        },
        {
          "output_type": "stream",
          "name": "stdout",
          "text": [
            "self.fixed_x is  tensor([[261, 257,  33,  ..., 263, 263, 263],\n",
            "        [261, 257,  10,  ..., 263, 263, 263],\n",
            "        [261, 257, 203,  ..., 263, 263, 263],\n",
            "        [261, 257,  11,  ..., 263, 263, 263]])\n",
            "input layouts is  [[261 257  33 ... 263 263 263]\n",
            " [261 257  10 ... 263 263 263]\n",
            " [261 257 203 ... 263 263 263]\n",
            " [261 257  11 ... 263 263 263]]\n",
            "input layouts is  [<PIL.Image.Image image mode=RGB size=260x260 at 0x7F68E00C4110>, <PIL.Image.Image image mode=RGB size=260x260 at 0x7F68E0711BD0>, <PIL.Image.Image image mode=RGB size=260x260 at 0x7F68E0711E10>, <PIL.Image.Image image mode=RGB size=260x260 at 0x7F68E02D6E10>]\n"
          ]
        },
        {
          "output_type": "stream",
          "name": "stderr",
          "text": [
            "epoch 57 iter 7: train loss 0.12038. lr 1.440000e-04: 100%|██████████| 8/8 [00:02<00:00,  3.92it/s]\n",
            "epoch 57 iter 1: test loss 5.45990: 100%|██████████| 2/2 [00:00<00:00, 11.48it/s]\n"
          ]
        },
        {
          "output_type": "stream",
          "name": "stdout",
          "text": [
            "self.fixed_x is  tensor([[261, 257,  33,  ..., 263, 263, 263],\n",
            "        [261, 257,  10,  ..., 263, 263, 263],\n",
            "        [261, 257, 203,  ..., 263, 263, 263],\n",
            "        [261, 257,  11,  ..., 263, 263, 263]])\n",
            "input layouts is  [[261 257  33 ... 263 263 263]\n",
            " [261 257  10 ... 263 263 263]\n",
            " [261 257 203 ... 263 263 263]\n",
            " [261 257  11 ... 263 263 263]]\n",
            "input layouts is  [<PIL.Image.Image image mode=RGB size=260x260 at 0x7F68E0423190>, <PIL.Image.Image image mode=RGB size=260x260 at 0x7F68E0423210>, <PIL.Image.Image image mode=RGB size=260x260 at 0x7F68E0423D50>, <PIL.Image.Image image mode=RGB size=260x260 at 0x7F68E00F9BD0>]\n"
          ]
        },
        {
          "output_type": "stream",
          "name": "stderr",
          "text": [
            "epoch 58 iter 7: train loss 0.11972. lr 1.440000e-04: 100%|██████████| 8/8 [00:02<00:00,  3.90it/s]\n",
            "epoch 58 iter 1: test loss 5.58596: 100%|██████████| 2/2 [00:00<00:00, 11.34it/s]\n"
          ]
        },
        {
          "output_type": "stream",
          "name": "stdout",
          "text": [
            "self.fixed_x is  tensor([[261, 257,  33,  ..., 263, 263, 263],\n",
            "        [261, 257,  10,  ..., 263, 263, 263],\n",
            "        [261, 257, 203,  ..., 263, 263, 263],\n",
            "        [261, 257,  11,  ..., 263, 263, 263]])\n",
            "input layouts is  [[261 257  33 ... 263 263 263]\n",
            " [261 257  10 ... 263 263 263]\n",
            " [261 257 203 ... 263 263 263]\n",
            " [261 257  11 ... 263 263 263]]\n",
            "input layouts is  [<PIL.Image.Image image mode=RGB size=260x260 at 0x7F68E07B8E90>, <PIL.Image.Image image mode=RGB size=260x260 at 0x7F68E0711610>, <PIL.Image.Image image mode=RGB size=260x260 at 0x7F68E0711C50>, <PIL.Image.Image image mode=RGB size=260x260 at 0x7F68E0711910>]\n"
          ]
        },
        {
          "output_type": "stream",
          "name": "stderr",
          "text": [
            "epoch 59 iter 7: train loss 0.11903. lr 1.440000e-04: 100%|██████████| 8/8 [00:02<00:00,  3.90it/s]\n",
            "epoch 59 iter 1: test loss 5.56877: 100%|██████████| 2/2 [00:00<00:00, 11.33it/s]\n"
          ]
        },
        {
          "output_type": "stream",
          "name": "stdout",
          "text": [
            "self.fixed_x is  tensor([[261, 257,  33,  ..., 263, 263, 263],\n",
            "        [261, 257,  10,  ..., 263, 263, 263],\n",
            "        [261, 257, 203,  ..., 263, 263, 263],\n",
            "        [261, 257,  11,  ..., 263, 263, 263]])\n",
            "input layouts is  [[261 257  33 ... 263 263 263]\n",
            " [261 257  10 ... 263 263 263]\n",
            " [261 257 203 ... 263 263 263]\n",
            " [261 257  11 ... 263 263 263]]\n",
            "input layouts is  [<PIL.Image.Image image mode=RGB size=260x260 at 0x7F69DA3D48D0>, <PIL.Image.Image image mode=RGB size=260x260 at 0x7F68F0DAC790>, <PIL.Image.Image image mode=RGB size=260x260 at 0x7F68F0DAC8D0>, <PIL.Image.Image image mode=RGB size=260x260 at 0x7F68E80537D0>]\n"
          ]
        },
        {
          "output_type": "stream",
          "name": "stderr",
          "text": [
            "epoch 60 iter 7: train loss 0.11252. lr 1.440000e-04: 100%|██████████| 8/8 [00:02<00:00,  3.89it/s]\n",
            "epoch 60 iter 1: test loss 5.70548: 100%|██████████| 2/2 [00:00<00:00, 11.27it/s]\n"
          ]
        },
        {
          "output_type": "stream",
          "name": "stdout",
          "text": [
            "self.fixed_x is  tensor([[261, 257,  33,  ..., 263, 263, 263],\n",
            "        [261, 257,  10,  ..., 263, 263, 263],\n",
            "        [261, 257, 203,  ..., 263, 263, 263],\n",
            "        [261, 257,  11,  ..., 263, 263, 263]])\n",
            "input layouts is  [[261 257  33 ... 263 263 263]\n",
            " [261 257  10 ... 263 263 263]\n",
            " [261 257 203 ... 263 263 263]\n",
            " [261 257  11 ... 263 263 263]]\n",
            "input layouts is  [<PIL.Image.Image image mode=RGB size=260x260 at 0x7F68E01FE4D0>, <PIL.Image.Image image mode=RGB size=260x260 at 0x7F68F0C72890>, <PIL.Image.Image image mode=RGB size=260x260 at 0x7F68E88EF650>, <PIL.Image.Image image mode=RGB size=260x260 at 0x7F68E01AC990>]\n"
          ]
        },
        {
          "output_type": "stream",
          "name": "stderr",
          "text": [
            "epoch 61 iter 7: train loss 0.11855. lr 1.440000e-04: 100%|██████████| 8/8 [00:02<00:00,  3.92it/s]\n",
            "epoch 61 iter 1: test loss 5.66230: 100%|██████████| 2/2 [00:00<00:00, 11.45it/s]\n"
          ]
        },
        {
          "output_type": "stream",
          "name": "stdout",
          "text": [
            "self.fixed_x is  tensor([[261, 257,  33,  ..., 263, 263, 263],\n",
            "        [261, 257,  10,  ..., 263, 263, 263],\n",
            "        [261, 257, 203,  ..., 263, 263, 263],\n",
            "        [261, 257,  11,  ..., 263, 263, 263]])\n",
            "input layouts is  [[261 257  33 ... 263 263 263]\n",
            " [261 257  10 ... 263 263 263]\n",
            " [261 257 203 ... 263 263 263]\n",
            " [261 257  11 ... 263 263 263]]\n",
            "input layouts is  [<PIL.Image.Image image mode=RGB size=260x260 at 0x7F68E04C41D0>, <PIL.Image.Image image mode=RGB size=260x260 at 0x7F68E04C40D0>, <PIL.Image.Image image mode=RGB size=260x260 at 0x7F68E04C4610>, <PIL.Image.Image image mode=RGB size=260x260 at 0x7F68E0630A90>]\n"
          ]
        },
        {
          "output_type": "stream",
          "name": "stderr",
          "text": [
            "epoch 62 iter 7: train loss 0.10844. lr 1.440000e-04: 100%|██████████| 8/8 [00:02<00:00,  3.92it/s]\n",
            "epoch 62 iter 1: test loss 5.65465: 100%|██████████| 2/2 [00:00<00:00, 11.36it/s]\n"
          ]
        },
        {
          "output_type": "stream",
          "name": "stdout",
          "text": [
            "self.fixed_x is  tensor([[261, 257,  33,  ..., 263, 263, 263],\n",
            "        [261, 257,  10,  ..., 263, 263, 263],\n",
            "        [261, 257, 203,  ..., 263, 263, 263],\n",
            "        [261, 257,  11,  ..., 263, 263, 263]])\n",
            "input layouts is  [[261 257  33 ... 263 263 263]\n",
            " [261 257  10 ... 263 263 263]\n",
            " [261 257 203 ... 263 263 263]\n",
            " [261 257  11 ... 263 263 263]]\n",
            "input layouts is  [<PIL.Image.Image image mode=RGB size=260x260 at 0x7F68E0657150>, <PIL.Image.Image image mode=RGB size=260x260 at 0x7F68E0657E90>, <PIL.Image.Image image mode=RGB size=260x260 at 0x7F68E0657E10>, <PIL.Image.Image image mode=RGB size=260x260 at 0x7F68E0657F50>]\n"
          ]
        },
        {
          "output_type": "stream",
          "name": "stderr",
          "text": [
            "epoch 63 iter 7: train loss 0.10598. lr 1.440000e-04: 100%|██████████| 8/8 [00:02<00:00,  3.93it/s]\n",
            "epoch 63 iter 1: test loss 5.68575: 100%|██████████| 2/2 [00:00<00:00, 11.41it/s]\n"
          ]
        },
        {
          "output_type": "stream",
          "name": "stdout",
          "text": [
            "self.fixed_x is  tensor([[261, 257,  33,  ..., 263, 263, 263],\n",
            "        [261, 257,  10,  ..., 263, 263, 263],\n",
            "        [261, 257, 203,  ..., 263, 263, 263],\n",
            "        [261, 257,  11,  ..., 263, 263, 263]])\n",
            "input layouts is  [[261 257  33 ... 263 263 263]\n",
            " [261 257  10 ... 263 263 263]\n",
            " [261 257 203 ... 263 263 263]\n",
            " [261 257  11 ... 263 263 263]]\n",
            "input layouts is  [<PIL.Image.Image image mode=RGB size=260x260 at 0x7F68E04C4250>, <PIL.Image.Image image mode=RGB size=260x260 at 0x7F68E05C2810>, <PIL.Image.Image image mode=RGB size=260x260 at 0x7F68E05C21D0>, <PIL.Image.Image image mode=RGB size=260x260 at 0x7F68E05C2450>]\n"
          ]
        },
        {
          "output_type": "stream",
          "name": "stderr",
          "text": [
            "epoch 64 iter 7: train loss 0.11565. lr 1.440000e-04: 100%|██████████| 8/8 [00:02<00:00,  3.94it/s]\n",
            "epoch 64 iter 1: test loss 5.75201: 100%|██████████| 2/2 [00:00<00:00, 11.43it/s]\n"
          ]
        },
        {
          "output_type": "stream",
          "name": "stdout",
          "text": [
            "self.fixed_x is  tensor([[261, 257,  33,  ..., 263, 263, 263],\n",
            "        [261, 257,  10,  ..., 263, 263, 263],\n",
            "        [261, 257, 203,  ..., 263, 263, 263],\n",
            "        [261, 257,  11,  ..., 263, 263, 263]])\n",
            "input layouts is  [[261 257  33 ... 263 263 263]\n",
            " [261 257  10 ... 263 263 263]\n",
            " [261 257 203 ... 263 263 263]\n",
            " [261 257  11 ... 263 263 263]]\n",
            "input layouts is  [<PIL.Image.Image image mode=RGB size=260x260 at 0x7F68E04C4590>, <PIL.Image.Image image mode=RGB size=260x260 at 0x7F68E05C6F10>, <PIL.Image.Image image mode=RGB size=260x260 at 0x7F68E06268D0>, <PIL.Image.Image image mode=RGB size=260x260 at 0x7F68E06267D0>]\n"
          ]
        },
        {
          "output_type": "stream",
          "name": "stderr",
          "text": [
            "epoch 65 iter 7: train loss 0.10562. lr 1.440000e-04: 100%|██████████| 8/8 [00:02<00:00,  3.92it/s]\n",
            "epoch 65 iter 1: test loss 5.92604: 100%|██████████| 2/2 [00:00<00:00, 11.50it/s]\n"
          ]
        },
        {
          "output_type": "stream",
          "name": "stdout",
          "text": [
            "self.fixed_x is  tensor([[261, 257,  33,  ..., 263, 263, 263],\n",
            "        [261, 257,  10,  ..., 263, 263, 263],\n",
            "        [261, 257, 203,  ..., 263, 263, 263],\n",
            "        [261, 257,  11,  ..., 263, 263, 263]])\n",
            "input layouts is  [[261 257  33 ... 263 263 263]\n",
            " [261 257  10 ... 263 263 263]\n",
            " [261 257 203 ... 263 263 263]\n",
            " [261 257  11 ... 263 263 263]]\n",
            "input layouts is  [<PIL.Image.Image image mode=RGB size=260x260 at 0x7F68E0351890>, <PIL.Image.Image image mode=RGB size=260x260 at 0x7F68E0668CD0>, <PIL.Image.Image image mode=RGB size=260x260 at 0x7F68E8042310>, <PIL.Image.Image image mode=RGB size=260x260 at 0x7F68E058AC10>]\n"
          ]
        },
        {
          "output_type": "stream",
          "name": "stderr",
          "text": [
            "epoch 66 iter 7: train loss 0.10002. lr 1.440000e-04: 100%|██████████| 8/8 [00:02<00:00,  3.93it/s]\n",
            "epoch 66 iter 1: test loss 5.80672: 100%|██████████| 2/2 [00:00<00:00, 11.44it/s]\n"
          ]
        },
        {
          "output_type": "stream",
          "name": "stdout",
          "text": [
            "self.fixed_x is  tensor([[261, 257,  33,  ..., 263, 263, 263],\n",
            "        [261, 257,  10,  ..., 263, 263, 263],\n",
            "        [261, 257, 203,  ..., 263, 263, 263],\n",
            "        [261, 257,  11,  ..., 263, 263, 263]])\n",
            "input layouts is  [[261 257  33 ... 263 263 263]\n",
            " [261 257  10 ... 263 263 263]\n",
            " [261 257 203 ... 263 263 263]\n",
            " [261 257  11 ... 263 263 263]]\n",
            "input layouts is  [<PIL.Image.Image image mode=RGB size=260x260 at 0x7F68E05CFA10>, <PIL.Image.Image image mode=RGB size=260x260 at 0x7F68E05F5190>, <PIL.Image.Image image mode=RGB size=260x260 at 0x7F68E05F5290>, <PIL.Image.Image image mode=RGB size=260x260 at 0x7F68E05F2C50>]\n"
          ]
        },
        {
          "output_type": "stream",
          "name": "stderr",
          "text": [
            "epoch 67 iter 7: train loss 0.09764. lr 1.440000e-04: 100%|██████████| 8/8 [00:02<00:00,  3.94it/s]\n",
            "epoch 67 iter 1: test loss 5.73616: 100%|██████████| 2/2 [00:00<00:00, 11.29it/s]\n"
          ]
        },
        {
          "output_type": "stream",
          "name": "stdout",
          "text": [
            "self.fixed_x is  tensor([[261, 257,  33,  ..., 263, 263, 263],\n",
            "        [261, 257,  10,  ..., 263, 263, 263],\n",
            "        [261, 257, 203,  ..., 263, 263, 263],\n",
            "        [261, 257,  11,  ..., 263, 263, 263]])\n",
            "input layouts is  [[261 257  33 ... 263 263 263]\n",
            " [261 257  10 ... 263 263 263]\n",
            " [261 257 203 ... 263 263 263]\n",
            " [261 257  11 ... 263 263 263]]\n",
            "input layouts is  [<PIL.Image.Image image mode=RGB size=260x260 at 0x7F68E02ECF50>, <PIL.Image.Image image mode=RGB size=260x260 at 0x7F68E02EC650>, <PIL.Image.Image image mode=RGB size=260x260 at 0x7F68E02CCF50>, <PIL.Image.Image image mode=RGB size=260x260 at 0x7F68E02CC990>]\n"
          ]
        },
        {
          "output_type": "stream",
          "name": "stderr",
          "text": [
            "epoch 68 iter 7: train loss 0.09193. lr 1.440000e-04: 100%|██████████| 8/8 [00:02<00:00,  3.94it/s]\n",
            "epoch 68 iter 1: test loss 5.88954: 100%|██████████| 2/2 [00:00<00:00, 11.51it/s]\n"
          ]
        },
        {
          "output_type": "stream",
          "name": "stdout",
          "text": [
            "self.fixed_x is  tensor([[261, 257,  33,  ..., 263, 263, 263],\n",
            "        [261, 257,  10,  ..., 263, 263, 263],\n",
            "        [261, 257, 203,  ..., 263, 263, 263],\n",
            "        [261, 257,  11,  ..., 263, 263, 263]])\n",
            "input layouts is  [[261 257  33 ... 263 263 263]\n",
            " [261 257  10 ... 263 263 263]\n",
            " [261 257 203 ... 263 263 263]\n",
            " [261 257  11 ... 263 263 263]]\n",
            "input layouts is  [<PIL.Image.Image image mode=RGB size=260x260 at 0x7F68E074AD90>, <PIL.Image.Image image mode=RGB size=260x260 at 0x7F68E074A990>, <PIL.Image.Image image mode=RGB size=260x260 at 0x7F68E0598350>, <PIL.Image.Image image mode=RGB size=260x260 at 0x7F68E0598290>]\n"
          ]
        },
        {
          "output_type": "stream",
          "name": "stderr",
          "text": [
            "epoch 69 iter 7: train loss 0.09172. lr 1.440000e-04: 100%|██████████| 8/8 [00:02<00:00,  3.94it/s]\n",
            "epoch 69 iter 1: test loss 5.85294: 100%|██████████| 2/2 [00:00<00:00, 11.35it/s]\n"
          ]
        },
        {
          "output_type": "stream",
          "name": "stdout",
          "text": [
            "self.fixed_x is  tensor([[261, 257,  33,  ..., 263, 263, 263],\n",
            "        [261, 257,  10,  ..., 263, 263, 263],\n",
            "        [261, 257, 203,  ..., 263, 263, 263],\n",
            "        [261, 257,  11,  ..., 263, 263, 263]])\n",
            "input layouts is  [[261 257  33 ... 263 263 263]\n",
            " [261 257  10 ... 263 263 263]\n",
            " [261 257 203 ... 263 263 263]\n",
            " [261 257  11 ... 263 263 263]]\n",
            "input layouts is  [<PIL.Image.Image image mode=RGB size=260x260 at 0x7F68E0221310>, <PIL.Image.Image image mode=RGB size=260x260 at 0x7F68E0706310>, <PIL.Image.Image image mode=RGB size=260x260 at 0x7F68E01B4550>, <PIL.Image.Image image mode=RGB size=260x260 at 0x7F68E01B47D0>]\n"
          ]
        },
        {
          "output_type": "stream",
          "name": "stderr",
          "text": [
            "epoch 70 iter 7: train loss 0.10778. lr 1.440000e-04: 100%|██████████| 8/8 [00:02<00:00,  3.93it/s]\n",
            "epoch 70 iter 1: test loss 5.86928: 100%|██████████| 2/2 [00:00<00:00, 11.42it/s]\n"
          ]
        },
        {
          "output_type": "stream",
          "name": "stdout",
          "text": [
            "self.fixed_x is  tensor([[261, 257,  33,  ..., 263, 263, 263],\n",
            "        [261, 257,  10,  ..., 263, 263, 263],\n",
            "        [261, 257, 203,  ..., 263, 263, 263],\n",
            "        [261, 257,  11,  ..., 263, 263, 263]])\n",
            "input layouts is  [[261 257  33 ... 263 263 263]\n",
            " [261 257  10 ... 263 263 263]\n",
            " [261 257 203 ... 263 263 263]\n",
            " [261 257  11 ... 263 263 263]]\n",
            "input layouts is  [<PIL.Image.Image image mode=RGB size=260x260 at 0x7F68E06E1F50>, <PIL.Image.Image image mode=RGB size=260x260 at 0x7F68E06E1C10>, <PIL.Image.Image image mode=RGB size=260x260 at 0x7F68E06E1B90>, <PIL.Image.Image image mode=RGB size=260x260 at 0x7F68E06E1A10>]\n"
          ]
        },
        {
          "output_type": "stream",
          "name": "stderr",
          "text": [
            "epoch 71 iter 7: train loss 0.10192. lr 1.440000e-04: 100%|██████████| 8/8 [00:02<00:00,  3.93it/s]\n",
            "epoch 71 iter 1: test loss 5.93049: 100%|██████████| 2/2 [00:00<00:00, 11.58it/s]\n"
          ]
        },
        {
          "output_type": "stream",
          "name": "stdout",
          "text": [
            "self.fixed_x is  tensor([[261, 257,  33,  ..., 263, 263, 263],\n",
            "        [261, 257,  10,  ..., 263, 263, 263],\n",
            "        [261, 257, 203,  ..., 263, 263, 263],\n",
            "        [261, 257,  11,  ..., 263, 263, 263]])\n",
            "input layouts is  [[261 257  33 ... 263 263 263]\n",
            " [261 257  10 ... 263 263 263]\n",
            " [261 257 203 ... 263 263 263]\n",
            " [261 257  11 ... 263 263 263]]\n",
            "input layouts is  [<PIL.Image.Image image mode=RGB size=260x260 at 0x7F68E06E0750>, <PIL.Image.Image image mode=RGB size=260x260 at 0x7F68E00E4C50>, <PIL.Image.Image image mode=RGB size=260x260 at 0x7F68E01ACD50>, <PIL.Image.Image image mode=RGB size=260x260 at 0x7F68E03966D0>]\n"
          ]
        },
        {
          "output_type": "stream",
          "name": "stderr",
          "text": [
            "epoch 72 iter 7: train loss 0.09819. lr 1.440000e-04: 100%|██████████| 8/8 [00:02<00:00,  3.92it/s]\n",
            "epoch 72 iter 1: test loss 5.86521: 100%|██████████| 2/2 [00:00<00:00, 11.37it/s]\n"
          ]
        },
        {
          "output_type": "stream",
          "name": "stdout",
          "text": [
            "self.fixed_x is  tensor([[261, 257,  33,  ..., 263, 263, 263],\n",
            "        [261, 257,  10,  ..., 263, 263, 263],\n",
            "        [261, 257, 203,  ..., 263, 263, 263],\n",
            "        [261, 257,  11,  ..., 263, 263, 263]])\n",
            "input layouts is  [[261 257  33 ... 263 263 263]\n",
            " [261 257  10 ... 263 263 263]\n",
            " [261 257 203 ... 263 263 263]\n",
            " [261 257  11 ... 263 263 263]]\n",
            "input layouts is  [<PIL.Image.Image image mode=RGB size=260x260 at 0x7F68E02A0CD0>, <PIL.Image.Image image mode=RGB size=260x260 at 0x7F68E03B03D0>, <PIL.Image.Image image mode=RGB size=260x260 at 0x7F68E03D2310>, <PIL.Image.Image image mode=RGB size=260x260 at 0x7F68F0C728D0>]\n"
          ]
        },
        {
          "output_type": "stream",
          "name": "stderr",
          "text": [
            "epoch 73 iter 7: train loss 0.09662. lr 1.440000e-04: 100%|██████████| 8/8 [00:02<00:00,  3.92it/s]\n",
            "epoch 73 iter 1: test loss 5.96112: 100%|██████████| 2/2 [00:00<00:00, 11.53it/s]\n"
          ]
        },
        {
          "output_type": "stream",
          "name": "stdout",
          "text": [
            "self.fixed_x is  tensor([[261, 257,  33,  ..., 263, 263, 263],\n",
            "        [261, 257,  10,  ..., 263, 263, 263],\n",
            "        [261, 257, 203,  ..., 263, 263, 263],\n",
            "        [261, 257,  11,  ..., 263, 263, 263]])\n",
            "input layouts is  [[261 257  33 ... 263 263 263]\n",
            " [261 257  10 ... 263 263 263]\n",
            " [261 257 203 ... 263 263 263]\n",
            " [261 257  11 ... 263 263 263]]\n",
            "input layouts is  [<PIL.Image.Image image mode=RGB size=260x260 at 0x7F68E0395650>, <PIL.Image.Image image mode=RGB size=260x260 at 0x7F68E0666DD0>, <PIL.Image.Image image mode=RGB size=260x260 at 0x7F68E0666CD0>, <PIL.Image.Image image mode=RGB size=260x260 at 0x7F68E05D53D0>]\n"
          ]
        },
        {
          "output_type": "stream",
          "name": "stderr",
          "text": [
            "epoch 74 iter 7: train loss 0.08596. lr 1.440000e-04: 100%|██████████| 8/8 [00:02<00:00,  3.93it/s]\n",
            "epoch 74 iter 1: test loss 5.91502: 100%|██████████| 2/2 [00:00<00:00, 11.36it/s]\n"
          ]
        },
        {
          "output_type": "stream",
          "name": "stdout",
          "text": [
            "self.fixed_x is  tensor([[261, 257,  33,  ..., 263, 263, 263],\n",
            "        [261, 257,  10,  ..., 263, 263, 263],\n",
            "        [261, 257, 203,  ..., 263, 263, 263],\n",
            "        [261, 257,  11,  ..., 263, 263, 263]])\n",
            "input layouts is  [[261 257  33 ... 263 263 263]\n",
            " [261 257  10 ... 263 263 263]\n",
            " [261 257 203 ... 263 263 263]\n",
            " [261 257  11 ... 263 263 263]]\n",
            "input layouts is  [<PIL.Image.Image image mode=RGB size=260x260 at 0x7F68E06660D0>, <PIL.Image.Image image mode=RGB size=260x260 at 0x7F68E070BF90>, <PIL.Image.Image image mode=RGB size=260x260 at 0x7F68E070BFD0>, <PIL.Image.Image image mode=RGB size=260x260 at 0x7F68E070B290>]\n"
          ]
        },
        {
          "output_type": "stream",
          "name": "stderr",
          "text": [
            "epoch 75 iter 7: train loss 0.09500. lr 1.440000e-04: 100%|██████████| 8/8 [00:02<00:00,  3.93it/s]\n",
            "epoch 75 iter 1: test loss 5.92780: 100%|██████████| 2/2 [00:00<00:00, 11.47it/s]\n"
          ]
        },
        {
          "output_type": "stream",
          "name": "stdout",
          "text": [
            "self.fixed_x is  tensor([[261, 257,  33,  ..., 263, 263, 263],\n",
            "        [261, 257,  10,  ..., 263, 263, 263],\n",
            "        [261, 257, 203,  ..., 263, 263, 263],\n",
            "        [261, 257,  11,  ..., 263, 263, 263]])\n",
            "input layouts is  [[261 257  33 ... 263 263 263]\n",
            " [261 257  10 ... 263 263 263]\n",
            " [261 257 203 ... 263 263 263]\n",
            " [261 257  11 ... 263 263 263]]\n",
            "input layouts is  [<PIL.Image.Image image mode=RGB size=260x260 at 0x7F68E06D8510>, <PIL.Image.Image image mode=RGB size=260x260 at 0x7F68E03D11D0>, <PIL.Image.Image image mode=RGB size=260x260 at 0x7F68E03D1710>, <PIL.Image.Image image mode=RGB size=260x260 at 0x7F68E01B9950>]\n"
          ]
        },
        {
          "output_type": "stream",
          "name": "stderr",
          "text": [
            "epoch 76 iter 7: train loss 0.09202. lr 1.440000e-04: 100%|██████████| 8/8 [00:02<00:00,  3.93it/s]\n",
            "epoch 76 iter 1: test loss 5.90309: 100%|██████████| 2/2 [00:00<00:00, 11.39it/s]\n"
          ]
        },
        {
          "output_type": "stream",
          "name": "stdout",
          "text": [
            "self.fixed_x is  tensor([[261, 257,  33,  ..., 263, 263, 263],\n",
            "        [261, 257,  10,  ..., 263, 263, 263],\n",
            "        [261, 257, 203,  ..., 263, 263, 263],\n",
            "        [261, 257,  11,  ..., 263, 263, 263]])\n",
            "input layouts is  [[261 257  33 ... 263 263 263]\n",
            " [261 257  10 ... 263 263 263]\n",
            " [261 257 203 ... 263 263 263]\n",
            " [261 257  11 ... 263 263 263]]\n",
            "input layouts is  [<PIL.Image.Image image mode=RGB size=260x260 at 0x7F68E03320D0>, <PIL.Image.Image image mode=RGB size=260x260 at 0x7F68E00F5E50>, <PIL.Image.Image image mode=RGB size=260x260 at 0x7F68E06479D0>, <PIL.Image.Image image mode=RGB size=260x260 at 0x7F68E05C00D0>]\n"
          ]
        },
        {
          "output_type": "stream",
          "name": "stderr",
          "text": [
            "epoch 77 iter 7: train loss 0.09503. lr 1.440000e-04: 100%|██████████| 8/8 [00:02<00:00,  3.92it/s]\n",
            "epoch 77 iter 1: test loss 6.02540: 100%|██████████| 2/2 [00:00<00:00, 11.43it/s]\n"
          ]
        },
        {
          "output_type": "stream",
          "name": "stdout",
          "text": [
            "self.fixed_x is  tensor([[261, 257,  33,  ..., 263, 263, 263],\n",
            "        [261, 257,  10,  ..., 263, 263, 263],\n",
            "        [261, 257, 203,  ..., 263, 263, 263],\n",
            "        [261, 257,  11,  ..., 263, 263, 263]])\n",
            "input layouts is  [[261 257  33 ... 263 263 263]\n",
            " [261 257  10 ... 263 263 263]\n",
            " [261 257 203 ... 263 263 263]\n",
            " [261 257  11 ... 263 263 263]]\n",
            "input layouts is  [<PIL.Image.Image image mode=RGB size=260x260 at 0x7F68E0563D10>, <PIL.Image.Image image mode=RGB size=260x260 at 0x7F68E07219D0>, <PIL.Image.Image image mode=RGB size=260x260 at 0x7F68E03CD650>, <PIL.Image.Image image mode=RGB size=260x260 at 0x7F68E03CD710>]\n"
          ]
        },
        {
          "output_type": "stream",
          "name": "stderr",
          "text": [
            "epoch 78 iter 7: train loss 0.08690. lr 1.440000e-04: 100%|██████████| 8/8 [00:02<00:00,  3.93it/s]\n",
            "epoch 78 iter 1: test loss 5.93870: 100%|██████████| 2/2 [00:00<00:00, 11.35it/s]\n"
          ]
        },
        {
          "output_type": "stream",
          "name": "stdout",
          "text": [
            "self.fixed_x is  tensor([[261, 257,  33,  ..., 263, 263, 263],\n",
            "        [261, 257,  10,  ..., 263, 263, 263],\n",
            "        [261, 257, 203,  ..., 263, 263, 263],\n",
            "        [261, 257,  11,  ..., 263, 263, 263]])\n",
            "input layouts is  [[261 257  33 ... 263 263 263]\n",
            " [261 257  10 ... 263 263 263]\n",
            " [261 257 203 ... 263 263 263]\n",
            " [261 257  11 ... 263 263 263]]\n",
            "input layouts is  [<PIL.Image.Image image mode=RGB size=260x260 at 0x7F68E02FBC50>, <PIL.Image.Image image mode=RGB size=260x260 at 0x7F68E0249910>, <PIL.Image.Image image mode=RGB size=260x260 at 0x7F68E8028B50>, <PIL.Image.Image image mode=RGB size=260x260 at 0x7F68E8028D50>]\n"
          ]
        },
        {
          "output_type": "stream",
          "name": "stderr",
          "text": [
            "epoch 79 iter 7: train loss 0.09357. lr 1.440000e-04: 100%|██████████| 8/8 [00:02<00:00,  3.93it/s]\n",
            "epoch 79 iter 1: test loss 5.97259: 100%|██████████| 2/2 [00:00<00:00, 11.34it/s]\n"
          ]
        },
        {
          "output_type": "stream",
          "name": "stdout",
          "text": [
            "self.fixed_x is  tensor([[261, 257,  33,  ..., 263, 263, 263],\n",
            "        [261, 257,  10,  ..., 263, 263, 263],\n",
            "        [261, 257, 203,  ..., 263, 263, 263],\n",
            "        [261, 257,  11,  ..., 263, 263, 263]])\n",
            "input layouts is  [[261 257  33 ... 263 263 263]\n",
            " [261 257  10 ... 263 263 263]\n",
            " [261 257 203 ... 263 263 263]\n",
            " [261 257  11 ... 263 263 263]]\n",
            "input layouts is  [<PIL.Image.Image image mode=RGB size=260x260 at 0x7F68E00F97D0>, <PIL.Image.Image image mode=RGB size=260x260 at 0x7F68E07D6C50>, <PIL.Image.Image image mode=RGB size=260x260 at 0x7F68E07D6790>, <PIL.Image.Image image mode=RGB size=260x260 at 0x7F68E07D6B90>]\n"
          ]
        },
        {
          "output_type": "stream",
          "name": "stderr",
          "text": [
            "epoch 80 iter 7: train loss 0.08336. lr 1.440000e-04: 100%|██████████| 8/8 [00:02<00:00,  3.92it/s]\n",
            "epoch 80 iter 1: test loss 5.96588: 100%|██████████| 2/2 [00:00<00:00, 11.34it/s]\n"
          ]
        },
        {
          "output_type": "stream",
          "name": "stdout",
          "text": [
            "self.fixed_x is  tensor([[261, 257,  33,  ..., 263, 263, 263],\n",
            "        [261, 257,  10,  ..., 263, 263, 263],\n",
            "        [261, 257, 203,  ..., 263, 263, 263],\n",
            "        [261, 257,  11,  ..., 263, 263, 263]])\n",
            "input layouts is  [[261 257  33 ... 263 263 263]\n",
            " [261 257  10 ... 263 263 263]\n",
            " [261 257 203 ... 263 263 263]\n",
            " [261 257  11 ... 263 263 263]]\n",
            "input layouts is  [<PIL.Image.Image image mode=RGB size=260x260 at 0x7F68E018D5D0>, <PIL.Image.Image image mode=RGB size=260x260 at 0x7F68E018DE90>, <PIL.Image.Image image mode=RGB size=260x260 at 0x7F68E018D710>, <PIL.Image.Image image mode=RGB size=260x260 at 0x7F68E0718D10>]\n"
          ]
        },
        {
          "output_type": "stream",
          "name": "stderr",
          "text": [
            "epoch 81 iter 7: train loss 0.09798. lr 1.440000e-04: 100%|██████████| 8/8 [00:02<00:00,  3.92it/s]\n",
            "epoch 81 iter 1: test loss 5.97632: 100%|██████████| 2/2 [00:00<00:00, 11.32it/s]\n"
          ]
        },
        {
          "output_type": "stream",
          "name": "stdout",
          "text": [
            "self.fixed_x is  tensor([[261, 257,  33,  ..., 263, 263, 263],\n",
            "        [261, 257,  10,  ..., 263, 263, 263],\n",
            "        [261, 257, 203,  ..., 263, 263, 263],\n",
            "        [261, 257,  11,  ..., 263, 263, 263]])\n",
            "input layouts is  [[261 257  33 ... 263 263 263]\n",
            " [261 257  10 ... 263 263 263]\n",
            " [261 257 203 ... 263 263 263]\n",
            " [261 257  11 ... 263 263 263]]\n",
            "input layouts is  [<PIL.Image.Image image mode=RGB size=260x260 at 0x7F68E06F0E90>, <PIL.Image.Image image mode=RGB size=260x260 at 0x7F68F0C72D50>, <PIL.Image.Image image mode=RGB size=260x260 at 0x7F68E01B9810>, <PIL.Image.Image image mode=RGB size=260x260 at 0x7F68E01B9E90>]\n"
          ]
        },
        {
          "output_type": "stream",
          "name": "stderr",
          "text": [
            "epoch 82 iter 7: train loss 0.08077. lr 1.440000e-04: 100%|██████████| 8/8 [00:02<00:00,  3.92it/s]\n",
            "epoch 82 iter 1: test loss 6.00899: 100%|██████████| 2/2 [00:00<00:00, 11.48it/s]\n"
          ]
        },
        {
          "output_type": "stream",
          "name": "stdout",
          "text": [
            "self.fixed_x is  tensor([[261, 257,  33,  ..., 263, 263, 263],\n",
            "        [261, 257,  10,  ..., 263, 263, 263],\n",
            "        [261, 257, 203,  ..., 263, 263, 263],\n",
            "        [261, 257,  11,  ..., 263, 263, 263]])\n",
            "input layouts is  [[261 257  33 ... 263 263 263]\n",
            " [261 257  10 ... 263 263 263]\n",
            " [261 257 203 ... 263 263 263]\n",
            " [261 257  11 ... 263 263 263]]\n",
            "input layouts is  [<PIL.Image.Image image mode=RGB size=260x260 at 0x7F68E072EC50>, <PIL.Image.Image image mode=RGB size=260x260 at 0x7F68E0779690>, <PIL.Image.Image image mode=RGB size=260x260 at 0x7F68E0779650>, <PIL.Image.Image image mode=RGB size=260x260 at 0x7F68E07790D0>]\n"
          ]
        },
        {
          "output_type": "stream",
          "name": "stderr",
          "text": [
            "epoch 83 iter 7: train loss 0.09417. lr 1.440000e-04: 100%|██████████| 8/8 [00:02<00:00,  3.93it/s]\n",
            "epoch 83 iter 1: test loss 5.92299: 100%|██████████| 2/2 [00:00<00:00, 11.36it/s]\n"
          ]
        },
        {
          "output_type": "stream",
          "name": "stdout",
          "text": [
            "self.fixed_x is  tensor([[261, 257,  33,  ..., 263, 263, 263],\n",
            "        [261, 257,  10,  ..., 263, 263, 263],\n",
            "        [261, 257, 203,  ..., 263, 263, 263],\n",
            "        [261, 257,  11,  ..., 263, 263, 263]])\n",
            "input layouts is  [[261 257  33 ... 263 263 263]\n",
            " [261 257  10 ... 263 263 263]\n",
            " [261 257 203 ... 263 263 263]\n",
            " [261 257  11 ... 263 263 263]]\n",
            "input layouts is  [<PIL.Image.Image image mode=RGB size=260x260 at 0x7F68E07D6C50>, <PIL.Image.Image image mode=RGB size=260x260 at 0x7F68E07066D0>, <PIL.Image.Image image mode=RGB size=260x260 at 0x7F68E0706950>, <PIL.Image.Image image mode=RGB size=260x260 at 0x7F68E0706750>]\n"
          ]
        },
        {
          "output_type": "stream",
          "name": "stderr",
          "text": [
            "epoch 84 iter 7: train loss 0.08811. lr 1.440000e-04: 100%|██████████| 8/8 [00:02<00:00,  3.93it/s]\n",
            "epoch 84 iter 1: test loss 6.03092: 100%|██████████| 2/2 [00:00<00:00, 11.47it/s]\n"
          ]
        },
        {
          "output_type": "stream",
          "name": "stdout",
          "text": [
            "self.fixed_x is  tensor([[261, 257,  33,  ..., 263, 263, 263],\n",
            "        [261, 257,  10,  ..., 263, 263, 263],\n",
            "        [261, 257, 203,  ..., 263, 263, 263],\n",
            "        [261, 257,  11,  ..., 263, 263, 263]])\n",
            "input layouts is  [[261 257  33 ... 263 263 263]\n",
            " [261 257  10 ... 263 263 263]\n",
            " [261 257 203 ... 263 263 263]\n",
            " [261 257  11 ... 263 263 263]]\n",
            "input layouts is  [<PIL.Image.Image image mode=RGB size=260x260 at 0x7F68E0655090>, <PIL.Image.Image image mode=RGB size=260x260 at 0x7F68E06C2C10>, <PIL.Image.Image image mode=RGB size=260x260 at 0x7F68E06C2710>, <PIL.Image.Image image mode=RGB size=260x260 at 0x7F68E06C2F50>]\n"
          ]
        },
        {
          "output_type": "stream",
          "name": "stderr",
          "text": [
            "epoch 85 iter 7: train loss 0.09003. lr 1.440000e-04: 100%|██████████| 8/8 [00:02<00:00,  3.94it/s]\n",
            "epoch 85 iter 1: test loss 6.00195: 100%|██████████| 2/2 [00:00<00:00, 11.36it/s]\n"
          ]
        },
        {
          "output_type": "stream",
          "name": "stdout",
          "text": [
            "self.fixed_x is  tensor([[261, 257,  33,  ..., 263, 263, 263],\n",
            "        [261, 257,  10,  ..., 263, 263, 263],\n",
            "        [261, 257, 203,  ..., 263, 263, 263],\n",
            "        [261, 257,  11,  ..., 263, 263, 263]])\n",
            "input layouts is  [[261 257  33 ... 263 263 263]\n",
            " [261 257  10 ... 263 263 263]\n",
            " [261 257 203 ... 263 263 263]\n",
            " [261 257  11 ... 263 263 263]]\n",
            "input layouts is  [<PIL.Image.Image image mode=RGB size=260x260 at 0x7F68E073AED0>, <PIL.Image.Image image mode=RGB size=260x260 at 0x7F68E073A390>, <PIL.Image.Image image mode=RGB size=260x260 at 0x7F68E073A550>, <PIL.Image.Image image mode=RGB size=260x260 at 0x7F68E0580610>]\n"
          ]
        },
        {
          "output_type": "stream",
          "name": "stderr",
          "text": [
            "epoch 86 iter 7: train loss 0.08145. lr 1.440000e-04: 100%|██████████| 8/8 [00:02<00:00,  3.92it/s]\n",
            "epoch 86 iter 1: test loss 6.07654: 100%|██████████| 2/2 [00:00<00:00, 11.39it/s]\n"
          ]
        },
        {
          "output_type": "stream",
          "name": "stdout",
          "text": [
            "self.fixed_x is  tensor([[261, 257,  33,  ..., 263, 263, 263],\n",
            "        [261, 257,  10,  ..., 263, 263, 263],\n",
            "        [261, 257, 203,  ..., 263, 263, 263],\n",
            "        [261, 257,  11,  ..., 263, 263, 263]])\n",
            "input layouts is  [[261 257  33 ... 263 263 263]\n",
            " [261 257  10 ... 263 263 263]\n",
            " [261 257 203 ... 263 263 263]\n",
            " [261 257  11 ... 263 263 263]]\n",
            "input layouts is  [<PIL.Image.Image image mode=RGB size=260x260 at 0x7F68E04B6550>, <PIL.Image.Image image mode=RGB size=260x260 at 0x7F68E057D810>, <PIL.Image.Image image mode=RGB size=260x260 at 0x7F68E0477B90>, <PIL.Image.Image image mode=RGB size=260x260 at 0x7F68E0477D90>]\n"
          ]
        },
        {
          "output_type": "stream",
          "name": "stderr",
          "text": [
            "epoch 87 iter 7: train loss 0.08962. lr 1.440000e-04: 100%|██████████| 8/8 [00:02<00:00,  3.92it/s]\n",
            "epoch 87 iter 1: test loss 6.14042: 100%|██████████| 2/2 [00:00<00:00, 11.43it/s]\n"
          ]
        },
        {
          "output_type": "stream",
          "name": "stdout",
          "text": [
            "self.fixed_x is  tensor([[261, 257,  33,  ..., 263, 263, 263],\n",
            "        [261, 257,  10,  ..., 263, 263, 263],\n",
            "        [261, 257, 203,  ..., 263, 263, 263],\n",
            "        [261, 257,  11,  ..., 263, 263, 263]])\n",
            "input layouts is  [[261 257  33 ... 263 263 263]\n",
            " [261 257  10 ... 263 263 263]\n",
            " [261 257 203 ... 263 263 263]\n",
            " [261 257  11 ... 263 263 263]]\n",
            "input layouts is  [<PIL.Image.Image image mode=RGB size=260x260 at 0x7F68E07D6C50>, <PIL.Image.Image image mode=RGB size=260x260 at 0x7F68E0114590>, <PIL.Image.Image image mode=RGB size=260x260 at 0x7F68E06CC990>, <PIL.Image.Image image mode=RGB size=260x260 at 0x7F68E06CC9D0>]\n"
          ]
        },
        {
          "output_type": "stream",
          "name": "stderr",
          "text": [
            "epoch 88 iter 7: train loss 0.07790. lr 1.440000e-04: 100%|██████████| 8/8 [00:02<00:00,  3.93it/s]\n",
            "epoch 88 iter 1: test loss 6.07536: 100%|██████████| 2/2 [00:00<00:00, 11.48it/s]\n"
          ]
        },
        {
          "output_type": "stream",
          "name": "stdout",
          "text": [
            "self.fixed_x is  tensor([[261, 257,  33,  ..., 263, 263, 263],\n",
            "        [261, 257,  10,  ..., 263, 263, 263],\n",
            "        [261, 257, 203,  ..., 263, 263, 263],\n",
            "        [261, 257,  11,  ..., 263, 263, 263]])\n",
            "input layouts is  [[261 257  33 ... 263 263 263]\n",
            " [261 257  10 ... 263 263 263]\n",
            " [261 257 203 ... 263 263 263]\n",
            " [261 257  11 ... 263 263 263]]\n",
            "input layouts is  [<PIL.Image.Image image mode=RGB size=260x260 at 0x7F68E06CC210>, <PIL.Image.Image image mode=RGB size=260x260 at 0x7F68E0718650>, <PIL.Image.Image image mode=RGB size=260x260 at 0x7F68E8042410>, <PIL.Image.Image image mode=RGB size=260x260 at 0x7F68E06A4C90>]\n"
          ]
        },
        {
          "output_type": "stream",
          "name": "stderr",
          "text": [
            "epoch 89 iter 7: train loss 0.07817. lr 1.440000e-04: 100%|██████████| 8/8 [00:02<00:00,  3.90it/s]\n",
            "epoch 89 iter 1: test loss 6.18149: 100%|██████████| 2/2 [00:00<00:00, 11.46it/s]\n"
          ]
        },
        {
          "output_type": "stream",
          "name": "stdout",
          "text": [
            "self.fixed_x is  tensor([[261, 257,  33,  ..., 263, 263, 263],\n",
            "        [261, 257,  10,  ..., 263, 263, 263],\n",
            "        [261, 257, 203,  ..., 263, 263, 263],\n",
            "        [261, 257,  11,  ..., 263, 263, 263]])\n",
            "input layouts is  [[261 257  33 ... 263 263 263]\n",
            " [261 257  10 ... 263 263 263]\n",
            " [261 257 203 ... 263 263 263]\n",
            " [261 257  11 ... 263 263 263]]\n",
            "input layouts is  [<PIL.Image.Image image mode=RGB size=260x260 at 0x7F68E80425D0>, <PIL.Image.Image image mode=RGB size=260x260 at 0x7F68E0481790>, <PIL.Image.Image image mode=RGB size=260x260 at 0x7F68E0647E10>, <PIL.Image.Image image mode=RGB size=260x260 at 0x7F68E0655190>]\n"
          ]
        },
        {
          "output_type": "stream",
          "name": "stderr",
          "text": [
            "epoch 90 iter 7: train loss 0.08340. lr 1.440000e-04: 100%|██████████| 8/8 [00:02<00:00,  3.93it/s]\n",
            "epoch 90 iter 1: test loss 6.04576: 100%|██████████| 2/2 [00:00<00:00, 11.42it/s]\n"
          ]
        },
        {
          "output_type": "stream",
          "name": "stdout",
          "text": [
            "self.fixed_x is  tensor([[261, 257,  33,  ..., 263, 263, 263],\n",
            "        [261, 257,  10,  ..., 263, 263, 263],\n",
            "        [261, 257, 203,  ..., 263, 263, 263],\n",
            "        [261, 257,  11,  ..., 263, 263, 263]])\n",
            "input layouts is  [[261 257  33 ... 263 263 263]\n",
            " [261 257  10 ... 263 263 263]\n",
            " [261 257 203 ... 263 263 263]\n",
            " [261 257  11 ... 263 263 263]]\n",
            "input layouts is  [<PIL.Image.Image image mode=RGB size=260x260 at 0x7F68E020DC90>, <PIL.Image.Image image mode=RGB size=260x260 at 0x7F68E0415250>, <PIL.Image.Image image mode=RGB size=260x260 at 0x7F68E0415190>, <PIL.Image.Image image mode=RGB size=260x260 at 0x7F68E03744D0>]\n"
          ]
        },
        {
          "output_type": "stream",
          "name": "stderr",
          "text": [
            "epoch 91 iter 7: train loss 0.08105. lr 1.440000e-04: 100%|██████████| 8/8 [00:02<00:00,  3.92it/s]\n",
            "epoch 91 iter 1: test loss 6.24600: 100%|██████████| 2/2 [00:00<00:00, 11.53it/s]\n"
          ]
        },
        {
          "output_type": "stream",
          "name": "stdout",
          "text": [
            "self.fixed_x is  tensor([[261, 257,  33,  ..., 263, 263, 263],\n",
            "        [261, 257,  10,  ..., 263, 263, 263],\n",
            "        [261, 257, 203,  ..., 263, 263, 263],\n",
            "        [261, 257,  11,  ..., 263, 263, 263]])\n",
            "input layouts is  [[261 257  33 ... 263 263 263]\n",
            " [261 257  10 ... 263 263 263]\n",
            " [261 257 203 ... 263 263 263]\n",
            " [261 257  11 ... 263 263 263]]\n",
            "input layouts is  [<PIL.Image.Image image mode=RGB size=260x260 at 0x7F68E038FDD0>, <PIL.Image.Image image mode=RGB size=260x260 at 0x7F68E065E290>, <PIL.Image.Image image mode=RGB size=260x260 at 0x7F68E0552550>, <PIL.Image.Image image mode=RGB size=260x260 at 0x7F68E0552410>]\n"
          ]
        },
        {
          "output_type": "stream",
          "name": "stderr",
          "text": [
            "epoch 92 iter 7: train loss 0.09263. lr 1.440000e-04: 100%|██████████| 8/8 [00:02<00:00,  3.92it/s]\n",
            "epoch 92 iter 1: test loss 5.99726: 100%|██████████| 2/2 [00:00<00:00, 11.37it/s]\n"
          ]
        },
        {
          "output_type": "stream",
          "name": "stdout",
          "text": [
            "self.fixed_x is  tensor([[261, 257,  33,  ..., 263, 263, 263],\n",
            "        [261, 257,  10,  ..., 263, 263, 263],\n",
            "        [261, 257, 203,  ..., 263, 263, 263],\n",
            "        [261, 257,  11,  ..., 263, 263, 263]])\n",
            "input layouts is  [[261 257  33 ... 263 263 263]\n",
            " [261 257  10 ... 263 263 263]\n",
            " [261 257 203 ... 263 263 263]\n",
            " [261 257  11 ... 263 263 263]]\n",
            "input layouts is  [<PIL.Image.Image image mode=RGB size=260x260 at 0x7F68E03D9C10>, <PIL.Image.Image image mode=RGB size=260x260 at 0x7F68E06CD590>, <PIL.Image.Image image mode=RGB size=260x260 at 0x7F68E06CD6D0>, <PIL.Image.Image image mode=RGB size=260x260 at 0x7F68E06CD190>]\n"
          ]
        },
        {
          "output_type": "stream",
          "name": "stderr",
          "text": [
            "epoch 93 iter 7: train loss 0.07816. lr 1.440000e-04: 100%|██████████| 8/8 [00:02<00:00,  3.94it/s]\n",
            "epoch 93 iter 1: test loss 6.22878: 100%|██████████| 2/2 [00:00<00:00, 11.64it/s]\n"
          ]
        },
        {
          "output_type": "stream",
          "name": "stdout",
          "text": [
            "self.fixed_x is  tensor([[261, 257,  33,  ..., 263, 263, 263],\n",
            "        [261, 257,  10,  ..., 263, 263, 263],\n",
            "        [261, 257, 203,  ..., 263, 263, 263],\n",
            "        [261, 257,  11,  ..., 263, 263, 263]])\n",
            "input layouts is  [[261 257  33 ... 263 263 263]\n",
            " [261 257  10 ... 263 263 263]\n",
            " [261 257 203 ... 263 263 263]\n",
            " [261 257  11 ... 263 263 263]]\n",
            "input layouts is  [<PIL.Image.Image image mode=RGB size=260x260 at 0x7F68E057A850>, <PIL.Image.Image image mode=RGB size=260x260 at 0x7F68E057A3D0>, <PIL.Image.Image image mode=RGB size=260x260 at 0x7F68E04BB410>, <PIL.Image.Image image mode=RGB size=260x260 at 0x7F68E0126850>]\n"
          ]
        },
        {
          "output_type": "stream",
          "name": "stderr",
          "text": [
            "epoch 94 iter 7: train loss 0.07795. lr 1.440000e-04: 100%|██████████| 8/8 [00:02<00:00,  3.92it/s]\n",
            "epoch 94 iter 1: test loss 6.23650: 100%|██████████| 2/2 [00:00<00:00, 11.31it/s]\n"
          ]
        },
        {
          "output_type": "stream",
          "name": "stdout",
          "text": [
            "self.fixed_x is  tensor([[261, 257,  33,  ..., 263, 263, 263],\n",
            "        [261, 257,  10,  ..., 263, 263, 263],\n",
            "        [261, 257, 203,  ..., 263, 263, 263],\n",
            "        [261, 257,  11,  ..., 263, 263, 263]])\n",
            "input layouts is  [[261 257  33 ... 263 263 263]\n",
            " [261 257  10 ... 263 263 263]\n",
            " [261 257 203 ... 263 263 263]\n",
            " [261 257  11 ... 263 263 263]]\n",
            "input layouts is  [<PIL.Image.Image image mode=RGB size=260x260 at 0x7F68E0702D50>, <PIL.Image.Image image mode=RGB size=260x260 at 0x7F68E0702990>, <PIL.Image.Image image mode=RGB size=260x260 at 0x7F68E0671350>, <PIL.Image.Image image mode=RGB size=260x260 at 0x7F68E0586710>]\n"
          ]
        },
        {
          "output_type": "stream",
          "name": "stderr",
          "text": [
            "epoch 95 iter 7: train loss 0.09299. lr 1.440000e-04: 100%|██████████| 8/8 [00:02<00:00,  3.93it/s]\n",
            "epoch 95 iter 1: test loss 5.96020: 100%|██████████| 2/2 [00:00<00:00, 11.45it/s]\n"
          ]
        },
        {
          "output_type": "stream",
          "name": "stdout",
          "text": [
            "self.fixed_x is  tensor([[261, 257,  33,  ..., 263, 263, 263],\n",
            "        [261, 257,  10,  ..., 263, 263, 263],\n",
            "        [261, 257, 203,  ..., 263, 263, 263],\n",
            "        [261, 257,  11,  ..., 263, 263, 263]])\n",
            "input layouts is  [[261 257  33 ... 263 263 263]\n",
            " [261 257  10 ... 263 263 263]\n",
            " [261 257 203 ... 263 263 263]\n",
            " [261 257  11 ... 263 263 263]]\n",
            "input layouts is  [<PIL.Image.Image image mode=RGB size=260x260 at 0x7F68E05BEE10>, <PIL.Image.Image image mode=RGB size=260x260 at 0x7F68E02DF410>, <PIL.Image.Image image mode=RGB size=260x260 at 0x7F68E02DF2D0>, <PIL.Image.Image image mode=RGB size=260x260 at 0x7F68E02DF110>]\n"
          ]
        },
        {
          "output_type": "stream",
          "name": "stderr",
          "text": [
            "epoch 96 iter 7: train loss 0.08114. lr 1.440000e-04: 100%|██████████| 8/8 [00:02<00:00,  3.93it/s]\n",
            "epoch 96 iter 1: test loss 6.13627: 100%|██████████| 2/2 [00:00<00:00, 11.31it/s]\n"
          ]
        },
        {
          "output_type": "stream",
          "name": "stdout",
          "text": [
            "self.fixed_x is  tensor([[261, 257,  33,  ..., 263, 263, 263],\n",
            "        [261, 257,  10,  ..., 263, 263, 263],\n",
            "        [261, 257, 203,  ..., 263, 263, 263],\n",
            "        [261, 257,  11,  ..., 263, 263, 263]])\n",
            "input layouts is  [[261 257  33 ... 263 263 263]\n",
            " [261 257  10 ... 263 263 263]\n",
            " [261 257 203 ... 263 263 263]\n",
            " [261 257  11 ... 263 263 263]]\n",
            "input layouts is  [<PIL.Image.Image image mode=RGB size=260x260 at 0x7F68E0249590>, <PIL.Image.Image image mode=RGB size=260x260 at 0x7F68E0249490>, <PIL.Image.Image image mode=RGB size=260x260 at 0x7F68E0249B50>, <PIL.Image.Image image mode=RGB size=260x260 at 0x7F68E0249410>]\n"
          ]
        },
        {
          "output_type": "stream",
          "name": "stderr",
          "text": [
            "epoch 97 iter 7: train loss 0.08117. lr 1.440000e-04: 100%|██████████| 8/8 [00:02<00:00,  3.93it/s]\n",
            "epoch 97 iter 1: test loss 6.04524: 100%|██████████| 2/2 [00:00<00:00, 11.34it/s]\n"
          ]
        },
        {
          "output_type": "stream",
          "name": "stdout",
          "text": [
            "self.fixed_x is  tensor([[261, 257,  33,  ..., 263, 263, 263],\n",
            "        [261, 257,  10,  ..., 263, 263, 263],\n",
            "        [261, 257, 203,  ..., 263, 263, 263],\n",
            "        [261, 257,  11,  ..., 263, 263, 263]])\n",
            "input layouts is  [[261 257  33 ... 263 263 263]\n",
            " [261 257  10 ... 263 263 263]\n",
            " [261 257 203 ... 263 263 263]\n",
            " [261 257  11 ... 263 263 263]]\n",
            "input layouts is  [<PIL.Image.Image image mode=RGB size=260x260 at 0x7F68E04EF690>, <PIL.Image.Image image mode=RGB size=260x260 at 0x7F68E04EF710>, <PIL.Image.Image image mode=RGB size=260x260 at 0x7F68E01D12D0>, <PIL.Image.Image image mode=RGB size=260x260 at 0x7F68E05AF750>]\n"
          ]
        },
        {
          "output_type": "stream",
          "name": "stderr",
          "text": [
            "epoch 98 iter 7: train loss 0.07962. lr 1.440000e-04: 100%|██████████| 8/8 [00:02<00:00,  3.94it/s]\n",
            "epoch 98 iter 1: test loss 6.20956: 100%|██████████| 2/2 [00:00<00:00, 11.44it/s]\n"
          ]
        },
        {
          "output_type": "stream",
          "name": "stdout",
          "text": [
            "self.fixed_x is  tensor([[261, 257,  33,  ..., 263, 263, 263],\n",
            "        [261, 257,  10,  ..., 263, 263, 263],\n",
            "        [261, 257, 203,  ..., 263, 263, 263],\n",
            "        [261, 257,  11,  ..., 263, 263, 263]])\n",
            "input layouts is  [[261 257  33 ... 263 263 263]\n",
            " [261 257  10 ... 263 263 263]\n",
            " [261 257 203 ... 263 263 263]\n",
            " [261 257  11 ... 263 263 263]]\n",
            "input layouts is  [<PIL.Image.Image image mode=RGB size=260x260 at 0x7F68E015CE10>, <PIL.Image.Image image mode=RGB size=260x260 at 0x7F68E015CA10>, <PIL.Image.Image image mode=RGB size=260x260 at 0x7F68E05AFC90>, <PIL.Image.Image image mode=RGB size=260x260 at 0x7F68E9550BD0>]\n"
          ]
        },
        {
          "output_type": "stream",
          "name": "stderr",
          "text": [
            "epoch 99 iter 7: train loss 0.07332. lr 1.440000e-04: 100%|██████████| 8/8 [00:02<00:00,  3.93it/s]\n",
            "epoch 99 iter 1: test loss 6.05944: 100%|██████████| 2/2 [00:00<00:00, 11.52it/s]\n"
          ]
        },
        {
          "output_type": "stream",
          "name": "stdout",
          "text": [
            "self.fixed_x is  tensor([[261, 257,  33,  ..., 263, 263, 263],\n",
            "        [261, 257,  10,  ..., 263, 263, 263],\n",
            "        [261, 257, 203,  ..., 263, 263, 263],\n",
            "        [261, 257,  11,  ..., 263, 263, 263]])\n",
            "input layouts is  [[261 257  33 ... 263 263 263]\n",
            " [261 257  10 ... 263 263 263]\n",
            " [261 257 203 ... 263 263 263]\n",
            " [261 257  11 ... 263 263 263]]\n",
            "input layouts is  [<PIL.Image.Image image mode=RGB size=260x260 at 0x7F68F0C94710>, <PIL.Image.Image image mode=RGB size=260x260 at 0x7F68E0358550>, <PIL.Image.Image image mode=RGB size=260x260 at 0x7F68E0489B90>, <PIL.Image.Image image mode=RGB size=260x260 at 0x7F68E0489C50>]\n"
          ]
        },
        {
          "output_type": "stream",
          "name": "stderr",
          "text": [
            "epoch 100 iter 7: train loss 0.08281. lr 1.440000e-04: 100%|██████████| 8/8 [00:02<00:00,  3.93it/s]\n",
            "epoch 100 iter 1: test loss 6.10852: 100%|██████████| 2/2 [00:00<00:00, 11.48it/s]\n"
          ]
        },
        {
          "output_type": "stream",
          "name": "stdout",
          "text": [
            "self.fixed_x is  tensor([[261, 257,  33,  ..., 263, 263, 263],\n",
            "        [261, 257,  10,  ..., 263, 263, 263],\n",
            "        [261, 257, 203,  ..., 263, 263, 263],\n",
            "        [261, 257,  11,  ..., 263, 263, 263]])\n",
            "input layouts is  [[261 257  33 ... 263 263 263]\n",
            " [261 257  10 ... 263 263 263]\n",
            " [261 257 203 ... 263 263 263]\n",
            " [261 257  11 ... 263 263 263]]\n",
            "input layouts is  [<PIL.Image.Image image mode=RGB size=260x260 at 0x7F68E0489650>, <PIL.Image.Image image mode=RGB size=260x260 at 0x7F68E0248950>, <PIL.Image.Image image mode=RGB size=260x260 at 0x7F68E0248890>, <PIL.Image.Image image mode=RGB size=260x260 at 0x7F68E02488D0>]\n"
          ]
        }
      ]
    },
    {
      "cell_type": "code",
      "source": [
        "publeynet_train_dataset = JSONLayout(\"/content/drive/MyDrive/Directed_Study/DeepLayout-main/Publeynet/train.json\")"
      ],
      "metadata": {
        "colab": {
          "base_uri": "https://localhost:8080/"
        },
        "id": "mVLtfgLj1CIj",
        "outputId": "77fed9ac-50c5-44b4-9304-a40a0f2cd2e8"
      },
      "execution_count": null,
      "outputs": [
        {
          "output_type": "stream",
          "name": "stdout",
          "text": [
            "images is  <class 'list'>\n",
            "annotations is  <class 'list'>\n",
            "categories is  <class 'list'>\n"
          ]
        }
      ]
    },
    {
      "cell_type": "code",
      "source": [
        "publeynet_train_dataset.size"
      ],
      "metadata": {
        "colab": {
          "base_uri": "https://localhost:8080/"
        },
        "id": "lzZnGJ901GNi",
        "outputId": "a0a2c40b-c715-42d5-8272-4242459b1f6b"
      },
      "execution_count": null,
      "outputs": [
        {
          "output_type": "execute_result",
          "data": {
            "text/plain": [
              "256"
            ]
          },
          "metadata": {},
          "execution_count": 75
        }
      ]
    },
    {
      "cell_type": "code",
      "source": [
        "publeynet_train_dataset.vocab_size"
      ],
      "metadata": {
        "colab": {
          "base_uri": "https://localhost:8080/"
        },
        "id": "kVLpMfbb1TeE",
        "outputId": "9c59cee7-49c4-4551-ad54-1a0b9aa6bb0b"
      },
      "execution_count": null,
      "outputs": [
        {
          "output_type": "execute_result",
          "data": {
            "text/plain": [
              "264"
            ]
          },
          "metadata": {},
          "execution_count": 76
        }
      ]
    },
    {
      "cell_type": "code",
      "source": [
        "publeynet_train_dataset.max_length"
      ],
      "metadata": {
        "colab": {
          "base_uri": "https://localhost:8080/"
        },
        "id": "XniqeSW51pgW",
        "outputId": "9e163626-a562-464d-ed3b-7064dd6d282c"
      },
      "execution_count": null,
      "outputs": [
        {
          "output_type": "execute_result",
          "data": {
            "text/plain": [
              "517"
            ]
          },
          "metadata": {},
          "execution_count": 77
        }
      ]
    },
    {
      "cell_type": "code",
      "source": [
        "pubf = open(\"/content/drive/MyDrive/Directed_Study/DeepLayout-main/Publeynet/val.json\")\n",
        "pubdata = json.load(pubf)"
      ],
      "metadata": {
        "id": "aOpoNKNFy4X0"
      },
      "execution_count": null,
      "outputs": []
    },
    {
      "cell_type": "code",
      "source": [
        "pubdata['categories']"
      ],
      "metadata": {
        "colab": {
          "base_uri": "https://localhost:8080/"
        },
        "id": "D7hJHPtRzAFJ",
        "outputId": "b85a8280-e83c-4bdc-8bf4-f5c2124ca315"
      },
      "execution_count": null,
      "outputs": [
        {
          "output_type": "execute_result",
          "data": {
            "text/plain": [
              "[{'id': 1, 'name': 'text', 'supercategory': ''},\n",
              " {'id': 2, 'name': 'title', 'supercategory': ''},\n",
              " {'id': 3, 'name': 'list', 'supercategory': ''},\n",
              " {'id': 4, 'name': 'table', 'supercategory': ''},\n",
              " {'id': 5, 'name': 'figure', 'supercategory': ''}]"
            ]
          },
          "metadata": {},
          "execution_count": 61
        }
      ]
    },
    {
      "cell_type": "code",
      "source": [
        "f = open(\"/content/drive/MyDrive/Directed_Study/DeepLayout-main/Poster-Data/poster_dataset.json\")\n",
        "data = json.load(f)\n",
        "convert_dict = {1: 2, 2: 1, 3: 5, 4: 1, 5: 1, 6: 5, 7: 4}\n",
        "annotations = []\n",
        "print(\"previously, data['categories'] is \", type(data['categories']))\n",
        "print(\"previously, data['categories'] is \", data['categories'])\n",
        "data['categories'] = [{'id': 1, 'name': 'text', 'supercategory': ''},\n",
        "                      {'id': 2, 'name': 'title', 'supercategory': ''},\n",
        "                      {'id': 3, 'name': 'list', 'supercategory': ''},\n",
        "                      {'id': 4, 'name': 'table', 'supercategory': ''},\n",
        "                      {'id': 5, 'name': 'figure', 'supercategory': ''}]\n",
        "print(\"After, data['categories'] is \", type(data['categories']))\n",
        "print(\"After, data['categories'] is \", data['categories'])\n",
        "exit(0)\n",
        "for item in data['annotations']:\n",
        "    item['category_id'] = convert_dict[item['category_id']]\n",
        "\n",
        "valid_images = random.sample(data[\"images\"], 60)\n",
        "valid_images_id = set([item[\"id\"] for item in valid_images])\n",
        "train_images = [item for item in data[\"images\"] if item[\"id\"] not in valid_images_id]\n",
        "train_images_id = set([item[\"id\"] for item in train_images])\n",
        "train_annotaitons = [item for item in data[\"annotations\"] if item['image_id'] in train_images_id]\n",
        "valid_annotaitons = [item for item in data[\"annotations\"] if item['image_id'] in valid_images_id]\n",
        "#train_data = {'images': train_images, 'annotations': train_annotaitons, 'categories': data['categories']}\n",
        "train_data = {'images': train_images}\n",
        "train_data = {\"images\": train_images, \"annotations\": train_annotaitons, \"categories\": data['categories']}\n",
        "#valid_data = {'images': valid_images, 'annotations': valid_annotaitons, 'categories': data['categories']}\n",
        "trainf = open(\"/content/drive/MyDrive/Directed_Study/DeepLayout-main/Poster-Data/poster_finetune_train.json\", 'w')\n",
        "json.dump(train_data, trainf)\n",
        "trainf.close()\n",
        "#validf = open(\"/content/drive/MyDrive/Directed_Study/DeepLayout-main/Poster-Data/poster_finetune_valid.json\", 'w')\n",
        "#json.dump(valid_data, validf)\n",
        "validf.close()"
      ],
      "metadata": {
        "id": "4ZpkDJUrjdJt",
        "colab": {
          "base_uri": "https://localhost:8080/"
        },
        "outputId": "db445edc-4d97-4f55-d7b3-46d150f3af46"
      },
      "execution_count": null,
      "outputs": [
        {
          "output_type": "stream",
          "name": "stdout",
          "text": [
            "previously, data['categories'] is  <class 'list'>\n",
            "previously, data['categories'] is  [{'supercategory': '', 'id': 1, 'name': 'title'}, {'supercategory': '', 'id': 2, 'name': 'author'}, {'supercategory': '', 'id': 3, 'name': 'logo'}, {'supercategory': '', 'id': 4, 'name': 'section_header'}, {'supercategory': '', 'id': 5, 'name': 'section_body'}, {'supercategory': '', 'id': 6, 'name': 'figure'}, {'supercategory': '', 'id': 7, 'name': 'table'}]\n",
            "After, data['categories'] is  <class 'list'>\n",
            "After, data['categories'] is  [{'supercategory': '', 'id': 1, 'name': 'text'}, {'supercategory': '', 'id': 2, 'name': 'title'}, {'supercategory': '', 'id': 3, 'name': 'list'}, {'supercategory': '', 'id': 4, 'name': 'table'}, {'supercategory': '', 'id': 5, 'name': 'figure'}]\n"
          ]
        }
      ]
    },
    {
      "cell_type": "code",
      "source": [
        "f = open(\"/content/drive/MyDrive/Directed_Study/DeepLayout-main/Poster-Data/poster_finetune_train.json\")\n",
        "strings = f.read()\n",
        "json.loads(strings)"
      ],
      "metadata": {
        "colab": {
          "base_uri": "https://localhost:8080/",
          "height": 375
        },
        "id": "kKhpUuJJDv7-",
        "outputId": "88c47ebf-5211-42e6-d301-b76ff0d672cc"
      },
      "execution_count": null,
      "outputs": [
        {
          "output_type": "error",
          "ename": "JSONDecodeError",
          "evalue": "ignored",
          "traceback": [
            "\u001b[0;31m---------------------------------------------------------------------------\u001b[0m",
            "\u001b[0;31mJSONDecodeError\u001b[0m                           Traceback (most recent call last)",
            "\u001b[0;32m<ipython-input-121-8279dcffa391>\u001b[0m in \u001b[0;36m<module>\u001b[0;34m()\u001b[0m\n\u001b[1;32m      1\u001b[0m \u001b[0mf\u001b[0m \u001b[0;34m=\u001b[0m \u001b[0mopen\u001b[0m\u001b[0;34m(\u001b[0m\u001b[0;34m\"/content/drive/MyDrive/Directed_Study/DeepLayout-main/Poster-Data/poster_finetune_train.json\"\u001b[0m\u001b[0;34m)\u001b[0m\u001b[0;34m\u001b[0m\u001b[0;34m\u001b[0m\u001b[0m\n\u001b[1;32m      2\u001b[0m \u001b[0mstrings\u001b[0m \u001b[0;34m=\u001b[0m \u001b[0mf\u001b[0m\u001b[0;34m.\u001b[0m\u001b[0mread\u001b[0m\u001b[0;34m(\u001b[0m\u001b[0;34m)\u001b[0m\u001b[0;34m\u001b[0m\u001b[0;34m\u001b[0m\u001b[0m\n\u001b[0;32m----> 3\u001b[0;31m \u001b[0mjson\u001b[0m\u001b[0;34m.\u001b[0m\u001b[0mloads\u001b[0m\u001b[0;34m(\u001b[0m\u001b[0mstrings\u001b[0m\u001b[0;34m)\u001b[0m\u001b[0;34m\u001b[0m\u001b[0;34m\u001b[0m\u001b[0m\n\u001b[0m",
            "\u001b[0;32m/usr/lib/python3.7/json/__init__.py\u001b[0m in \u001b[0;36mloads\u001b[0;34m(s, encoding, cls, object_hook, parse_float, parse_int, parse_constant, object_pairs_hook, **kw)\u001b[0m\n\u001b[1;32m    346\u001b[0m             \u001b[0mparse_int\u001b[0m \u001b[0;32mis\u001b[0m \u001b[0;32mNone\u001b[0m \u001b[0;32mand\u001b[0m \u001b[0mparse_float\u001b[0m \u001b[0;32mis\u001b[0m \u001b[0;32mNone\u001b[0m \u001b[0;32mand\u001b[0m\u001b[0;34m\u001b[0m\u001b[0;34m\u001b[0m\u001b[0m\n\u001b[1;32m    347\u001b[0m             parse_constant is None and object_pairs_hook is None and not kw):\n\u001b[0;32m--> 348\u001b[0;31m         \u001b[0;32mreturn\u001b[0m \u001b[0m_default_decoder\u001b[0m\u001b[0;34m.\u001b[0m\u001b[0mdecode\u001b[0m\u001b[0;34m(\u001b[0m\u001b[0ms\u001b[0m\u001b[0;34m)\u001b[0m\u001b[0;34m\u001b[0m\u001b[0;34m\u001b[0m\u001b[0m\n\u001b[0m\u001b[1;32m    349\u001b[0m     \u001b[0;32mif\u001b[0m \u001b[0mcls\u001b[0m \u001b[0;32mis\u001b[0m \u001b[0;32mNone\u001b[0m\u001b[0;34m:\u001b[0m\u001b[0;34m\u001b[0m\u001b[0;34m\u001b[0m\u001b[0m\n\u001b[1;32m    350\u001b[0m         \u001b[0mcls\u001b[0m \u001b[0;34m=\u001b[0m \u001b[0mJSONDecoder\u001b[0m\u001b[0;34m\u001b[0m\u001b[0;34m\u001b[0m\u001b[0m\n",
            "\u001b[0;32m/usr/lib/python3.7/json/decoder.py\u001b[0m in \u001b[0;36mdecode\u001b[0;34m(self, s, _w)\u001b[0m\n\u001b[1;32m    338\u001b[0m         \u001b[0mend\u001b[0m \u001b[0;34m=\u001b[0m \u001b[0m_w\u001b[0m\u001b[0;34m(\u001b[0m\u001b[0ms\u001b[0m\u001b[0;34m,\u001b[0m \u001b[0mend\u001b[0m\u001b[0;34m)\u001b[0m\u001b[0;34m.\u001b[0m\u001b[0mend\u001b[0m\u001b[0;34m(\u001b[0m\u001b[0;34m)\u001b[0m\u001b[0;34m\u001b[0m\u001b[0;34m\u001b[0m\u001b[0m\n\u001b[1;32m    339\u001b[0m         \u001b[0;32mif\u001b[0m \u001b[0mend\u001b[0m \u001b[0;34m!=\u001b[0m \u001b[0mlen\u001b[0m\u001b[0;34m(\u001b[0m\u001b[0ms\u001b[0m\u001b[0;34m)\u001b[0m\u001b[0;34m:\u001b[0m\u001b[0;34m\u001b[0m\u001b[0;34m\u001b[0m\u001b[0m\n\u001b[0;32m--> 340\u001b[0;31m             \u001b[0;32mraise\u001b[0m \u001b[0mJSONDecodeError\u001b[0m\u001b[0;34m(\u001b[0m\u001b[0;34m\"Extra data\"\u001b[0m\u001b[0;34m,\u001b[0m \u001b[0ms\u001b[0m\u001b[0;34m,\u001b[0m \u001b[0mend\u001b[0m\u001b[0;34m)\u001b[0m\u001b[0;34m\u001b[0m\u001b[0;34m\u001b[0m\u001b[0m\n\u001b[0m\u001b[1;32m    341\u001b[0m         \u001b[0;32mreturn\u001b[0m \u001b[0mobj\u001b[0m\u001b[0;34m\u001b[0m\u001b[0;34m\u001b[0m\u001b[0m\n\u001b[1;32m    342\u001b[0m \u001b[0;34m\u001b[0m\u001b[0m\n",
            "\u001b[0;31mJSONDecodeError\u001b[0m: Extra data: line 1 column 18353 (char 18352)"
          ]
        }
      ]
    },
    {
      "cell_type": "code",
      "source": [
        "train_data['categories']"
      ],
      "metadata": {
        "colab": {
          "base_uri": "https://localhost:8080/"
        },
        "id": "uvLsuNrfC82V",
        "outputId": "899aec85-2145-4b05-f1d5-536c0a6f6707"
      },
      "execution_count": null,
      "outputs": [
        {
          "output_type": "execute_result",
          "data": {
            "text/plain": [
              "[{'id': 1, 'name': 'text', 'supercategory': ''},\n",
              " {'id': 2, 'name': 'title', 'supercategory': ''},\n",
              " {'id': 3, 'name': 'list', 'supercategory': ''},\n",
              " {'id': 4, 'name': 'table', 'supercategory': ''},\n",
              " {'id': 5, 'name': 'figure', 'supercategory': ''}]"
            ]
          },
          "metadata": {},
          "execution_count": 108
        }
      ]
    },
    {
      "cell_type": "code",
      "source": [
        "valid_data = {\"images\": valid_images, \"annotations\": valid_annotaitons,"
      ],
      "metadata": {
        "id": "kFP7f8JYCLsg"
      },
      "execution_count": null,
      "outputs": []
    },
    {
      "cell_type": "code",
      "source": [
        "valid_images = random.sample(data[\"images\"], 60)\n",
        "valid_images_id = set([item[\"id\"] for item in valid_images])\n",
        "train_images = [item for item in data[\"images\"] if item[\"id\"] not in valid_images_id]\n",
        "train_images_id = set([item[\"id\"] for item in train_images])"
      ],
      "metadata": {
        "id": "6a4laolsqyra"
      },
      "execution_count": null,
      "outputs": []
    },
    {
      "cell_type": "code",
      "source": [
        "train_annotaitons = [item for item in data[\"annotations\"] if item['image_id'] in train_images_id]\n",
        "valid_annotaitons = [item for item in data[\"annotations\"] if item['image_id'] in valid_images_id]"
      ],
      "metadata": {
        "id": "VVxsFI2GrZuK"
      },
      "execution_count": null,
      "outputs": []
    },
    {
      "cell_type": "code",
      "source": [
        "train_data = {\"images\": train_images, \"annotations\": train_annotaitons, \"categories\": data['categories']}\n",
        "valid_data = {\"images\": valid_images, \"annotations\": valid_annotaitons, \"categories\": data['categories']}"
      ],
      "metadata": {
        "id": "Jx1K0MAUsp0E"
      },
      "execution_count": null,
      "outputs": []
    },
    {
      "cell_type": "code",
      "source": [
        "trainf = open(\"/content/drive/MyDrive/Directed_Study/DeepLayout-main/Poster-Data/poster_train.json\", 'w')\n",
        "json.dump(train_data, trainf)"
      ],
      "metadata": {
        "id": "CTLw79OBs8v5"
      },
      "execution_count": null,
      "outputs": []
    },
    {
      "cell_type": "code",
      "source": [
        "validf = open(\"/content/drive/MyDrive/Directed_Study/DeepLayout-main/Poster-Data/poster_valid.json\", 'w')\n",
        "json.dump(valid_data, validf)"
      ],
      "metadata": {
        "id": "OkuWRwiRuAXL"
      },
      "execution_count": null,
      "outputs": []
    },
    {
      "cell_type": "code",
      "source": [
        "len(valid_annotaitons)"
      ],
      "metadata": {
        "colab": {
          "base_uri": "https://localhost:8080/"
        },
        "id": "nWSB9xv2pwUN",
        "outputId": "0c83e658-bbfe-4033-fd7b-f8ecc3d34045"
      },
      "execution_count": null,
      "outputs": [
        {
          "output_type": "execute_result",
          "data": {
            "text/plain": [
              "1528"
            ]
          },
          "metadata": {},
          "execution_count": 39
        }
      ]
    }
  ]
}